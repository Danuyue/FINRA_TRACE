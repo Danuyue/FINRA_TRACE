{
 "cells": [
  {
   "cell_type": "markdown",
   "metadata": {},
   "source": [
    "# Topic Model Analysis\n",
    "\n",
    "Todo: 1. industry : cusip to naics mapping 2. Topic evloution"
   ]
  },
  {
   "cell_type": "code",
   "execution_count": 1,
   "metadata": {
    "scrolled": true
   },
   "outputs": [
    {
     "data": {
      "text/html": [
       "<script type=\"text/javascript\">window.PlotlyConfig = {MathJaxConfig: 'local'};</script><script type=\"text/javascript\">if (window.MathJax) {MathJax.Hub.Config({SVG: {font: \"STIX-Web\"}});}</script><script>requirejs.config({paths: { 'plotly': ['https://cdn.plot.ly/plotly-latest.min']},});if(!window._Plotly) {require(['plotly'],function(plotly) {window._Plotly=plotly;});}</script>"
      ],
      "text/vnd.plotly.v1+html": [
       "<script type=\"text/javascript\">window.PlotlyConfig = {MathJaxConfig: 'local'};</script><script type=\"text/javascript\">if (window.MathJax) {MathJax.Hub.Config({SVG: {font: \"STIX-Web\"}});}</script><script>requirejs.config({paths: { 'plotly': ['https://cdn.plot.ly/plotly-latest.min']},});if(!window._Plotly) {require(['plotly'],function(plotly) {window._Plotly=plotly;});}</script>"
      ]
     },
     "metadata": {},
     "output_type": "display_data"
    }
   ],
   "source": [
    "import pandas as pd\n",
    "import numpy as np\n",
    "import os\n",
    "from pathlib import Path\n",
    "\n",
    "from compute_topic import *\n",
    "from manage_path import *\n",
    "from topic_model_analysis import *\n",
    "\n",
    "import plotly\n",
    "plotly.offline.init_notebook_mode(connected=True) \n",
    "import plotly.graph_objs as go\n",
    "import plotly.io as pio\n",
    "from itertools import repeat\n",
    "\n",
    "import multiprocessing\n",
    "from collections import deque\n",
    "\n",
    "import seaborn as sns\n",
    "import matplotlib.pyplot as plt\n",
    "import matplotlib.dates as mdates\n",
    "\n",
    "from collections import OrderedDict"
   ]
  },
  {
   "cell_type": "markdown",
   "metadata": {},
   "source": [
    "## Topic Evolution\n",
    "1. Dc_v1: 1 document for buy and sell, per dealer, per day.\n",
    "2. Dc_v2: 1 document for buy and 1 document for sell, per dealer, per day.\n",
    "3. Dc_v3: Either DC_v1 or DC_v2 without the 2 (4) documents representing the Source_seller and Source_buyer.\n",
    "4. Tc_v1: 1 document for (buyer,seller,year)"
   ]
  },
  {
   "cell_type": "code",
   "execution_count": 2,
   "metadata": {},
   "outputs": [],
   "source": [
    "result_directory = get_result_directory()\n",
    "get_document_item_vectorize = np.vectorize(get_document_item)\n",
    "#topic_matrix['dealer'] = pd.Series(list(zip(get_document_item_vectorize(topic.index,0),get_document_item_vectorize(topic.index,1)))).values"
   ]
  },
  {
   "cell_type": "markdown",
   "metadata": {},
   "source": [
    "### Dc_v4"
   ]
  },
  {
   "cell_type": "code",
   "execution_count": 3,
   "metadata": {},
   "outputs": [],
   "source": [
    "df = pd.read_csv(result_directory/'Dc_v4_75topics.csv',index_col=0)"
   ]
  },
  {
   "cell_type": "code",
   "execution_count": 4,
   "metadata": {},
   "outputs": [
    {
     "data": {
      "text/html": [
       "<div>\n",
       "<style scoped>\n",
       "    .dataframe tbody tr th:only-of-type {\n",
       "        vertical-align: middle;\n",
       "    }\n",
       "\n",
       "    .dataframe tbody tr th {\n",
       "        vertical-align: top;\n",
       "    }\n",
       "\n",
       "    .dataframe thead th {\n",
       "        text-align: right;\n",
       "    }\n",
       "</style>\n",
       "<table border=\"1\" class=\"dataframe\">\n",
       "  <thead>\n",
       "    <tr style=\"text-align: right;\">\n",
       "      <th></th>\n",
       "      <th>1</th>\n",
       "      <th>2</th>\n",
       "      <th>3</th>\n",
       "      <th>4</th>\n",
       "      <th>5</th>\n",
       "      <th>6</th>\n",
       "      <th>7</th>\n",
       "      <th>8</th>\n",
       "      <th>9</th>\n",
       "      <th>10</th>\n",
       "      <th>...</th>\n",
       "      <th>66</th>\n",
       "      <th>67</th>\n",
       "      <th>68</th>\n",
       "      <th>69</th>\n",
       "      <th>70</th>\n",
       "      <th>71</th>\n",
       "      <th>72</th>\n",
       "      <th>73</th>\n",
       "      <th>74</th>\n",
       "      <th>75</th>\n",
       "    </tr>\n",
       "  </thead>\n",
       "  <tbody>\n",
       "    <tr>\n",
       "      <th>10,2014-01-07,BfC</th>\n",
       "      <td>NaN</td>\n",
       "      <td>NaN</td>\n",
       "      <td>NaN</td>\n",
       "      <td>NaN</td>\n",
       "      <td>NaN</td>\n",
       "      <td>NaN</td>\n",
       "      <td>NaN</td>\n",
       "      <td>NaN</td>\n",
       "      <td>NaN</td>\n",
       "      <td>NaN</td>\n",
       "      <td>...</td>\n",
       "      <td>NaN</td>\n",
       "      <td>NaN</td>\n",
       "      <td>NaN</td>\n",
       "      <td>NaN</td>\n",
       "      <td>NaN</td>\n",
       "      <td>NaN</td>\n",
       "      <td>NaN</td>\n",
       "      <td>NaN</td>\n",
       "      <td>NaN</td>\n",
       "      <td>NaN</td>\n",
       "    </tr>\n",
       "    <tr>\n",
       "      <th>10,2014-02-07,BfC</th>\n",
       "      <td>NaN</td>\n",
       "      <td>NaN</td>\n",
       "      <td>NaN</td>\n",
       "      <td>NaN</td>\n",
       "      <td>NaN</td>\n",
       "      <td>NaN</td>\n",
       "      <td>NaN</td>\n",
       "      <td>NaN</td>\n",
       "      <td>NaN</td>\n",
       "      <td>NaN</td>\n",
       "      <td>...</td>\n",
       "      <td>NaN</td>\n",
       "      <td>NaN</td>\n",
       "      <td>NaN</td>\n",
       "      <td>NaN</td>\n",
       "      <td>NaN</td>\n",
       "      <td>NaN</td>\n",
       "      <td>NaN</td>\n",
       "      <td>NaN</td>\n",
       "      <td>NaN</td>\n",
       "      <td>NaN</td>\n",
       "    </tr>\n",
       "    <tr>\n",
       "      <th>10,2014-04-10,BfC</th>\n",
       "      <td>NaN</td>\n",
       "      <td>NaN</td>\n",
       "      <td>NaN</td>\n",
       "      <td>NaN</td>\n",
       "      <td>NaN</td>\n",
       "      <td>NaN</td>\n",
       "      <td>NaN</td>\n",
       "      <td>NaN</td>\n",
       "      <td>NaN</td>\n",
       "      <td>NaN</td>\n",
       "      <td>...</td>\n",
       "      <td>NaN</td>\n",
       "      <td>NaN</td>\n",
       "      <td>NaN</td>\n",
       "      <td>NaN</td>\n",
       "      <td>NaN</td>\n",
       "      <td>NaN</td>\n",
       "      <td>NaN</td>\n",
       "      <td>NaN</td>\n",
       "      <td>0.402667</td>\n",
       "      <td>NaN</td>\n",
       "    </tr>\n",
       "  </tbody>\n",
       "</table>\n",
       "<p>3 rows × 75 columns</p>\n",
       "</div>"
      ],
      "text/plain": [
       "                    1   2   3   4   5   6   7   8   9  10 ...  66  67  68  69  \\\n",
       "10,2014-01-07,BfC NaN NaN NaN NaN NaN NaN NaN NaN NaN NaN ... NaN NaN NaN NaN   \n",
       "10,2014-02-07,BfC NaN NaN NaN NaN NaN NaN NaN NaN NaN NaN ... NaN NaN NaN NaN   \n",
       "10,2014-04-10,BfC NaN NaN NaN NaN NaN NaN NaN NaN NaN NaN ... NaN NaN NaN NaN   \n",
       "\n",
       "                   70  71  72  73        74  75  \n",
       "10,2014-01-07,BfC NaN NaN NaN NaN       NaN NaN  \n",
       "10,2014-02-07,BfC NaN NaN NaN NaN       NaN NaN  \n",
       "10,2014-04-10,BfC NaN NaN NaN NaN  0.402667 NaN  \n",
       "\n",
       "[3 rows x 75 columns]"
      ]
     },
     "execution_count": 4,
     "metadata": {},
     "output_type": "execute_result"
    }
   ],
   "source": [
    "df.head(3)"
   ]
  },
  {
   "cell_type": "code",
   "execution_count": 5,
   "metadata": {},
   "outputs": [],
   "source": [
    "df['dealer'] = pd.Series(list(zip(get_document_item_vectorize(df.index,0),get_document_item_vectorize(df.index,2)))).values\n",
    "df.index = pd.to_datetime(get_document_item_vectorize(df.index,1))"
   ]
  },
  {
   "cell_type": "code",
   "execution_count": 6,
   "metadata": {},
   "outputs": [
    {
     "data": {
      "text/html": [
       "<div>\n",
       "<style scoped>\n",
       "    .dataframe tbody tr th:only-of-type {\n",
       "        vertical-align: middle;\n",
       "    }\n",
       "\n",
       "    .dataframe tbody tr th {\n",
       "        vertical-align: top;\n",
       "    }\n",
       "\n",
       "    .dataframe thead th {\n",
       "        text-align: right;\n",
       "    }\n",
       "</style>\n",
       "<table border=\"1\" class=\"dataframe\">\n",
       "  <thead>\n",
       "    <tr style=\"text-align: right;\">\n",
       "      <th></th>\n",
       "      <th>1</th>\n",
       "      <th>2</th>\n",
       "      <th>3</th>\n",
       "      <th>4</th>\n",
       "      <th>5</th>\n",
       "      <th>6</th>\n",
       "      <th>7</th>\n",
       "      <th>8</th>\n",
       "      <th>9</th>\n",
       "      <th>10</th>\n",
       "      <th>...</th>\n",
       "      <th>67</th>\n",
       "      <th>68</th>\n",
       "      <th>69</th>\n",
       "      <th>70</th>\n",
       "      <th>71</th>\n",
       "      <th>72</th>\n",
       "      <th>73</th>\n",
       "      <th>74</th>\n",
       "      <th>75</th>\n",
       "      <th>dealer</th>\n",
       "    </tr>\n",
       "  </thead>\n",
       "  <tbody>\n",
       "    <tr>\n",
       "      <th>2014-01-07</th>\n",
       "      <td>NaN</td>\n",
       "      <td>NaN</td>\n",
       "      <td>NaN</td>\n",
       "      <td>NaN</td>\n",
       "      <td>NaN</td>\n",
       "      <td>NaN</td>\n",
       "      <td>NaN</td>\n",
       "      <td>NaN</td>\n",
       "      <td>NaN</td>\n",
       "      <td>NaN</td>\n",
       "      <td>...</td>\n",
       "      <td>NaN</td>\n",
       "      <td>NaN</td>\n",
       "      <td>NaN</td>\n",
       "      <td>NaN</td>\n",
       "      <td>NaN</td>\n",
       "      <td>NaN</td>\n",
       "      <td>NaN</td>\n",
       "      <td>NaN</td>\n",
       "      <td>NaN</td>\n",
       "      <td>(10, BfC)</td>\n",
       "    </tr>\n",
       "    <tr>\n",
       "      <th>2014-02-07</th>\n",
       "      <td>NaN</td>\n",
       "      <td>NaN</td>\n",
       "      <td>NaN</td>\n",
       "      <td>NaN</td>\n",
       "      <td>NaN</td>\n",
       "      <td>NaN</td>\n",
       "      <td>NaN</td>\n",
       "      <td>NaN</td>\n",
       "      <td>NaN</td>\n",
       "      <td>NaN</td>\n",
       "      <td>...</td>\n",
       "      <td>NaN</td>\n",
       "      <td>NaN</td>\n",
       "      <td>NaN</td>\n",
       "      <td>NaN</td>\n",
       "      <td>NaN</td>\n",
       "      <td>NaN</td>\n",
       "      <td>NaN</td>\n",
       "      <td>NaN</td>\n",
       "      <td>NaN</td>\n",
       "      <td>(10, BfC)</td>\n",
       "    </tr>\n",
       "    <tr>\n",
       "      <th>2014-04-10</th>\n",
       "      <td>NaN</td>\n",
       "      <td>NaN</td>\n",
       "      <td>NaN</td>\n",
       "      <td>NaN</td>\n",
       "      <td>NaN</td>\n",
       "      <td>NaN</td>\n",
       "      <td>NaN</td>\n",
       "      <td>NaN</td>\n",
       "      <td>NaN</td>\n",
       "      <td>NaN</td>\n",
       "      <td>...</td>\n",
       "      <td>NaN</td>\n",
       "      <td>NaN</td>\n",
       "      <td>NaN</td>\n",
       "      <td>NaN</td>\n",
       "      <td>NaN</td>\n",
       "      <td>NaN</td>\n",
       "      <td>NaN</td>\n",
       "      <td>0.402667</td>\n",
       "      <td>NaN</td>\n",
       "      <td>(10, BfC)</td>\n",
       "    </tr>\n",
       "  </tbody>\n",
       "</table>\n",
       "<p>3 rows × 76 columns</p>\n",
       "</div>"
      ],
      "text/plain": [
       "             1   2   3   4   5   6   7   8   9  10    ...      67  68  69  70  \\\n",
       "2014-01-07 NaN NaN NaN NaN NaN NaN NaN NaN NaN NaN    ...     NaN NaN NaN NaN   \n",
       "2014-02-07 NaN NaN NaN NaN NaN NaN NaN NaN NaN NaN    ...     NaN NaN NaN NaN   \n",
       "2014-04-10 NaN NaN NaN NaN NaN NaN NaN NaN NaN NaN    ...     NaN NaN NaN NaN   \n",
       "\n",
       "            71  72  73        74  75     dealer  \n",
       "2014-01-07 NaN NaN NaN       NaN NaN  (10, BfC)  \n",
       "2014-02-07 NaN NaN NaN       NaN NaN  (10, BfC)  \n",
       "2014-04-10 NaN NaN NaN  0.402667 NaN  (10, BfC)  \n",
       "\n",
       "[3 rows x 76 columns]"
      ]
     },
     "execution_count": 6,
     "metadata": {},
     "output_type": "execute_result"
    }
   ],
   "source": [
    "df.head(3)"
   ]
  },
  {
   "cell_type": "raw",
   "metadata": {},
   "source": [
    "#Dc_v3_topicXtime_sum_normalize = (Dc_v3_topicXtime_sum-Dc_v3_topicXtime_sum.mean())/Dc_v3_topicXtime_sum.std()"
   ]
  },
  {
   "cell_type": "raw",
   "metadata": {},
   "source": [
    "ax = sns.heatmap(Dc_v3.groupby(by=Dc_v3.index).sum().values.tolist(),cmap=\"YlGnBu\")\n",
    "ax.set_title('Dc_v3_50topics_topicXtime_sum')\n",
    "ax.set_xlabel('Topic ID (0 based)')\n",
    "ax.set_ylabel('Date (0 is earlier)')\n",
    "figure = ax.get_figure()\n",
    "figure.savefig('Dc_v3_50topics_topicXtime_sum.png', dpi=400)"
   ]
  },
  {
   "cell_type": "code",
   "execution_count": 7,
   "metadata": {},
   "outputs": [],
   "source": [
    "df_topicXtime_sum = df.groupby(by=df.index).sum()"
   ]
  },
  {
   "cell_type": "code",
   "execution_count": 8,
   "metadata": {},
   "outputs": [],
   "source": [
    "#Dc_v3.groupby(by=Dc_v3.index).sum().to_csv('Dc_v3_50topics_topicXtime_sum.csv')"
   ]
  },
  {
   "cell_type": "code",
   "execution_count": 9,
   "metadata": {},
   "outputs": [],
   "source": [
    "model_name = \"Dc_v4\"\n",
    "heatmap_data = [\n",
    "    go.Heatmap(\n",
    "        z=df_topicXtime_sum.values.tolist(),\n",
    "        #zmin=0,\n",
    "        #zmax=1,\n",
    "        x=df_topicXtime_sum.columns,\n",
    "        y=df_topicXtime_sum.index,\n",
    "        colorscale='Jet',\n",
    "    )\n",
    "]\n",
    "\n",
    "layout = go.Layout(\n",
    "    title='Dc_v4_75topics_topicXtime_sum_of_probability_weighting',\n",
    "    xaxis={'title':'TopicID'},\n",
    "    yaxis={'title':'Time'},\n",
    "    width=980,\n",
    "    height=540,\n",
    "    #zaxis={'title':'Weighting Sum'},\n",
    ")\n",
    "\n",
    "fig = go.Figure(data=heatmap_data, layout=layout)\n",
    "pio.write_image(fig, str(\"Dc_v4_75topics_topicXtime_sum.png\"))"
   ]
  },
  {
   "cell_type": "code",
   "execution_count": 18,
   "metadata": {},
   "outputs": [],
   "source": [
    "model_name = \"Dc_v4\"\n",
    "heatmap_data = [\n",
    "    go.Heatmap(\n",
    "        z=preprocessing.minmax_scale(df_topicXtime_sum,feature_range=(0, 10)),\n",
    "        #zmin=0,\n",
    "        #zmax=1,\n",
    "        x=df_topicXtime_sum.columns,\n",
    "        y=df_topicXtime_sum.index,\n",
    "        colorscale='Jet',\n",
    "    )\n",
    "]\n",
    "\n",
    "layout = go.Layout(\n",
    "    title='Dc_v4_75topics_topicXtime_sum_of_probability_weighting_with_scaling',\n",
    "    xaxis={'title':'TopicID'},\n",
    "    yaxis={'title':'Time'},\n",
    "    width=980,\n",
    "    height=540,\n",
    "    #zaxis={'title':'Weighting Sum'},\n",
    ")\n",
    "\n",
    "fig = go.Figure(data=heatmap_data, layout=layout)\n",
    "pio.write_image(fig, str(\"Dc_v4_75topics_topicXtime_sum_with_scaling.png\"))"
   ]
  },
  {
   "cell_type": "code",
   "execution_count": 11,
   "metadata": {},
   "outputs": [],
   "source": [
    "df_topicXtime_count = df.groupby(by=df.index).count().drop('dealer',axis=1)#[Dc_v3.columns[0:2]]"
   ]
  },
  {
   "cell_type": "code",
   "execution_count": 12,
   "metadata": {},
   "outputs": [],
   "source": [
    "#Dc_v3.groupby(by=Dc_v3.index).count().to_csv('Dc_v3_50topics_topicXtime_count.csv')"
   ]
  },
  {
   "cell_type": "code",
   "execution_count": 13,
   "metadata": {},
   "outputs": [],
   "source": [
    "model_name = \"Dc_v4\"\n",
    "heatmap_data = [\n",
    "    go.Heatmap(\n",
    "        z=df_topicXtime_count.values.tolist(),\n",
    "        #zmin=0,\n",
    "        #zmax=1,\n",
    "        x=df_topicXtime_count.columns,\n",
    "        y=df_topicXtime_count.index,\n",
    "        colorscale='Jet',\n",
    "    )\n",
    "]\n",
    "\n",
    "layout = go.Layout(\n",
    "    title='Dc_v4_75topics_topicXtime_count_of_documents',\n",
    "    xaxis={'title':'TopicID'},\n",
    "    yaxis={'title':'Time'},\n",
    "    #zaxis={'title':'Weighting Sum'},\n",
    "    width=980,\n",
    "    height=540,\n",
    ")\n",
    "\n",
    "fig = go.Figure(data=heatmap_data, layout=layout)\n",
    "pio.write_image(fig, str(\"Dc_v4_75topics_topicXtime_count.png\"))"
   ]
  },
  {
   "cell_type": "code",
   "execution_count": 19,
   "metadata": {},
   "outputs": [
    {
     "name": "stderr",
     "output_type": "stream",
     "text": [
      "C:\\Users\\raymo\\Anaconda3\\envs\\topicModeling\\lib\\site-packages\\ipykernel_launcher.py:4: DataConversionWarning:\n",
      "\n",
      "Data with input dtype int64 were all converted to float64.\n",
      "\n"
     ]
    }
   ],
   "source": [
    "model_name = \"Dc_v4\"\n",
    "heatmap_data = [\n",
    "    go.Heatmap(\n",
    "        z=preprocessing.minmax_scale(df_topicXtime_count,feature_range=(0, 10)),\n",
    "        #zmin=0,\n",
    "        #zmax=1,\n",
    "        x=df_topicXtime_count.columns,\n",
    "        y=df_topicXtime_count.index,\n",
    "        colorscale='Jet',\n",
    "    )\n",
    "]\n",
    "\n",
    "layout = go.Layout(\n",
    "    title='Dc_v4_75topics_topicXtime_count_of_documents_with_scaling',\n",
    "    xaxis={'title':'TopicID'},\n",
    "    yaxis={'title':'Time'},\n",
    "    #zaxis={'title':'Weighting Sum'},\n",
    "    width=980,\n",
    "    height=540,\n",
    ")\n",
    "\n",
    "fig = go.Figure(data=heatmap_data, layout=layout)\n",
    "pio.write_image(fig, str(\"Dc_v4_75topics_topicXtime_count_with_scaling.png\"))"
   ]
  },
  {
   "cell_type": "code",
   "execution_count": 15,
   "metadata": {},
   "outputs": [],
   "source": [
    "df_topicXtime_sum.to_csv(\"Dc_v4_75topics_topicXtime_sum.csv\")\n",
    "df_topicXtime_count.to_csv(\"Dc_v4_75topics_topicXtime_count.csv\")"
   ]
  },
  {
   "cell_type": "code",
   "execution_count": 16,
   "metadata": {},
   "outputs": [
    {
     "data": {
      "text/plain": [
       "count       75.000000\n",
       "mean      5066.733333\n",
       "std       3601.900566\n",
       "min       1437.000000\n",
       "25%       2824.500000\n",
       "50%       3974.000000\n",
       "75%       5419.000000\n",
       "max      16869.000000\n",
       "dtype: float64"
      ]
     },
     "execution_count": 16,
     "metadata": {},
     "output_type": "execute_result"
    }
   ],
   "source": [
    "df_topicXtime_count.sum().describe()"
   ]
  },
  {
   "cell_type": "code",
   "execution_count": 17,
   "metadata": {},
   "outputs": [
    {
     "data": {
      "text/plain": [
       "count     259.000000\n",
       "mean     1467.200772\n",
       "std       313.787821\n",
       "min         1.000000\n",
       "25%      1451.000000\n",
       "50%      1528.000000\n",
       "75%      1603.000000\n",
       "max      1838.000000\n",
       "dtype: float64"
      ]
     },
     "execution_count": 17,
     "metadata": {},
     "output_type": "execute_result"
    }
   ],
   "source": [
    "df_topicXtime_count.sum(axis=1).describe()"
   ]
  },
  {
   "cell_type": "markdown",
   "metadata": {},
   "source": [
    "### topicXtime heatmap"
   ]
  },
  {
   "cell_type": "markdown",
   "metadata": {},
   "source": [
    "#### Try Plotly"
   ]
  },
  {
   "cell_type": "code",
   "execution_count": null,
   "metadata": {},
   "outputs": [],
   "source": [
    "#ax = sns.heatmap(topic_matrix.values.tolist(),vmin=0,vmax=1,center=0.5)"
   ]
  },
  {
   "cell_type": "raw",
   "metadata": {},
   "source": [
    "heatmap_data = [\n",
    "    go.Heatmap(\n",
    "        z=topic_matrix.fillna(0).values.tolist(),\n",
    "        zmin=0,\n",
    "        zmax=1,\n",
    "        #x=topic_matrix.index,\n",
    "        #y=topic_matrix.columns,\n",
    "        colorscale='Jet',\n",
    "    )\n",
    " ]\n",
    "\n",
    "layout = go.Layout(\n",
    "    title='{} - Topic-Time'.format(\"Tc_v1\"),\n",
    ")\n",
    "\n",
    "fig = go.Figure(data=heatmap_data, layout=layout)\n",
    "plotly.offline.plot(fig)"
   ]
  },
  {
   "cell_type": "code",
   "execution_count": null,
   "metadata": {},
   "outputs": [],
   "source": [
    "count_matrix = topic_matrix.groupby([\"dealer\"]).count()"
   ]
  },
  {
   "cell_type": "raw",
   "metadata": {},
   "source": [
    "data = [go.Heatmap( z=count_matrix.values.tolist(), colorscale='Viridis')]\n",
    "plotly.offline.iplot(data, filename='pandas-heatmap')"
   ]
  },
  {
   "cell_type": "code",
   "execution_count": null,
   "metadata": {},
   "outputs": [],
   "source": [
    "summary = topic_matrix.describe().T"
   ]
  },
  {
   "cell_type": "code",
   "execution_count": null,
   "metadata": {},
   "outputs": [],
   "source": [
    "summary['mean'].plot()"
   ]
  },
  {
   "cell_type": "code",
   "execution_count": null,
   "metadata": {},
   "outputs": [],
   "source": [
    "def get_dealer_by_ID(matrix,dealer_id,matrix_name):\n",
    "    result = matrix.loc[matrix['dealer'] == dealer_id].copy().drop(labels='dealer',axis=1)\n",
    "    return (result,dealer_id,matrix_name)"
   ]
  },
  {
   "cell_type": "code",
   "execution_count": null,
   "metadata": {},
   "outputs": [],
   "source": [
    "dealer_df_list = list(map(lambda x: get_dealer_by_ID(topic_matrix,x,\"Dc_v1\"),list(topic_matrix['dealer'].unique())))\n",
    "len(dealer_df_list)"
   ]
  },
  {
   "cell_type": "code",
   "execution_count": null,
   "metadata": {},
   "outputs": [],
   "source": [
    "#deque(map(topicXtime,dealer_df_list))"
   ]
  },
  {
   "cell_type": "code",
   "execution_count": null,
   "metadata": {},
   "outputs": [],
   "source": [
    "pio.orca.config\n",
    "plotly.io.orca.status\n",
    "\n",
    "cpu_cores = multiprocessing.cpu_count() - 1\n",
    "pool = multiprocessing.Pool(cpu_cores)\n",
    "pool.map(topicXtime_plotly_parallel,dealer_df_list)\n",
    "pool.close()"
   ]
  },
  {
   "cell_type": "markdown",
   "metadata": {},
   "source": [
    "#### Try mapplotlib"
   ]
  },
  {
   "cell_type": "code",
   "execution_count": null,
   "metadata": {},
   "outputs": [],
   "source": [
    "cpu_cores = int(multiprocessing.cpu_count()/2) -1\n",
    "pool = multiprocessing.Pool(cpu_cores)"
   ]
  },
  {
   "cell_type": "code",
   "execution_count": null,
   "metadata": {},
   "outputs": [],
   "source": [
    "pool.starmap(topicXtime_matplotlib,dealer_df_list)\n",
    "pool.close()"
   ]
  },
  {
   "cell_type": "markdown",
   "metadata": {},
   "source": [
    "#### Try Seaborn"
   ]
  },
  {
   "cell_type": "code",
   "execution_count": null,
   "metadata": {},
   "outputs": [],
   "source": [
    "sns.set()"
   ]
  },
  {
   "cell_type": "code",
   "execution_count": null,
   "metadata": {},
   "outputs": [],
   "source": [
    "month_list = list(OrderedDict.fromkeys(dealer_df_list[0][0].index.strftime('%Y-%m')))"
   ]
  },
  {
   "cell_type": "code",
   "execution_count": null,
   "metadata": {},
   "outputs": [],
   "source": [
    "ax = sns.heatmap(dealer_df_list[0][0].T.values,vmin=0,vmax=1,center=0.5,xticklabels=[0,50,100,150,200,250],yticklabels=month_list)\n",
    "\n",
    "num_x_ticks = 5\n",
    "# the index of the position of yticks\n",
    "xticks = np.linspace(0, len(dealer_df_list[0][0].columns) - 1, num_x_ticks, dtype=np.int)\n",
    "\n",
    "num_y_ticks = len(month_list)\n",
    "# the index of the position of yticks\n",
    "yticks = np.linspace(0, len(dealer_df_list[0][0].index) - 1, num_y_ticks, dtype=np.int)\n",
    "\n",
    "#ax.set_xticks(xticks)\n",
    "#ax.set_yticks(yticks)\n",
    "ax.set_autoscaley_on(True)\n",
    "ax.set_title('test')"
   ]
  },
  {
   "cell_type": "code",
   "execution_count": null,
   "metadata": {},
   "outputs": [],
   "source": [
    "import matplotlib.dates as mdates\n",
    "ax = sns.heatmap(dealer_df_list[0][0].T,vmin=0,vmax=1,center=0.5)\n",
    "\n",
    "ax.xaxis.set_major_locator(mdates.MonthLocator())\n",
    "ax.xaxis.set_major_formatter(mdates.DateFormatter('%Y-%m'))\n",
    "#ax.xaxis.set_minor_locator(mdates.DayLocator())\n",
    "\n",
    "#ax.set_xlim(dealer_df_list[0][0].index[0], dealer_df_list[0][0].index[-1])\n",
    "#ax.format_xdata = mdates.DateFormatter('%Y-%m-%d')\n",
    "\n",
    "figure = ax.get_figure()\n",
    "figure.savefig('test.png', dpi=400)"
   ]
  },
  {
   "cell_type": "code",
   "execution_count": null,
   "metadata": {},
   "outputs": [],
   "source": [
    "ax = sns.heatmap(dealer_df_list[0][0].T,vmin=0,vmax=1,center=0.5)"
   ]
  },
  {
   "cell_type": "code",
   "execution_count": null,
   "metadata": {},
   "outputs": [],
   "source": [
    "dealer_df_list[0][0].index[-1]"
   ]
  },
  {
   "cell_type": "code",
   "execution_count": null,
   "metadata": {},
   "outputs": [],
   "source": [
    "yticks"
   ]
  },
  {
   "cell_type": "code",
   "execution_count": null,
   "metadata": {},
   "outputs": [],
   "source": [
    "xticks"
   ]
  },
  {
   "cell_type": "code",
   "execution_count": null,
   "metadata": {},
   "outputs": [],
   "source": [
    "figure = ax.get_figure()\n",
    "figure.savefig('test.png', dpi=400)\n",
    "#figure.savefig('test.svg', format=\"svg\")"
   ]
  },
  {
   "cell_type": "code",
   "execution_count": null,
   "metadata": {},
   "outputs": [],
   "source": [
    "ax.fig.autofmt_ydate()"
   ]
  },
  {
   "cell_type": "code",
   "execution_count": null,
   "metadata": {},
   "outputs": [],
   "source": [
    "topic_matrix.corr().head()"
   ]
  },
  {
   "cell_type": "markdown",
   "metadata": {},
   "source": [
    "## Topic Terms Distribution\n",
    "Below is the topic terms ditrutbution demo. Since we already got Document X Topics, we want to have a Topic X Terms too."
   ]
  },
  {
   "cell_type": "code",
   "execution_count": null,
   "metadata": {},
   "outputs": [],
   "source": [
    "num_topics = 50\n",
    "model = load_model('Dc_v3',num_topics)"
   ]
  },
  {
   "cell_type": "code",
   "execution_count": null,
   "metadata": {},
   "outputs": [],
   "source": [
    "topic_terms_distribution = pd.DataFrame(model.get_topics())"
   ]
  },
  {
   "cell_type": "raw",
   "metadata": {},
   "source": [
    "model.print_topics(num_topics=num_topics, num_words=10)"
   ]
  },
  {
   "cell_type": "code",
   "execution_count": null,
   "metadata": {},
   "outputs": [],
   "source": [
    "topic_terms_distribution.head()"
   ]
  },
  {
   "cell_type": "raw",
   "metadata": {},
   "source": [
    "topic_terms_distribution.sum().sort_values(ascending=False)"
   ]
  },
  {
   "cell_type": "markdown",
   "metadata": {},
   "source": [
    "## Industy Analysis"
   ]
  },
  {
   "cell_type": "code",
   "execution_count": 6,
   "metadata": {},
   "outputs": [],
   "source": [
    "data_path = get_pickle_directory() / 'TRACE2014_jinming.pkl'\n",
    "data = pd.read_pickle(data_path)"
   ]
  },
  {
   "cell_type": "code",
   "execution_count": 7,
   "metadata": {},
   "outputs": [
    {
     "data": {
      "text/plain": [
       "Index(['TRD_RPT_DTTM', 'TRD_EXCTN_DTTM', 'TRC_ST', 'BOND_SYM_ID', 'CUSIP_ID',\n",
       "       'SCRTY_TYPE_CD', 'ENTRD_VOL_QT', 'RPTD_PR', 'RPT_SIDE_CD',\n",
       "       'Report_Dealer_Index', 'Contra_Party_Index', 'document_date',\n",
       "       'ISSUER_ID', 'COMPLETE_CUSIP', 'AGENT_ID', 'CUSIP_NAME',\n",
       "       'INDUSTRY_GROUP', 'INDUSTRY_CODE', 'PARENT_ID', 'NAICS_CODE',\n",
       "       'SIC_CODE'],\n",
       "      dtype='object')"
      ]
     },
     "execution_count": 7,
     "metadata": {},
     "output_type": "execute_result"
    }
   ],
   "source": [
    "data.columns"
   ]
  },
  {
   "cell_type": "code",
   "execution_count": 8,
   "metadata": {},
   "outputs": [
    {
     "name": "stdout",
     "output_type": "stream",
     "text": [
      "We have 6322794 rows of data\n"
     ]
    }
   ],
   "source": [
    "print(\"We have {} rows of data\".format(data.shape[0]))"
   ]
  },
  {
   "cell_type": "code",
   "execution_count": 9,
   "metadata": {},
   "outputs": [],
   "source": [
    "def fix_NAICS_Code(NAICS_Code):\n",
    "    \"Fix the problem that FISD omits 0 if NAICS_Code ends with 0\"\n",
    "    if len(str(NAICS_Code))==5:\n",
    "        NAICS_Code = NAICS_Code+'0'\n",
    "    return NAICS_Code\n",
    "fix_NAICS_Code_vectorize = np.vectorize(fix_NAICS_Code)\n",
    "data['NAICS_CODE'] = fix_NAICS_Code_vectorize(data['NAICS_CODE'].values)"
   ]
  },
  {
   "cell_type": "code",
   "execution_count": 10,
   "metadata": {},
   "outputs": [],
   "source": [
    "data = data[['BOND_SYM_ID', 'INDUSTRY_GROUP', 'INDUSTRY_CODE', 'PARENT_ID', 'NAICS_CODE','SIC_CODE']].copy()"
   ]
  },
  {
   "cell_type": "code",
   "execution_count": 11,
   "metadata": {},
   "outputs": [
    {
     "data": {
      "text/plain": [
       "<matplotlib.axes._subplots.AxesSubplot at 0x26daeff6e48>"
      ]
     },
     "execution_count": 11,
     "metadata": {},
     "output_type": "execute_result"
    },
    {
     "data": {
      "image/png": "[encoded data removed]",
      "text/plain": [
       "<Figure size 432x288 with 1 Axes>"
      ]
     },
     "metadata": {},
     "output_type": "display_data"
    }
   ],
   "source": [
    "data['INDUSTRY_CODE'].value_counts().plot.pie()"
   ]
  },
  {
   "cell_type": "code",
   "execution_count": 12,
   "metadata": {},
   "outputs": [],
   "source": [
    "# Get the NAICS_code lookup table\n",
    "NAICS_code_path = get_dataset_directory() / 'NAICS_Code_Lookup.csv'\n",
    "NAICS_code = pd.read_csv(NAICS_code_path,dtype={'Code':str,'Description':str})"
   ]
  },
  {
   "cell_type": "code",
   "execution_count": 13,
   "metadata": {},
   "outputs": [],
   "source": [
    "# Group by BOND_SYM_ID and NAICS_CODE of \n",
    "NAICS_CODE_count = data['NAICS_CODE'].value_counts()\n",
    "# Series to DataFrame\n",
    "NAICS_CODE_count = NAICS_CODE_count.to_frame(name='count')"
   ]
  },
  {
   "cell_type": "code",
   "execution_count": 14,
   "metadata": {},
   "outputs": [],
   "source": [
    "NAICS_code_total = NAICS_code.merge(NAICS_CODE_count,left_on='Code',right_index=True).sort_values(by=\"count\",ascending=False)\n",
    "NAICS_code_total['percentage'] = NAICS_code_total['count']/data.shape[0]"
   ]
  },
  {
   "cell_type": "code",
   "execution_count": 21,
   "metadata": {},
   "outputs": [
    {
     "data": {
      "text/html": [
       "<div>\n",
       "<style scoped>\n",
       "    .dataframe tbody tr th:only-of-type {\n",
       "        vertical-align: middle;\n",
       "    }\n",
       "\n",
       "    .dataframe tbody tr th {\n",
       "        vertical-align: top;\n",
       "    }\n",
       "\n",
       "    .dataframe thead th {\n",
       "        text-align: right;\n",
       "    }\n",
       "</style>\n",
       "<table border=\"1\" class=\"dataframe\">\n",
       "  <thead>\n",
       "    <tr style=\"text-align: right;\">\n",
       "      <th></th>\n",
       "      <th>Code</th>\n",
       "      <th>Description</th>\n",
       "      <th>count</th>\n",
       "      <th>percentage</th>\n",
       "    </tr>\n",
       "  </thead>\n",
       "  <tbody>\n",
       "    <tr>\n",
       "      <th>707</th>\n",
       "      <td>517311</td>\n",
       "      <td>Wired Telecommunications Carriers</td>\n",
       "      <td>425930</td>\n",
       "      <td>6.736421e-02</td>\n",
       "    </tr>\n",
       "    <tr>\n",
       "      <th>718</th>\n",
       "      <td>522110</td>\n",
       "      <td>Commercial Banking</td>\n",
       "      <td>392970</td>\n",
       "      <td>6.215132e-02</td>\n",
       "    </tr>\n",
       "    <tr>\n",
       "      <th>62</th>\n",
       "      <td>211120</td>\n",
       "      <td>Crude Petroleum Extraction</td>\n",
       "      <td>318156</td>\n",
       "      <td>5.031889e-02</td>\n",
       "    </tr>\n",
       "    <tr>\n",
       "      <th>99</th>\n",
       "      <td>221122</td>\n",
       "      <td>Electric Power Distribution</td>\n",
       "      <td>235101</td>\n",
       "      <td>3.718309e-02</td>\n",
       "    </tr>\n",
       "    <tr>\n",
       "      <th>257</th>\n",
       "      <td>325412</td>\n",
       "      <td>Pharmaceutical Preparation Manufacturing</td>\n",
       "      <td>169589</td>\n",
       "      <td>2.682184e-02</td>\n",
       "    </tr>\n",
       "    <tr>\n",
       "      <th>398</th>\n",
       "      <td>334111</td>\n",
       "      <td>Electronic Computer Manufacturing</td>\n",
       "      <td>169143</td>\n",
       "      <td>2.675131e-02</td>\n",
       "    </tr>\n",
       "    <tr>\n",
       "      <th>85</th>\n",
       "      <td>213111</td>\n",
       "      <td>Drilling Oil and Gas Wells</td>\n",
       "      <td>158685</td>\n",
       "      <td>2.509729e-02</td>\n",
       "    </tr>\n",
       "    <tr>\n",
       "      <th>237</th>\n",
       "      <td>324110</td>\n",
       "      <td>Petroleum Refineries</td>\n",
       "      <td>140122</td>\n",
       "      <td>2.216141e-02</td>\n",
       "    </tr>\n",
       "    <tr>\n",
       "      <th>731</th>\n",
       "      <td>523110</td>\n",
       "      <td>Investment Banking and Securities Dealing</td>\n",
       "      <td>134566</td>\n",
       "      <td>2.128268e-02</td>\n",
       "    </tr>\n",
       "    <tr>\n",
       "      <th>706</th>\n",
       "      <td>515210</td>\n",
       "      <td>Cable and Other Subscription Programming</td>\n",
       "      <td>122260</td>\n",
       "      <td>1.933639e-02</td>\n",
       "    </tr>\n",
       "    <tr>\n",
       "      <th>67</th>\n",
       "      <td>212210</td>\n",
       "      <td>Iron Ore Mining</td>\n",
       "      <td>110188</td>\n",
       "      <td>1.742711e-02</td>\n",
       "    </tr>\n",
       "    <tr>\n",
       "      <th>740</th>\n",
       "      <td>523999</td>\n",
       "      <td>Miscellaneous Financial Investment Activities</td>\n",
       "      <td>105801</td>\n",
       "      <td>1.673327e-02</td>\n",
       "    </tr>\n",
       "    <tr>\n",
       "      <th>741</th>\n",
       "      <td>524113</td>\n",
       "      <td>Direct Life Insurance Carriers</td>\n",
       "      <td>96321</td>\n",
       "      <td>1.523393e-02</td>\n",
       "    </tr>\n",
       "    <tr>\n",
       "      <th>615</th>\n",
       "      <td>452210</td>\n",
       "      <td>Department Stores</td>\n",
       "      <td>96030</td>\n",
       "      <td>1.518791e-02</td>\n",
       "    </tr>\n",
       "    <tr>\n",
       "      <th>68</th>\n",
       "      <td>212221</td>\n",
       "      <td>Gold Ore Mining</td>\n",
       "      <td>83804</td>\n",
       "      <td>1.325427e-02</td>\n",
       "    </tr>\n",
       "    <tr>\n",
       "      <th>584</th>\n",
       "      <td>445110</td>\n",
       "      <td>Supermarkets and Other Grocery (except Conveni...</td>\n",
       "      <td>82237</td>\n",
       "      <td>1.300643e-02</td>\n",
       "    </tr>\n",
       "    <tr>\n",
       "      <th>756</th>\n",
       "      <td>525990</td>\n",
       "      <td>Other Financial Vehicles</td>\n",
       "      <td>69131</td>\n",
       "      <td>1.093362e-02</td>\n",
       "    </tr>\n",
       "    <tr>\n",
       "      <th>406</th>\n",
       "      <td>334413</td>\n",
       "      <td>Semiconductor and Related Device Manufacturing</td>\n",
       "      <td>67774</td>\n",
       "      <td>1.071900e-02</td>\n",
       "    </tr>\n",
       "    <tr>\n",
       "      <th>743</th>\n",
       "      <td>524126</td>\n",
       "      <td>Direct Property and Casualty Insurance Carriers</td>\n",
       "      <td>65998</td>\n",
       "      <td>1.043811e-02</td>\n",
       "    </tr>\n",
       "    <tr>\n",
       "      <th>178</th>\n",
       "      <td>312111</td>\n",
       "      <td>Soft Drink Manufacturing</td>\n",
       "      <td>61315</td>\n",
       "      <td>9.697453e-03</td>\n",
       "    </tr>\n",
       "    <tr>\n",
       "      <th>708</th>\n",
       "      <td>517312</td>\n",
       "      <td>Wireless Telecommunications Carriers (except S...</td>\n",
       "      <td>59352</td>\n",
       "      <td>9.386989e-03</td>\n",
       "    </tr>\n",
       "    <tr>\n",
       "      <th>421</th>\n",
       "      <td>334614</td>\n",
       "      <td>Software and Other Prerecorded Compact Disc, T...</td>\n",
       "      <td>59001</td>\n",
       "      <td>9.331476e-03</td>\n",
       "    </tr>\n",
       "    <tr>\n",
       "      <th>829</th>\n",
       "      <td>551112</td>\n",
       "      <td>Offices of Other Holding Companies</td>\n",
       "      <td>58180</td>\n",
       "      <td>9.201628e-03</td>\n",
       "    </tr>\n",
       "    <tr>\n",
       "      <th>746</th>\n",
       "      <td>524130</td>\n",
       "      <td>Reinsurance Carriers</td>\n",
       "      <td>57845</td>\n",
       "      <td>9.148645e-03</td>\n",
       "    </tr>\n",
       "    <tr>\n",
       "      <th>305</th>\n",
       "      <td>331110</td>\n",
       "      <td>Iron and Steel Mills and Ferroalloy Manufacturing</td>\n",
       "      <td>56844</td>\n",
       "      <td>8.990329e-03</td>\n",
       "    </tr>\n",
       "    <tr>\n",
       "      <th>722</th>\n",
       "      <td>522220</td>\n",
       "      <td>Sales Financing</td>\n",
       "      <td>55965</td>\n",
       "      <td>8.851308e-03</td>\n",
       "    </tr>\n",
       "    <tr>\n",
       "      <th>64</th>\n",
       "      <td>212111</td>\n",
       "      <td>Bituminous Coal and Lignite Surface Mining</td>\n",
       "      <td>55180</td>\n",
       "      <td>8.727154e-03</td>\n",
       "    </tr>\n",
       "    <tr>\n",
       "      <th>660</th>\n",
       "      <td>486210</td>\n",
       "      <td>Pipeline Transportation of Natural Gas</td>\n",
       "      <td>53915</td>\n",
       "      <td>8.527085e-03</td>\n",
       "    </tr>\n",
       "    <tr>\n",
       "      <th>86</th>\n",
       "      <td>213112</td>\n",
       "      <td>Support Activities for Oil and Gas Operations</td>\n",
       "      <td>52284</td>\n",
       "      <td>8.269129e-03</td>\n",
       "    </tr>\n",
       "    <tr>\n",
       "      <th>181</th>\n",
       "      <td>312120</td>\n",
       "      <td>Breweries</td>\n",
       "      <td>51842</td>\n",
       "      <td>8.199223e-03</td>\n",
       "    </tr>\n",
       "    <tr>\n",
       "      <th>...</th>\n",
       "      <td>...</td>\n",
       "      <td>...</td>\n",
       "      <td>...</td>\n",
       "      <td>...</td>\n",
       "    </tr>\n",
       "    <tr>\n",
       "      <th>52</th>\n",
       "      <td>114119</td>\n",
       "      <td>Other Marine Fishing</td>\n",
       "      <td>17</td>\n",
       "      <td>2.688685e-06</td>\n",
       "    </tr>\n",
       "    <tr>\n",
       "      <th>321</th>\n",
       "      <td>331524</td>\n",
       "      <td>Aluminum Foundries (except Die-Casting)</td>\n",
       "      <td>16</td>\n",
       "      <td>2.530527e-06</td>\n",
       "    </tr>\n",
       "    <tr>\n",
       "      <th>795</th>\n",
       "      <td>541380</td>\n",
       "      <td>Testing Laboratories</td>\n",
       "      <td>15</td>\n",
       "      <td>2.372369e-06</td>\n",
       "    </tr>\n",
       "    <tr>\n",
       "      <th>630</th>\n",
       "      <td>454390</td>\n",
       "      <td>Other Direct Selling Establishments</td>\n",
       "      <td>14</td>\n",
       "      <td>2.214211e-06</td>\n",
       "    </tr>\n",
       "    <tr>\n",
       "      <th>435</th>\n",
       "      <td>335929</td>\n",
       "      <td>Other Communication and Energy Wire Manufacturing</td>\n",
       "      <td>14</td>\n",
       "      <td>2.214211e-06</td>\n",
       "    </tr>\n",
       "    <tr>\n",
       "      <th>40</th>\n",
       "      <td>112511</td>\n",
       "      <td>Finfish Farming and Fish Hatcheries</td>\n",
       "      <td>13</td>\n",
       "      <td>2.056053e-06</td>\n",
       "    </tr>\n",
       "    <tr>\n",
       "      <th>3</th>\n",
       "      <td>111140</td>\n",
       "      <td>Wheat Farming</td>\n",
       "      <td>13</td>\n",
       "      <td>2.056053e-06</td>\n",
       "    </tr>\n",
       "    <tr>\n",
       "      <th>586</th>\n",
       "      <td>445210</td>\n",
       "      <td>Meat Markets</td>\n",
       "      <td>13</td>\n",
       "      <td>2.056053e-06</td>\n",
       "    </tr>\n",
       "    <tr>\n",
       "      <th>390</th>\n",
       "      <td>333991</td>\n",
       "      <td>Power-Driven Handtool Manufacturing</td>\n",
       "      <td>11</td>\n",
       "      <td>1.739737e-06</td>\n",
       "    </tr>\n",
       "    <tr>\n",
       "      <th>449</th>\n",
       "      <td>336330</td>\n",
       "      <td>Motor Vehicle Steering and Suspension Componen...</td>\n",
       "      <td>10</td>\n",
       "      <td>1.581579e-06</td>\n",
       "    </tr>\n",
       "    <tr>\n",
       "      <th>103</th>\n",
       "      <td>221330</td>\n",
       "      <td>Steam and Air-Conditioning Supply</td>\n",
       "      <td>9</td>\n",
       "      <td>1.423421e-06</td>\n",
       "    </tr>\n",
       "    <tr>\n",
       "      <th>460</th>\n",
       "      <td>336419</td>\n",
       "      <td>Other Guided Missile and Space Vehicle Parts a...</td>\n",
       "      <td>8</td>\n",
       "      <td>1.265263e-06</td>\n",
       "    </tr>\n",
       "    <tr>\n",
       "      <th>1038</th>\n",
       "      <td>926120</td>\n",
       "      <td>Regulation and Administration of Transportatio...</td>\n",
       "      <td>8</td>\n",
       "      <td>1.265263e-06</td>\n",
       "    </tr>\n",
       "    <tr>\n",
       "      <th>97</th>\n",
       "      <td>221118</td>\n",
       "      <td>Other Electric Power Generation</td>\n",
       "      <td>8</td>\n",
       "      <td>1.265263e-06</td>\n",
       "    </tr>\n",
       "    <tr>\n",
       "      <th>29</th>\n",
       "      <td>112111</td>\n",
       "      <td>Beef Cattle Ranching and Farming</td>\n",
       "      <td>7</td>\n",
       "      <td>1.107105e-06</td>\n",
       "    </tr>\n",
       "    <tr>\n",
       "      <th>698</th>\n",
       "      <td>512199</td>\n",
       "      <td>Other Motion Picture and Video Industries</td>\n",
       "      <td>6</td>\n",
       "      <td>9.489476e-07</td>\n",
       "    </tr>\n",
       "    <tr>\n",
       "      <th>102</th>\n",
       "      <td>221320</td>\n",
       "      <td>Sewage Treatment Facilities</td>\n",
       "      <td>6</td>\n",
       "      <td>9.489476e-07</td>\n",
       "    </tr>\n",
       "    <tr>\n",
       "      <th>930</th>\n",
       "      <td>711110</td>\n",
       "      <td>Theater Companies and Dinner Theaters</td>\n",
       "      <td>5</td>\n",
       "      <td>7.907896e-07</td>\n",
       "    </tr>\n",
       "    <tr>\n",
       "      <th>918</th>\n",
       "      <td>623311</td>\n",
       "      <td>Continuing Care Retirement Communities</td>\n",
       "      <td>4</td>\n",
       "      <td>6.326317e-07</td>\n",
       "    </tr>\n",
       "    <tr>\n",
       "      <th>95</th>\n",
       "      <td>221116</td>\n",
       "      <td>Geothermal Electric Power Generation</td>\n",
       "      <td>4</td>\n",
       "      <td>6.326317e-07</td>\n",
       "    </tr>\n",
       "    <tr>\n",
       "      <th>214</th>\n",
       "      <td>321219</td>\n",
       "      <td>Reconstituted Wood Product Manufacturing</td>\n",
       "      <td>2</td>\n",
       "      <td>3.163159e-07</td>\n",
       "    </tr>\n",
       "    <tr>\n",
       "      <th>990</th>\n",
       "      <td>812112</td>\n",
       "      <td>Beauty Salons</td>\n",
       "      <td>2</td>\n",
       "      <td>3.163159e-07</td>\n",
       "    </tr>\n",
       "    <tr>\n",
       "      <th>71</th>\n",
       "      <td>212291</td>\n",
       "      <td>Uranium-Radium-Vanadium Ore Mining</td>\n",
       "      <td>2</td>\n",
       "      <td>3.163159e-07</td>\n",
       "    </tr>\n",
       "    <tr>\n",
       "      <th>658</th>\n",
       "      <td>485999</td>\n",
       "      <td>All Other Transit and Ground Passenger Transpo...</td>\n",
       "      <td>2</td>\n",
       "      <td>3.163159e-07</td>\n",
       "    </tr>\n",
       "    <tr>\n",
       "      <th>30</th>\n",
       "      <td>112112</td>\n",
       "      <td>Cattle Feedlots</td>\n",
       "      <td>2</td>\n",
       "      <td>3.163159e-07</td>\n",
       "    </tr>\n",
       "    <tr>\n",
       "      <th>112</th>\n",
       "      <td>237130</td>\n",
       "      <td>Power and Communication Line and Related Struc...</td>\n",
       "      <td>2</td>\n",
       "      <td>3.163159e-07</td>\n",
       "    </tr>\n",
       "    <tr>\n",
       "      <th>185</th>\n",
       "      <td>313110</td>\n",
       "      <td>Fiber, Yarn, and Thread Mills</td>\n",
       "      <td>2</td>\n",
       "      <td>3.163159e-07</td>\n",
       "    </tr>\n",
       "    <tr>\n",
       "      <th>500</th>\n",
       "      <td>423220</td>\n",
       "      <td>Home Furnishing Merchant Wholesalers</td>\n",
       "      <td>2</td>\n",
       "      <td>3.163159e-07</td>\n",
       "    </tr>\n",
       "    <tr>\n",
       "      <th>874</th>\n",
       "      <td>611110</td>\n",
       "      <td>Elementary and Secondary Schools</td>\n",
       "      <td>1</td>\n",
       "      <td>1.581579e-07</td>\n",
       "    </tr>\n",
       "    <tr>\n",
       "      <th>983</th>\n",
       "      <td>811310</td>\n",
       "      <td>Commercial and Industrial Machinery and Equipm...</td>\n",
       "      <td>1</td>\n",
       "      <td>1.581579e-07</td>\n",
       "    </tr>\n",
       "  </tbody>\n",
       "</table>\n",
       "<p>557 rows × 4 columns</p>\n",
       "</div>"
      ],
      "text/plain": [
       "        Code                                        Description   count  \\\n",
       "707   517311                  Wired Telecommunications Carriers  425930   \n",
       "718   522110                                 Commercial Banking  392970   \n",
       "62    211120                         Crude Petroleum Extraction  318156   \n",
       "99    221122                        Electric Power Distribution  235101   \n",
       "257   325412           Pharmaceutical Preparation Manufacturing  169589   \n",
       "398   334111                  Electronic Computer Manufacturing  169143   \n",
       "85    213111                         Drilling Oil and Gas Wells  158685   \n",
       "237   324110                               Petroleum Refineries  140122   \n",
       "731   523110          Investment Banking and Securities Dealing  134566   \n",
       "706   515210           Cable and Other Subscription Programming  122260   \n",
       "67    212210                                    Iron Ore Mining  110188   \n",
       "740   523999      Miscellaneous Financial Investment Activities  105801   \n",
       "741   524113                     Direct Life Insurance Carriers   96321   \n",
       "615   452210                                  Department Stores   96030   \n",
       "68    212221                                    Gold Ore Mining   83804   \n",
       "584   445110  Supermarkets and Other Grocery (except Conveni...   82237   \n",
       "756   525990                           Other Financial Vehicles   69131   \n",
       "406   334413     Semiconductor and Related Device Manufacturing   67774   \n",
       "743   524126    Direct Property and Casualty Insurance Carriers   65998   \n",
       "178   312111                           Soft Drink Manufacturing   61315   \n",
       "708   517312  Wireless Telecommunications Carriers (except S...   59352   \n",
       "421   334614  Software and Other Prerecorded Compact Disc, T...   59001   \n",
       "829   551112                 Offices of Other Holding Companies   58180   \n",
       "746   524130                               Reinsurance Carriers   57845   \n",
       "305   331110  Iron and Steel Mills and Ferroalloy Manufacturing   56844   \n",
       "722   522220                                    Sales Financing   55965   \n",
       "64    212111         Bituminous Coal and Lignite Surface Mining   55180   \n",
       "660   486210             Pipeline Transportation of Natural Gas   53915   \n",
       "86    213112      Support Activities for Oil and Gas Operations   52284   \n",
       "181   312120                                          Breweries   51842   \n",
       "...      ...                                                ...     ...   \n",
       "52    114119                               Other Marine Fishing      17   \n",
       "321   331524            Aluminum Foundries (except Die-Casting)      16   \n",
       "795   541380                               Testing Laboratories      15   \n",
       "630   454390                Other Direct Selling Establishments      14   \n",
       "435   335929  Other Communication and Energy Wire Manufacturing      14   \n",
       "40    112511                Finfish Farming and Fish Hatcheries      13   \n",
       "3     111140                                      Wheat Farming      13   \n",
       "586   445210                                       Meat Markets      13   \n",
       "390   333991                Power-Driven Handtool Manufacturing      11   \n",
       "449   336330  Motor Vehicle Steering and Suspension Componen...      10   \n",
       "103   221330                  Steam and Air-Conditioning Supply       9   \n",
       "460   336419  Other Guided Missile and Space Vehicle Parts a...       8   \n",
       "1038  926120  Regulation and Administration of Transportatio...       8   \n",
       "97    221118                    Other Electric Power Generation       8   \n",
       "29    112111                   Beef Cattle Ranching and Farming       7   \n",
       "698   512199          Other Motion Picture and Video Industries       6   \n",
       "102   221320                        Sewage Treatment Facilities       6   \n",
       "930   711110              Theater Companies and Dinner Theaters       5   \n",
       "918   623311             Continuing Care Retirement Communities       4   \n",
       "95    221116               Geothermal Electric Power Generation       4   \n",
       "214   321219           Reconstituted Wood Product Manufacturing       2   \n",
       "990   812112                                      Beauty Salons       2   \n",
       "71    212291                 Uranium-Radium-Vanadium Ore Mining       2   \n",
       "658   485999  All Other Transit and Ground Passenger Transpo...       2   \n",
       "30    112112                                    Cattle Feedlots       2   \n",
       "112   237130  Power and Communication Line and Related Struc...       2   \n",
       "185   313110                      Fiber, Yarn, and Thread Mills       2   \n",
       "500   423220               Home Furnishing Merchant Wholesalers       2   \n",
       "874   611110                   Elementary and Secondary Schools       1   \n",
       "983   811310  Commercial and Industrial Machinery and Equipm...       1   \n",
       "\n",
       "        percentage  \n",
       "707   6.736421e-02  \n",
       "718   6.215132e-02  \n",
       "62    5.031889e-02  \n",
       "99    3.718309e-02  \n",
       "257   2.682184e-02  \n",
       "398   2.675131e-02  \n",
       "85    2.509729e-02  \n",
       "237   2.216141e-02  \n",
       "731   2.128268e-02  \n",
       "706   1.933639e-02  \n",
       "67    1.742711e-02  \n",
       "740   1.673327e-02  \n",
       "741   1.523393e-02  \n",
       "615   1.518791e-02  \n",
       "68    1.325427e-02  \n",
       "584   1.300643e-02  \n",
       "756   1.093362e-02  \n",
       "406   1.071900e-02  \n",
       "743   1.043811e-02  \n",
       "178   9.697453e-03  \n",
       "708   9.386989e-03  \n",
       "421   9.331476e-03  \n",
       "829   9.201628e-03  \n",
       "746   9.148645e-03  \n",
       "305   8.990329e-03  \n",
       "722   8.851308e-03  \n",
       "64    8.727154e-03  \n",
       "660   8.527085e-03  \n",
       "86    8.269129e-03  \n",
       "181   8.199223e-03  \n",
       "...            ...  \n",
       "52    2.688685e-06  \n",
       "321   2.530527e-06  \n",
       "795   2.372369e-06  \n",
       "630   2.214211e-06  \n",
       "435   2.214211e-06  \n",
       "40    2.056053e-06  \n",
       "3     2.056053e-06  \n",
       "586   2.056053e-06  \n",
       "390   1.739737e-06  \n",
       "449   1.581579e-06  \n",
       "103   1.423421e-06  \n",
       "460   1.265263e-06  \n",
       "1038  1.265263e-06  \n",
       "97    1.265263e-06  \n",
       "29    1.107105e-06  \n",
       "698   9.489476e-07  \n",
       "102   9.489476e-07  \n",
       "930   7.907896e-07  \n",
       "918   6.326317e-07  \n",
       "95    6.326317e-07  \n",
       "214   3.163159e-07  \n",
       "990   3.163159e-07  \n",
       "71    3.163159e-07  \n",
       "658   3.163159e-07  \n",
       "30    3.163159e-07  \n",
       "112   3.163159e-07  \n",
       "185   3.163159e-07  \n",
       "500   3.163159e-07  \n",
       "874   1.581579e-07  \n",
       "983   1.581579e-07  \n",
       "\n",
       "[557 rows x 4 columns]"
      ]
     },
     "execution_count": 21,
     "metadata": {},
     "output_type": "execute_result"
    }
   ],
   "source": [
    "NAICS_code_total"
   ]
  },
  {
   "cell_type": "code",
   "execution_count": 16,
   "metadata": {},
   "outputs": [
    {
     "data": {
      "text/plain": [
       "0.9760148757021025"
      ]
     },
     "execution_count": 16,
     "metadata": {},
     "output_type": "execute_result"
    }
   ],
   "source": [
    "(NAICS_code.merge(NAICS_CODE_count,left_on='Code',right_index=True).sort_values(by=\"count\",ascending=False)['count']/data.shape[0]).sum()"
   ]
  },
  {
   "cell_type": "code",
   "execution_count": 17,
   "metadata": {},
   "outputs": [
    {
     "data": {
      "text/plain": [
       "NAICS_CODE\n",
       "522110    1078\n",
       "221122    1050\n",
       "211120     487\n",
       "517311     374\n",
       "325412     236\n",
       "Name: BOND_SYM_ID, dtype: int64"
      ]
     },
     "execution_count": 17,
     "metadata": {},
     "output_type": "execute_result"
    }
   ],
   "source": [
    "data.groupby(by=['NAICS_CODE'])['BOND_SYM_ID'].nunique().sort_values(ascending=False).head()"
   ]
  },
  {
   "cell_type": "code",
   "execution_count": 18,
   "metadata": {},
   "outputs": [
    {
     "data": {
      "text/plain": [
       "<pandas.core.groupby.groupby.DataFrameGroupBy object at 0x0000026D840E6978>"
      ]
     },
     "execution_count": 18,
     "metadata": {},
     "output_type": "execute_result"
    }
   ],
   "source": [
    "data.groupby(by=['BOND_SYM_ID'])"
   ]
  },
  {
   "cell_type": "code",
   "execution_count": 19,
   "metadata": {},
   "outputs": [],
   "source": [
    "Bond_X_Industry = data.drop_duplicates(['BOND_SYM_ID'])"
   ]
  },
  {
   "cell_type": "code",
   "execution_count": 20,
   "metadata": {},
   "outputs": [
    {
     "data": {
      "text/html": [
       "<div>\n",
       "<style scoped>\n",
       "    .dataframe tbody tr th:only-of-type {\n",
       "        vertical-align: middle;\n",
       "    }\n",
       "\n",
       "    .dataframe tbody tr th {\n",
       "        vertical-align: top;\n",
       "    }\n",
       "\n",
       "    .dataframe thead th {\n",
       "        text-align: right;\n",
       "    }\n",
       "</style>\n",
       "<table border=\"1\" class=\"dataframe\">\n",
       "  <thead>\n",
       "    <tr style=\"text-align: right;\">\n",
       "      <th></th>\n",
       "      <th>BOND_SYM_ID</th>\n",
       "      <th>INDUSTRY_GROUP</th>\n",
       "      <th>INDUSTRY_CODE</th>\n",
       "      <th>PARENT_ID</th>\n",
       "      <th>NAICS_CODE</th>\n",
       "      <th>SIC_CODE</th>\n",
       "    </tr>\n",
       "  </thead>\n",
       "  <tbody>\n",
       "    <tr>\n",
       "      <th>8475</th>\n",
       "      <td>A.GC</td>\n",
       "      <td>1</td>\n",
       "      <td>10</td>\n",
       "      <td>46935</td>\n",
       "      <td>334515</td>\n",
       "      <td>3825</td>\n",
       "    </tr>\n",
       "    <tr>\n",
       "      <th>8531</th>\n",
       "      <td>A.GE</td>\n",
       "      <td>1</td>\n",
       "      <td>10</td>\n",
       "      <td>46935</td>\n",
       "      <td>334515</td>\n",
       "      <td>3825</td>\n",
       "    </tr>\n",
       "    <tr>\n",
       "      <th>8496</th>\n",
       "      <td>A.GF</td>\n",
       "      <td>1</td>\n",
       "      <td>10</td>\n",
       "      <td>46935</td>\n",
       "      <td>334515</td>\n",
       "      <td>3825</td>\n",
       "    </tr>\n",
       "    <tr>\n",
       "      <th>8539</th>\n",
       "      <td>A3900782</td>\n",
       "      <td>1</td>\n",
       "      <td>10</td>\n",
       "      <td>46935</td>\n",
       "      <td>334515</td>\n",
       "      <td>3825</td>\n",
       "    </tr>\n",
       "    <tr>\n",
       "      <th>109935</th>\n",
       "      <td>A4020252</td>\n",
       "      <td>1</td>\n",
       "      <td>10</td>\n",
       "      <td>46935</td>\n",
       "      <td>334515</td>\n",
       "      <td>3825</td>\n",
       "    </tr>\n",
       "  </tbody>\n",
       "</table>\n",
       "</div>"
      ],
      "text/plain": [
       "       BOND_SYM_ID INDUSTRY_GROUP INDUSTRY_CODE PARENT_ID NAICS_CODE SIC_CODE\n",
       "8475          A.GC              1            10     46935     334515     3825\n",
       "8531          A.GE              1            10     46935     334515     3825\n",
       "8496          A.GF              1            10     46935     334515     3825\n",
       "8539      A3900782              1            10     46935     334515     3825\n",
       "109935    A4020252              1            10     46935     334515     3825"
      ]
     },
     "execution_count": 20,
     "metadata": {},
     "output_type": "execute_result"
    }
   ],
   "source": [
    "Bond_X_Industry.sort_values(by=['BOND_SYM_ID']).head()"
   ]
  },
  {
   "cell_type": "markdown",
   "metadata": {},
   "source": [
    "## Individual Check"
   ]
  },
  {
   "cell_type": "raw",
   "metadata": {},
   "source": [
    "data.loc[data['BOND_SYM_ID'] == \"AOI4075603\"].head(2)"
   ]
  },
  {
   "cell_type": "markdown",
   "metadata": {},
   "source": [
    "## Convergence Test"
   ]
  },
  {
   "cell_type": "code",
   "execution_count": null,
   "metadata": {},
   "outputs": [],
   "source": [
    "import re\n",
    "import matplotlib.pyplot as plt\n",
    "def convergence_likelyhood(model_name,num_topics):\n",
    "    p = re.compile(\"(-*\\d+\\.\\d+) per-word .* (\\d+\\.\\d+) perplexity\")\n",
    "    matches = [p.findall(l) for l in open('../LDAModel/{}_{}topics.log.txt'.format(model_name,num_topics))]\n",
    "    matches = [m for m in matches if len(m) > 0]\n",
    "    tuples = [t[0] for t in matches]\n",
    "    perplexity = [float(t[1]) for t in tuples]\n",
    "    liklihood = [float(t[0]) for t in tuples]\n",
    "    iter = list(range(0,len(tuples)*10,10))\n",
    "    plt.plot(iter,liklihood,c=\"black\")\n",
    "    plt.ylabel(\"log liklihood\")\n",
    "    plt.xlabel(\"iteration\")\n",
    "    plt.title(\"Topic Model Convergence\")\n",
    "    plt.grid()\n",
    "    plt.savefig(\"{}_{}topics.pdf\".format(model_name,num_topics))\n",
    "    plt.close()"
   ]
  },
  {
   "cell_type": "code",
   "execution_count": null,
   "metadata": {},
   "outputs": [],
   "source": [
    "#convergence_likelyhood(\"matrix_1\",250)"
   ]
  }
 ],
 "metadata": {
  "kernelspec": {
   "display_name": "Python 3",
   "language": "python",
   "name": "python3"
  },
  "language_info": {
   "codemirror_mode": {
    "name": "ipython",
    "version": 3
   },
   "file_extension": ".py",
   "mimetype": "text/x-python",
   "name": "python",
   "nbconvert_exporter": "python",
   "pygments_lexer": "ipython3",
   "version": "3.7.1"
  }
 },
 "nbformat": 4,
 "nbformat_minor": 2
}
