{
 "cells": [
  {
   "cell_type": "markdown",
   "metadata": {},
   "source": [
    "# Topic Model Analysis\n",
    "\n",
    "Todo: 1. industry : cusip to naics mapping 2. Topic evloution"
   ]
  },
  {
   "cell_type": "code",
   "execution_count": 2,
   "metadata": {
    "scrolled": true
   },
   "outputs": [
    {
     "data": {
      "text/html": [
       "<script type=\"text/javascript\">window.PlotlyConfig = {MathJaxConfig: 'local'};</script><script type=\"text/javascript\">if (window.MathJax) {MathJax.Hub.Config({SVG: {font: \"STIX-Web\"}});}</script><script>requirejs.config({paths: { 'plotly': ['https://cdn.plot.ly/plotly-latest.min']},});if(!window._Plotly) {require(['plotly'],function(plotly) {window._Plotly=plotly;});}</script>"
      ],
      "text/vnd.plotly.v1+html": [
       "<script type=\"text/javascript\">window.PlotlyConfig = {MathJaxConfig: 'local'};</script><script type=\"text/javascript\">if (window.MathJax) {MathJax.Hub.Config({SVG: {font: \"STIX-Web\"}});}</script><script>requirejs.config({paths: { 'plotly': ['https://cdn.plot.ly/plotly-latest.min']},});if(!window._Plotly) {require(['plotly'],function(plotly) {window._Plotly=plotly;});}</script>"
      ]
     },
     "metadata": {},
     "output_type": "display_data"
    }
   ],
   "source": [
    "import pandas as pd\n",
    "import numpy as np\n",
    "import os\n",
    "from pathlib import Path\n",
    "\n",
    "from compute_topic import *\n",
    "from manage_path import *\n",
    "from topic_model_analysis import *\n",
    "\n",
    "import plotly\n",
    "plotly.offline.init_notebook_mode(connected=True) \n",
    "import plotly.graph_objs as go\n",
    "import plotly.io as pio\n",
    "from itertools import repeat\n",
    "\n",
    "import multiprocessing\n",
    "from collections import deque\n",
    "\n",
    "import seaborn as sns\n",
    "import matplotlib.pyplot as plt\n",
    "import matplotlib.dates as mdates\n",
    "\n",
    "from collections import OrderedDict"
   ]
  },
  {
   "cell_type": "markdown",
   "metadata": {},
   "source": [
    "## Topic Evolution\n",
    "1. Dc_v1: 1 document for buy and sell, per dealer, per day.\n",
    "2. Dc_v2: 1 document for buy and 1 document for sell, per dealer, per day.\n",
    "3. Dc_v3: Either DC_v1 or DC_v2 without the 2 (4) documents representing the Source_seller and Source_buyer.\n",
    "4. Tc_v1: 1 document for (buyer,seller,year)"
   ]
  },
  {
   "cell_type": "code",
   "execution_count": null,
   "metadata": {},
   "outputs": [],
   "source": [
    "result_directory = get_result_directory()\n",
    "get_document_item_vectorize = np.vectorize(get_document_item)\n",
    "#topic_matrix['dealer'] = pd.Series(list(zip(get_document_item_vectorize(topic.index,0),get_document_item_vectorize(topic.index,1)))).values"
   ]
  },
  {
   "cell_type": "markdown",
   "metadata": {},
   "source": [
    "### Dc_v1"
   ]
  },
  {
   "cell_type": "code",
   "execution_count": null,
   "metadata": {},
   "outputs": [],
   "source": [
    "Dc_v1 = pd.read_csv(result_directory/'Dc_v1_250topics.csv',index_col=0)"
   ]
  },
  {
   "cell_type": "code",
   "execution_count": null,
   "metadata": {},
   "outputs": [],
   "source": [
    "Dc_v1.head(3)"
   ]
  },
  {
   "cell_type": "code",
   "execution_count": null,
   "metadata": {},
   "outputs": [],
   "source": [
    "Dc_v1['dealer'] = get_document_item_vectorize(Dc_v1.index,0)"
   ]
  },
  {
   "cell_type": "code",
   "execution_count": null,
   "metadata": {},
   "outputs": [],
   "source": [
    "Dc_v1.index = pd.to_datetime(get_document_item_vectorize(Dc_v1.index,1))"
   ]
  },
  {
   "cell_type": "code",
   "execution_count": null,
   "metadata": {},
   "outputs": [],
   "source": [
    "Dc_v1.head(3)"
   ]
  },
  {
   "cell_type": "code",
   "execution_count": null,
   "metadata": {},
   "outputs": [],
   "source": [
    "count_matrix = Dc_v1.groupby([\"dealer\"]).count().sort_index()"
   ]
  },
  {
   "cell_type": "code",
   "execution_count": null,
   "metadata": {},
   "outputs": [],
   "source": [
    "ax = sns.heatmap(count_matrix,cmap=\"YlGnBu\")"
   ]
  },
  {
   "cell_type": "code",
   "execution_count": null,
   "metadata": {},
   "outputs": [],
   "source": [
    "ax = sns.heatmap(Dc_v1.groupby(by=Dc_v1.index).sum().values.tolist(),cmap=\"YlGnBu\")"
   ]
  },
  {
   "cell_type": "code",
   "execution_count": null,
   "metadata": {},
   "outputs": [],
   "source": [
    "ax = sns.heatmap(Dc_v1.groupby(by=Dc_v1.index).mean().values.tolist(),vmin=0,vmax=1,center=0.5,cmap=\"YlGnBu\")"
   ]
  },
  {
   "cell_type": "markdown",
   "metadata": {},
   "source": [
    "### Dc_v2"
   ]
  },
  {
   "cell_type": "code",
   "execution_count": null,
   "metadata": {},
   "outputs": [],
   "source": [
    "Dc_v2 = pd.read_csv(result_directory/'Dc_v2_250topics.csv',index_col=0)"
   ]
  },
  {
   "cell_type": "code",
   "execution_count": null,
   "metadata": {},
   "outputs": [],
   "source": [
    "Dc_v2.head(3)"
   ]
  },
  {
   "cell_type": "code",
   "execution_count": null,
   "metadata": {},
   "outputs": [],
   "source": [
    "Dc_v2['dealer'] = pd.Series(list(zip(get_document_item_vectorize(Dc_v2.index,0),get_document_item_vectorize(Dc_v2.index,2)))).values"
   ]
  },
  {
   "cell_type": "code",
   "execution_count": null,
   "metadata": {},
   "outputs": [],
   "source": [
    "Dc_v2.index = pd.to_datetime(get_document_item_vectorize(Dc_v2.index,1))"
   ]
  },
  {
   "cell_type": "code",
   "execution_count": null,
   "metadata": {},
   "outputs": [],
   "source": [
    "Dc_v2.head(3)"
   ]
  },
  {
   "cell_type": "code",
   "execution_count": null,
   "metadata": {},
   "outputs": [],
   "source": [
    "ax = sns.heatmap(Dc_v2.groupby(by=Dc_v2.index).sum().values.tolist(),cmap=\"YlGnBu\")"
   ]
  },
  {
   "cell_type": "code",
   "execution_count": null,
   "metadata": {},
   "outputs": [],
   "source": [
    "ax = sns.heatmap(Dc_v2.groupby(by=Dc_v2.index).mean().values.tolist(),vmin=0,vmax=1,center=0.5,cmap=\"YlGnBu\")"
   ]
  },
  {
   "cell_type": "markdown",
   "metadata": {},
   "source": [
    "### Dc_v3"
   ]
  },
  {
   "cell_type": "code",
   "execution_count": null,
   "metadata": {},
   "outputs": [],
   "source": [
    "Dc_v3 = pd.read_csv(result_directory/'Dc_v3_250topics.csv',index_col=0)"
   ]
  },
  {
   "cell_type": "code",
   "execution_count": null,
   "metadata": {},
   "outputs": [],
   "source": [
    "Dc_v3.head(3)"
   ]
  },
  {
   "cell_type": "code",
   "execution_count": null,
   "metadata": {},
   "outputs": [],
   "source": [
    "Dc_v3['dealer'] = pd.Series(list(zip(get_document_item_vectorize(Dc_v3.index,0),get_document_item_vectorize(Dc_v3.index,2)))).values"
   ]
  },
  {
   "cell_type": "code",
   "execution_count": null,
   "metadata": {},
   "outputs": [],
   "source": [
    "Dc_v3.index = pd.to_datetime(get_document_item_vectorize(Dc_v3.index,1))"
   ]
  },
  {
   "cell_type": "code",
   "execution_count": null,
   "metadata": {},
   "outputs": [],
   "source": [
    "Dc_v3.head(3)"
   ]
  },
  {
   "cell_type": "code",
   "execution_count": null,
   "metadata": {},
   "outputs": [],
   "source": [
    "ax = sns.heatmap(Dc_v3.groupby(by=Dc_v3.index).sum().values.tolist(),cmap=\"YlGnBu\")"
   ]
  },
  {
   "cell_type": "code",
   "execution_count": null,
   "metadata": {},
   "outputs": [],
   "source": [
    "ax = sns.heatmap(Dc_v3.groupby(by=Dc_v3.index).mean().values.tolist(),vmin=0,vmax=1,center=0.5,cmap=\"YlGnBu\")"
   ]
  },
  {
   "cell_type": "markdown",
   "metadata": {},
   "source": [
    "### Tc_v1"
   ]
  },
  {
   "cell_type": "code",
   "execution_count": null,
   "metadata": {},
   "outputs": [],
   "source": [
    "Tc_v1 = pd.read_csv(result_directory/'Tc_v1_250topics.csv',index_col=0)"
   ]
  },
  {
   "cell_type": "code",
   "execution_count": null,
   "metadata": {},
   "outputs": [],
   "source": [
    "Tc_v1.head(3)"
   ]
  },
  {
   "cell_type": "code",
   "execution_count": null,
   "metadata": {},
   "outputs": [],
   "source": [
    "Tc_v1['dealer'] = pd.Series(list(zip(get_document_item_vectorize(Tc_v1.index,0),get_document_item_vectorize(Tc_v1.index,1)))).values"
   ]
  },
  {
   "cell_type": "code",
   "execution_count": null,
   "metadata": {},
   "outputs": [],
   "source": [
    "Tc_v1.index = pd.to_datetime(get_document_item_vectorize(Tc_v1.index,2))"
   ]
  },
  {
   "cell_type": "markdown",
   "metadata": {},
   "source": [
    "### topicXtime heatmap"
   ]
  },
  {
   "cell_type": "markdown",
   "metadata": {},
   "source": [
    "#### Try Plotly"
   ]
  },
  {
   "cell_type": "code",
   "execution_count": null,
   "metadata": {},
   "outputs": [],
   "source": [
    "#ax = sns.heatmap(topic_matrix.values.tolist(),vmin=0,vmax=1,center=0.5)"
   ]
  },
  {
   "cell_type": "raw",
   "metadata": {},
   "source": [
    "heatmap_data = [\n",
    "    go.Heatmap(\n",
    "        z=topic_matrix.fillna(0).values.tolist(),\n",
    "        zmin=0,\n",
    "        zmax=1,\n",
    "        #x=topic_matrix.index,\n",
    "        #y=topic_matrix.columns,\n",
    "        colorscale='Jet',\n",
    "    )\n",
    " ]\n",
    "\n",
    "layout = go.Layout(\n",
    "    title='{} - Topic-Time'.format(\"Tc_v1\"),\n",
    ")\n",
    "\n",
    "fig = go.Figure(data=heatmap_data, layout=layout)\n",
    "plotly.offline.plot(fig)"
   ]
  },
  {
   "cell_type": "code",
   "execution_count": null,
   "metadata": {},
   "outputs": [],
   "source": [
    "count_matrix = topic_matrix.groupby([\"dealer\"]).count()"
   ]
  },
  {
   "cell_type": "raw",
   "metadata": {},
   "source": [
    "data = [go.Heatmap( z=count_matrix.values.tolist(), colorscale='Viridis')]\n",
    "plotly.offline.iplot(data, filename='pandas-heatmap')"
   ]
  },
  {
   "cell_type": "code",
   "execution_count": null,
   "metadata": {},
   "outputs": [],
   "source": [
    "summary = topic_matrix.describe().T"
   ]
  },
  {
   "cell_type": "code",
   "execution_count": null,
   "metadata": {},
   "outputs": [],
   "source": [
    "summary['mean'].plot()"
   ]
  },
  {
   "cell_type": "code",
   "execution_count": null,
   "metadata": {},
   "outputs": [],
   "source": [
    "def get_dealer_by_ID(matrix,dealer_id,matrix_name):\n",
    "    result = matrix.loc[matrix['dealer'] == dealer_id].copy().drop(labels='dealer',axis=1)\n",
    "    return (result,dealer_id,matrix_name)"
   ]
  },
  {
   "cell_type": "code",
   "execution_count": null,
   "metadata": {},
   "outputs": [],
   "source": [
    "dealer_df_list = list(map(lambda x: get_dealer_by_ID(topic_matrix,x,\"Dc_v1\"),list(topic_matrix['dealer'].unique())))\n",
    "len(dealer_df_list)"
   ]
  },
  {
   "cell_type": "code",
   "execution_count": null,
   "metadata": {},
   "outputs": [],
   "source": [
    "#deque(map(topicXtime,dealer_df_list))"
   ]
  },
  {
   "cell_type": "code",
   "execution_count": null,
   "metadata": {},
   "outputs": [],
   "source": [
    "pio.orca.config\n",
    "plotly.io.orca.status\n",
    "\n",
    "cpu_cores = multiprocessing.cpu_count() - 1\n",
    "pool = multiprocessing.Pool(cpu_cores)\n",
    "pool.map(topicXtime_plotly_parallel,dealer_df_list)\n",
    "pool.close()"
   ]
  },
  {
   "cell_type": "markdown",
   "metadata": {},
   "source": [
    "#### Try mapplotlib"
   ]
  },
  {
   "cell_type": "code",
   "execution_count": null,
   "metadata": {},
   "outputs": [],
   "source": [
    "cpu_cores = int(multiprocessing.cpu_count()/2) -1\n",
    "pool = multiprocessing.Pool(cpu_cores)"
   ]
  },
  {
   "cell_type": "code",
   "execution_count": null,
   "metadata": {},
   "outputs": [],
   "source": [
    "pool.starmap(topicXtime_matplotlib,dealer_df_list)\n",
    "pool.close()"
   ]
  },
  {
   "cell_type": "markdown",
   "metadata": {},
   "source": [
    "#### Try Seaborn"
   ]
  },
  {
   "cell_type": "code",
   "execution_count": null,
   "metadata": {},
   "outputs": [],
   "source": [
    "sns.set()"
   ]
  },
  {
   "cell_type": "code",
   "execution_count": null,
   "metadata": {},
   "outputs": [],
   "source": [
    "month_list = list(OrderedDict.fromkeys(dealer_df_list[0][0].index.strftime('%Y-%m')))"
   ]
  },
  {
   "cell_type": "code",
   "execution_count": null,
   "metadata": {},
   "outputs": [],
   "source": [
    "ax = sns.heatmap(dealer_df_list[0][0].T.values,vmin=0,vmax=1,center=0.5,xticklabels=[0,50,100,150,200,250],yticklabels=month_list)\n",
    "\n",
    "num_x_ticks = 5\n",
    "# the index of the position of yticks\n",
    "xticks = np.linspace(0, len(dealer_df_list[0][0].columns) - 1, num_x_ticks, dtype=np.int)\n",
    "\n",
    "num_y_ticks = len(month_list)\n",
    "# the index of the position of yticks\n",
    "yticks = np.linspace(0, len(dealer_df_list[0][0].index) - 1, num_y_ticks, dtype=np.int)\n",
    "\n",
    "#ax.set_xticks(xticks)\n",
    "#ax.set_yticks(yticks)\n",
    "ax.set_autoscaley_on(True)\n",
    "ax.set_title('test')"
   ]
  },
  {
   "cell_type": "code",
   "execution_count": null,
   "metadata": {},
   "outputs": [],
   "source": [
    "import matplotlib.dates as mdates\n",
    "ax = sns.heatmap(dealer_df_list[0][0].T,vmin=0,vmax=1,center=0.5)\n",
    "\n",
    "ax.xaxis.set_major_locator(mdates.MonthLocator())\n",
    "ax.xaxis.set_major_formatter(mdates.DateFormatter('%Y-%m'))\n",
    "#ax.xaxis.set_minor_locator(mdates.DayLocator())\n",
    "\n",
    "#ax.set_xlim(dealer_df_list[0][0].index[0], dealer_df_list[0][0].index[-1])\n",
    "#ax.format_xdata = mdates.DateFormatter('%Y-%m-%d')\n",
    "\n",
    "figure = ax.get_figure()\n",
    "figure.savefig('test.png', dpi=400)"
   ]
  },
  {
   "cell_type": "code",
   "execution_count": null,
   "metadata": {},
   "outputs": [],
   "source": [
    "ax = sns.heatmap(dealer_df_list[0][0].T,vmin=0,vmax=1,center=0.5)"
   ]
  },
  {
   "cell_type": "code",
   "execution_count": null,
   "metadata": {},
   "outputs": [],
   "source": [
    "dealer_df_list[0][0].index[-1]"
   ]
  },
  {
   "cell_type": "code",
   "execution_count": null,
   "metadata": {},
   "outputs": [],
   "source": [
    "yticks"
   ]
  },
  {
   "cell_type": "code",
   "execution_count": null,
   "metadata": {},
   "outputs": [],
   "source": [
    "xticks"
   ]
  },
  {
   "cell_type": "code",
   "execution_count": null,
   "metadata": {},
   "outputs": [],
   "source": [
    "figure = ax.get_figure()\n",
    "figure.savefig('test.png', dpi=400)\n",
    "#figure.savefig('test.svg', format=\"svg\")"
   ]
  },
  {
   "cell_type": "code",
   "execution_count": null,
   "metadata": {},
   "outputs": [],
   "source": [
    "ax.fig.autofmt_ydate()"
   ]
  },
  {
   "cell_type": "code",
   "execution_count": null,
   "metadata": {},
   "outputs": [],
   "source": [
    "topic_matrix.corr().head()"
   ]
  },
  {
   "cell_type": "markdown",
   "metadata": {},
   "source": [
    "## Topic Terms Distribution\n",
    "Below is the topic terms ditrutbution demo. Since we already got Document X Topics, we want to have a Topic X Terms too."
   ]
  },
  {
   "cell_type": "code",
   "execution_count": 15,
   "metadata": {},
   "outputs": [
    {
     "name": "stdout",
     "output_type": "stream",
     "text": [
      "Loading LDAModel ....\n",
      "LDAModel loaded!!!\n"
     ]
    }
   ],
   "source": [
    "num_topics = 50\n",
    "model = load_model('Dc_v1',num_topics)"
   ]
  },
  {
   "cell_type": "code",
   "execution_count": 16,
   "metadata": {},
   "outputs": [],
   "source": [
    "topic_terms_distribution = pd.DataFrame(model.get_topics())"
   ]
  },
  {
   "cell_type": "code",
   "execution_count": 17,
   "metadata": {},
   "outputs": [
    {
     "data": {
      "text/plain": [
       "[(0,\n",
       "  '0.015*\"BTU3905482\" + 0.013*\"RDEN.GD\" + 0.013*\"RTSX3878415\" + 0.012*\"WLT4062096\" + 0.012*\"NES3879264\" + 0.011*\"SWY.HG\" + 0.009*\"CDFA.GC\" + 0.008*\"AMD.AA\" + 0.008*\"CLF.AA\" + 0.008*\"CRBM3693244\"'),\n",
       " (1,\n",
       "  '0.107*\"BTU.GI\" + 0.065*\"MCP3983624\" + 0.042*\"TGB.AA\" + 0.024*\"DLX.GL\" + 0.023*\"ACI3855311\" + 0.021*\"BRK4133973\" + 0.021*\"PVA.GD\" + 0.020*\"ADT3991008\" + 0.019*\"FESL.AD\" + 0.018*\"MLET3677469\"'),\n",
       " (2,\n",
       "  '0.058*\"AU.GC\" + 0.028*\"OXY.HM\" + 0.028*\"PFE4061549\" + 0.028*\"CHK4020185\" + 0.025*\"MT.AG\" + 0.021*\"HII.AE\" + 0.019*\"HOS3892919\" + 0.017*\"EMC4014768\" + 0.015*\"BSX.GK\" + 0.013*\"VLO.IE\"'),\n",
       " (3,\n",
       "  '0.027*\"SFTBF3928946\" + 0.009*\"WYNN3916403\" + 0.008*\"AU4033717\" + 0.007*\"IEP4082421\" + 0.007*\"WIN3982620\" + 0.007*\"UAL4067249\" + 0.007*\"PRU3886386\" + 0.007*\"MBI.GE\" + 0.006*\"NEM.GR\" + 0.006*\"CMC.GH\"'),\n",
       " (4,\n",
       "  '0.073*\"TWC3677006\" + 0.072*\"TWC3686848\" + 0.071*\"TWC3696321\" + 0.056*\"TWC3675722\" + 0.056*\"TWC3672031\" + 0.040*\"TWC3673710\" + 0.021*\"TWC3672023\" + 0.019*\"TWC3703796\" + 0.019*\"TWC3673709\" + 0.018*\"TWC3675093\"'),\n",
       " (5,\n",
       "  '0.010*\"VZ4050439\" + 0.005*\"VZ4050437\" + 0.004*\"RBS4127992\" + 0.004*\"ABX4049410\" + 0.004*\"BDRB4113904\" + 0.003*\"GS4102993\" + 0.003*\"AAPL4001810\" + 0.003*\"FMGF3831594\" + 0.003*\"SFTBF4048155\" + 0.003*\"APO3825625\"'),\n",
       " (6,\n",
       "  '0.154*\"CLF.AC\" + 0.153*\"CLF.AD\" + 0.071*\"CLF.AB\" + 0.069*\"CLF.AA\" + 0.044*\"CLF3941513\" + 0.017*\"X.GF\" + 0.014*\"KGC3871484\" + 0.013*\"CME3898965\" + 0.011*\"SWY.GN\" + 0.008*\"DELL.GH\"'),\n",
       " (7,\n",
       "  '0.028*\"BNS4052293\" + 0.012*\"MUR3856177\" + 0.008*\"GS.WL\" + 0.008*\"HPQ.GZ\" + 0.007*\"KMI4035394\" + 0.007*\"STI.GM\" + 0.007*\"T3818484\" + 0.006*\"DTV3851435\" + 0.006*\"KSS.GJ\" + 0.005*\"JPM3999853\"'),\n",
       " (8,\n",
       "  '0.011*\"AGN3979700\" + 0.010*\"HRB3920557\" + 0.009*\"MBI.GC\" + 0.008*\"AGN.KV\" + 0.006*\"TWIX3666829\" + 0.005*\"CSC.GJ\" + 0.005*\"SHLD.GH\" + 0.005*\"MBI.GD\" + 0.004*\"BBY4029053\" + 0.004*\"TECD3903128\"'),\n",
       " (9,\n",
       "  '0.074*\"NES3879264\" + 0.047*\"HL4080028\" + 0.036*\"GFIG.AC\" + 0.021*\"NSM4013488\" + 0.018*\"AES3903624\" + 0.010*\"NSM4013441\" + 0.009*\"X.GG\" + 0.008*\"CDE3959757\" + 0.008*\"JCP.GP\" + 0.007*\"JRCC.GG\"'),\n",
       " (10,\n",
       "  '0.035*\"AES3903624\" + 0.025*\"AOI4075603\" + 0.016*\"DLLR.GG\" + 0.015*\"HEK3879264\" + 0.015*\"IEP4082421\" + 0.014*\"WLT4062096\" + 0.012*\"CTB.GD\" + 0.011*\"IACI4021971\" + 0.011*\"ACUZ.AF\" + 0.011*\"XCO.AB\"'),\n",
       " (11,\n",
       "  '0.011*\"ADT3997702\" + 0.008*\"HPQ4088661\" + 0.007*\"SWY.GN\" + 0.006*\"SFTBF3703037\" + 0.006*\"NSM4030537\" + 0.006*\"PBI4104274\" + 0.005*\"GS4102993\" + 0.004*\"GS4094093\" + 0.004*\"FTR3669882\" + 0.004*\"K.GL\"'),\n",
       " (12,\n",
       "  '0.007*\"AAPL4001809\" + 0.007*\"KKR4090051\" + 0.006*\"VZ4050437\" + 0.006*\"VZ4050430\" + 0.006*\"VZ4050439\" + 0.005*\"AV3979675\" + 0.004*\"MLET3677470\" + 0.004*\"NIHD.GO\" + 0.004*\"NIHD4007854\" + 0.004*\"AAPL4001810\"'),\n",
       " (13,\n",
       "  '0.245*\"PPL.IR\" + 0.047*\"SPLS3952064\" + 0.042*\"DELL.GH\" + 0.038*\"SWY.AB\" + 0.035*\"NEM3827984\" + 0.032*\"PSEC3980466\" + 0.026*\"DYN3676768\" + 0.023*\"AA.AA\" + 0.018*\"HPQ.HB\" + 0.017*\"AA.HT\"'),\n",
       " (14,\n",
       "  '0.212*\"AU4033717\" + 0.152*\"FST.GO\" + 0.040*\"VZ.TC\" + 0.026*\"JCP.GY\" + 0.022*\"FST4035582\" + 0.022*\"F.GY\" + 0.018*\"DELL.GB\" + 0.017*\"MBI.GE\" + 0.017*\"PHM.GL\" + 0.015*\"FTR3669882\"'),\n",
       " (15,\n",
       "  '0.005*\"AAPL4001809\" + 0.003*\"VZ4050437\" + 0.003*\"BUD4091519\" + 0.002*\"DOW.XS\" + 0.002*\"BUD3876843\" + 0.002*\"HBC3838127\" + 0.002*\"AAPL4001810\" + 0.002*\"KO4066196\" + 0.002*\"BP4004471\" + 0.002*\"JPM.NAN\"'),\n",
       " (16,\n",
       "  '0.015*\"RDEN.GD\" + 0.012*\"SFTBF3928946\" + 0.012*\"BRK4133973\" + 0.011*\"C4150065\" + 0.010*\"SWY.GN\" + 0.010*\"IEP4122989\" + 0.009*\"IEP4121535\" + 0.007*\"AGN.KV\" + 0.006*\"IEP4082421\" + 0.006*\"AVP3979750\"'),\n",
       " (17,\n",
       "  '0.086*\"ACI4046974\" + 0.069*\"AKS.GH\" + 0.069*\"KKR4105360\" + 0.062*\"RTSX.AC\" + 0.041*\"MLET3940243\" + 0.039*\"ANR3910924\" + 0.030*\"ABX.GR\" + 0.029*\"NSM4013441\" + 0.022*\"CSH4089665\" + 0.016*\"X.GI\"'),\n",
       " (18,\n",
       "  '0.008*\"IEP4082421\" + 0.008*\"PBR3688575\" + 0.006*\"PPL.IR\" + 0.005*\"AAPL4001809\" + 0.005*\"PBR4006643\" + 0.005*\"SFTBF3928946\" + 0.004*\"VZ4050437\" + 0.004*\"T.MC\" + 0.004*\"T3818484\" + 0.003*\"NEM3827984\"'),\n",
       " (19,\n",
       "  '0.301*\"RIG.HE\" + 0.062*\"SFTBF3703037\" + 0.058*\"RIG.HG\" + 0.044*\"CWEI.AA\" + 0.043*\"ANR.GB\" + 0.027*\"AMGN.HE\" + 0.020*\"SM.AE\" + 0.019*\"PG4066465\" + 0.014*\"AMGN4127506\" + 0.013*\"SFTBF3928946\"'),\n",
       " (20,\n",
       "  '0.138*\"RIG.GX\" + 0.029*\"AGO4136090\" + 0.026*\"RIG3900774\" + 0.016*\"NEM.GS\" + 0.012*\"LINE3910261\" + 0.010*\"VOD3968277\" + 0.008*\"CTL3705105\" + 0.007*\"TXN4002250\" + 0.007*\"WU.GF\" + 0.007*\"NEM3827984\"'),\n",
       " (21,\n",
       "  '0.005*\"RIG.HE\" + 0.004*\"RIG.GX\" + 0.004*\"SWY.GN\" + 0.003*\"BRK4133973\" + 0.003*\"SD.AH\" + 0.003*\"AAPL4001809\" + 0.003*\"LINE3910261\" + 0.003*\"POST3939088\" + 0.003*\"OXY4163793\" + 0.003*\"JPM4161049\"'),\n",
       " (22,\n",
       "  '0.005*\"BRK4133973\" + 0.003*\"SHLD.JE\" + 0.003*\"TOY.GJ\" + 0.002*\"ARCC4071336\" + 0.002*\"VZ4050437\" + 0.002*\"VZ4050439\" + 0.002*\"CTL3828009\" + 0.002*\"NOK.GA\" + 0.002*\"CCCX3917899\" + 0.002*\"IEP4082421\"'),\n",
       " (23,\n",
       "  '0.007*\"IEP.GH\" + 0.004*\"MLET3677470\" + 0.004*\"SHLD.JE\" + 0.003*\"HPQ.AI\" + 0.003*\"VZ4050437\" + 0.003*\"HASU3987542\" + 0.003*\"KKR4090051\" + 0.003*\"MS.QP\" + 0.003*\"KKR4007641\" + 0.003*\"VZ4050439\"'),\n",
       " (24,\n",
       "  '0.004*\"CCCX3917899\" + 0.004*\"JCP.GI\" + 0.003*\"ACI3855311\" + 0.003*\"GE.HEE\" + 0.003*\"ANR3910924\" + 0.003*\"JCP.GN\" + 0.003*\"CTL3705103\" + 0.003*\"WMT.IP\" + 0.002*\"AAPL4001809\" + 0.002*\"PBR3688574\"'),\n",
       " (25,\n",
       "  '0.018*\"T4073511\" + 0.014*\"T3941564\" + 0.012*\"TEVA3944459\" + 0.012*\"KO4066196\" + 0.010*\"AAPL4001806\" + 0.009*\"TEVA.GU\" + 0.008*\"COST3938361\" + 0.008*\"T.ME\" + 0.007*\"EMC4014767\" + 0.007*\"CVX4019677\"'),\n",
       " (26,\n",
       "  '0.101*\"HOS3982287\" + 0.098*\"CDE3959757\" + 0.076*\"GTI4038624\" + 0.076*\"CVO3861763\" + 0.047*\"TGT4136096\" + 0.034*\"BLL4005574\" + 0.028*\"MCP3983624\" + 0.023*\"DRI.GK\" + 0.014*\"AES4000849\" + 0.010*\"ATPG.GE\"'),\n",
       " (27,\n",
       "  '0.027*\"AGN.KV\" + 0.021*\"AAPL4001811\" + 0.021*\"JBL.GG\" + 0.020*\"GS.JBZ\" + 0.013*\"DTEGF4060201\" + 0.009*\"HBI.GF\" + 0.008*\"OHI.GN\" + 0.007*\"RDEN.GD\" + 0.007*\"GE.HEE\" + 0.005*\"VZ4050433\"'),\n",
       " (28,\n",
       "  '0.002*\"AAPL4001809\" + 0.002*\"VZ4050430\" + 0.002*\"VZ4050432\" + 0.002*\"T.KG\" + 0.002*\"VZ4050437\" + 0.002*\"WFC.GDT\" + 0.002*\"AAPL4001806\" + 0.002*\"INTC3940192\" + 0.002*\"BP.JH\" + 0.001*\"T.MB\"'),\n",
       " (29,\n",
       "  '0.052*\"EAC4123496\" + 0.045*\"RDEN.GD\" + 0.029*\"WLT4062096\" + 0.017*\"KWK.GC\" + 0.013*\"DRI.GG\" + 0.013*\"DG3992947\" + 0.012*\"AGO4136090\" + 0.010*\"ORCL4141351\" + 0.009*\"FDO.AA\" + 0.007*\"X.GF\"'),\n",
       " (30,\n",
       "  '0.103*\"SWY.GN\" + 0.046*\"CDFA.GC\" + 0.037*\"CCCX3917899\" + 0.033*\"SWY.GH\" + 0.029*\"BRSG3693247\" + 0.027*\"NIHD.GJ\" + 0.024*\"BLKG.AB\" + 0.020*\"IPMT.AA\" + 0.017*\"AONS.GB\" + 0.017*\"JCP.GN\"'),\n",
       " (31,\n",
       "  '0.003*\"MET.HM\" + 0.003*\"BRK3701852\" + 0.003*\"FCX3818486\" + 0.002*\"CLF.AC\" + 0.002*\"CLF.AD\" + 0.002*\"BRK4059873\" + 0.002*\"VZ4050439\" + 0.002*\"MDLZ3677598\" + 0.002*\"BRK3674618\" + 0.002*\"MET.IN\"'),\n",
       " (32,\n",
       "  '0.017*\"IEP4121535\" + 0.014*\"AGN.KV\" + 0.011*\"BRK4133973\" + 0.009*\"EVNT3815264\" + 0.009*\"RFP4131092\" + 0.008*\"AAPL4122387\" + 0.008*\"BTU.GI\" + 0.007*\"BTU3905482\" + 0.007*\"AAPL4122392\" + 0.006*\"AAPL4122390\"'),\n",
       " (33,\n",
       "  '0.146*\"PPL.IC\" + 0.046*\"AU3882696\" + 0.030*\"OKE.GO\" + 0.028*\"NTAP3940750\" + 0.028*\"NOG3913730\" + 0.026*\"JPM3999853\" + 0.025*\"FCX3818486\" + 0.024*\"WMB.IQ\" + 0.021*\"URS4080008\" + 0.014*\"CLR.AA\"'),\n",
       " (34,\n",
       "  '0.014*\"T4013485\" + 0.012*\"T.MC\" + 0.011*\"VZ.QY\" + 0.011*\"GS.VS\" + 0.010*\"GS.QA\" + 0.009*\"T3706810\" + 0.009*\"KSS.GG\" + 0.008*\"KSS.GH\" + 0.008*\"C.HCV\" + 0.008*\"T.KF\"'),\n",
       " (35,\n",
       "  '0.051*\"SWY.HG\" + 0.028*\"WMB3944430\" + 0.024*\"AGN3979696\" + 0.015*\"AGN.KV\" + 0.014*\"KGC3871483\" + 0.013*\"SWY.GN\" + 0.013*\"CLF.AB\" + 0.013*\"DG3992947\" + 0.011*\"CTL3697232\" + 0.011*\"AVP.GM\"'),\n",
       " (36,\n",
       "  '0.008*\"PBR4106372\" + 0.008*\"OXY4163793\" + 0.005*\"FMGF.GK\" + 0.005*\"HK4001500\" + 0.004*\"PEMX3890180\" + 0.004*\"KKR4151829\" + 0.003*\"SNPO3982660\" + 0.003*\"DISH3996225\" + 0.003*\"VZ4157399\" + 0.003*\"FMGF3831592\"'),\n",
       " (37,\n",
       "  '0.011*\"GE.HEE\" + 0.009*\"T3818484\" + 0.008*\"GS.AEH\" + 0.007*\"FCX3818486\" + 0.007*\"SWY.GN\" + 0.006*\"JPM.JPF\" + 0.006*\"C.AGT\" + 0.006*\"T.KG\" + 0.006*\"VZ4050432\" + 0.005*\"JPM.NAN\"'),\n",
       " (38,\n",
       "  '0.009*\"TI.GH\" + 0.007*\"TI.GL\" + 0.007*\"AU3882696\" + 0.006*\"DELL.GK\" + 0.006*\"AAPL4001809\" + 0.005*\"NEM3827984\" + 0.005*\"BBY.GI\" + 0.005*\"TI.GP\" + 0.005*\"T3818484\" + 0.005*\"GE3911600\"'),\n",
       " (39,\n",
       "  '0.025*\"NRG3675326\" + 0.020*\"AVP3979750\" + 0.016*\"SFY3845878\" + 0.014*\"LTD.GJ\" + 0.013*\"PPL.IG\" + 0.013*\"DAN.AA\" + 0.012*\"SYMC.GH\" + 0.012*\"ADT4104761\" + 0.011*\"PPL.IR\" + 0.010*\"AGN.KV\"'),\n",
       " (40,\n",
       "  '0.026*\"AMD.AA\" + 0.009*\"EMC4014767\" + 0.008*\"CSCO.GC\" + 0.008*\"SWY.GN\" + 0.008*\"WAG.GB\" + 0.007*\"C.AGT\" + 0.006*\"CAT.AF\" + 0.005*\"RIG.HF\" + 0.005*\"UPS.QC\" + 0.005*\"EMC4014769\"'),\n",
       " (41,\n",
       "  '0.003*\"GS.VS\" + 0.003*\"PVA.GD\" + 0.002*\"GS.WL\" + 0.002*\"GS.XV\" + 0.002*\"HPQ.AI\" + 0.002*\"MT.AI\" + 0.002*\"AA.AA\" + 0.002*\"GNW.IS\" + 0.002*\"HPQ.HB\" + 0.002*\"C.HEF\"'),\n",
       " (42,\n",
       "  '0.028*\"SWY.GH\" + 0.023*\"NSR4029859\" + 0.021*\"SWY.GN\" + 0.009*\"PPL.IC\" + 0.008*\"CLF.AD\" + 0.008*\"MCP3983624\" + 0.007*\"JCP.GI\" + 0.007*\"SWY.HG\" + 0.007*\"CLF.AB\" + 0.006*\"CIB3898329\"'),\n",
       " (43,\n",
       "  '0.037*\"AVP3979749\" + 0.033*\"AGO.GB\" + 0.027*\"LNC.GL\" + 0.023*\"CTL.HE\" + 0.022*\"LPS3910969\" + 0.019*\"BAC.HTY\" + 0.018*\"GS.WD\" + 0.018*\"MAS.GO\" + 0.017*\"DF.GB\" + 0.016*\"FNF3891945\"'),\n",
       " (44,\n",
       "  '0.016*\"EGN.IA\" + 0.013*\"BNS4034160\" + 0.013*\"C.HEF\" + 0.011*\"PXP3848095\" + 0.011*\"FCX3818482\" + 0.010*\"JPM.YQ\" + 0.010*\"F.GSV\" + 0.010*\"GS.UG\" + 0.008*\"SCI.AK\" + 0.008*\"VZ4050434\"'),\n",
       " (45,\n",
       "  '0.095*\"PBR4006643\" + 0.075*\"PBR3688575\" + 0.041*\"PBR4006641\" + 0.035*\"PBR4106372\" + 0.034*\"VALE3701084\" + 0.032*\"PBR4006639\" + 0.024*\"CIB3898329\" + 0.023*\"PBR3676569\" + 0.019*\"PBR3816072\" + 0.019*\"PBR3674838\"'),\n",
       " (46,\n",
       "  '0.026*\"GNW.AA\" + 0.022*\"RIG.HE\" + 0.015*\"RIG.GZ\" + 0.014*\"GNW.JP\" + 0.014*\"GNW.JO\" + 0.013*\"LINE3690892\" + 0.012*\"GNW.IS\" + 0.012*\"RIG.GP\" + 0.011*\"GNW.GA\" + 0.010*\"RIG.GX\"'),\n",
       " (47,\n",
       "  '0.028*\"FTR3669882\" + 0.021*\"SD.AH\" + 0.017*\"BTU3905481\" + 0.016*\"IEP4122989\" + 0.013*\"RCII.GH\" + 0.012*\"ALGT4137543\" + 0.011*\"RIG.HG\" + 0.011*\"CTL3828008\" + 0.010*\"SNV.AA\" + 0.010*\"IEP4121535\"'),\n",
       " (48,\n",
       "  '0.007*\"CSCO.GC\" + 0.006*\"AAPL4001809\" + 0.006*\"VZ4050437\" + 0.006*\"JPM.SCH\" + 0.005*\"AAPL4001806\" + 0.005*\"ORCL.GH\" + 0.004*\"DTV.GY\" + 0.004*\"GS.AOK\" + 0.004*\"VZ4050432\" + 0.004*\"JPM.JPF\"'),\n",
       " (49,\n",
       "  '0.050*\"AA.HO\" + 0.039*\"CIB3898329\" + 0.032*\"AVP3979750\" + 0.029*\"PBR4006643\" + 0.026*\"WU.GF\" + 0.026*\"MT.AI\" + 0.023*\"AU.GD\" + 0.023*\"GMBX3926765\" + 0.019*\"CTL3828009\" + 0.017*\"CTL.HC\"')]"
      ]
     },
     "execution_count": 17,
     "metadata": {},
     "output_type": "execute_result"
    }
   ],
   "source": [
    "model.print_topics(num_topics=num_topics, num_words=10)"
   ]
  },
  {
   "cell_type": "code",
   "execution_count": 5,
   "metadata": {},
   "outputs": [
    {
     "data": {
      "text/html": [
       "<div>\n",
       "<style scoped>\n",
       "    .dataframe tbody tr th:only-of-type {\n",
       "        vertical-align: middle;\n",
       "    }\n",
       "\n",
       "    .dataframe tbody tr th {\n",
       "        vertical-align: top;\n",
       "    }\n",
       "\n",
       "    .dataframe thead th {\n",
       "        text-align: right;\n",
       "    }\n",
       "</style>\n",
       "<table border=\"1\" class=\"dataframe\">\n",
       "  <thead>\n",
       "    <tr style=\"text-align: right;\">\n",
       "      <th></th>\n",
       "      <th>0</th>\n",
       "      <th>1</th>\n",
       "      <th>2</th>\n",
       "      <th>3</th>\n",
       "      <th>4</th>\n",
       "      <th>5</th>\n",
       "      <th>6</th>\n",
       "      <th>7</th>\n",
       "      <th>8</th>\n",
       "      <th>9</th>\n",
       "      <th>...</th>\n",
       "      <th>12067</th>\n",
       "      <th>12068</th>\n",
       "      <th>12069</th>\n",
       "      <th>12070</th>\n",
       "      <th>12071</th>\n",
       "      <th>12072</th>\n",
       "      <th>12073</th>\n",
       "      <th>12074</th>\n",
       "      <th>12075</th>\n",
       "      <th>12076</th>\n",
       "    </tr>\n",
       "  </thead>\n",
       "  <tbody>\n",
       "    <tr>\n",
       "      <th>0</th>\n",
       "      <td>4.895051e-08</td>\n",
       "      <td>4.405897e-08</td>\n",
       "      <td>1.914031e-07</td>\n",
       "      <td>4.928996e-08</td>\n",
       "      <td>4.452614e-08</td>\n",
       "      <td>4.403308e-08</td>\n",
       "      <td>4.401526e-08</td>\n",
       "      <td>5.817250e-04</td>\n",
       "      <td>1.084193e-05</td>\n",
       "      <td>1.006241e-07</td>\n",
       "      <td>...</td>\n",
       "      <td>4.411009e-08</td>\n",
       "      <td>4.401526e-08</td>\n",
       "      <td>2.366794e-07</td>\n",
       "      <td>4.401526e-08</td>\n",
       "      <td>4.430677e-08</td>\n",
       "      <td>4.408548e-08</td>\n",
       "      <td>4.403657e-08</td>\n",
       "      <td>2.539254e-03</td>\n",
       "      <td>4.401526e-08</td>\n",
       "      <td>4.402667e-08</td>\n",
       "    </tr>\n",
       "    <tr>\n",
       "      <th>1</th>\n",
       "      <td>3.624821e-07</td>\n",
       "      <td>2.600994e-07</td>\n",
       "      <td>2.597792e-07</td>\n",
       "      <td>2.606350e-07</td>\n",
       "      <td>2.598835e-07</td>\n",
       "      <td>2.597121e-07</td>\n",
       "      <td>2.597093e-07</td>\n",
       "      <td>1.401337e-06</td>\n",
       "      <td>2.614489e-07</td>\n",
       "      <td>3.806019e-04</td>\n",
       "      <td>...</td>\n",
       "      <td>2.994905e-07</td>\n",
       "      <td>2.597093e-07</td>\n",
       "      <td>2.610010e-07</td>\n",
       "      <td>2.597142e-07</td>\n",
       "      <td>2.653585e-07</td>\n",
       "      <td>2.697397e-07</td>\n",
       "      <td>2.680040e-07</td>\n",
       "      <td>2.678375e-07</td>\n",
       "      <td>2.597093e-07</td>\n",
       "      <td>2.597093e-07</td>\n",
       "    </tr>\n",
       "    <tr>\n",
       "      <th>2</th>\n",
       "      <td>2.470017e-04</td>\n",
       "      <td>2.098174e-07</td>\n",
       "      <td>2.098215e-07</td>\n",
       "      <td>2.098113e-07</td>\n",
       "      <td>2.098315e-07</td>\n",
       "      <td>2.098113e-07</td>\n",
       "      <td>2.098113e-07</td>\n",
       "      <td>1.199488e-03</td>\n",
       "      <td>2.978441e-07</td>\n",
       "      <td>2.390110e-07</td>\n",
       "      <td>...</td>\n",
       "      <td>3.040645e-07</td>\n",
       "      <td>2.098113e-07</td>\n",
       "      <td>2.101165e-07</td>\n",
       "      <td>2.098113e-07</td>\n",
       "      <td>2.143561e-07</td>\n",
       "      <td>2.098113e-07</td>\n",
       "      <td>2.098113e-07</td>\n",
       "      <td>2.102582e-07</td>\n",
       "      <td>2.098113e-07</td>\n",
       "      <td>2.098113e-07</td>\n",
       "    </tr>\n",
       "    <tr>\n",
       "      <th>3</th>\n",
       "      <td>9.598706e-05</td>\n",
       "      <td>2.246060e-07</td>\n",
       "      <td>2.273112e-07</td>\n",
       "      <td>2.238354e-07</td>\n",
       "      <td>2.230259e-07</td>\n",
       "      <td>2.228615e-07</td>\n",
       "      <td>2.228615e-07</td>\n",
       "      <td>1.438973e-04</td>\n",
       "      <td>1.052681e-06</td>\n",
       "      <td>2.339908e-07</td>\n",
       "      <td>...</td>\n",
       "      <td>2.385551e-07</td>\n",
       "      <td>2.228615e-07</td>\n",
       "      <td>2.229240e-07</td>\n",
       "      <td>2.228676e-07</td>\n",
       "      <td>2.243123e-07</td>\n",
       "      <td>2.255695e-07</td>\n",
       "      <td>2.258946e-07</td>\n",
       "      <td>2.069452e-04</td>\n",
       "      <td>2.228643e-07</td>\n",
       "      <td>2.228615e-07</td>\n",
       "    </tr>\n",
       "    <tr>\n",
       "      <th>4</th>\n",
       "      <td>3.681297e-07</td>\n",
       "      <td>3.543801e-07</td>\n",
       "      <td>3.582310e-07</td>\n",
       "      <td>3.563186e-07</td>\n",
       "      <td>3.660722e-07</td>\n",
       "      <td>1.283187e-03</td>\n",
       "      <td>8.243295e-04</td>\n",
       "      <td>3.974148e-07</td>\n",
       "      <td>3.729752e-07</td>\n",
       "      <td>3.627476e-07</td>\n",
       "      <td>...</td>\n",
       "      <td>3.563985e-07</td>\n",
       "      <td>3.540617e-07</td>\n",
       "      <td>3.557961e-07</td>\n",
       "      <td>3.540617e-07</td>\n",
       "      <td>3.552519e-07</td>\n",
       "      <td>3.573908e-07</td>\n",
       "      <td>3.544847e-07</td>\n",
       "      <td>3.562342e-07</td>\n",
       "      <td>3.540617e-07</td>\n",
       "      <td>3.540617e-07</td>\n",
       "    </tr>\n",
       "  </tbody>\n",
       "</table>\n",
       "<p>5 rows × 12077 columns</p>\n",
       "</div>"
      ],
      "text/plain": [
       "          0             1             2             3             4      \\\n",
       "0  4.895051e-08  4.405897e-08  1.914031e-07  4.928996e-08  4.452614e-08   \n",
       "1  3.624821e-07  2.600994e-07  2.597792e-07  2.606350e-07  2.598835e-07   \n",
       "2  2.470017e-04  2.098174e-07  2.098215e-07  2.098113e-07  2.098315e-07   \n",
       "3  9.598706e-05  2.246060e-07  2.273112e-07  2.238354e-07  2.230259e-07   \n",
       "4  3.681297e-07  3.543801e-07  3.582310e-07  3.563186e-07  3.660722e-07   \n",
       "\n",
       "          5             6             7             8             9      \\\n",
       "0  4.403308e-08  4.401526e-08  5.817250e-04  1.084193e-05  1.006241e-07   \n",
       "1  2.597121e-07  2.597093e-07  1.401337e-06  2.614489e-07  3.806019e-04   \n",
       "2  2.098113e-07  2.098113e-07  1.199488e-03  2.978441e-07  2.390110e-07   \n",
       "3  2.228615e-07  2.228615e-07  1.438973e-04  1.052681e-06  2.339908e-07   \n",
       "4  1.283187e-03  8.243295e-04  3.974148e-07  3.729752e-07  3.627476e-07   \n",
       "\n",
       "       ...              12067         12068         12069         12070  \\\n",
       "0      ...       4.411009e-08  4.401526e-08  2.366794e-07  4.401526e-08   \n",
       "1      ...       2.994905e-07  2.597093e-07  2.610010e-07  2.597142e-07   \n",
       "2      ...       3.040645e-07  2.098113e-07  2.101165e-07  2.098113e-07   \n",
       "3      ...       2.385551e-07  2.228615e-07  2.229240e-07  2.228676e-07   \n",
       "4      ...       3.563985e-07  3.540617e-07  3.557961e-07  3.540617e-07   \n",
       "\n",
       "          12071         12072         12073         12074         12075  \\\n",
       "0  4.430677e-08  4.408548e-08  4.403657e-08  2.539254e-03  4.401526e-08   \n",
       "1  2.653585e-07  2.697397e-07  2.680040e-07  2.678375e-07  2.597093e-07   \n",
       "2  2.143561e-07  2.098113e-07  2.098113e-07  2.102582e-07  2.098113e-07   \n",
       "3  2.243123e-07  2.255695e-07  2.258946e-07  2.069452e-04  2.228643e-07   \n",
       "4  3.552519e-07  3.573908e-07  3.544847e-07  3.562342e-07  3.540617e-07   \n",
       "\n",
       "          12076  \n",
       "0  4.402667e-08  \n",
       "1  2.597093e-07  \n",
       "2  2.098113e-07  \n",
       "3  2.228615e-07  \n",
       "4  3.540617e-07  \n",
       "\n",
       "[5 rows x 12077 columns]"
      ]
     },
     "execution_count": 5,
     "metadata": {},
     "output_type": "execute_result"
    }
   ],
   "source": [
    "topic_terms_distribution.head()"
   ]
  },
  {
   "cell_type": "markdown",
   "metadata": {},
   "source": [
    "## Industy Analysis"
   ]
  },
  {
   "cell_type": "code",
   "execution_count": null,
   "metadata": {},
   "outputs": [],
   "source": [
    "data_path = get_pickle_directory() / 'TRACE2014_jinming.pkl'\n",
    "data = pd.read_pickle(data_path)"
   ]
  },
  {
   "cell_type": "code",
   "execution_count": null,
   "metadata": {},
   "outputs": [],
   "source": [
    "data.columns"
   ]
  },
  {
   "cell_type": "code",
   "execution_count": null,
   "metadata": {},
   "outputs": [],
   "source": [
    "print(\"We have {} rows of data\".format(data.shape[0]))"
   ]
  },
  {
   "cell_type": "code",
   "execution_count": null,
   "metadata": {},
   "outputs": [],
   "source": [
    "def fix_NAICS_Code(NAICS_Code):\n",
    "    \"Fix the problem that FISD omits 0 if NAICS_Code ends with 0\"\n",
    "    if len(str(NAICS_Code))==5:\n",
    "        NAICS_Code = NAICS_Code+'0'\n",
    "    return NAICS_Code\n",
    "fix_NAICS_Code_vectorize = np.vectorize(fix_NAICS_Code)\n",
    "data['NAICS_CODE'] = fix_NAICS_Code_vectorize(data['NAICS_CODE'].values)"
   ]
  },
  {
   "cell_type": "code",
   "execution_count": null,
   "metadata": {},
   "outputs": [],
   "source": [
    "data = data[['BOND_SYM_ID', 'INDUSTRY_GROUP', 'INDUSTRY_CODE', 'PARENT_ID', 'NAICS_CODE','SIC_CODE']].copy()"
   ]
  },
  {
   "cell_type": "code",
   "execution_count": null,
   "metadata": {},
   "outputs": [],
   "source": [
    "data['INDUSTRY_CODE'].value_counts().plot.pie()"
   ]
  },
  {
   "cell_type": "code",
   "execution_count": null,
   "metadata": {},
   "outputs": [],
   "source": [
    "# Get the NAICS_code lookup table\n",
    "NAICS_code_path = get_dataset_directory() / 'NAICS_Code_Lookup.csv'\n",
    "NAICS_code = pd.read_csv(NAICS_code_path,dtype={'Code':str,'Description':str})"
   ]
  },
  {
   "cell_type": "code",
   "execution_count": null,
   "metadata": {},
   "outputs": [],
   "source": [
    "# Group by BOND_SYM_ID and NAICS_CODE of \n",
    "NAICS_CODE_count = data['NAICS_CODE'].value_counts()\n",
    "# Series to DataFrame\n",
    "NAICS_CODE_count = NAICS_CODE_count.to_frame(name='count')"
   ]
  },
  {
   "cell_type": "code",
   "execution_count": null,
   "metadata": {},
   "outputs": [],
   "source": [
    "NAICS_code_total = NAICS_code.merge(NAICS_CODE_count,left_on='Code',right_index=True).sort_values(by=\"count\",ascending=False)\n",
    "NAICS_code_total['percentage'] = NAICS_code_total['count']/data.shape[0]"
   ]
  },
  {
   "cell_type": "code",
   "execution_count": null,
   "metadata": {},
   "outputs": [],
   "source": [
    "NAICS_code_total.head()"
   ]
  },
  {
   "cell_type": "code",
   "execution_count": null,
   "metadata": {},
   "outputs": [],
   "source": [
    "(NAICS_code.merge(NAICS_CODE_count,left_on='Code',right_index=True).sort_values(by=\"count\",ascending=False)['count']/data.shape[0]).sum()"
   ]
  },
  {
   "cell_type": "code",
   "execution_count": null,
   "metadata": {},
   "outputs": [],
   "source": [
    "data.groupby(by=['NAICS_CODE'])['BOND_SYM_ID'].nunique().sort_values(ascending=False).head()"
   ]
  },
  {
   "cell_type": "code",
   "execution_count": null,
   "metadata": {},
   "outputs": [],
   "source": [
    "data.groupby(by=['BOND_SYM_ID'])"
   ]
  },
  {
   "cell_type": "code",
   "execution_count": null,
   "metadata": {},
   "outputs": [],
   "source": [
    "Bond_X_Industry = data.drop_duplicates(['BOND_SYM_ID'])"
   ]
  },
  {
   "cell_type": "code",
   "execution_count": null,
   "metadata": {},
   "outputs": [],
   "source": [
    "Bond_X_Industry.sort_values(by=['BOND_SYM_ID']).head()"
   ]
  },
  {
   "cell_type": "markdown",
   "metadata": {},
   "source": [
    "## Convergence Test"
   ]
  },
  {
   "cell_type": "code",
   "execution_count": null,
   "metadata": {},
   "outputs": [],
   "source": [
    "import re\n",
    "import matplotlib.pyplot as plt\n",
    "def convergence_likelyhood(model_name,num_topics):\n",
    "    p = re.compile(\"(-*\\d+\\.\\d+) per-word .* (\\d+\\.\\d+) perplexity\")\n",
    "    matches = [p.findall(l) for l in open('../LDAModel/{}_{}topics.log.txt'.format(model_name,num_topics))]\n",
    "    matches = [m for m in matches if len(m) > 0]\n",
    "    tuples = [t[0] for t in matches]\n",
    "    perplexity = [float(t[1]) for t in tuples]\n",
    "    liklihood = [float(t[0]) for t in tuples]\n",
    "    iter = list(range(0,len(tuples)*10,10))\n",
    "    plt.plot(iter,liklihood,c=\"black\")\n",
    "    plt.ylabel(\"log liklihood\")\n",
    "    plt.xlabel(\"iteration\")\n",
    "    plt.title(\"Topic Model Convergence\")\n",
    "    plt.grid()\n",
    "    plt.savefig(\"{}_{}topics.pdf\".format(model_name,num_topics))\n",
    "    plt.close()"
   ]
  },
  {
   "cell_type": "code",
   "execution_count": null,
   "metadata": {},
   "outputs": [],
   "source": [
    "#convergence_likelyhood(\"matrix_1\",250)"
   ]
  }
 ],
 "metadata": {
  "kernelspec": {
   "display_name": "Python 3",
   "language": "python",
   "name": "python3"
  },
  "language_info": {
   "codemirror_mode": {
    "name": "ipython",
    "version": 3
   },
   "file_extension": ".py",
   "mimetype": "text/x-python",
   "name": "python",
   "nbconvert_exporter": "python",
   "pygments_lexer": "ipython3",
   "version": "3.7.1"
  }
 },
 "nbformat": 4,
 "nbformat_minor": 2
}
