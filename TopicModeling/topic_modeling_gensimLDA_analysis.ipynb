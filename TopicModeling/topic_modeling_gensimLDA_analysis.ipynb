{
 "cells": [
  {
   "cell_type": "markdown",
   "metadata": {},
   "source": [
    "# Topic Model Analysis\n",
    "\n",
    "Todo: 1. industry : cusip to naics mapping 2. Topic evloution"
   ]
  },
  {
   "cell_type": "code",
   "execution_count": 1,
   "metadata": {
    "scrolled": true
   },
   "outputs": [
    {
     "data": {
      "text/html": [
       "<script type=\"text/javascript\">window.PlotlyConfig = {MathJaxConfig: 'local'};</script><script type=\"text/javascript\">if (window.MathJax) {MathJax.Hub.Config({SVG: {font: \"STIX-Web\"}});}</script><script>requirejs.config({paths: { 'plotly': ['https://cdn.plot.ly/plotly-latest.min']},});if(!window._Plotly) {require(['plotly'],function(plotly) {window._Plotly=plotly;});}</script>"
      ],
      "text/vnd.plotly.v1+html": [
       "<script type=\"text/javascript\">window.PlotlyConfig = {MathJaxConfig: 'local'};</script><script type=\"text/javascript\">if (window.MathJax) {MathJax.Hub.Config({SVG: {font: \"STIX-Web\"}});}</script><script>requirejs.config({paths: { 'plotly': ['https://cdn.plot.ly/plotly-latest.min']},});if(!window._Plotly) {require(['plotly'],function(plotly) {window._Plotly=plotly;});}</script>"
      ]
     },
     "metadata": {},
     "output_type": "display_data"
    }
   ],
   "source": [
    "import pandas as pd\n",
    "import numpy as np\n",
    "import os\n",
    "from pathlib import Path\n",
    "\n",
    "from compute_topic import *\n",
    "from manage_path import *\n",
    "from topic_model_analysis import *\n",
    "\n",
    "import plotly\n",
    "plotly.offline.init_notebook_mode(connected=True) \n",
    "import plotly.graph_objs as go\n",
    "import plotly.io as pio\n",
    "from itertools import repeat\n",
    "\n",
    "import multiprocessing\n",
    "from collections import deque\n",
    "\n",
    "import seaborn as sns\n",
    "import matplotlib.pyplot as plt\n",
    "import matplotlib.dates as mdates\n",
    "\n",
    "from collections import OrderedDict"
   ]
  },
  {
   "cell_type": "markdown",
   "metadata": {},
   "source": [
    "## Topic Evolution\n",
    "1. Dc_v1: 1 document for buy and sell, per dealer, per day.\n",
    "2. Dc_v2: 1 document for buy and 1 document for sell, per dealer, per day.\n",
    "3. Dc_v3: Either DC_v1 or DC_v2 without the 2 (4) documents representing the Source_seller and Source_buyer.\n",
    "4. Tc_v1: 1 document for (buyer,seller,year)"
   ]
  },
  {
   "cell_type": "code",
   "execution_count": 112,
   "metadata": {},
   "outputs": [],
   "source": [
    "result_directory = get_result_directory()\n",
    "topic_matrix = pd.read_csv(result_directory/'Tc_v1_150topics.csv',index_col=0)"
   ]
  },
  {
   "cell_type": "code",
   "execution_count": 93,
   "metadata": {},
   "outputs": [
    {
     "data": {
      "text/html": [
       "<div>\n",
       "<style scoped>\n",
       "    .dataframe tbody tr th:only-of-type {\n",
       "        vertical-align: middle;\n",
       "    }\n",
       "\n",
       "    .dataframe tbody tr th {\n",
       "        vertical-align: top;\n",
       "    }\n",
       "\n",
       "    .dataframe thead th {\n",
       "        text-align: right;\n",
       "    }\n",
       "</style>\n",
       "<table border=\"1\" class=\"dataframe\">\n",
       "  <thead>\n",
       "    <tr style=\"text-align: right;\">\n",
       "      <th></th>\n",
       "      <th>0</th>\n",
       "      <th>1</th>\n",
       "      <th>2</th>\n",
       "      <th>3</th>\n",
       "      <th>4</th>\n",
       "      <th>5</th>\n",
       "      <th>6</th>\n",
       "      <th>7</th>\n",
       "      <th>8</th>\n",
       "      <th>9</th>\n",
       "      <th>...</th>\n",
       "      <th>140</th>\n",
       "      <th>141</th>\n",
       "      <th>142</th>\n",
       "      <th>143</th>\n",
       "      <th>144</th>\n",
       "      <th>145</th>\n",
       "      <th>146</th>\n",
       "      <th>147</th>\n",
       "      <th>148</th>\n",
       "      <th>149</th>\n",
       "    </tr>\n",
       "    <tr>\n",
       "      <th>Tc_v1_S_B_D</th>\n",
       "      <th></th>\n",
       "      <th></th>\n",
       "      <th></th>\n",
       "      <th></th>\n",
       "      <th></th>\n",
       "      <th></th>\n",
       "      <th></th>\n",
       "      <th></th>\n",
       "      <th></th>\n",
       "      <th></th>\n",
       "      <th></th>\n",
       "      <th></th>\n",
       "      <th></th>\n",
       "      <th></th>\n",
       "      <th></th>\n",
       "      <th></th>\n",
       "      <th></th>\n",
       "      <th></th>\n",
       "      <th></th>\n",
       "      <th></th>\n",
       "      <th></th>\n",
       "    </tr>\n",
       "  </thead>\n",
       "  <tbody>\n",
       "    <tr>\n",
       "      <th>0,10,2014</th>\n",
       "      <td>NaN</td>\n",
       "      <td>NaN</td>\n",
       "      <td>NaN</td>\n",
       "      <td>NaN</td>\n",
       "      <td>NaN</td>\n",
       "      <td>NaN</td>\n",
       "      <td>NaN</td>\n",
       "      <td>NaN</td>\n",
       "      <td>NaN</td>\n",
       "      <td>NaN</td>\n",
       "      <td>...</td>\n",
       "      <td>NaN</td>\n",
       "      <td>NaN</td>\n",
       "      <td>NaN</td>\n",
       "      <td>NaN</td>\n",
       "      <td>NaN</td>\n",
       "      <td>NaN</td>\n",
       "      <td>NaN</td>\n",
       "      <td>NaN</td>\n",
       "      <td>NaN</td>\n",
       "      <td>NaN</td>\n",
       "    </tr>\n",
       "    <tr>\n",
       "      <th>0,1009,2014</th>\n",
       "      <td>NaN</td>\n",
       "      <td>NaN</td>\n",
       "      <td>NaN</td>\n",
       "      <td>NaN</td>\n",
       "      <td>NaN</td>\n",
       "      <td>NaN</td>\n",
       "      <td>NaN</td>\n",
       "      <td>NaN</td>\n",
       "      <td>NaN</td>\n",
       "      <td>NaN</td>\n",
       "      <td>...</td>\n",
       "      <td>NaN</td>\n",
       "      <td>NaN</td>\n",
       "      <td>NaN</td>\n",
       "      <td>NaN</td>\n",
       "      <td>NaN</td>\n",
       "      <td>NaN</td>\n",
       "      <td>NaN</td>\n",
       "      <td>NaN</td>\n",
       "      <td>NaN</td>\n",
       "      <td>NaN</td>\n",
       "    </tr>\n",
       "    <tr>\n",
       "      <th>0,1016,2014</th>\n",
       "      <td>NaN</td>\n",
       "      <td>NaN</td>\n",
       "      <td>NaN</td>\n",
       "      <td>NaN</td>\n",
       "      <td>NaN</td>\n",
       "      <td>NaN</td>\n",
       "      <td>NaN</td>\n",
       "      <td>NaN</td>\n",
       "      <td>NaN</td>\n",
       "      <td>NaN</td>\n",
       "      <td>...</td>\n",
       "      <td>NaN</td>\n",
       "      <td>NaN</td>\n",
       "      <td>NaN</td>\n",
       "      <td>NaN</td>\n",
       "      <td>NaN</td>\n",
       "      <td>NaN</td>\n",
       "      <td>NaN</td>\n",
       "      <td>NaN</td>\n",
       "      <td>NaN</td>\n",
       "      <td>NaN</td>\n",
       "    </tr>\n",
       "    <tr>\n",
       "      <th>0,1020,2014</th>\n",
       "      <td>NaN</td>\n",
       "      <td>NaN</td>\n",
       "      <td>NaN</td>\n",
       "      <td>NaN</td>\n",
       "      <td>NaN</td>\n",
       "      <td>NaN</td>\n",
       "      <td>NaN</td>\n",
       "      <td>NaN</td>\n",
       "      <td>NaN</td>\n",
       "      <td>NaN</td>\n",
       "      <td>...</td>\n",
       "      <td>NaN</td>\n",
       "      <td>NaN</td>\n",
       "      <td>NaN</td>\n",
       "      <td>NaN</td>\n",
       "      <td>NaN</td>\n",
       "      <td>NaN</td>\n",
       "      <td>0.194458</td>\n",
       "      <td>NaN</td>\n",
       "      <td>NaN</td>\n",
       "      <td>NaN</td>\n",
       "    </tr>\n",
       "    <tr>\n",
       "      <th>0,1023,2014</th>\n",
       "      <td>NaN</td>\n",
       "      <td>NaN</td>\n",
       "      <td>NaN</td>\n",
       "      <td>NaN</td>\n",
       "      <td>NaN</td>\n",
       "      <td>NaN</td>\n",
       "      <td>NaN</td>\n",
       "      <td>NaN</td>\n",
       "      <td>NaN</td>\n",
       "      <td>NaN</td>\n",
       "      <td>...</td>\n",
       "      <td>NaN</td>\n",
       "      <td>NaN</td>\n",
       "      <td>NaN</td>\n",
       "      <td>NaN</td>\n",
       "      <td>NaN</td>\n",
       "      <td>NaN</td>\n",
       "      <td>0.262360</td>\n",
       "      <td>NaN</td>\n",
       "      <td>NaN</td>\n",
       "      <td>NaN</td>\n",
       "    </tr>\n",
       "  </tbody>\n",
       "</table>\n",
       "<p>5 rows × 150 columns</p>\n",
       "</div>"
      ],
      "text/plain": [
       "              0   1   2   3   4   5   6   7   8   9 ...   140  141  142  143  \\\n",
       "Tc_v1_S_B_D                                         ...                        \n",
       "0,10,2014   NaN NaN NaN NaN NaN NaN NaN NaN NaN NaN ...   NaN  NaN  NaN  NaN   \n",
       "0,1009,2014 NaN NaN NaN NaN NaN NaN NaN NaN NaN NaN ...   NaN  NaN  NaN  NaN   \n",
       "0,1016,2014 NaN NaN NaN NaN NaN NaN NaN NaN NaN NaN ...   NaN  NaN  NaN  NaN   \n",
       "0,1020,2014 NaN NaN NaN NaN NaN NaN NaN NaN NaN NaN ...   NaN  NaN  NaN  NaN   \n",
       "0,1023,2014 NaN NaN NaN NaN NaN NaN NaN NaN NaN NaN ...   NaN  NaN  NaN  NaN   \n",
       "\n",
       "             144  145       146  147  148  149  \n",
       "Tc_v1_S_B_D                                     \n",
       "0,10,2014    NaN  NaN       NaN  NaN  NaN  NaN  \n",
       "0,1009,2014  NaN  NaN       NaN  NaN  NaN  NaN  \n",
       "0,1016,2014  NaN  NaN       NaN  NaN  NaN  NaN  \n",
       "0,1020,2014  NaN  NaN  0.194458  NaN  NaN  NaN  \n",
       "0,1023,2014  NaN  NaN  0.262360  NaN  NaN  NaN  \n",
       "\n",
       "[5 rows x 150 columns]"
      ]
     },
     "execution_count": 93,
     "metadata": {},
     "output_type": "execute_result"
    }
   ],
   "source": [
    "topic_matrix.head()"
   ]
  },
  {
   "cell_type": "code",
   "execution_count": 94,
   "metadata": {},
   "outputs": [],
   "source": [
    "def get_document_item(document,position):\n",
    "    return str(document).split(',')[position]"
   ]
  },
  {
   "cell_type": "code",
   "execution_count": 95,
   "metadata": {},
   "outputs": [],
   "source": [
    "get_document_item_vectorize = np.vectorize(get_document_item)"
   ]
  },
  {
   "cell_type": "code",
   "execution_count": 96,
   "metadata": {},
   "outputs": [],
   "source": [
    "topic_matrix['dealer'] = get_document_item_vectorize(topic_matrix.index,0)\n",
    "#topic_matrix['dealer'] = pd.Series(list(zip(get_document_item_vectorize(topic.index,0),get_document_item_vectorize(topic.index,1)))).values"
   ]
  },
  {
   "cell_type": "code",
   "execution_count": 100,
   "metadata": {},
   "outputs": [],
   "source": [
    "topic_matrix.index = pd.to_datetime(get_document_item_vectorize(topic_matrix.index,2))"
   ]
  },
  {
   "cell_type": "code",
   "execution_count": 113,
   "metadata": {},
   "outputs": [
    {
     "data": {
      "text/html": [
       "<div>\n",
       "<style scoped>\n",
       "    .dataframe tbody tr th:only-of-type {\n",
       "        vertical-align: middle;\n",
       "    }\n",
       "\n",
       "    .dataframe tbody tr th {\n",
       "        vertical-align: top;\n",
       "    }\n",
       "\n",
       "    .dataframe thead th {\n",
       "        text-align: right;\n",
       "    }\n",
       "</style>\n",
       "<table border=\"1\" class=\"dataframe\">\n",
       "  <thead>\n",
       "    <tr style=\"text-align: right;\">\n",
       "      <th></th>\n",
       "      <th>0</th>\n",
       "      <th>1</th>\n",
       "      <th>2</th>\n",
       "      <th>3</th>\n",
       "      <th>4</th>\n",
       "      <th>5</th>\n",
       "      <th>6</th>\n",
       "      <th>7</th>\n",
       "      <th>8</th>\n",
       "      <th>9</th>\n",
       "      <th>...</th>\n",
       "      <th>140</th>\n",
       "      <th>141</th>\n",
       "      <th>142</th>\n",
       "      <th>143</th>\n",
       "      <th>144</th>\n",
       "      <th>145</th>\n",
       "      <th>146</th>\n",
       "      <th>147</th>\n",
       "      <th>148</th>\n",
       "      <th>149</th>\n",
       "    </tr>\n",
       "    <tr>\n",
       "      <th>Tc_v1_S_B_D</th>\n",
       "      <th></th>\n",
       "      <th></th>\n",
       "      <th></th>\n",
       "      <th></th>\n",
       "      <th></th>\n",
       "      <th></th>\n",
       "      <th></th>\n",
       "      <th></th>\n",
       "      <th></th>\n",
       "      <th></th>\n",
       "      <th></th>\n",
       "      <th></th>\n",
       "      <th></th>\n",
       "      <th></th>\n",
       "      <th></th>\n",
       "      <th></th>\n",
       "      <th></th>\n",
       "      <th></th>\n",
       "      <th></th>\n",
       "      <th></th>\n",
       "      <th></th>\n",
       "    </tr>\n",
       "  </thead>\n",
       "  <tbody>\n",
       "    <tr>\n",
       "      <th>0,10,2014</th>\n",
       "      <td>NaN</td>\n",
       "      <td>NaN</td>\n",
       "      <td>NaN</td>\n",
       "      <td>NaN</td>\n",
       "      <td>NaN</td>\n",
       "      <td>NaN</td>\n",
       "      <td>NaN</td>\n",
       "      <td>NaN</td>\n",
       "      <td>NaN</td>\n",
       "      <td>NaN</td>\n",
       "      <td>...</td>\n",
       "      <td>NaN</td>\n",
       "      <td>NaN</td>\n",
       "      <td>NaN</td>\n",
       "      <td>NaN</td>\n",
       "      <td>NaN</td>\n",
       "      <td>NaN</td>\n",
       "      <td>NaN</td>\n",
       "      <td>NaN</td>\n",
       "      <td>NaN</td>\n",
       "      <td>NaN</td>\n",
       "    </tr>\n",
       "    <tr>\n",
       "      <th>0,1009,2014</th>\n",
       "      <td>NaN</td>\n",
       "      <td>NaN</td>\n",
       "      <td>NaN</td>\n",
       "      <td>NaN</td>\n",
       "      <td>NaN</td>\n",
       "      <td>NaN</td>\n",
       "      <td>NaN</td>\n",
       "      <td>NaN</td>\n",
       "      <td>NaN</td>\n",
       "      <td>NaN</td>\n",
       "      <td>...</td>\n",
       "      <td>NaN</td>\n",
       "      <td>NaN</td>\n",
       "      <td>NaN</td>\n",
       "      <td>NaN</td>\n",
       "      <td>NaN</td>\n",
       "      <td>NaN</td>\n",
       "      <td>NaN</td>\n",
       "      <td>NaN</td>\n",
       "      <td>NaN</td>\n",
       "      <td>NaN</td>\n",
       "    </tr>\n",
       "    <tr>\n",
       "      <th>0,1016,2014</th>\n",
       "      <td>NaN</td>\n",
       "      <td>NaN</td>\n",
       "      <td>NaN</td>\n",
       "      <td>NaN</td>\n",
       "      <td>NaN</td>\n",
       "      <td>NaN</td>\n",
       "      <td>NaN</td>\n",
       "      <td>NaN</td>\n",
       "      <td>NaN</td>\n",
       "      <td>NaN</td>\n",
       "      <td>...</td>\n",
       "      <td>NaN</td>\n",
       "      <td>NaN</td>\n",
       "      <td>NaN</td>\n",
       "      <td>NaN</td>\n",
       "      <td>NaN</td>\n",
       "      <td>NaN</td>\n",
       "      <td>NaN</td>\n",
       "      <td>NaN</td>\n",
       "      <td>NaN</td>\n",
       "      <td>NaN</td>\n",
       "    </tr>\n",
       "    <tr>\n",
       "      <th>0,1020,2014</th>\n",
       "      <td>NaN</td>\n",
       "      <td>NaN</td>\n",
       "      <td>NaN</td>\n",
       "      <td>NaN</td>\n",
       "      <td>NaN</td>\n",
       "      <td>NaN</td>\n",
       "      <td>NaN</td>\n",
       "      <td>NaN</td>\n",
       "      <td>NaN</td>\n",
       "      <td>NaN</td>\n",
       "      <td>...</td>\n",
       "      <td>NaN</td>\n",
       "      <td>NaN</td>\n",
       "      <td>NaN</td>\n",
       "      <td>NaN</td>\n",
       "      <td>NaN</td>\n",
       "      <td>NaN</td>\n",
       "      <td>0.194458</td>\n",
       "      <td>NaN</td>\n",
       "      <td>NaN</td>\n",
       "      <td>NaN</td>\n",
       "    </tr>\n",
       "    <tr>\n",
       "      <th>0,1023,2014</th>\n",
       "      <td>NaN</td>\n",
       "      <td>NaN</td>\n",
       "      <td>NaN</td>\n",
       "      <td>NaN</td>\n",
       "      <td>NaN</td>\n",
       "      <td>NaN</td>\n",
       "      <td>NaN</td>\n",
       "      <td>NaN</td>\n",
       "      <td>NaN</td>\n",
       "      <td>NaN</td>\n",
       "      <td>...</td>\n",
       "      <td>NaN</td>\n",
       "      <td>NaN</td>\n",
       "      <td>NaN</td>\n",
       "      <td>NaN</td>\n",
       "      <td>NaN</td>\n",
       "      <td>NaN</td>\n",
       "      <td>0.262360</td>\n",
       "      <td>NaN</td>\n",
       "      <td>NaN</td>\n",
       "      <td>NaN</td>\n",
       "    </tr>\n",
       "  </tbody>\n",
       "</table>\n",
       "<p>5 rows × 150 columns</p>\n",
       "</div>"
      ],
      "text/plain": [
       "              0   1   2   3   4   5   6   7   8   9 ...   140  141  142  143  \\\n",
       "Tc_v1_S_B_D                                         ...                        \n",
       "0,10,2014   NaN NaN NaN NaN NaN NaN NaN NaN NaN NaN ...   NaN  NaN  NaN  NaN   \n",
       "0,1009,2014 NaN NaN NaN NaN NaN NaN NaN NaN NaN NaN ...   NaN  NaN  NaN  NaN   \n",
       "0,1016,2014 NaN NaN NaN NaN NaN NaN NaN NaN NaN NaN ...   NaN  NaN  NaN  NaN   \n",
       "0,1020,2014 NaN NaN NaN NaN NaN NaN NaN NaN NaN NaN ...   NaN  NaN  NaN  NaN   \n",
       "0,1023,2014 NaN NaN NaN NaN NaN NaN NaN NaN NaN NaN ...   NaN  NaN  NaN  NaN   \n",
       "\n",
       "             144  145       146  147  148  149  \n",
       "Tc_v1_S_B_D                                     \n",
       "0,10,2014    NaN  NaN       NaN  NaN  NaN  NaN  \n",
       "0,1009,2014  NaN  NaN       NaN  NaN  NaN  NaN  \n",
       "0,1016,2014  NaN  NaN       NaN  NaN  NaN  NaN  \n",
       "0,1020,2014  NaN  NaN  0.194458  NaN  NaN  NaN  \n",
       "0,1023,2014  NaN  NaN  0.262360  NaN  NaN  NaN  \n",
       "\n",
       "[5 rows x 150 columns]"
      ]
     },
     "execution_count": 113,
     "metadata": {},
     "output_type": "execute_result"
    }
   ],
   "source": [
    "topic_matrix.head()"
   ]
  },
  {
   "cell_type": "code",
   "execution_count": 116,
   "metadata": {},
   "outputs": [
    {
     "data": {
      "image/png": "[encoded data removed]",
      "text/plain": [
       "<Figure size 432x288 with 2 Axes>"
      ]
     },
     "metadata": {
      "needs_background": "light"
     },
     "output_type": "display_data"
    }
   ],
   "source": [
    "#ax = sns.heatmap(topic_matrix.values.tolist(),vmin=0,vmax=1,center=0.5)"
   ]
  },
  {
   "cell_type": "raw",
   "metadata": {},
   "source": [
    "heatmap_data = [\n",
    "    go.Heatmap(\n",
    "        z=topic_matrix.fillna(0).values.tolist(),\n",
    "        zmin=0,\n",
    "        zmax=1,\n",
    "        #x=topic_matrix.index,\n",
    "        #y=topic_matrix.columns,\n",
    "        colorscale='Jet',\n",
    "    )\n",
    " ]\n",
    "\n",
    "layout = go.Layout(\n",
    "    title='{} - Topic-Time'.format(\"Tc_v1\"),\n",
    ")\n",
    "\n",
    "fig = go.Figure(data=heatmap_data, layout=layout)\n",
    "plotly.offline.plot(fig)"
   ]
  },
  {
   "cell_type": "code",
   "execution_count": 102,
   "metadata": {},
   "outputs": [],
   "source": [
    "count_matrix = topic_matrix.groupby([\"dealer\"]).count()"
   ]
  },
  {
   "cell_type": "raw",
   "metadata": {},
   "source": [
    "data = [go.Heatmap( z=count_matrix.values.tolist(), colorscale='Viridis')]\n",
    "plotly.offline.iplot(data, filename='pandas-heatmap')"
   ]
  },
  {
   "cell_type": "code",
   "execution_count": 103,
   "metadata": {},
   "outputs": [
    {
     "data": {
      "text/html": [
       "<div>\n",
       "<style scoped>\n",
       "    .dataframe tbody tr th:only-of-type {\n",
       "        vertical-align: middle;\n",
       "    }\n",
       "\n",
       "    .dataframe tbody tr th {\n",
       "        vertical-align: top;\n",
       "    }\n",
       "\n",
       "    .dataframe thead th {\n",
       "        text-align: right;\n",
       "    }\n",
       "</style>\n",
       "<table border=\"1\" class=\"dataframe\">\n",
       "  <thead>\n",
       "    <tr style=\"text-align: right;\">\n",
       "      <th></th>\n",
       "      <th>0</th>\n",
       "      <th>1</th>\n",
       "      <th>2</th>\n",
       "      <th>3</th>\n",
       "      <th>4</th>\n",
       "      <th>5</th>\n",
       "      <th>6</th>\n",
       "      <th>7</th>\n",
       "      <th>8</th>\n",
       "      <th>9</th>\n",
       "      <th>...</th>\n",
       "      <th>140</th>\n",
       "      <th>141</th>\n",
       "      <th>142</th>\n",
       "      <th>143</th>\n",
       "      <th>144</th>\n",
       "      <th>145</th>\n",
       "      <th>146</th>\n",
       "      <th>147</th>\n",
       "      <th>148</th>\n",
       "      <th>149</th>\n",
       "    </tr>\n",
       "  </thead>\n",
       "  <tbody>\n",
       "    <tr>\n",
       "      <th>count</th>\n",
       "      <td>286.000000</td>\n",
       "      <td>854.000000</td>\n",
       "      <td>543.000000</td>\n",
       "      <td>86.000000</td>\n",
       "      <td>780.000000</td>\n",
       "      <td>490.000000</td>\n",
       "      <td>423.000000</td>\n",
       "      <td>582.000000</td>\n",
       "      <td>929.000000</td>\n",
       "      <td>576.000000</td>\n",
       "      <td>...</td>\n",
       "      <td>206.000000</td>\n",
       "      <td>222.000000</td>\n",
       "      <td>684.000000</td>\n",
       "      <td>440.000000</td>\n",
       "      <td>329.000000</td>\n",
       "      <td>756.000000</td>\n",
       "      <td>630.000000</td>\n",
       "      <td>662.000000</td>\n",
       "      <td>59.000000</td>\n",
       "      <td>615.000000</td>\n",
       "    </tr>\n",
       "    <tr>\n",
       "      <th>mean</th>\n",
       "      <td>0.296711</td>\n",
       "      <td>0.319540</td>\n",
       "      <td>0.381774</td>\n",
       "      <td>0.392256</td>\n",
       "      <td>0.321146</td>\n",
       "      <td>0.367942</td>\n",
       "      <td>0.423115</td>\n",
       "      <td>0.375105</td>\n",
       "      <td>0.348632</td>\n",
       "      <td>0.400731</td>\n",
       "      <td>...</td>\n",
       "      <td>0.336364</td>\n",
       "      <td>0.309103</td>\n",
       "      <td>0.393666</td>\n",
       "      <td>0.347089</td>\n",
       "      <td>0.288417</td>\n",
       "      <td>0.318056</td>\n",
       "      <td>0.347036</td>\n",
       "      <td>0.337445</td>\n",
       "      <td>0.300277</td>\n",
       "      <td>0.355590</td>\n",
       "    </tr>\n",
       "    <tr>\n",
       "      <th>std</th>\n",
       "      <td>0.175390</td>\n",
       "      <td>0.183999</td>\n",
       "      <td>0.214232</td>\n",
       "      <td>0.182335</td>\n",
       "      <td>0.177602</td>\n",
       "      <td>0.206001</td>\n",
       "      <td>0.238038</td>\n",
       "      <td>0.232202</td>\n",
       "      <td>0.178166</td>\n",
       "      <td>0.218981</td>\n",
       "      <td>...</td>\n",
       "      <td>0.179033</td>\n",
       "      <td>0.167584</td>\n",
       "      <td>0.221024</td>\n",
       "      <td>0.209267</td>\n",
       "      <td>0.174967</td>\n",
       "      <td>0.167092</td>\n",
       "      <td>0.204585</td>\n",
       "      <td>0.192068</td>\n",
       "      <td>0.189759</td>\n",
       "      <td>0.195004</td>\n",
       "    </tr>\n",
       "    <tr>\n",
       "      <th>min</th>\n",
       "      <td>0.100519</td>\n",
       "      <td>0.100263</td>\n",
       "      <td>0.100756</td>\n",
       "      <td>0.104191</td>\n",
       "      <td>0.100176</td>\n",
       "      <td>0.103797</td>\n",
       "      <td>0.100254</td>\n",
       "      <td>0.100609</td>\n",
       "      <td>0.100667</td>\n",
       "      <td>0.100091</td>\n",
       "      <td>...</td>\n",
       "      <td>0.100161</td>\n",
       "      <td>0.104035</td>\n",
       "      <td>0.100610</td>\n",
       "      <td>0.100667</td>\n",
       "      <td>0.102255</td>\n",
       "      <td>0.100439</td>\n",
       "      <td>0.100886</td>\n",
       "      <td>0.101403</td>\n",
       "      <td>0.102657</td>\n",
       "      <td>0.100667</td>\n",
       "    </tr>\n",
       "    <tr>\n",
       "      <th>25%</th>\n",
       "      <td>0.169043</td>\n",
       "      <td>0.174106</td>\n",
       "      <td>0.201299</td>\n",
       "      <td>0.254942</td>\n",
       "      <td>0.174240</td>\n",
       "      <td>0.195940</td>\n",
       "      <td>0.212955</td>\n",
       "      <td>0.182890</td>\n",
       "      <td>0.201333</td>\n",
       "      <td>0.215352</td>\n",
       "      <td>...</td>\n",
       "      <td>0.189255</td>\n",
       "      <td>0.173974</td>\n",
       "      <td>0.203733</td>\n",
       "      <td>0.178960</td>\n",
       "      <td>0.157770</td>\n",
       "      <td>0.182737</td>\n",
       "      <td>0.175033</td>\n",
       "      <td>0.174532</td>\n",
       "      <td>0.172148</td>\n",
       "      <td>0.195471</td>\n",
       "    </tr>\n",
       "    <tr>\n",
       "      <th>50%</th>\n",
       "      <td>0.240513</td>\n",
       "      <td>0.261200</td>\n",
       "      <td>0.335556</td>\n",
       "      <td>0.383352</td>\n",
       "      <td>0.262576</td>\n",
       "      <td>0.309686</td>\n",
       "      <td>0.348749</td>\n",
       "      <td>0.304614</td>\n",
       "      <td>0.332540</td>\n",
       "      <td>0.337290</td>\n",
       "      <td>...</td>\n",
       "      <td>0.296218</td>\n",
       "      <td>0.254016</td>\n",
       "      <td>0.335556</td>\n",
       "      <td>0.273924</td>\n",
       "      <td>0.222645</td>\n",
       "      <td>0.255667</td>\n",
       "      <td>0.288452</td>\n",
       "      <td>0.279016</td>\n",
       "      <td>0.232782</td>\n",
       "      <td>0.323021</td>\n",
       "    </tr>\n",
       "    <tr>\n",
       "      <th>75%</th>\n",
       "      <td>0.369446</td>\n",
       "      <td>0.440718</td>\n",
       "      <td>0.503333</td>\n",
       "      <td>0.503333</td>\n",
       "      <td>0.472471</td>\n",
       "      <td>0.517933</td>\n",
       "      <td>0.593448</td>\n",
       "      <td>0.503333</td>\n",
       "      <td>0.503333</td>\n",
       "      <td>0.510132</td>\n",
       "      <td>...</td>\n",
       "      <td>0.468566</td>\n",
       "      <td>0.413076</td>\n",
       "      <td>0.503333</td>\n",
       "      <td>0.503333</td>\n",
       "      <td>0.374603</td>\n",
       "      <td>0.501667</td>\n",
       "      <td>0.503333</td>\n",
       "      <td>0.473884</td>\n",
       "      <td>0.371384</td>\n",
       "      <td>0.503333</td>\n",
       "    </tr>\n",
       "    <tr>\n",
       "      <th>max</th>\n",
       "      <td>0.908906</td>\n",
       "      <td>0.954030</td>\n",
       "      <td>0.960267</td>\n",
       "      <td>0.826757</td>\n",
       "      <td>0.984843</td>\n",
       "      <td>0.948032</td>\n",
       "      <td>0.997303</td>\n",
       "      <td>0.987265</td>\n",
       "      <td>0.917222</td>\n",
       "      <td>0.988032</td>\n",
       "      <td>...</td>\n",
       "      <td>0.871924</td>\n",
       "      <td>0.957507</td>\n",
       "      <td>0.996806</td>\n",
       "      <td>0.999503</td>\n",
       "      <td>0.917222</td>\n",
       "      <td>0.973153</td>\n",
       "      <td>0.990746</td>\n",
       "      <td>0.926041</td>\n",
       "      <td>0.889337</td>\n",
       "      <td>0.977300</td>\n",
       "    </tr>\n",
       "  </tbody>\n",
       "</table>\n",
       "<p>8 rows × 150 columns</p>\n",
       "</div>"
      ],
      "text/plain": [
       "                0           1           2          3           4           5  \\\n",
       "count  286.000000  854.000000  543.000000  86.000000  780.000000  490.000000   \n",
       "mean     0.296711    0.319540    0.381774   0.392256    0.321146    0.367942   \n",
       "std      0.175390    0.183999    0.214232   0.182335    0.177602    0.206001   \n",
       "min      0.100519    0.100263    0.100756   0.104191    0.100176    0.103797   \n",
       "25%      0.169043    0.174106    0.201299   0.254942    0.174240    0.195940   \n",
       "50%      0.240513    0.261200    0.335556   0.383352    0.262576    0.309686   \n",
       "75%      0.369446    0.440718    0.503333   0.503333    0.472471    0.517933   \n",
       "max      0.908906    0.954030    0.960267   0.826757    0.984843    0.948032   \n",
       "\n",
       "                6           7           8           9     ...             140  \\\n",
       "count  423.000000  582.000000  929.000000  576.000000     ...      206.000000   \n",
       "mean     0.423115    0.375105    0.348632    0.400731     ...        0.336364   \n",
       "std      0.238038    0.232202    0.178166    0.218981     ...        0.179033   \n",
       "min      0.100254    0.100609    0.100667    0.100091     ...        0.100161   \n",
       "25%      0.212955    0.182890    0.201333    0.215352     ...        0.189255   \n",
       "50%      0.348749    0.304614    0.332540    0.337290     ...        0.296218   \n",
       "75%      0.593448    0.503333    0.503333    0.510132     ...        0.468566   \n",
       "max      0.997303    0.987265    0.917222    0.988032     ...        0.871924   \n",
       "\n",
       "              141         142         143         144         145         146  \\\n",
       "count  222.000000  684.000000  440.000000  329.000000  756.000000  630.000000   \n",
       "mean     0.309103    0.393666    0.347089    0.288417    0.318056    0.347036   \n",
       "std      0.167584    0.221024    0.209267    0.174967    0.167092    0.204585   \n",
       "min      0.104035    0.100610    0.100667    0.102255    0.100439    0.100886   \n",
       "25%      0.173974    0.203733    0.178960    0.157770    0.182737    0.175033   \n",
       "50%      0.254016    0.335556    0.273924    0.222645    0.255667    0.288452   \n",
       "75%      0.413076    0.503333    0.503333    0.374603    0.501667    0.503333   \n",
       "max      0.957507    0.996806    0.999503    0.917222    0.973153    0.990746   \n",
       "\n",
       "              147        148         149  \n",
       "count  662.000000  59.000000  615.000000  \n",
       "mean     0.337445   0.300277    0.355590  \n",
       "std      0.192068   0.189759    0.195004  \n",
       "min      0.101403   0.102657    0.100667  \n",
       "25%      0.174532   0.172148    0.195471  \n",
       "50%      0.279016   0.232782    0.323021  \n",
       "75%      0.473884   0.371384    0.503333  \n",
       "max      0.926041   0.889337    0.977300  \n",
       "\n",
       "[8 rows x 150 columns]"
      ]
     },
     "execution_count": 103,
     "metadata": {},
     "output_type": "execute_result"
    }
   ],
   "source": [
    "topic_matrix.describe()"
   ]
  },
  {
   "cell_type": "code",
   "execution_count": 104,
   "metadata": {},
   "outputs": [],
   "source": [
    "summary = topic_matrix.describe().T"
   ]
  },
  {
   "cell_type": "code",
   "execution_count": 105,
   "metadata": {},
   "outputs": [
    {
     "data": {
      "text/plain": [
       "<matplotlib.axes._subplots.AxesSubplot at 0x2773a2c5a20>"
      ]
     },
     "execution_count": 105,
     "metadata": {},
     "output_type": "execute_result"
    },
    {
     "data": {
      "image/png": "[encoded data removed]",
      "text/plain": [
       "<Figure size 432x288 with 1 Axes>"
      ]
     },
     "metadata": {
      "needs_background": "light"
     },
     "output_type": "display_data"
    }
   ],
   "source": [
    "summary['mean'].plot()"
   ]
  },
  {
   "cell_type": "code",
   "execution_count": 29,
   "metadata": {},
   "outputs": [],
   "source": [
    "def get_dealer_by_ID(matrix,dealer_id,matrix_name):\n",
    "    result = matrix.loc[matrix['dealer'] == dealer_id].copy().drop(labels='dealer',axis=1)\n",
    "    return (result,dealer_id,matrix_name)"
   ]
  },
  {
   "cell_type": "code",
   "execution_count": 30,
   "metadata": {},
   "outputs": [
    {
     "data": {
      "text/plain": [
       "1284"
      ]
     },
     "execution_count": 30,
     "metadata": {},
     "output_type": "execute_result"
    }
   ],
   "source": [
    "dealer_df_list = list(map(lambda x: get_dealer_by_ID(topic_matrix,x,\"Dc_v1\"),list(topic_matrix['dealer'].unique())))\n",
    "len(dealer_df_list)"
   ]
  },
  {
   "cell_type": "code",
   "execution_count": 31,
   "metadata": {},
   "outputs": [],
   "source": [
    "#deque(map(topicXtime,dealer_df_list))"
   ]
  },
  {
   "cell_type": "code",
   "execution_count": 32,
   "metadata": {},
   "outputs": [],
   "source": [
    "pio.orca.config\n",
    "plotly.io.orca.status\n",
    "\n",
    "cpu_cores = multiprocessing.cpu_count() - 1\n",
    "pool = multiprocessing.Pool(cpu_cores)\n",
    "pool.map(topicXtime_plotly_parallel,dealer_df_list)\n",
    "pool.close()"
   ]
  },
  {
   "cell_type": "markdown",
   "metadata": {},
   "source": [
    "### Try mapplotlib"
   ]
  },
  {
   "cell_type": "code",
   "execution_count": null,
   "metadata": {},
   "outputs": [],
   "source": [
    "cpu_cores = int(multiprocessing.cpu_count()/2) -1\n",
    "pool = multiprocessing.Pool(cpu_cores)"
   ]
  },
  {
   "cell_type": "code",
   "execution_count": null,
   "metadata": {},
   "outputs": [],
   "source": [
    "pool.starmap(topicXtime_matplotlib,dealer_df_list)\n",
    "pool.close()"
   ]
  },
  {
   "cell_type": "markdown",
   "metadata": {},
   "source": [
    "### Try Seaborn"
   ]
  },
  {
   "cell_type": "code",
   "execution_count": null,
   "metadata": {},
   "outputs": [],
   "source": [
    "sns.set()"
   ]
  },
  {
   "cell_type": "code",
   "execution_count": null,
   "metadata": {},
   "outputs": [],
   "source": [
    "month_list = list(OrderedDict.fromkeys(dealer_df_list[0][0].index.strftime('%Y-%m')))"
   ]
  },
  {
   "cell_type": "code",
   "execution_count": null,
   "metadata": {},
   "outputs": [],
   "source": [
    "ax = sns.heatmap(dealer_df_list[0][0].T.values,vmin=0,vmax=1,center=0.5,xticklabels=[0,50,100,150,200,250],yticklabels=month_list)\n",
    "\n",
    "num_x_ticks = 5\n",
    "# the index of the position of yticks\n",
    "xticks = np.linspace(0, len(dealer_df_list[0][0].columns) - 1, num_x_ticks, dtype=np.int)\n",
    "\n",
    "num_y_ticks = len(month_list)\n",
    "# the index of the position of yticks\n",
    "yticks = np.linspace(0, len(dealer_df_list[0][0].index) - 1, num_y_ticks, dtype=np.int)\n",
    "\n",
    "#ax.set_xticks(xticks)\n",
    "#ax.set_yticks(yticks)\n",
    "ax.set_autoscaley_on(True)\n",
    "ax.set_title('test')"
   ]
  },
  {
   "cell_type": "code",
   "execution_count": null,
   "metadata": {},
   "outputs": [],
   "source": [
    "import matplotlib.dates as mdates\n",
    "ax = sns.heatmap(dealer_df_list[0][0].T,vmin=0,vmax=1,center=0.5)\n",
    "\n",
    "ax.xaxis.set_major_locator(mdates.MonthLocator())\n",
    "ax.xaxis.set_major_formatter(mdates.DateFormatter('%Y-%m'))\n",
    "#ax.xaxis.set_minor_locator(mdates.DayLocator())\n",
    "\n",
    "#ax.set_xlim(dealer_df_list[0][0].index[0], dealer_df_list[0][0].index[-1])\n",
    "#ax.format_xdata = mdates.DateFormatter('%Y-%m-%d')\n",
    "\n",
    "figure = ax.get_figure()\n",
    "figure.savefig('test.png', dpi=400)"
   ]
  },
  {
   "cell_type": "code",
   "execution_count": null,
   "metadata": {},
   "outputs": [],
   "source": [
    "ax = sns.heatmap(dealer_df_list[0][0].T,vmin=0,vmax=1,center=0.5)"
   ]
  },
  {
   "cell_type": "code",
   "execution_count": null,
   "metadata": {},
   "outputs": [],
   "source": [
    "dealer_df_list[0][0].index[-1]"
   ]
  },
  {
   "cell_type": "code",
   "execution_count": null,
   "metadata": {},
   "outputs": [],
   "source": [
    "yticks"
   ]
  },
  {
   "cell_type": "code",
   "execution_count": null,
   "metadata": {},
   "outputs": [],
   "source": [
    "xticks"
   ]
  },
  {
   "cell_type": "code",
   "execution_count": null,
   "metadata": {},
   "outputs": [],
   "source": [
    "figure = ax.get_figure()\n",
    "figure.savefig('test.png', dpi=400)\n",
    "#figure.savefig('test.svg', format=\"svg\")"
   ]
  },
  {
   "cell_type": "code",
   "execution_count": null,
   "metadata": {},
   "outputs": [],
   "source": [
    "ax.fig.autofmt_ydate()"
   ]
  },
  {
   "cell_type": "code",
   "execution_count": null,
   "metadata": {},
   "outputs": [],
   "source": [
    "topic_matrix.corr().head()"
   ]
  },
  {
   "cell_type": "markdown",
   "metadata": {},
   "source": [
    "## Topic Terms Distribution\n",
    "Below is the topic terms ditrutbution demo. Since we already got Document X Topics, we want to have a Topic X Terms too."
   ]
  },
  {
   "cell_type": "code",
   "execution_count": null,
   "metadata": {},
   "outputs": [],
   "source": [
    "model = load_model('Tc_v1',250)"
   ]
  },
  {
   "cell_type": "code",
   "execution_count": null,
   "metadata": {},
   "outputs": [],
   "source": [
    "topic_terms_distribution = pd.DataFrame(model.get_topics())"
   ]
  },
  {
   "cell_type": "code",
   "execution_count": null,
   "metadata": {},
   "outputs": [],
   "source": [
    "topic_terms_distribution.head()"
   ]
  },
  {
   "cell_type": "markdown",
   "metadata": {},
   "source": [
    "## Industy Analysis"
   ]
  },
  {
   "cell_type": "code",
   "execution_count": null,
   "metadata": {},
   "outputs": [],
   "source": [
    "data_path = get_pickle_directory() / 'TRACE2014_jinming.pkl'\n",
    "data = pd.read_pickle(data_path)"
   ]
  },
  {
   "cell_type": "code",
   "execution_count": null,
   "metadata": {},
   "outputs": [],
   "source": [
    "data.columns"
   ]
  },
  {
   "cell_type": "code",
   "execution_count": null,
   "metadata": {},
   "outputs": [],
   "source": [
    "print(\"We have {} rows of data\".format(data.shape[0]))"
   ]
  },
  {
   "cell_type": "code",
   "execution_count": null,
   "metadata": {},
   "outputs": [],
   "source": [
    "def fix_NAICS_Code(NAICS_Code):\n",
    "    \"Fix the problem that FISD omits 0 if NAICS_Code ends with 0\"\n",
    "    if len(str(NAICS_Code))==5:\n",
    "        NAICS_Code = NAICS_Code+'0'\n",
    "    return NAICS_Code\n",
    "fix_NAICS_Code_vectorize = np.vectorize(fix_NAICS_Code)\n",
    "data['NAICS_CODE'] = fix_NAICS_Code_vectorize(data['NAICS_CODE'].values)"
   ]
  },
  {
   "cell_type": "code",
   "execution_count": null,
   "metadata": {},
   "outputs": [],
   "source": [
    "data = data[['BOND_SYM_ID', 'INDUSTRY_GROUP', 'INDUSTRY_CODE', 'PARENT_ID', 'NAICS_CODE','SIC_CODE']].copy()"
   ]
  },
  {
   "cell_type": "code",
   "execution_count": null,
   "metadata": {},
   "outputs": [],
   "source": [
    "data['INDUSTRY_CODE'].value_counts().plot.pie()"
   ]
  },
  {
   "cell_type": "code",
   "execution_count": null,
   "metadata": {},
   "outputs": [],
   "source": [
    "# Get the NAICS_code lookup table\n",
    "NAICS_code_path = get_dataset_directory() / 'NAICS_Code_Lookup.csv'\n",
    "NAICS_code = pd.read_csv(NAICS_code_path,dtype={'Code':str,'Description':str})"
   ]
  },
  {
   "cell_type": "code",
   "execution_count": null,
   "metadata": {},
   "outputs": [],
   "source": [
    "# Group by BOND_SYM_ID and NAICS_CODE of \n",
    "NAICS_CODE_count = data['NAICS_CODE'].value_counts()\n",
    "# Series to DataFrame\n",
    "NAICS_CODE_count = NAICS_CODE_count.to_frame(name='count')"
   ]
  },
  {
   "cell_type": "code",
   "execution_count": null,
   "metadata": {},
   "outputs": [],
   "source": [
    "NAICS_code_total = NAICS_code.merge(NAICS_CODE_count,left_on='Code',right_index=True).sort_values(by=\"count\",ascending=False)\n",
    "NAICS_code_total['percentage'] = NAICS_code_total['count']/data.shape[0]"
   ]
  },
  {
   "cell_type": "code",
   "execution_count": null,
   "metadata": {},
   "outputs": [],
   "source": [
    "NAICS_code_total.head()"
   ]
  },
  {
   "cell_type": "code",
   "execution_count": null,
   "metadata": {},
   "outputs": [],
   "source": [
    "(NAICS_code.merge(NAICS_CODE_count,left_on='Code',right_index=True).sort_values(by=\"count\",ascending=False)['count']/data.shape[0]).sum()"
   ]
  },
  {
   "cell_type": "code",
   "execution_count": null,
   "metadata": {},
   "outputs": [],
   "source": [
    "data.groupby(by=['NAICS_CODE'])['BOND_SYM_ID'].nunique().sort_values(ascending=False).head()"
   ]
  },
  {
   "cell_type": "code",
   "execution_count": null,
   "metadata": {},
   "outputs": [],
   "source": [
    "data.groupby(by=['BOND_SYM_ID'])"
   ]
  },
  {
   "cell_type": "code",
   "execution_count": null,
   "metadata": {},
   "outputs": [],
   "source": [
    "Bond_X_Industry = data.drop_duplicates(['BOND_SYM_ID'])"
   ]
  },
  {
   "cell_type": "code",
   "execution_count": null,
   "metadata": {},
   "outputs": [],
   "source": [
    "Bond_X_Industry.sort_values(by=['BOND_SYM_ID']).head()"
   ]
  },
  {
   "cell_type": "markdown",
   "metadata": {},
   "source": [
    "## Convergence Test"
   ]
  },
  {
   "cell_type": "code",
   "execution_count": null,
   "metadata": {},
   "outputs": [],
   "source": [
    "import re\n",
    "import matplotlib.pyplot as plt\n",
    "def convergence_likelyhood(model_name,num_topics):\n",
    "    p = re.compile(\"(-*\\d+\\.\\d+) per-word .* (\\d+\\.\\d+) perplexity\")\n",
    "    matches = [p.findall(l) for l in open('../LDAModel/{}_{}topics.log.txt'.format(model_name,num_topics))]\n",
    "    matches = [m for m in matches if len(m) > 0]\n",
    "    tuples = [t[0] for t in matches]\n",
    "    perplexity = [float(t[1]) for t in tuples]\n",
    "    liklihood = [float(t[0]) for t in tuples]\n",
    "    iter = list(range(0,len(tuples)*10,10))\n",
    "    plt.plot(iter,liklihood,c=\"black\")\n",
    "    plt.ylabel(\"log liklihood\")\n",
    "    plt.xlabel(\"iteration\")\n",
    "    plt.title(\"Topic Model Convergence\")\n",
    "    plt.grid()\n",
    "    plt.savefig(\"{}_{}topics.pdf\".format(model_name,num_topics))\n",
    "    plt.close()"
   ]
  },
  {
   "cell_type": "code",
   "execution_count": null,
   "metadata": {},
   "outputs": [],
   "source": [
    "#convergence_likelyhood(\"matrix_1\",250)"
   ]
  }
 ],
 "metadata": {
  "kernelspec": {
   "display_name": "Python 3",
   "language": "python",
   "name": "python3"
  },
  "language_info": {
   "codemirror_mode": {
    "name": "ipython",
    "version": 3
   },
   "file_extension": ".py",
   "mimetype": "text/x-python",
   "name": "python",
   "nbconvert_exporter": "python",
   "pygments_lexer": "ipython3",
   "version": "3.7.1"
  }
 },
 "nbformat": 4,
 "nbformat_minor": 2
}
