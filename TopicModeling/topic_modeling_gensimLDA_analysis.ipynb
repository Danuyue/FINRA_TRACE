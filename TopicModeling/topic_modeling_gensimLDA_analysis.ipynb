{
 "cells": [
  {
   "cell_type": "markdown",
   "metadata": {},
   "source": [
    "# Topic Model Analysis\n",
    "\n",
    "Todo: 1. industry : cusip to naics mapping 2. Topic evloution"
   ]
  },
  {
   "cell_type": "code",
   "execution_count": 1,
   "metadata": {
    "scrolled": true
   },
   "outputs": [],
   "source": [
    "import pandas as pd\n",
    "import numpy as np\n",
    "import os\n",
    "from pathlib import Path\n",
    "\n",
    "from compute_lda import *\n",
    "from manage_path import *\n",
    "#from lda_analysis import *\n",
    "\n",
    "#import plotly\n",
    "#plotly.offline.init_notebook_mode(connected=True) \n",
    "#import plotly.graph_objs as go\n",
    "#import plotly.io as pio\n",
    "from itertools import repeat\n",
    "\n",
    "import multiprocessing\n",
    "from collections import deque\n",
    "\n",
    "#import seaborn as sns\n",
    "import matplotlib.pyplot as plt\n",
    "import matplotlib.dates as mdates\n",
    "\n",
    "from collections import OrderedDict"
   ]
  },
  {
   "cell_type": "markdown",
   "metadata": {},
   "source": [
    "## Topic Evolution\n",
    "1. Dc_v1: 1 document for buy and sell, per dealer, per day.\n",
    "2. Dc_v2: 1 document for buy and 1 document for sell, per dealer, per day.\n",
    "3. Dc_v3: Either DC_v1 or DC_v2 without the 2 (4) documents representing the Source_seller and Source_buyer.\n",
    "4. Tc_v1: 1 document for (buyer,seller,year)"
   ]
  },
  {
   "cell_type": "code",
   "execution_count": 2,
   "metadata": {},
   "outputs": [],
   "source": [
    "result_directory = get_result_directory()\n",
    "get_document_item_vectorize = np.vectorize(get_document_item)\n",
    "#topic_matrix['dealer'] = pd.Series(list(zip(get_document_item_vectorize(topic.index,0),get_document_item_vectorize(topic.index,1)))).values"
   ]
  },
  {
   "cell_type": "markdown",
   "metadata": {},
   "source": [
    "### Dc_v4"
   ]
  },
  {
   "cell_type": "code",
   "execution_count": 3,
   "metadata": {},
   "outputs": [],
   "source": [
    "df = pd.read_csv(result_directory/'Dc_v4_75topics.csv',index_col=0)"
   ]
  },
  {
   "cell_type": "code",
   "execution_count": 4,
   "metadata": {},
   "outputs": [
    {
     "data": {
      "text/html": [
       "<div>\n",
       "<style scoped>\n",
       "    .dataframe tbody tr th:only-of-type {\n",
       "        vertical-align: middle;\n",
       "    }\n",
       "\n",
       "    .dataframe tbody tr th {\n",
       "        vertical-align: top;\n",
       "    }\n",
       "\n",
       "    .dataframe thead th {\n",
       "        text-align: right;\n",
       "    }\n",
       "</style>\n",
       "<table border=\"1\" class=\"dataframe\">\n",
       "  <thead>\n",
       "    <tr style=\"text-align: right;\">\n",
       "      <th></th>\n",
       "      <th>1</th>\n",
       "      <th>2</th>\n",
       "      <th>3</th>\n",
       "      <th>4</th>\n",
       "      <th>5</th>\n",
       "      <th>6</th>\n",
       "      <th>7</th>\n",
       "      <th>8</th>\n",
       "      <th>9</th>\n",
       "      <th>10</th>\n",
       "      <th>...</th>\n",
       "      <th>66</th>\n",
       "      <th>67</th>\n",
       "      <th>68</th>\n",
       "      <th>69</th>\n",
       "      <th>70</th>\n",
       "      <th>71</th>\n",
       "      <th>72</th>\n",
       "      <th>73</th>\n",
       "      <th>74</th>\n",
       "      <th>75</th>\n",
       "    </tr>\n",
       "  </thead>\n",
       "  <tbody>\n",
       "    <tr>\n",
       "      <th>10,2014-10-16,StC</th>\n",
       "      <td>NaN</td>\n",
       "      <td>NaN</td>\n",
       "      <td>NaN</td>\n",
       "      <td>NaN</td>\n",
       "      <td>NaN</td>\n",
       "      <td>NaN</td>\n",
       "      <td>NaN</td>\n",
       "      <td>NaN</td>\n",
       "      <td>NaN</td>\n",
       "      <td>NaN</td>\n",
       "      <td>...</td>\n",
       "      <td>NaN</td>\n",
       "      <td>NaN</td>\n",
       "      <td>NaN</td>\n",
       "      <td>NaN</td>\n",
       "      <td>NaN</td>\n",
       "      <td>0.551516</td>\n",
       "      <td>NaN</td>\n",
       "      <td>NaN</td>\n",
       "      <td>NaN</td>\n",
       "      <td>NaN</td>\n",
       "    </tr>\n",
       "    <tr>\n",
       "      <th>10,2014-11-21,StC</th>\n",
       "      <td>NaN</td>\n",
       "      <td>NaN</td>\n",
       "      <td>NaN</td>\n",
       "      <td>NaN</td>\n",
       "      <td>NaN</td>\n",
       "      <td>NaN</td>\n",
       "      <td>NaN</td>\n",
       "      <td>NaN</td>\n",
       "      <td>NaN</td>\n",
       "      <td>0.502222</td>\n",
       "      <td>...</td>\n",
       "      <td>NaN</td>\n",
       "      <td>NaN</td>\n",
       "      <td>NaN</td>\n",
       "      <td>NaN</td>\n",
       "      <td>NaN</td>\n",
       "      <td>NaN</td>\n",
       "      <td>NaN</td>\n",
       "      <td>NaN</td>\n",
       "      <td>NaN</td>\n",
       "      <td>NaN</td>\n",
       "    </tr>\n",
       "    <tr>\n",
       "      <th>10,2015-02-25,StC</th>\n",
       "      <td>NaN</td>\n",
       "      <td>NaN</td>\n",
       "      <td>NaN</td>\n",
       "      <td>NaN</td>\n",
       "      <td>NaN</td>\n",
       "      <td>NaN</td>\n",
       "      <td>NaN</td>\n",
       "      <td>NaN</td>\n",
       "      <td>NaN</td>\n",
       "      <td>NaN</td>\n",
       "      <td>...</td>\n",
       "      <td>NaN</td>\n",
       "      <td>NaN</td>\n",
       "      <td>NaN</td>\n",
       "      <td>NaN</td>\n",
       "      <td>NaN</td>\n",
       "      <td>NaN</td>\n",
       "      <td>NaN</td>\n",
       "      <td>NaN</td>\n",
       "      <td>NaN</td>\n",
       "      <td>NaN</td>\n",
       "    </tr>\n",
       "  </tbody>\n",
       "</table>\n",
       "<p>3 rows × 75 columns</p>\n",
       "</div>"
      ],
      "text/plain": [
       "                    1   2   3   4   5   6   7   8   9        10  ...  66  67  \\\n",
       "10,2014-10-16,StC NaN NaN NaN NaN NaN NaN NaN NaN NaN       NaN  ... NaN NaN   \n",
       "10,2014-11-21,StC NaN NaN NaN NaN NaN NaN NaN NaN NaN  0.502222  ... NaN NaN   \n",
       "10,2015-02-25,StC NaN NaN NaN NaN NaN NaN NaN NaN NaN       NaN  ... NaN NaN   \n",
       "\n",
       "                   68  69  70        71  72  73  74  75  \n",
       "10,2014-10-16,StC NaN NaN NaN  0.551516 NaN NaN NaN NaN  \n",
       "10,2014-11-21,StC NaN NaN NaN       NaN NaN NaN NaN NaN  \n",
       "10,2015-02-25,StC NaN NaN NaN       NaN NaN NaN NaN NaN  \n",
       "\n",
       "[3 rows x 75 columns]"
      ]
     },
     "execution_count": 4,
     "metadata": {},
     "output_type": "execute_result"
    }
   ],
   "source": [
    "df.head(3)"
   ]
  },
  {
   "cell_type": "code",
   "execution_count": 5,
   "metadata": {},
   "outputs": [],
   "source": [
    "df['dealer'] = pd.Series(list(zip(get_document_item_vectorize(df.index,0),get_document_item_vectorize(df.index,2)))).values\n",
    "df.index = pd.to_datetime(get_document_item_vectorize(df.index,1))"
   ]
  },
  {
   "cell_type": "code",
   "execution_count": 6,
   "metadata": {},
   "outputs": [
    {
     "data": {
      "text/html": [
       "<div>\n",
       "<style scoped>\n",
       "    .dataframe tbody tr th:only-of-type {\n",
       "        vertical-align: middle;\n",
       "    }\n",
       "\n",
       "    .dataframe tbody tr th {\n",
       "        vertical-align: top;\n",
       "    }\n",
       "\n",
       "    .dataframe thead th {\n",
       "        text-align: right;\n",
       "    }\n",
       "</style>\n",
       "<table border=\"1\" class=\"dataframe\">\n",
       "  <thead>\n",
       "    <tr style=\"text-align: right;\">\n",
       "      <th></th>\n",
       "      <th>1</th>\n",
       "      <th>2</th>\n",
       "      <th>3</th>\n",
       "      <th>4</th>\n",
       "      <th>5</th>\n",
       "      <th>6</th>\n",
       "      <th>7</th>\n",
       "      <th>8</th>\n",
       "      <th>9</th>\n",
       "      <th>10</th>\n",
       "      <th>...</th>\n",
       "      <th>67</th>\n",
       "      <th>68</th>\n",
       "      <th>69</th>\n",
       "      <th>70</th>\n",
       "      <th>71</th>\n",
       "      <th>72</th>\n",
       "      <th>73</th>\n",
       "      <th>74</th>\n",
       "      <th>75</th>\n",
       "      <th>dealer</th>\n",
       "    </tr>\n",
       "  </thead>\n",
       "  <tbody>\n",
       "    <tr>\n",
       "      <th>2014-10-16</th>\n",
       "      <td>NaN</td>\n",
       "      <td>NaN</td>\n",
       "      <td>NaN</td>\n",
       "      <td>NaN</td>\n",
       "      <td>NaN</td>\n",
       "      <td>NaN</td>\n",
       "      <td>NaN</td>\n",
       "      <td>NaN</td>\n",
       "      <td>NaN</td>\n",
       "      <td>NaN</td>\n",
       "      <td>...</td>\n",
       "      <td>NaN</td>\n",
       "      <td>NaN</td>\n",
       "      <td>NaN</td>\n",
       "      <td>NaN</td>\n",
       "      <td>0.551516</td>\n",
       "      <td>NaN</td>\n",
       "      <td>NaN</td>\n",
       "      <td>NaN</td>\n",
       "      <td>NaN</td>\n",
       "      <td>(10, StC)</td>\n",
       "    </tr>\n",
       "    <tr>\n",
       "      <th>2014-11-21</th>\n",
       "      <td>NaN</td>\n",
       "      <td>NaN</td>\n",
       "      <td>NaN</td>\n",
       "      <td>NaN</td>\n",
       "      <td>NaN</td>\n",
       "      <td>NaN</td>\n",
       "      <td>NaN</td>\n",
       "      <td>NaN</td>\n",
       "      <td>NaN</td>\n",
       "      <td>0.502222</td>\n",
       "      <td>...</td>\n",
       "      <td>NaN</td>\n",
       "      <td>NaN</td>\n",
       "      <td>NaN</td>\n",
       "      <td>NaN</td>\n",
       "      <td>NaN</td>\n",
       "      <td>NaN</td>\n",
       "      <td>NaN</td>\n",
       "      <td>NaN</td>\n",
       "      <td>NaN</td>\n",
       "      <td>(10, StC)</td>\n",
       "    </tr>\n",
       "    <tr>\n",
       "      <th>2015-02-25</th>\n",
       "      <td>NaN</td>\n",
       "      <td>NaN</td>\n",
       "      <td>NaN</td>\n",
       "      <td>NaN</td>\n",
       "      <td>NaN</td>\n",
       "      <td>NaN</td>\n",
       "      <td>NaN</td>\n",
       "      <td>NaN</td>\n",
       "      <td>NaN</td>\n",
       "      <td>NaN</td>\n",
       "      <td>...</td>\n",
       "      <td>NaN</td>\n",
       "      <td>NaN</td>\n",
       "      <td>NaN</td>\n",
       "      <td>NaN</td>\n",
       "      <td>NaN</td>\n",
       "      <td>NaN</td>\n",
       "      <td>NaN</td>\n",
       "      <td>NaN</td>\n",
       "      <td>NaN</td>\n",
       "      <td>(10, StC)</td>\n",
       "    </tr>\n",
       "  </tbody>\n",
       "</table>\n",
       "<p>3 rows × 76 columns</p>\n",
       "</div>"
      ],
      "text/plain": [
       "             1   2   3   4   5   6   7   8   9        10  ...  67  68  69  70  \\\n",
       "2014-10-16 NaN NaN NaN NaN NaN NaN NaN NaN NaN       NaN  ... NaN NaN NaN NaN   \n",
       "2014-11-21 NaN NaN NaN NaN NaN NaN NaN NaN NaN  0.502222  ... NaN NaN NaN NaN   \n",
       "2015-02-25 NaN NaN NaN NaN NaN NaN NaN NaN NaN       NaN  ... NaN NaN NaN NaN   \n",
       "\n",
       "                  71  72  73  74  75     dealer  \n",
       "2014-10-16  0.551516 NaN NaN NaN NaN  (10, StC)  \n",
       "2014-11-21       NaN NaN NaN NaN NaN  (10, StC)  \n",
       "2015-02-25       NaN NaN NaN NaN NaN  (10, StC)  \n",
       "\n",
       "[3 rows x 76 columns]"
      ]
     },
     "execution_count": 6,
     "metadata": {},
     "output_type": "execute_result"
    }
   ],
   "source": [
    "df.head(3)"
   ]
  },
  {
   "cell_type": "markdown",
   "metadata": {},
   "source": [
    "### topicXtime_sum"
   ]
  },
  {
   "cell_type": "code",
   "execution_count": 7,
   "metadata": {},
   "outputs": [],
   "source": [
    "df_topicXtime_sum = df.groupby(by=df.index).sum()"
   ]
  },
  {
   "cell_type": "code",
   "execution_count": 8,
   "metadata": {},
   "outputs": [],
   "source": [
    "#pd.DataFrame(preprocessing.normalize(df_topicXtime_sum,axis=0),index=df_topicXtime_sum.index,columns=df_topicXtime_sum.columns).sum()"
   ]
  },
  {
   "cell_type": "markdown",
   "metadata": {},
   "source": [
    "### Entropy\n",
    "-Sum(p_i * log(p_i)) where p_i is the normalized p such that Sum(p_i)=1"
   ]
  },
  {
   "cell_type": "code",
   "execution_count": 9,
   "metadata": {},
   "outputs": [],
   "source": [
    "p_i = df_topicXtime_sum.apply(lambda x: x / x.sum())"
   ]
  },
  {
   "cell_type": "code",
   "execution_count": 10,
   "metadata": {},
   "outputs": [
    {
     "name": "stderr",
     "output_type": "stream",
     "text": [
      "/home/raymond/anaconda3/envs/topicModeling/lib/python3.7/site-packages/ipykernel_launcher.py:1: RuntimeWarning: divide by zero encountered in log\n",
      "  \"\"\"Entry point for launching an IPython kernel.\n"
     ]
    }
   ],
   "source": [
    "df_topicXtime_sum_entropy = (p_i * np.log(p_i)).replace([np.inf, -np.inf], np.nan).sum() * -1"
   ]
  },
  {
   "cell_type": "code",
   "execution_count": 11,
   "metadata": {},
   "outputs": [
    {
     "data": {
      "text/plain": [
       "<matplotlib.axes._subplots.AxesSubplot at 0x7ff6a1852c88>"
      ]
     },
     "execution_count": 11,
     "metadata": {},
     "output_type": "execute_result"
    },
    {
     "data": {
      "image/png": "[encoded data removed]",
      "text/plain": [
       "<Figure size 432x288 with 1 Axes>"
      ]
     },
     "metadata": {
      "needs_background": "light"
     },
     "output_type": "display_data"
    }
   ],
   "source": [
    "df_topicXtime_sum_entropy.hist()"
   ]
  },
  {
   "cell_type": "code",
   "execution_count": 21,
   "metadata": {},
   "outputs": [
    {
     "data": {
      "text/plain": [
       "<matplotlib.axes._subplots.AxesSubplot at 0x7ff69dd51320>"
      ]
     },
     "execution_count": 21,
     "metadata": {},
     "output_type": "execute_result"
    },
    {
     "data": {
      "image/png": "[encoded data removed]",
      "text/plain": [
       "<Figure size 432x288 with 1 Axes>"
      ]
     },
     "metadata": {
      "needs_background": "light"
     },
     "output_type": "display_data"
    }
   ],
   "source": [
    "df_topicXtime_sum_entropy.plot.bar()"
   ]
  },
  {
   "cell_type": "code",
   "execution_count": 12,
   "metadata": {
    "scrolled": true
   },
   "outputs": [
    {
     "data": {
      "text/plain": [
       "31    5.712220\n",
       "32    5.912395\n",
       "33    5.405208\n",
       "34    6.036659\n",
       "35    6.142176\n",
       "36    5.899180\n",
       "37    6.162622\n",
       "38    4.535457\n",
       "39    5.986962\n",
       "40    6.115024\n",
       "dtype: float64"
      ]
     },
     "execution_count": 12,
     "metadata": {},
     "output_type": "execute_result"
    }
   ],
   "source": [
    "df_topicXtime_sum_entropy.iloc[30:40]"
   ]
  },
  {
   "cell_type": "code",
   "execution_count": 13,
   "metadata": {},
   "outputs": [],
   "source": [
    "#Dc_v3.groupby(by=Dc_v3.index).sum().to_csv('Dc_v3_50topics_topicXtime_sum.csv')"
   ]
  },
  {
   "cell_type": "code",
   "execution_count": 14,
   "metadata": {},
   "outputs": [
    {
     "data": {
      "image/png": "[encoded data removed]",
      "text/plain": [
       "<Figure size 432x288 with 2 Axes>"
      ]
     },
     "metadata": {
      "needs_background": "light"
     },
     "output_type": "display_data"
    }
   ],
   "source": [
    "fig, ax = plt.subplots()\n",
    "im = ax.imshow(df_topicXtime_sum,plt.get_cmap(\"jet\"),aspect='auto')\n",
    "\n",
    "# We want to show all ticks...\n",
    "ax.set_xticks(np.arange(len(df_topicXtime_sum.columns)))\n",
    "ax.set_yticks(np.arange(0,len(df_topicXtime_sum.index.date),22))\n",
    "# ... and label them with the respective list entries\n",
    "ax.set_xticklabels(df_topicXtime_sum.columns)\n",
    "ax.set_yticklabels(df_topicXtime_sum.index.date[::22])\n",
    "# Set axis labels\n",
    "ax.set_xlabel('Topic ID', fontsize=10)\n",
    "ax.set_ylabel('Time', fontsize=10)\n",
    "\n",
    "# Rotate the tick labels and set their alignment.\n",
    "plt.setp(ax.get_xticklabels(), rotation=45, ha=\"right\",\n",
    "         rotation_mode=\"anchor\")\n",
    "\n",
    "# Set color bar\n",
    "cbar = ax.figure.colorbar(im, ax=ax)\n",
    "cbar.ax.set_ylabel(\"sum of weightings\", rotation=-90, va=\"bottom\")\n",
    "\n",
    "ax.set_title(\"Dc_v4_75topics_topicXtime_sum_of_weightings\")\n",
    "fig.tight_layout()\n",
    "plt.show()\n",
    "fig.savefig('Dc_v4_75topics_topicXtime_sum_of_weightings.png',dpi=300)"
   ]
  },
  {
   "cell_type": "code",
   "execution_count": null,
   "metadata": {},
   "outputs": [],
   "source": [
    "fig, ax = plt.subplots()\n",
    "im = ax.imshow(preprocessing.minmax_scale(df_topicXtime_sum,feature_range=(0, 10)),plt.get_cmap(\"jet\"),aspect='auto')\n",
    "\n",
    "# We want to show all ticks...\n",
    "ax.set_xticks(np.arange(0,len(df_topicXtime_sum.columns),10))\n",
    "ax.set_yticks(np.arange(0,len(df_topicXtime_sum.index.date),22))\n",
    "# ... and label them with the respective list entries\n",
    "ax.set_xticklabels(df_topicXtime_sum.columns[::10])\n",
    "ax.set_yticklabels(df_topicXtime_sum.index.date[::22])\n",
    "# Set axis labels\n",
    "ax.set_xlabel('Topic ID', fontsize=10)\n",
    "ax.set_ylabel('Time', fontsize=10)\n",
    "\n",
    "# Rotate the tick labels and set their alignment.\n",
    "plt.setp(ax.get_xticklabels(), rotation=45, ha=\"right\",\n",
    "         rotation_mode=\"anchor\")\n",
    "\n",
    "# Set color bar\n",
    "cbar = ax.figure.colorbar(im, ax=ax)\n",
    "cbar.ax.set_ylabel(\"sum of weightings scale to [0,10]\", rotation=-90, va=\"bottom\")\n",
    "\n",
    "ax.set_title(\"Dc_v4_75topics_topicXtime_sum_of_weightings_with_scaling\")\n",
    "fig.tight_layout()\n",
    "plt.show()\n",
    "fig.savefig('Dc_v4_75topics_topicXtime_sum_of_weightings_with_scaling.png',dpi=300)"
   ]
  },
  {
   "cell_type": "markdown",
   "metadata": {},
   "source": [
    "### topicXtime_count"
   ]
  },
  {
   "cell_type": "code",
   "execution_count": null,
   "metadata": {},
   "outputs": [],
   "source": [
    "df_topicXtime_count = df.groupby(by=df.index).count().drop('dealer',axis=1)#[Dc_v3.columns[0:2]]"
   ]
  },
  {
   "cell_type": "code",
   "execution_count": null,
   "metadata": {},
   "outputs": [],
   "source": [
    "#Dc_v3.groupby(by=Dc_v3.index).count().to_csv('Dc_v3_50topics_topicXtime_count.csv')"
   ]
  },
  {
   "cell_type": "code",
   "execution_count": null,
   "metadata": {},
   "outputs": [],
   "source": [
    "#subset=[2,5,6,8,13,42,44,46,49,61,65,69,70,71,72,73,74,75]\n",
    "#df_topicXtime_count = df_topicXtime_count[[str(x) for x in subset]]"
   ]
  },
  {
   "cell_type": "code",
   "execution_count": null,
   "metadata": {},
   "outputs": [],
   "source": [
    "fig, ax = plt.subplots()\n",
    "im = ax.imshow(df_topicXtime_count,plt.get_cmap(\"jet\"),aspect='auto')\n",
    "\n",
    "# We want to show all ticks...\n",
    "ax.set_xticks(np.arange(0,len(df_topicXtime_count.columns),10))\n",
    "ax.set_yticks(np.arange(0,len(df_topicXtime_count.index.date),22))\n",
    "# ... and label them with the respective list entries\n",
    "ax.set_xticklabels(df_topicXtime_count.columns[::10])\n",
    "ax.set_yticklabels(df_topicXtime_count.index.date[::22])\n",
    "# Set axis labels\n",
    "ax.set_xlabel('Topic ID', fontsize=10)\n",
    "ax.set_ylabel('Time', fontsize=10)\n",
    "\n",
    "# Rotate the tick labels and set their alignment.\n",
    "plt.setp(ax.get_xticklabels(), rotation=45, ha=\"right\",\n",
    "         rotation_mode=\"anchor\")\n",
    "\n",
    "# Set color bar\n",
    "cbar = ax.figure.colorbar(im, ax=ax)\n",
    "cbar.ax.set_ylabel(\"count of documents\", rotation=-90, va=\"bottom\")\n",
    "\n",
    "ax.set_title(\"Dc_v4_75topics_topicXtime_count_of_documents\")\n",
    "fig.tight_layout()\n",
    "plt.show()\n",
    "fig.savefig('Dc_v4_75topics_topicXtime_count_of_documents.png',dpi=300)"
   ]
  },
  {
   "cell_type": "code",
   "execution_count": null,
   "metadata": {},
   "outputs": [],
   "source": [
    "fig, ax = plt.subplots()\n",
    "im = ax.imshow(preprocessing.minmax_scale(df_topicXtime_count,feature_range=(0, 10)),plt.get_cmap(\"jet\"),aspect='auto')\n",
    "\n",
    "# We want to show all ticks...\n",
    "ax.set_xticks(np.arange(0,len(df_topicXtime_count.columns),10))\n",
    "ax.set_yticks(np.arange(0,len(df_topicXtime_count.index.date),22))\n",
    "# ... and label them with the respective list entries\n",
    "ax.set_xticklabels(df_topicXtime_count.columns[::10])\n",
    "ax.set_yticklabels(df_topicXtime_count.index.date[::22])\n",
    "# Set axis labels\n",
    "ax.set_xlabel('Topic ID', fontsize=10)\n",
    "ax.set_ylabel('Time', fontsize=10)\n",
    "\n",
    "# Rotate the tick labels and set their alignment.\n",
    "plt.setp(ax.get_xticklabels(), rotation=45, ha=\"right\",\n",
    "         rotation_mode=\"anchor\")\n",
    "\n",
    "# Set color bar\n",
    "cbar = ax.figure.colorbar(im, ax=ax)\n",
    "cbar.ax.set_ylabel(\"count of documents with scaling to [0,10]\", rotation=-90, va=\"bottom\")\n",
    "\n",
    "ax.set_title(\"Dc_v4_75topics_topicXtime_count_of_documents\")\n",
    "fig.tight_layout()\n",
    "plt.show()\n",
    "fig.savefig('Dc_v4_75topics_topicXtime_count_of_documents_with_scaling.png',dpi=300)"
   ]
  },
  {
   "cell_type": "code",
   "execution_count": null,
   "metadata": {},
   "outputs": [],
   "source": [
    "df_topicXtime_sum.to_csv(\"Dc_v4_75topics_topicXtime_sum.csv\")\n",
    "df_topicXtime_count.to_csv(\"Dc_v4_75topics_topicXtime_count.csv\")"
   ]
  },
  {
   "cell_type": "code",
   "execution_count": null,
   "metadata": {},
   "outputs": [],
   "source": [
    "df_topicXtime_count.sum().describe()"
   ]
  },
  {
   "cell_type": "code",
   "execution_count": null,
   "metadata": {},
   "outputs": [],
   "source": [
    "df_topicXtime_count.sum(axis=1).describe()"
   ]
  },
  {
   "cell_type": "markdown",
   "metadata": {},
   "source": [
    "### topicXtime heatmap"
   ]
  },
  {
   "cell_type": "markdown",
   "metadata": {},
   "source": [
    "#### Try Plotly"
   ]
  },
  {
   "cell_type": "code",
   "execution_count": null,
   "metadata": {},
   "outputs": [],
   "source": [
    "#ax = sns.heatmap(topic_matrix.values.tolist(),vmin=0,vmax=1,center=0.5)"
   ]
  },
  {
   "cell_type": "raw",
   "metadata": {},
   "source": [
    "heatmap_data = [\n",
    "    go.Heatmap(\n",
    "        z=topic_matrix.fillna(0).values.tolist(),\n",
    "        zmin=0,\n",
    "        zmax=1,\n",
    "        #x=topic_matrix.index,\n",
    "        #y=topic_matrix.columns,\n",
    "        colorscale='Jet',\n",
    "    )\n",
    " ]\n",
    "\n",
    "layout = go.Layout(\n",
    "    title='{} - Topic-Time'.format(\"Tc_v1\"),\n",
    ")\n",
    "\n",
    "fig = go.Figure(data=heatmap_data, layout=layout)\n",
    "plotly.offline.plot(fig)"
   ]
  },
  {
   "cell_type": "code",
   "execution_count": null,
   "metadata": {},
   "outputs": [],
   "source": [
    "count_matrix = topic_matrix.groupby([\"dealer\"]).count()"
   ]
  },
  {
   "cell_type": "raw",
   "metadata": {},
   "source": [
    "data = [go.Heatmap( z=count_matrix.values.tolist(), colorscale='Viridis')]\n",
    "plotly.offline.iplot(data, filename='pandas-heatmap')"
   ]
  },
  {
   "cell_type": "code",
   "execution_count": null,
   "metadata": {},
   "outputs": [],
   "source": [
    "summary = topic_matrix.describe().T"
   ]
  },
  {
   "cell_type": "code",
   "execution_count": null,
   "metadata": {},
   "outputs": [],
   "source": [
    "summary['mean'].plot()"
   ]
  },
  {
   "cell_type": "code",
   "execution_count": null,
   "metadata": {},
   "outputs": [],
   "source": [
    "def get_dealer_by_ID(matrix,dealer_id,matrix_name):\n",
    "    result = matrix.loc[matrix['dealer'] == dealer_id].copy().drop(labels='dealer',axis=1)\n",
    "    return (result,dealer_id,matrix_name)"
   ]
  },
  {
   "cell_type": "code",
   "execution_count": null,
   "metadata": {},
   "outputs": [],
   "source": [
    "dealer_df_list = list(map(lambda x: get_dealer_by_ID(topic_matrix,x,\"Dc_v1\"),list(topic_matrix['dealer'].unique())))\n",
    "len(dealer_df_list)"
   ]
  },
  {
   "cell_type": "code",
   "execution_count": null,
   "metadata": {},
   "outputs": [],
   "source": [
    "#deque(map(topicXtime,dealer_df_list))"
   ]
  },
  {
   "cell_type": "code",
   "execution_count": null,
   "metadata": {},
   "outputs": [],
   "source": [
    "pio.orca.config\n",
    "plotly.io.orca.status\n",
    "\n",
    "cpu_cores = multiprocessing.cpu_count() - 1\n",
    "pool = multiprocessing.Pool(cpu_cores)\n",
    "pool.map(topicXtime_plotly_parallel,dealer_df_list)\n",
    "pool.close()"
   ]
  },
  {
   "cell_type": "markdown",
   "metadata": {},
   "source": [
    "#### Try mapplotlib"
   ]
  },
  {
   "cell_type": "code",
   "execution_count": null,
   "metadata": {},
   "outputs": [],
   "source": [
    "cpu_cores = int(multiprocessing.cpu_count()/2) -1\n",
    "pool = multiprocessing.Pool(cpu_cores)"
   ]
  },
  {
   "cell_type": "code",
   "execution_count": null,
   "metadata": {},
   "outputs": [],
   "source": [
    "pool.starmap(topicXtime_matplotlib,dealer_df_list)\n",
    "pool.close()"
   ]
  },
  {
   "cell_type": "markdown",
   "metadata": {},
   "source": [
    "#### Try Seaborn"
   ]
  },
  {
   "cell_type": "code",
   "execution_count": null,
   "metadata": {},
   "outputs": [],
   "source": [
    "sns.set()"
   ]
  },
  {
   "cell_type": "code",
   "execution_count": null,
   "metadata": {},
   "outputs": [],
   "source": [
    "month_list = list(OrderedDict.fromkeys(dealer_df_list[0][0].index.strftime('%Y-%m')))"
   ]
  },
  {
   "cell_type": "code",
   "execution_count": null,
   "metadata": {},
   "outputs": [],
   "source": [
    "ax = sns.heatmap(dealer_df_list[0][0].T.values,vmin=0,vmax=1,center=0.5,xticklabels=[0,50,100,150,200,250],yticklabels=month_list)\n",
    "\n",
    "num_x_ticks = 5\n",
    "# the index of the position of yticks\n",
    "xticks = np.linspace(0, len(dealer_df_list[0][0].columns) - 1, num_x_ticks, dtype=np.int)\n",
    "\n",
    "num_y_ticks = len(month_list)\n",
    "# the index of the position of yticks\n",
    "yticks = np.linspace(0, len(dealer_df_list[0][0].index) - 1, num_y_ticks, dtype=np.int)\n",
    "\n",
    "#ax.set_xticks(xticks)\n",
    "#ax.set_yticks(yticks)\n",
    "ax.set_autoscaley_on(True)\n",
    "ax.set_title('test')"
   ]
  },
  {
   "cell_type": "code",
   "execution_count": null,
   "metadata": {},
   "outputs": [],
   "source": [
    "import matplotlib.dates as mdates\n",
    "ax = sns.heatmap(dealer_df_list[0][0].T,vmin=0,vmax=1,center=0.5)\n",
    "\n",
    "ax.xaxis.set_major_locator(mdates.MonthLocator())\n",
    "ax.xaxis.set_major_formatter(mdates.DateFormatter('%Y-%m'))\n",
    "#ax.xaxis.set_minor_locator(mdates.DayLocator())\n",
    "\n",
    "#ax.set_xlim(dealer_df_list[0][0].index[0], dealer_df_list[0][0].index[-1])\n",
    "#ax.format_xdata = mdates.DateFormatter('%Y-%m-%d')\n",
    "\n",
    "figure = ax.get_figure()\n",
    "figure.savefig('test.png', dpi=400)"
   ]
  },
  {
   "cell_type": "code",
   "execution_count": null,
   "metadata": {},
   "outputs": [],
   "source": [
    "ax = sns.heatmap(dealer_df_list[0][0].T,vmin=0,vmax=1,center=0.5)"
   ]
  },
  {
   "cell_type": "code",
   "execution_count": null,
   "metadata": {},
   "outputs": [],
   "source": [
    "dealer_df_list[0][0].index[-1]"
   ]
  },
  {
   "cell_type": "code",
   "execution_count": null,
   "metadata": {},
   "outputs": [],
   "source": [
    "yticks"
   ]
  },
  {
   "cell_type": "code",
   "execution_count": null,
   "metadata": {},
   "outputs": [],
   "source": [
    "xticks"
   ]
  },
  {
   "cell_type": "code",
   "execution_count": null,
   "metadata": {},
   "outputs": [],
   "source": [
    "figure = ax.get_figure()\n",
    "figure.savefig('test.png', dpi=400)\n",
    "#figure.savefig('test.svg', format=\"svg\")"
   ]
  },
  {
   "cell_type": "code",
   "execution_count": null,
   "metadata": {},
   "outputs": [],
   "source": [
    "ax.fig.autofmt_ydate()"
   ]
  },
  {
   "cell_type": "code",
   "execution_count": null,
   "metadata": {},
   "outputs": [],
   "source": [
    "topic_matrix.corr().head()"
   ]
  },
  {
   "cell_type": "markdown",
   "metadata": {},
   "source": [
    "## Topic Terms Distribution\n",
    "Below is the topic terms ditrutbution demo. Since we already got Document X Topics, we want to have a Topic X Terms too."
   ]
  },
  {
   "cell_type": "code",
   "execution_count": null,
   "metadata": {},
   "outputs": [],
   "source": [
    "num_topics = 50\n",
    "model = load_model('Dc_v3',num_topics)"
   ]
  },
  {
   "cell_type": "code",
   "execution_count": null,
   "metadata": {},
   "outputs": [],
   "source": [
    "topic_terms_distribution = pd.DataFrame(model.get_topics())"
   ]
  },
  {
   "cell_type": "raw",
   "metadata": {},
   "source": [
    "model.print_topics(num_topics=num_topics, num_words=10)"
   ]
  },
  {
   "cell_type": "code",
   "execution_count": null,
   "metadata": {},
   "outputs": [],
   "source": [
    "topic_terms_distribution.head()"
   ]
  },
  {
   "cell_type": "raw",
   "metadata": {},
   "source": [
    "topic_terms_distribution.sum().sort_values(ascending=False)"
   ]
  },
  {
   "cell_type": "markdown",
   "metadata": {},
   "source": [
    "## Industy Analysis"
   ]
  },
  {
   "cell_type": "code",
   "execution_count": null,
   "metadata": {},
   "outputs": [],
   "source": [
    "data_path = get_pickle_directory() / 'TRACE2014_jinming.pkl'\n",
    "data = pd.read_pickle(data_path)"
   ]
  },
  {
   "cell_type": "code",
   "execution_count": null,
   "metadata": {},
   "outputs": [],
   "source": [
    "data.columns"
   ]
  },
  {
   "cell_type": "code",
   "execution_count": null,
   "metadata": {},
   "outputs": [],
   "source": [
    "print(\"We have {} rows of data\".format(data.shape[0]))"
   ]
  },
  {
   "cell_type": "code",
   "execution_count": null,
   "metadata": {},
   "outputs": [],
   "source": [
    "def fix_NAICS_Code(NAICS_Code):\n",
    "    \"Fix the problem that FISD omits 0 if NAICS_Code ends with 0\"\n",
    "    if len(str(NAICS_Code))==5:\n",
    "        NAICS_Code = NAICS_Code+'0'\n",
    "    return NAICS_Code\n",
    "fix_NAICS_Code_vectorize = np.vectorize(fix_NAICS_Code)\n",
    "data['NAICS_CODE'] = fix_NAICS_Code_vectorize(data['NAICS_CODE'].values)"
   ]
  },
  {
   "cell_type": "code",
   "execution_count": null,
   "metadata": {},
   "outputs": [],
   "source": [
    "data = data[['BOND_SYM_ID', 'INDUSTRY_GROUP', 'INDUSTRY_CODE', 'PARENT_ID', 'NAICS_CODE','SIC_CODE']].copy()"
   ]
  },
  {
   "cell_type": "code",
   "execution_count": null,
   "metadata": {},
   "outputs": [],
   "source": [
    "data['INDUSTRY_CODE'].value_counts().plot.pie()"
   ]
  },
  {
   "cell_type": "code",
   "execution_count": null,
   "metadata": {},
   "outputs": [],
   "source": [
    "# Get the NAICS_code lookup table\n",
    "NAICS_code_path = get_dataset_directory() / 'NAICS_Code_Lookup.csv'\n",
    "NAICS_code = pd.read_csv(NAICS_code_path,dtype={'Code':str,'Description':str})"
   ]
  },
  {
   "cell_type": "code",
   "execution_count": null,
   "metadata": {},
   "outputs": [],
   "source": [
    "# Group by BOND_SYM_ID and NAICS_CODE of \n",
    "NAICS_CODE_count = data['NAICS_CODE'].value_counts()\n",
    "# Series to DataFrame\n",
    "NAICS_CODE_count = NAICS_CODE_count.to_frame(name='count')"
   ]
  },
  {
   "cell_type": "code",
   "execution_count": null,
   "metadata": {},
   "outputs": [],
   "source": [
    "NAICS_code_total = NAICS_code.merge(NAICS_CODE_count,left_on='Code',right_index=True).sort_values(by=\"count\",ascending=False)\n",
    "NAICS_code_total['percentage'] = NAICS_code_total['count']/data.shape[0]"
   ]
  },
  {
   "cell_type": "code",
   "execution_count": null,
   "metadata": {},
   "outputs": [],
   "source": [
    "NAICS_code_total"
   ]
  },
  {
   "cell_type": "code",
   "execution_count": null,
   "metadata": {},
   "outputs": [],
   "source": [
    "(NAICS_code.merge(NAICS_CODE_count,left_on='Code',right_index=True).sort_values(by=\"count\",ascending=False)['count']/data.shape[0]).sum()"
   ]
  },
  {
   "cell_type": "code",
   "execution_count": null,
   "metadata": {},
   "outputs": [],
   "source": [
    "data.groupby(by=['NAICS_CODE'])['BOND_SYM_ID'].nunique().sort_values(ascending=False).head()"
   ]
  },
  {
   "cell_type": "code",
   "execution_count": null,
   "metadata": {},
   "outputs": [],
   "source": [
    "data.groupby(by=['BOND_SYM_ID'])"
   ]
  },
  {
   "cell_type": "code",
   "execution_count": null,
   "metadata": {},
   "outputs": [],
   "source": [
    "Bond_X_Industry = data.drop_duplicates(['BOND_SYM_ID'])"
   ]
  },
  {
   "cell_type": "code",
   "execution_count": null,
   "metadata": {},
   "outputs": [],
   "source": [
    "Bond_X_Industry.sort_values(by=['BOND_SYM_ID']).head()"
   ]
  },
  {
   "cell_type": "markdown",
   "metadata": {},
   "source": [
    "## Individual Check"
   ]
  },
  {
   "cell_type": "raw",
   "metadata": {},
   "source": [
    "data.loc[data['BOND_SYM_ID'] == \"AOI4075603\"].head(2)"
   ]
  },
  {
   "cell_type": "markdown",
   "metadata": {},
   "source": [
    "## Convergence Test"
   ]
  },
  {
   "cell_type": "code",
   "execution_count": null,
   "metadata": {},
   "outputs": [],
   "source": [
    "import re\n",
    "import matplotlib.pyplot as plt\n",
    "def convergence_likelyhood(model_name,num_topics):\n",
    "    p = re.compile(\"(-*\\d+\\.\\d+) per-word .* (\\d+\\.\\d+) perplexity\")\n",
    "    matches = [p.findall(l) for l in open('../LDAModel/{}_{}topics.log.txt'.format(model_name,num_topics))]\n",
    "    matches = [m for m in matches if len(m) > 0]\n",
    "    tuples = [t[0] for t in matches]\n",
    "    perplexity = [float(t[1]) for t in tuples]\n",
    "    liklihood = [float(t[0]) for t in tuples]\n",
    "    iter = list(range(0,len(tuples)*10,10))\n",
    "    plt.plot(iter,liklihood,c=\"black\")\n",
    "    plt.ylabel(\"log liklihood\")\n",
    "    plt.xlabel(\"iteration\")\n",
    "    plt.title(\"Topic Model Convergence\")\n",
    "    plt.grid()\n",
    "    plt.savefig(\"{}_{}topics.pdf\".format(model_name,num_topics))\n",
    "    plt.close()"
   ]
  },
  {
   "cell_type": "code",
   "execution_count": null,
   "metadata": {},
   "outputs": [],
   "source": [
    "#convergence_likelyhood(\"matrix_1\",250)"
   ]
  }
 ],
 "metadata": {
  "kernelspec": {
   "display_name": "Python 3",
   "language": "python",
   "name": "python3"
  },
  "language_info": {
   "codemirror_mode": {
    "name": "ipython",
    "version": 3
   },
   "file_extension": ".py",
   "mimetype": "text/x-python",
   "name": "python",
   "nbconvert_exporter": "python",
   "pygments_lexer": "ipython3",
   "version": "3.7.3"
  }
 },
 "nbformat": 4,
 "nbformat_minor": 2
}
