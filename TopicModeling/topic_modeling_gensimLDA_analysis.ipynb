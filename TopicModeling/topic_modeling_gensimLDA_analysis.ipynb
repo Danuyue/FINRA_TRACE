{
 "cells": [
  {
   "cell_type": "markdown",
   "metadata": {},
   "source": [
    "# Topic Model Analysis\n",
    "\n",
    "Todo: 1. industry : cusip to naics mapping 2. Topic evloution"
   ]
  },
  {
   "cell_type": "code",
   "execution_count": 44,
   "metadata": {
    "scrolled": true
   },
   "outputs": [
    {
     "data": {
      "text/html": [
       "<script type=\"text/javascript\">window.PlotlyConfig = {MathJaxConfig: 'local'};</script><script type=\"text/javascript\">if (window.MathJax) {MathJax.Hub.Config({SVG: {font: \"STIX-Web\"}});}</script><script>requirejs.config({paths: { 'plotly': ['https://cdn.plot.ly/plotly-latest.min']},});if(!window._Plotly) {require(['plotly'],function(plotly) {window._Plotly=plotly;});}</script>"
      ],
      "text/vnd.plotly.v1+html": [
       "<script type=\"text/javascript\">window.PlotlyConfig = {MathJaxConfig: 'local'};</script><script type=\"text/javascript\">if (window.MathJax) {MathJax.Hub.Config({SVG: {font: \"STIX-Web\"}});}</script><script>requirejs.config({paths: { 'plotly': ['https://cdn.plot.ly/plotly-latest.min']},});if(!window._Plotly) {require(['plotly'],function(plotly) {window._Plotly=plotly;});}</script>"
      ]
     },
     "metadata": {},
     "output_type": "display_data"
    }
   ],
   "source": [
    "import pandas as pd\n",
    "import numpy as np\n",
    "import os\n",
    "from pathlib import Path\n",
    "\n",
    "from compute_topic import *\n",
    "from manage_path import *\n",
    "from topic_model_analysis import *\n",
    "\n",
    "import plotly\n",
    "plotly.offline.init_notebook_mode(connected=True) \n",
    "import plotly.graph_objs as go\n",
    "import plotly.io as pio\n",
    "from itertools import repeat\n",
    "\n",
    "import multiprocessing\n",
    "from collections import deque\n",
    "\n",
    "import seaborn as sns\n",
    "import matplotlib.pyplot as plt\n",
    "\n",
    "from collections import OrderedDict"
   ]
  },
  {
   "cell_type": "raw",
   "metadata": {},
   "source": [
    "import datetime\n",
    "import plotly.plotly as py\n",
    "\n",
    "programmers = ['Alex','Nicole','Sara','Etienne','Chelsea','Jody','Marianne']\n",
    "\n",
    "base = datetime.datetime.today()\n",
    "date_list = [base - datetime.timedelta(days=x) for x in range(0, 180)]\n",
    "\n",
    "z = []\n",
    "\n",
    "for prgmr in programmers:\n",
    "    new_row = []\n",
    "    for date in date_list:\n",
    "        new_row.append( np.random.poisson() )\n",
    "    z.append(list(new_row))\n",
    "\n",
    "data = [\n",
    "    go.Heatmap(\n",
    "        z=z,\n",
    "        x=date_list,\n",
    "        y=programmers,\n",
    "        colorscale='Viridis',\n",
    "    )\n",
    "]\n",
    "\n",
    "layout = go.Layout(\n",
    "    title='GitHub commits per day',\n",
    "    xaxis = dict(ticks='', nticks=36),\n",
    "    yaxis = dict(ticks='' )\n",
    ")\n",
    "\n",
    "fig = go.Figure(data=data, layout=layout)\n",
    "plotly.offline.iplot(fig, filename='datetime-heatmap')"
   ]
  },
  {
   "cell_type": "markdown",
   "metadata": {},
   "source": [
    "## Topic Evolution\n",
    "1. Dc_v1: 1 document for buy and sell, per dealer, per day.\n",
    "2. Dc_v2: 1 document for buy and 1 document for sell, per dealer, per day.\n",
    "3. Dc_v3: Either DC_v1 or DC_v2 without the 2 (4) documents representing the Source_seller and Source_buyer.\n",
    "4. Tc_v1: 1 document for (buyer,seller,year)"
   ]
  },
  {
   "cell_type": "code",
   "execution_count": 151,
   "metadata": {},
   "outputs": [],
   "source": [
    "result_directory = get_result_directory()\n",
    "topic = pd.read_csv(result_directory/'Dc_v2_250topics.csv',index_col=0)"
   ]
  },
  {
   "cell_type": "code",
   "execution_count": 143,
   "metadata": {},
   "outputs": [
    {
     "data": {
      "text/html": [
       "<div>\n",
       "<style scoped>\n",
       "    .dataframe tbody tr th:only-of-type {\n",
       "        vertical-align: middle;\n",
       "    }\n",
       "\n",
       "    .dataframe tbody tr th {\n",
       "        vertical-align: top;\n",
       "    }\n",
       "\n",
       "    .dataframe thead th {\n",
       "        text-align: right;\n",
       "    }\n",
       "</style>\n",
       "<table border=\"1\" class=\"dataframe\">\n",
       "  <thead>\n",
       "    <tr style=\"text-align: right;\">\n",
       "      <th></th>\n",
       "      <th>0</th>\n",
       "      <th>1</th>\n",
       "      <th>2</th>\n",
       "      <th>3</th>\n",
       "      <th>4</th>\n",
       "      <th>5</th>\n",
       "      <th>6</th>\n",
       "      <th>7</th>\n",
       "      <th>8</th>\n",
       "      <th>9</th>\n",
       "      <th>...</th>\n",
       "      <th>240</th>\n",
       "      <th>241</th>\n",
       "      <th>242</th>\n",
       "      <th>243</th>\n",
       "      <th>244</th>\n",
       "      <th>245</th>\n",
       "      <th>246</th>\n",
       "      <th>247</th>\n",
       "      <th>248</th>\n",
       "      <th>249</th>\n",
       "    </tr>\n",
       "  </thead>\n",
       "  <tbody>\n",
       "    <tr>\n",
       "      <th>0,2014-01-01,S</th>\n",
       "      <td>NaN</td>\n",
       "      <td>NaN</td>\n",
       "      <td>NaN</td>\n",
       "      <td>NaN</td>\n",
       "      <td>NaN</td>\n",
       "      <td>NaN</td>\n",
       "      <td>NaN</td>\n",
       "      <td>0.502</td>\n",
       "      <td>NaN</td>\n",
       "      <td>NaN</td>\n",
       "      <td>...</td>\n",
       "      <td>NaN</td>\n",
       "      <td>NaN</td>\n",
       "      <td>NaN</td>\n",
       "      <td>NaN</td>\n",
       "      <td>NaN</td>\n",
       "      <td>NaN</td>\n",
       "      <td>NaN</td>\n",
       "      <td>NaN</td>\n",
       "      <td>NaN</td>\n",
       "      <td>NaN</td>\n",
       "    </tr>\n",
       "    <tr>\n",
       "      <th>0,2014-01-02,S</th>\n",
       "      <td>NaN</td>\n",
       "      <td>NaN</td>\n",
       "      <td>NaN</td>\n",
       "      <td>NaN</td>\n",
       "      <td>NaN</td>\n",
       "      <td>NaN</td>\n",
       "      <td>NaN</td>\n",
       "      <td>NaN</td>\n",
       "      <td>NaN</td>\n",
       "      <td>NaN</td>\n",
       "      <td>...</td>\n",
       "      <td>NaN</td>\n",
       "      <td>NaN</td>\n",
       "      <td>NaN</td>\n",
       "      <td>0.176914</td>\n",
       "      <td>NaN</td>\n",
       "      <td>NaN</td>\n",
       "      <td>NaN</td>\n",
       "      <td>NaN</td>\n",
       "      <td>NaN</td>\n",
       "      <td>NaN</td>\n",
       "    </tr>\n",
       "    <tr>\n",
       "      <th>0,2014-01-03,S</th>\n",
       "      <td>NaN</td>\n",
       "      <td>NaN</td>\n",
       "      <td>NaN</td>\n",
       "      <td>NaN</td>\n",
       "      <td>NaN</td>\n",
       "      <td>NaN</td>\n",
       "      <td>NaN</td>\n",
       "      <td>NaN</td>\n",
       "      <td>NaN</td>\n",
       "      <td>NaN</td>\n",
       "      <td>...</td>\n",
       "      <td>NaN</td>\n",
       "      <td>NaN</td>\n",
       "      <td>NaN</td>\n",
       "      <td>0.102419</td>\n",
       "      <td>NaN</td>\n",
       "      <td>NaN</td>\n",
       "      <td>NaN</td>\n",
       "      <td>NaN</td>\n",
       "      <td>NaN</td>\n",
       "      <td>NaN</td>\n",
       "    </tr>\n",
       "    <tr>\n",
       "      <th>0,2014-01-06,S</th>\n",
       "      <td>NaN</td>\n",
       "      <td>NaN</td>\n",
       "      <td>NaN</td>\n",
       "      <td>NaN</td>\n",
       "      <td>NaN</td>\n",
       "      <td>NaN</td>\n",
       "      <td>NaN</td>\n",
       "      <td>NaN</td>\n",
       "      <td>NaN</td>\n",
       "      <td>NaN</td>\n",
       "      <td>...</td>\n",
       "      <td>NaN</td>\n",
       "      <td>NaN</td>\n",
       "      <td>NaN</td>\n",
       "      <td>NaN</td>\n",
       "      <td>NaN</td>\n",
       "      <td>NaN</td>\n",
       "      <td>NaN</td>\n",
       "      <td>NaN</td>\n",
       "      <td>NaN</td>\n",
       "      <td>NaN</td>\n",
       "    </tr>\n",
       "    <tr>\n",
       "      <th>0,2014-01-07,S</th>\n",
       "      <td>NaN</td>\n",
       "      <td>NaN</td>\n",
       "      <td>NaN</td>\n",
       "      <td>NaN</td>\n",
       "      <td>NaN</td>\n",
       "      <td>NaN</td>\n",
       "      <td>NaN</td>\n",
       "      <td>NaN</td>\n",
       "      <td>NaN</td>\n",
       "      <td>NaN</td>\n",
       "      <td>...</td>\n",
       "      <td>NaN</td>\n",
       "      <td>NaN</td>\n",
       "      <td>NaN</td>\n",
       "      <td>NaN</td>\n",
       "      <td>NaN</td>\n",
       "      <td>NaN</td>\n",
       "      <td>NaN</td>\n",
       "      <td>NaN</td>\n",
       "      <td>NaN</td>\n",
       "      <td>NaN</td>\n",
       "    </tr>\n",
       "  </tbody>\n",
       "</table>\n",
       "<p>5 rows × 250 columns</p>\n",
       "</div>"
      ],
      "text/plain": [
       "                 0   1   2   3   4   5   6      7   8   9 ...   240  241  242  \\\n",
       "0,2014-01-01,S NaN NaN NaN NaN NaN NaN NaN  0.502 NaN NaN ...   NaN  NaN  NaN   \n",
       "0,2014-01-02,S NaN NaN NaN NaN NaN NaN NaN    NaN NaN NaN ...   NaN  NaN  NaN   \n",
       "0,2014-01-03,S NaN NaN NaN NaN NaN NaN NaN    NaN NaN NaN ...   NaN  NaN  NaN   \n",
       "0,2014-01-06,S NaN NaN NaN NaN NaN NaN NaN    NaN NaN NaN ...   NaN  NaN  NaN   \n",
       "0,2014-01-07,S NaN NaN NaN NaN NaN NaN NaN    NaN NaN NaN ...   NaN  NaN  NaN   \n",
       "\n",
       "                     243  244  245  246  247  248  249  \n",
       "0,2014-01-01,S       NaN  NaN  NaN  NaN  NaN  NaN  NaN  \n",
       "0,2014-01-02,S  0.176914  NaN  NaN  NaN  NaN  NaN  NaN  \n",
       "0,2014-01-03,S  0.102419  NaN  NaN  NaN  NaN  NaN  NaN  \n",
       "0,2014-01-06,S       NaN  NaN  NaN  NaN  NaN  NaN  NaN  \n",
       "0,2014-01-07,S       NaN  NaN  NaN  NaN  NaN  NaN  NaN  \n",
       "\n",
       "[5 rows x 250 columns]"
      ]
     },
     "execution_count": 143,
     "metadata": {},
     "output_type": "execute_result"
    }
   ],
   "source": [
    "topic.head()"
   ]
  },
  {
   "cell_type": "code",
   "execution_count": 144,
   "metadata": {},
   "outputs": [],
   "source": [
    "def get_document_item(document,position):\n",
    "    return str(document).split(',')[position]"
   ]
  },
  {
   "cell_type": "code",
   "execution_count": 145,
   "metadata": {},
   "outputs": [],
   "source": [
    "get_document_item_vectorize = np.vectorize(get_document_item)"
   ]
  },
  {
   "cell_type": "code",
   "execution_count": 154,
   "metadata": {},
   "outputs": [],
   "source": [
    "topic['dealer'] = pd.Series(list(zip(get_document_item_vectorize(topic.index,0),get_document_item_vectorize(topic.index,1)))).values"
   ]
  },
  {
   "cell_type": "code",
   "execution_count": 152,
   "metadata": {},
   "outputs": [
    {
     "data": {
      "text/plain": [
       "0             (0, 2014-01-01)\n",
       "1             (0, 2014-01-02)\n",
       "2             (0, 2014-01-03)\n",
       "3             (0, 2014-01-06)\n",
       "4             (0, 2014-01-07)\n",
       "5             (0, 2014-01-08)\n",
       "6             (0, 2014-01-09)\n",
       "7             (0, 2014-01-10)\n",
       "8             (0, 2014-01-13)\n",
       "9             (0, 2014-01-14)\n",
       "10            (0, 2014-01-15)\n",
       "11            (0, 2014-01-16)\n",
       "12            (0, 2014-01-17)\n",
       "13            (0, 2014-01-20)\n",
       "14            (0, 2014-01-21)\n",
       "15            (0, 2014-01-22)\n",
       "16            (0, 2014-01-23)\n",
       "17            (0, 2014-01-24)\n",
       "18            (0, 2014-01-27)\n",
       "19            (0, 2014-01-28)\n",
       "20            (0, 2014-01-29)\n",
       "21            (0, 2014-01-30)\n",
       "22            (0, 2014-01-31)\n",
       "23            (0, 2014-02-02)\n",
       "24            (0, 2014-02-03)\n",
       "25            (0, 2014-02-04)\n",
       "26            (0, 2014-02-05)\n",
       "27            (0, 2014-02-06)\n",
       "28            (0, 2014-02-07)\n",
       "29            (0, 2014-02-09)\n",
       "                 ...         \n",
       "196421    (99999, 2014-11-24)\n",
       "196422    (99999, 2014-11-25)\n",
       "196423    (99999, 2014-11-26)\n",
       "196424    (99999, 2014-11-27)\n",
       "196425    (99999, 2014-11-28)\n",
       "196426    (99999, 2014-11-30)\n",
       "196427    (99999, 2014-12-01)\n",
       "196428    (99999, 2014-12-02)\n",
       "196429    (99999, 2014-12-03)\n",
       "196430    (99999, 2014-12-04)\n",
       "196431    (99999, 2014-12-05)\n",
       "196432    (99999, 2014-12-07)\n",
       "196433    (99999, 2014-12-08)\n",
       "196434    (99999, 2014-12-09)\n",
       "196435    (99999, 2014-12-10)\n",
       "196436    (99999, 2014-12-11)\n",
       "196437    (99999, 2014-12-12)\n",
       "196438    (99999, 2014-12-14)\n",
       "196439    (99999, 2014-12-15)\n",
       "196440    (99999, 2014-12-16)\n",
       "196441    (99999, 2014-12-17)\n",
       "196442    (99999, 2014-12-18)\n",
       "196443    (99999, 2014-12-19)\n",
       "196444    (99999, 2014-12-22)\n",
       "196445    (99999, 2014-12-23)\n",
       "196446    (99999, 2014-12-24)\n",
       "196447    (99999, 2014-12-26)\n",
       "196448    (99999, 2014-12-29)\n",
       "196449    (99999, 2014-12-30)\n",
       "196450    (99999, 2014-12-31)\n",
       "Length: 196451, dtype: object"
      ]
     },
     "execution_count": 152,
     "metadata": {},
     "output_type": "execute_result"
    }
   ],
   "source": [
    "pd.Series(list(zip(get_document_item_vectorize(topic.index,0),get_document_item_vectorize(topic.index,1))))"
   ]
  },
  {
   "cell_type": "code",
   "execution_count": 147,
   "metadata": {},
   "outputs": [],
   "source": [
    "topic.index = pd.to_datetime(get_document_item_vectorize(topic.index,1))"
   ]
  },
  {
   "cell_type": "code",
   "execution_count": 148,
   "metadata": {},
   "outputs": [
    {
     "data": {
      "text/html": [
       "<div>\n",
       "<style scoped>\n",
       "    .dataframe tbody tr th:only-of-type {\n",
       "        vertical-align: middle;\n",
       "    }\n",
       "\n",
       "    .dataframe tbody tr th {\n",
       "        vertical-align: top;\n",
       "    }\n",
       "\n",
       "    .dataframe thead th {\n",
       "        text-align: right;\n",
       "    }\n",
       "</style>\n",
       "<table border=\"1\" class=\"dataframe\">\n",
       "  <thead>\n",
       "    <tr style=\"text-align: right;\">\n",
       "      <th></th>\n",
       "      <th>0</th>\n",
       "      <th>1</th>\n",
       "      <th>2</th>\n",
       "      <th>3</th>\n",
       "      <th>4</th>\n",
       "      <th>5</th>\n",
       "      <th>6</th>\n",
       "      <th>7</th>\n",
       "      <th>8</th>\n",
       "      <th>9</th>\n",
       "      <th>...</th>\n",
       "      <th>241</th>\n",
       "      <th>242</th>\n",
       "      <th>243</th>\n",
       "      <th>244</th>\n",
       "      <th>245</th>\n",
       "      <th>246</th>\n",
       "      <th>247</th>\n",
       "      <th>248</th>\n",
       "      <th>249</th>\n",
       "      <th>dealer</th>\n",
       "    </tr>\n",
       "  </thead>\n",
       "  <tbody>\n",
       "    <tr>\n",
       "      <th>2014-01-01</th>\n",
       "      <td>NaN</td>\n",
       "      <td>NaN</td>\n",
       "      <td>NaN</td>\n",
       "      <td>NaN</td>\n",
       "      <td>NaN</td>\n",
       "      <td>NaN</td>\n",
       "      <td>NaN</td>\n",
       "      <td>0.502</td>\n",
       "      <td>NaN</td>\n",
       "      <td>NaN</td>\n",
       "      <td>...</td>\n",
       "      <td>NaN</td>\n",
       "      <td>NaN</td>\n",
       "      <td>NaN</td>\n",
       "      <td>NaN</td>\n",
       "      <td>NaN</td>\n",
       "      <td>NaN</td>\n",
       "      <td>NaN</td>\n",
       "      <td>NaN</td>\n",
       "      <td>NaN</td>\n",
       "      <td>NaN</td>\n",
       "    </tr>\n",
       "    <tr>\n",
       "      <th>2014-01-02</th>\n",
       "      <td>NaN</td>\n",
       "      <td>NaN</td>\n",
       "      <td>NaN</td>\n",
       "      <td>NaN</td>\n",
       "      <td>NaN</td>\n",
       "      <td>NaN</td>\n",
       "      <td>NaN</td>\n",
       "      <td>NaN</td>\n",
       "      <td>NaN</td>\n",
       "      <td>NaN</td>\n",
       "      <td>...</td>\n",
       "      <td>NaN</td>\n",
       "      <td>NaN</td>\n",
       "      <td>0.176914</td>\n",
       "      <td>NaN</td>\n",
       "      <td>NaN</td>\n",
       "      <td>NaN</td>\n",
       "      <td>NaN</td>\n",
       "      <td>NaN</td>\n",
       "      <td>NaN</td>\n",
       "      <td>NaN</td>\n",
       "    </tr>\n",
       "    <tr>\n",
       "      <th>2014-01-03</th>\n",
       "      <td>NaN</td>\n",
       "      <td>NaN</td>\n",
       "      <td>NaN</td>\n",
       "      <td>NaN</td>\n",
       "      <td>NaN</td>\n",
       "      <td>NaN</td>\n",
       "      <td>NaN</td>\n",
       "      <td>NaN</td>\n",
       "      <td>NaN</td>\n",
       "      <td>NaN</td>\n",
       "      <td>...</td>\n",
       "      <td>NaN</td>\n",
       "      <td>NaN</td>\n",
       "      <td>0.102419</td>\n",
       "      <td>NaN</td>\n",
       "      <td>NaN</td>\n",
       "      <td>NaN</td>\n",
       "      <td>NaN</td>\n",
       "      <td>NaN</td>\n",
       "      <td>NaN</td>\n",
       "      <td>NaN</td>\n",
       "    </tr>\n",
       "    <tr>\n",
       "      <th>2014-01-06</th>\n",
       "      <td>NaN</td>\n",
       "      <td>NaN</td>\n",
       "      <td>NaN</td>\n",
       "      <td>NaN</td>\n",
       "      <td>NaN</td>\n",
       "      <td>NaN</td>\n",
       "      <td>NaN</td>\n",
       "      <td>NaN</td>\n",
       "      <td>NaN</td>\n",
       "      <td>NaN</td>\n",
       "      <td>...</td>\n",
       "      <td>NaN</td>\n",
       "      <td>NaN</td>\n",
       "      <td>NaN</td>\n",
       "      <td>NaN</td>\n",
       "      <td>NaN</td>\n",
       "      <td>NaN</td>\n",
       "      <td>NaN</td>\n",
       "      <td>NaN</td>\n",
       "      <td>NaN</td>\n",
       "      <td>NaN</td>\n",
       "    </tr>\n",
       "    <tr>\n",
       "      <th>2014-01-07</th>\n",
       "      <td>NaN</td>\n",
       "      <td>NaN</td>\n",
       "      <td>NaN</td>\n",
       "      <td>NaN</td>\n",
       "      <td>NaN</td>\n",
       "      <td>NaN</td>\n",
       "      <td>NaN</td>\n",
       "      <td>NaN</td>\n",
       "      <td>NaN</td>\n",
       "      <td>NaN</td>\n",
       "      <td>...</td>\n",
       "      <td>NaN</td>\n",
       "      <td>NaN</td>\n",
       "      <td>NaN</td>\n",
       "      <td>NaN</td>\n",
       "      <td>NaN</td>\n",
       "      <td>NaN</td>\n",
       "      <td>NaN</td>\n",
       "      <td>NaN</td>\n",
       "      <td>NaN</td>\n",
       "      <td>NaN</td>\n",
       "    </tr>\n",
       "  </tbody>\n",
       "</table>\n",
       "<p>5 rows × 251 columns</p>\n",
       "</div>"
      ],
      "text/plain": [
       "             0   1   2   3   4   5   6      7   8   9   ...    241  242  \\\n",
       "2014-01-01 NaN NaN NaN NaN NaN NaN NaN  0.502 NaN NaN   ...    NaN  NaN   \n",
       "2014-01-02 NaN NaN NaN NaN NaN NaN NaN    NaN NaN NaN   ...    NaN  NaN   \n",
       "2014-01-03 NaN NaN NaN NaN NaN NaN NaN    NaN NaN NaN   ...    NaN  NaN   \n",
       "2014-01-06 NaN NaN NaN NaN NaN NaN NaN    NaN NaN NaN   ...    NaN  NaN   \n",
       "2014-01-07 NaN NaN NaN NaN NaN NaN NaN    NaN NaN NaN   ...    NaN  NaN   \n",
       "\n",
       "                 243  244  245  246  247  248  249  dealer  \n",
       "2014-01-01       NaN  NaN  NaN  NaN  NaN  NaN  NaN     NaN  \n",
       "2014-01-02  0.176914  NaN  NaN  NaN  NaN  NaN  NaN     NaN  \n",
       "2014-01-03  0.102419  NaN  NaN  NaN  NaN  NaN  NaN     NaN  \n",
       "2014-01-06       NaN  NaN  NaN  NaN  NaN  NaN  NaN     NaN  \n",
       "2014-01-07       NaN  NaN  NaN  NaN  NaN  NaN  NaN     NaN  \n",
       "\n",
       "[5 rows x 251 columns]"
      ]
     },
     "execution_count": 148,
     "metadata": {},
     "output_type": "execute_result"
    }
   ],
   "source": [
    "topic.head()"
   ]
  },
  {
   "cell_type": "code",
   "execution_count": 8,
   "metadata": {},
   "outputs": [],
   "source": [
    "count_matrix = topic.groupby([\"dealer\"]).count()"
   ]
  },
  {
   "cell_type": "raw",
   "metadata": {},
   "source": [
    "data = [go.Heatmap( z=count_matrix.values.tolist(), colorscale='Viridis')]\n",
    "plotly.offline.iplot(data, filename='pandas-heatmap')"
   ]
  },
  {
   "cell_type": "code",
   "execution_count": 9,
   "metadata": {},
   "outputs": [
    {
     "data": {
      "text/html": [
       "<div>\n",
       "<style scoped>\n",
       "    .dataframe tbody tr th:only-of-type {\n",
       "        vertical-align: middle;\n",
       "    }\n",
       "\n",
       "    .dataframe tbody tr th {\n",
       "        vertical-align: top;\n",
       "    }\n",
       "\n",
       "    .dataframe thead th {\n",
       "        text-align: right;\n",
       "    }\n",
       "</style>\n",
       "<table border=\"1\" class=\"dataframe\">\n",
       "  <thead>\n",
       "    <tr style=\"text-align: right;\">\n",
       "      <th></th>\n",
       "      <th>0</th>\n",
       "      <th>1</th>\n",
       "      <th>2</th>\n",
       "      <th>3</th>\n",
       "      <th>4</th>\n",
       "      <th>5</th>\n",
       "      <th>6</th>\n",
       "      <th>7</th>\n",
       "      <th>8</th>\n",
       "      <th>9</th>\n",
       "      <th>...</th>\n",
       "      <th>240</th>\n",
       "      <th>241</th>\n",
       "      <th>242</th>\n",
       "      <th>243</th>\n",
       "      <th>244</th>\n",
       "      <th>245</th>\n",
       "      <th>246</th>\n",
       "      <th>247</th>\n",
       "      <th>248</th>\n",
       "      <th>249</th>\n",
       "    </tr>\n",
       "  </thead>\n",
       "  <tbody>\n",
       "    <tr>\n",
       "      <th>count</th>\n",
       "      <td>966.000000</td>\n",
       "      <td>436.000000</td>\n",
       "      <td>751.000000</td>\n",
       "      <td>368.000000</td>\n",
       "      <td>534.000000</td>\n",
       "      <td>1713.000000</td>\n",
       "      <td>144.000000</td>\n",
       "      <td>1567.000000</td>\n",
       "      <td>1001.000000</td>\n",
       "      <td>506.000000</td>\n",
       "      <td>...</td>\n",
       "      <td>988.000000</td>\n",
       "      <td>611.000000</td>\n",
       "      <td>410.000000</td>\n",
       "      <td>632.000000</td>\n",
       "      <td>401.000000</td>\n",
       "      <td>641.000000</td>\n",
       "      <td>539.000000</td>\n",
       "      <td>183.000000</td>\n",
       "      <td>922.000000</td>\n",
       "      <td>742.000000</td>\n",
       "    </tr>\n",
       "    <tr>\n",
       "      <th>mean</th>\n",
       "      <td>0.292779</td>\n",
       "      <td>0.332736</td>\n",
       "      <td>0.310922</td>\n",
       "      <td>0.335785</td>\n",
       "      <td>0.304158</td>\n",
       "      <td>0.347855</td>\n",
       "      <td>0.315025</td>\n",
       "      <td>0.300752</td>\n",
       "      <td>0.342264</td>\n",
       "      <td>0.375212</td>\n",
       "      <td>...</td>\n",
       "      <td>0.337672</td>\n",
       "      <td>0.308977</td>\n",
       "      <td>0.352651</td>\n",
       "      <td>0.294315</td>\n",
       "      <td>0.296049</td>\n",
       "      <td>0.328182</td>\n",
       "      <td>0.346033</td>\n",
       "      <td>0.310650</td>\n",
       "      <td>0.330181</td>\n",
       "      <td>0.307890</td>\n",
       "    </tr>\n",
       "    <tr>\n",
       "      <th>std</th>\n",
       "      <td>0.176539</td>\n",
       "      <td>0.208902</td>\n",
       "      <td>0.190468</td>\n",
       "      <td>0.195945</td>\n",
       "      <td>0.180112</td>\n",
       "      <td>0.204520</td>\n",
       "      <td>0.199633</td>\n",
       "      <td>0.187705</td>\n",
       "      <td>0.198124</td>\n",
       "      <td>0.230252</td>\n",
       "      <td>...</td>\n",
       "      <td>0.198415</td>\n",
       "      <td>0.189909</td>\n",
       "      <td>0.163064</td>\n",
       "      <td>0.186423</td>\n",
       "      <td>0.184763</td>\n",
       "      <td>0.194131</td>\n",
       "      <td>0.199031</td>\n",
       "      <td>0.190417</td>\n",
       "      <td>0.201678</td>\n",
       "      <td>0.186158</td>\n",
       "    </tr>\n",
       "    <tr>\n",
       "      <th>min</th>\n",
       "      <td>0.100444</td>\n",
       "      <td>0.100464</td>\n",
       "      <td>0.100717</td>\n",
       "      <td>0.100385</td>\n",
       "      <td>0.100018</td>\n",
       "      <td>0.100200</td>\n",
       "      <td>0.100495</td>\n",
       "      <td>0.100141</td>\n",
       "      <td>0.100169</td>\n",
       "      <td>0.100748</td>\n",
       "      <td>...</td>\n",
       "      <td>0.100400</td>\n",
       "      <td>0.100216</td>\n",
       "      <td>0.100061</td>\n",
       "      <td>0.100248</td>\n",
       "      <td>0.100159</td>\n",
       "      <td>0.100200</td>\n",
       "      <td>0.100400</td>\n",
       "      <td>0.100980</td>\n",
       "      <td>0.100115</td>\n",
       "      <td>0.100294</td>\n",
       "    </tr>\n",
       "    <tr>\n",
       "      <th>25%</th>\n",
       "      <td>0.159304</td>\n",
       "      <td>0.160486</td>\n",
       "      <td>0.165785</td>\n",
       "      <td>0.173176</td>\n",
       "      <td>0.162147</td>\n",
       "      <td>0.182182</td>\n",
       "      <td>0.144453</td>\n",
       "      <td>0.157904</td>\n",
       "      <td>0.182182</td>\n",
       "      <td>0.175009</td>\n",
       "      <td>...</td>\n",
       "      <td>0.175379</td>\n",
       "      <td>0.165581</td>\n",
       "      <td>0.217816</td>\n",
       "      <td>0.149599</td>\n",
       "      <td>0.153037</td>\n",
       "      <td>0.175974</td>\n",
       "      <td>0.181849</td>\n",
       "      <td>0.167134</td>\n",
       "      <td>0.171319</td>\n",
       "      <td>0.165880</td>\n",
       "    </tr>\n",
       "    <tr>\n",
       "      <th>50%</th>\n",
       "      <td>0.234391</td>\n",
       "      <td>0.266078</td>\n",
       "      <td>0.247073</td>\n",
       "      <td>0.280969</td>\n",
       "      <td>0.250500</td>\n",
       "      <td>0.286160</td>\n",
       "      <td>0.251000</td>\n",
       "      <td>0.241378</td>\n",
       "      <td>0.286072</td>\n",
       "      <td>0.298403</td>\n",
       "      <td>...</td>\n",
       "      <td>0.285396</td>\n",
       "      <td>0.248742</td>\n",
       "      <td>0.355153</td>\n",
       "      <td>0.223892</td>\n",
       "      <td>0.227986</td>\n",
       "      <td>0.253102</td>\n",
       "      <td>0.286286</td>\n",
       "      <td>0.246850</td>\n",
       "      <td>0.264961</td>\n",
       "      <td>0.250353</td>\n",
       "    </tr>\n",
       "    <tr>\n",
       "      <th>75%</th>\n",
       "      <td>0.366196</td>\n",
       "      <td>0.500666</td>\n",
       "      <td>0.400800</td>\n",
       "      <td>0.458755</td>\n",
       "      <td>0.400800</td>\n",
       "      <td>0.500859</td>\n",
       "      <td>0.448390</td>\n",
       "      <td>0.391686</td>\n",
       "      <td>0.478810</td>\n",
       "      <td>0.588955</td>\n",
       "      <td>...</td>\n",
       "      <td>0.431591</td>\n",
       "      <td>0.400800</td>\n",
       "      <td>0.461100</td>\n",
       "      <td>0.398996</td>\n",
       "      <td>0.401794</td>\n",
       "      <td>0.447955</td>\n",
       "      <td>0.501153</td>\n",
       "      <td>0.415885</td>\n",
       "      <td>0.409699</td>\n",
       "      <td>0.400800</td>\n",
       "    </tr>\n",
       "    <tr>\n",
       "      <th>max</th>\n",
       "      <td>0.917000</td>\n",
       "      <td>0.935613</td>\n",
       "      <td>0.954606</td>\n",
       "      <td>0.941412</td>\n",
       "      <td>0.909455</td>\n",
       "      <td>0.960160</td>\n",
       "      <td>0.911634</td>\n",
       "      <td>0.978808</td>\n",
       "      <td>0.975743</td>\n",
       "      <td>0.963111</td>\n",
       "      <td>...</td>\n",
       "      <td>0.968601</td>\n",
       "      <td>0.937750</td>\n",
       "      <td>0.971543</td>\n",
       "      <td>0.963709</td>\n",
       "      <td>0.945794</td>\n",
       "      <td>0.952571</td>\n",
       "      <td>0.978808</td>\n",
       "      <td>0.984909</td>\n",
       "      <td>0.993447</td>\n",
       "      <td>0.875500</td>\n",
       "    </tr>\n",
       "  </tbody>\n",
       "</table>\n",
       "<p>8 rows × 250 columns</p>\n",
       "</div>"
      ],
      "text/plain": [
       "                0           1           2           3           4  \\\n",
       "count  966.000000  436.000000  751.000000  368.000000  534.000000   \n",
       "mean     0.292779    0.332736    0.310922    0.335785    0.304158   \n",
       "std      0.176539    0.208902    0.190468    0.195945    0.180112   \n",
       "min      0.100444    0.100464    0.100717    0.100385    0.100018   \n",
       "25%      0.159304    0.160486    0.165785    0.173176    0.162147   \n",
       "50%      0.234391    0.266078    0.247073    0.280969    0.250500   \n",
       "75%      0.366196    0.500666    0.400800    0.458755    0.400800   \n",
       "max      0.917000    0.935613    0.954606    0.941412    0.909455   \n",
       "\n",
       "                 5           6            7            8           9  \\\n",
       "count  1713.000000  144.000000  1567.000000  1001.000000  506.000000   \n",
       "mean      0.347855    0.315025     0.300752     0.342264    0.375212   \n",
       "std       0.204520    0.199633     0.187705     0.198124    0.230252   \n",
       "min       0.100200    0.100495     0.100141     0.100169    0.100748   \n",
       "25%       0.182182    0.144453     0.157904     0.182182    0.175009   \n",
       "50%       0.286160    0.251000     0.241378     0.286072    0.298403   \n",
       "75%       0.500859    0.448390     0.391686     0.478810    0.588955   \n",
       "max       0.960160    0.911634     0.978808     0.975743    0.963111   \n",
       "\n",
       "          ...             240         241         242         243         244  \\\n",
       "count     ...      988.000000  611.000000  410.000000  632.000000  401.000000   \n",
       "mean      ...        0.337672    0.308977    0.352651    0.294315    0.296049   \n",
       "std       ...        0.198415    0.189909    0.163064    0.186423    0.184763   \n",
       "min       ...        0.100400    0.100216    0.100061    0.100248    0.100159   \n",
       "25%       ...        0.175379    0.165581    0.217816    0.149599    0.153037   \n",
       "50%       ...        0.285396    0.248742    0.355153    0.223892    0.227986   \n",
       "75%       ...        0.431591    0.400800    0.461100    0.398996    0.401794   \n",
       "max       ...        0.968601    0.937750    0.971543    0.963709    0.945794   \n",
       "\n",
       "              245         246         247         248         249  \n",
       "count  641.000000  539.000000  183.000000  922.000000  742.000000  \n",
       "mean     0.328182    0.346033    0.310650    0.330181    0.307890  \n",
       "std      0.194131    0.199031    0.190417    0.201678    0.186158  \n",
       "min      0.100200    0.100400    0.100980    0.100115    0.100294  \n",
       "25%      0.175974    0.181849    0.167134    0.171319    0.165880  \n",
       "50%      0.253102    0.286286    0.246850    0.264961    0.250353  \n",
       "75%      0.447955    0.501153    0.415885    0.409699    0.400800  \n",
       "max      0.952571    0.978808    0.984909    0.993447    0.875500  \n",
       "\n",
       "[8 rows x 250 columns]"
      ]
     },
     "execution_count": 9,
     "metadata": {},
     "output_type": "execute_result"
    }
   ],
   "source": [
    "topic.describe()"
   ]
  },
  {
   "cell_type": "raw",
   "metadata": {},
   "source": [
    "def topicXtime(dealer_id,matrix,matrix_name):\n",
    "    dealer_data = matrix.loc[matrix['dealer'] == dealer_id].copy().drop(labels='dealer',axis=1)\n",
    "    matrix = None\n",
    "    \n",
    "    heatmap_data = [\n",
    "        go.Heatmap(\n",
    "            z=dealer_data.values.tolist(),\n",
    "            x=dealer_data.columns,\n",
    "            y=dealer_data.index,\n",
    "            colorscale='Jet',\n",
    "        )\n",
    "    ]\n",
    "\n",
    "    layout = go.Layout(\n",
    "        title='{} Dealer {}: Topic-Time'.format(matrix_name,dealer_id),\n",
    "        #xaxis = dict(ticks='', nticks=36),\n",
    "        #yaxis = dict(ticks='' )\n",
    "    )\n",
    "    \n",
    "    fig = go.Figure(data=heatmap_data, layout=layout)\n",
    "    #plotly.offline.iplot(fig, filename='topicXtime-heatmap')\n",
    "\n",
    "    image_directory = get_image_directory()\n",
    "    pio.write_image(fig, image_directory / '{}_dealer{}_topic_time.svg'.format(matrix_name,dealer_id))"
   ]
  },
  {
   "cell_type": "code",
   "execution_count": 92,
   "metadata": {},
   "outputs": [],
   "source": [
    "def get_dealer_by_ID(matrix,dealer_id,matrix_name):\n",
    "    result = matrix.loc[matrix['dealer'] == dealer_id].copy().drop(labels='dealer',axis=1)\n",
    "    return (result,dealer_id,matrix_name)\n",
    "\n",
    "def topicXtime(dealer_data):\n",
    "    dealer_data,dealer_id,matrix_name = dealer_data[0],dealer_data[1],dealer_data[2]\n",
    "    \n",
    "    heatmap_data = [\n",
    "        go.Heatmap(\n",
    "            z=dealer_data.values.tolist(),\n",
    "            zmin=0,\n",
    "            zmax=1,\n",
    "            x=dealer_data.columns,\n",
    "            y=dealer_data.index,\n",
    "            colorscale='Jet',\n",
    "        )\n",
    "    ]\n",
    "\n",
    "    layout = go.Layout(\n",
    "        title='{} Dealer {}: Topic-Time'.format(matrix_name,dealer_id),\n",
    "        #xaxis = dict(ticks='', nticks=36),\n",
    "        #yaxis = dict(ticks='' )\n",
    "    )\n",
    "    \n",
    "    fig = go.Figure(data=heatmap_data, layout=layout)\n",
    "    #plotly.offline.iplot(fig, filename='topicXtime-heatmap')\n",
    "\n",
    "    image_directory = get_image_directory() / '{}'.format(matrix_name)\n",
    "    if not image_directory.is_dir():\n",
    "        create_directory(image_directory)\n",
    "    file_path = image_directory / '{}_dealer{}_topic_time.svg'.format(matrix_name,dealer_id)\n",
    "    pio.write_image(fig, str(file_path))"
   ]
  },
  {
   "cell_type": "raw",
   "metadata": {},
   "source": [
    "def get_dealer_by_ID(matrix,dealer_id,matrix_name):\n",
    "    result = matrix.loc[matrix['dealer'] == dealer_id].copy().drop(labels='dealer',axis=1)\n",
    "    return (result,dealer_id,matrix_name)\n",
    "\n",
    "def topicXtime(dealer_data,dealer_id,matrix_name):\n",
    "    \n",
    "    heatmap_data = [\n",
    "        go.Heatmap(\n",
    "            z=dealer_data.values.tolist(),\n",
    "            zmin=0,\n",
    "            zmax=1,\n",
    "            x=dealer_data.columns,\n",
    "            y=dealer_data.index,\n",
    "            colorscale='Jet',\n",
    "        )\n",
    "    ]\n",
    "\n",
    "    layout = go.Layout(\n",
    "        title='{} Dealer {}: Topic-Time'.format(matrix_name,dealer_id),\n",
    "        #xaxis = dict(ticks='', nticks=36),\n",
    "        #yaxis = dict(ticks='' )\n",
    "    )\n",
    "    \n",
    "    fig = go.Figure(data=heatmap_data, layout=layout)\n",
    "    #plotly.offline.iplot(fig, filename='topicXtime-heatmap')\n",
    "\n",
    "    image_directory = get_image_directory() / '{}'.format(matrix_name)\n",
    "    if not image_directory.is_dir():\n",
    "        create_directory(image_directory)\n",
    "    file_path = image_directory / '{}_dealer{}_topic_time.svg'.format(matrix_name,dealer_id)\n",
    "    pio.write_image(fig, str(file_path))\n",
    "    return \"successful\""
   ]
  },
  {
   "cell_type": "code",
   "execution_count": 97,
   "metadata": {},
   "outputs": [
    {
     "data": {
      "text/plain": [
       "100"
      ]
     },
     "execution_count": 97,
     "metadata": {},
     "output_type": "execute_result"
    }
   ],
   "source": [
    "dealer_df_list = list(map(lambda x: get_dealer_by_ID(topic,x,\"Dc_v1\"),list(topic['dealer'].unique()[0:100])))\n",
    "len(dealer_df_list)"
   ]
  },
  {
   "cell_type": "code",
   "execution_count": 98,
   "metadata": {},
   "outputs": [
    {
     "data": {
      "text/plain": [
       "deque([None,\n",
       "       None,\n",
       "       None,\n",
       "       None,\n",
       "       None,\n",
       "       None,\n",
       "       None,\n",
       "       None,\n",
       "       None,\n",
       "       None,\n",
       "       None,\n",
       "       None,\n",
       "       None,\n",
       "       None,\n",
       "       None,\n",
       "       None,\n",
       "       None,\n",
       "       None,\n",
       "       None,\n",
       "       None,\n",
       "       None,\n",
       "       None,\n",
       "       None,\n",
       "       None,\n",
       "       None,\n",
       "       None,\n",
       "       None,\n",
       "       None,\n",
       "       None,\n",
       "       None,\n",
       "       None,\n",
       "       None,\n",
       "       None,\n",
       "       None,\n",
       "       None,\n",
       "       None,\n",
       "       None,\n",
       "       None,\n",
       "       None,\n",
       "       None,\n",
       "       None,\n",
       "       None,\n",
       "       None,\n",
       "       None,\n",
       "       None,\n",
       "       None,\n",
       "       None,\n",
       "       None,\n",
       "       None,\n",
       "       None,\n",
       "       None,\n",
       "       None,\n",
       "       None,\n",
       "       None,\n",
       "       None,\n",
       "       None,\n",
       "       None,\n",
       "       None,\n",
       "       None,\n",
       "       None,\n",
       "       None,\n",
       "       None,\n",
       "       None,\n",
       "       None,\n",
       "       None,\n",
       "       None,\n",
       "       None,\n",
       "       None,\n",
       "       None,\n",
       "       None,\n",
       "       None,\n",
       "       None,\n",
       "       None,\n",
       "       None,\n",
       "       None,\n",
       "       None,\n",
       "       None,\n",
       "       None,\n",
       "       None,\n",
       "       None,\n",
       "       None,\n",
       "       None,\n",
       "       None,\n",
       "       None,\n",
       "       None,\n",
       "       None,\n",
       "       None,\n",
       "       None,\n",
       "       None,\n",
       "       None,\n",
       "       None,\n",
       "       None,\n",
       "       None,\n",
       "       None,\n",
       "       None,\n",
       "       None,\n",
       "       None,\n",
       "       None,\n",
       "       None,\n",
       "       None])"
      ]
     },
     "execution_count": 98,
     "metadata": {},
     "output_type": "execute_result"
    }
   ],
   "source": [
    "deque(map(topicXtime,dealer_df_list))"
   ]
  },
  {
   "cell_type": "code",
   "execution_count": 101,
   "metadata": {},
   "outputs": [
    {
     "data": {
      "text/plain": [
       "orca configuration\n",
       "------------------\n",
       "    executable: orca\n",
       "    port: None\n",
       "    timeout: None\n",
       "    default_width: None\n",
       "    default_height: None\n",
       "    default_scale: 1\n",
       "    default_format: png\n",
       "    mathjax: https://cdnjs.cloudflare.com/ajax/libs/mathjax/2.7.5/MathJax.js\n",
       "    topojson: None\n",
       "    mapbox_access_token: None\n",
       "\n",
       "constants\n",
       "---------\n",
       "    plotlyjs: C:\\Users\\raymo\\Anaconda3\\envs\\topicModeling\\lib\\site-packages\\plotly\\package_data\\plotly.min.js \n",
       "    config_file: C:\\Users\\raymo\\.plotly\\.orca\n"
      ]
     },
     "execution_count": 101,
     "metadata": {},
     "output_type": "execute_result"
    }
   ],
   "source": [
    "pio.orca.config"
   ]
  },
  {
   "cell_type": "code",
   "execution_count": 102,
   "metadata": {},
   "outputs": [
    {
     "data": {
      "text/plain": [
       "orca status\n",
       "-----------\n",
       "    state: running\n",
       "    executable: C:\\Users\\raymo\\Anaconda3\\envs\\topicModeling\\orca.CMD\n",
       "    version: 1.2.1\n",
       "    port: 50285\n",
       "    pid: 8456\n",
       "    command: ['C:\\\\Users\\\\raymo\\\\Anaconda3\\\\envs\\\\topicModeling\\\\orca.CMD', 'serve', '-p', '50285', '--plotly', 'C:\\\\Users\\\\raymo\\\\Anaconda3\\\\envs\\\\topicModeling\\\\lib\\\\site-packages\\\\plotly\\\\package_data\\\\plotly.min.js', '--graph-only', '--mathjax', 'https://cdnjs.cloudflare.com/ajax/libs/mathjax/2.7.5/MathJax.js']\n",
       "    "
      ]
     },
     "execution_count": 102,
     "metadata": {},
     "output_type": "execute_result"
    }
   ],
   "source": [
    "plotly.io.orca.status"
   ]
  },
  {
   "cell_type": "code",
   "execution_count": 91,
   "metadata": {},
   "outputs": [],
   "source": [
    "cpu_cores = multiprocessing.cpu_count() - 1\n",
    "pool = multiprocessing.Pool(cpu_cores)\n",
    "#pool.starmap(topicXtime,dealer_df_list)\n",
    "pool.close()"
   ]
  },
  {
   "cell_type": "markdown",
   "metadata": {},
   "source": [
    "### Try Seaborn"
   ]
  },
  {
   "cell_type": "code",
   "execution_count": 48,
   "metadata": {},
   "outputs": [],
   "source": [
    "sns.set()"
   ]
  },
  {
   "cell_type": "code",
   "execution_count": 49,
   "metadata": {},
   "outputs": [],
   "source": [
    "month_list = list(OrderedDict.fromkeys(dealer_df_list[0][0].index.strftime('%Y-%m')))"
   ]
  },
  {
   "cell_type": "code",
   "execution_count": 85,
   "metadata": {},
   "outputs": [
    {
     "data": {
      "text/plain": [
       "Text(0.5, 1.0, 'test')"
      ]
     },
     "execution_count": 85,
     "metadata": {},
     "output_type": "execute_result"
    },
    {
     "data": {
      "image/png": "[encoded data removed]",
      "text/plain": [
       "<Figure size 432x288 with 2 Axes>"
      ]
     },
     "metadata": {},
     "output_type": "display_data"
    }
   ],
   "source": [
    "ax = sns.heatmap(dealer_df_list[0][0],vmin=0,vmax=1,center=0.5,xticklabels=[0,50,100,150,200,250],yticklabels=month_list)\n",
    "\n",
    "num_x_ticks = 5\n",
    "# the index of the position of yticks\n",
    "xticks = np.linspace(0, len(dealer_df_list[0][0].columns) - 1, num_x_ticks, dtype=np.int)\n",
    "\n",
    "num_y_ticks = len(month_list)\n",
    "# the index of the position of yticks\n",
    "yticks = np.linspace(0, len(dealer_df_list[0][0].index) - 1, num_y_ticks, dtype=np.int)\n",
    "\n",
    "#ax.set_xticks(xticks)\n",
    "#ax.set_yticks(yticks)\n",
    "ax.set_autoscaley_on(True)\n",
    "ax.set_title('test')"
   ]
  },
  {
   "cell_type": "code",
   "execution_count": 90,
   "metadata": {},
   "outputs": [
    {
     "data": {
      "image/png": "[encoded data removed]",
      "text/plain": [
       "<Figure size 432x288 with 2 Axes>"
      ]
     },
     "metadata": {},
     "output_type": "display_data"
    }
   ],
   "source": [
    "import matplotlib.dates as mdates\n",
    "ax = sns.heatmap(dealer_df_list[0][0],vmin=0,vmax=1,center=0.5)\n",
    "\n",
    "ax.yaxis.set_major_locator(mdates.MonthLocator())\n",
    "ax.yaxis.set_minor_locator(mdates.DayLocator())\n",
    "#ax.yaxis.set_major_formatter(mdates.DateFormatter('%b'))\n",
    "figure = ax.get_figure()\n",
    "figure.savefig('test.png', dpi=400)"
   ]
  },
  {
   "cell_type": "code",
   "execution_count": 83,
   "metadata": {},
   "outputs": [
    {
     "data": {
      "text/plain": [
       "array([  0,  26,  52,  78, 104, 130, 156, 182, 208, 234, 260, 287])"
      ]
     },
     "execution_count": 83,
     "metadata": {},
     "output_type": "execute_result"
    }
   ],
   "source": [
    "yticks"
   ]
  },
  {
   "cell_type": "code",
   "execution_count": 82,
   "metadata": {},
   "outputs": [
    {
     "data": {
      "text/plain": [
       "array([  0,  62, 124, 186, 249])"
      ]
     },
     "execution_count": 82,
     "metadata": {},
     "output_type": "execute_result"
    }
   ],
   "source": [
    "xticks"
   ]
  },
  {
   "cell_type": "code",
   "execution_count": 68,
   "metadata": {},
   "outputs": [],
   "source": [
    "figure = ax.get_figure()\n",
    "figure.savefig('test.png', dpi=400)\n",
    "#figure.savefig('test.svg', format=\"svg\")"
   ]
  },
  {
   "cell_type": "code",
   "execution_count": 64,
   "metadata": {},
   "outputs": [
    {
     "ename": "AttributeError",
     "evalue": "'AxesSubplot' object has no attribute 'fig'",
     "output_type": "error",
     "traceback": [
      "\u001b[1;31m---------------------------------------------------------------------------\u001b[0m",
      "\u001b[1;31mAttributeError\u001b[0m                            Traceback (most recent call last)",
      "\u001b[1;32m<ipython-input-64-989fe0281dcd>\u001b[0m in \u001b[0;36m<module>\u001b[1;34m\u001b[0m\n\u001b[1;32m----> 1\u001b[1;33m \u001b[0max\u001b[0m\u001b[1;33m.\u001b[0m\u001b[0mfig\u001b[0m\u001b[1;33m.\u001b[0m\u001b[0mautofmt_ydate\u001b[0m\u001b[1;33m(\u001b[0m\u001b[1;33m)\u001b[0m\u001b[1;33m\u001b[0m\u001b[1;33m\u001b[0m\u001b[0m\n\u001b[0m",
      "\u001b[1;31mAttributeError\u001b[0m: 'AxesSubplot' object has no attribute 'fig'"
     ]
    }
   ],
   "source": [
    "ax.fig.autofmt_ydate()"
   ]
  },
  {
   "cell_type": "code",
   "execution_count": null,
   "metadata": {},
   "outputs": [],
   "source": [
    "topic.corr().head()"
   ]
  },
  {
   "cell_type": "markdown",
   "metadata": {},
   "source": [
    "## Topic Terms Distribution\n",
    "Below is the topic terms ditrutbution demo. Since we already got Document X Topics, we want to have a Topic X Terms too."
   ]
  },
  {
   "cell_type": "code",
   "execution_count": null,
   "metadata": {},
   "outputs": [],
   "source": [
    "model = load_model('Tc_v1',250)"
   ]
  },
  {
   "cell_type": "code",
   "execution_count": null,
   "metadata": {},
   "outputs": [],
   "source": [
    "topic_terms_distribution = pd.DataFrame(model.get_topics())"
   ]
  },
  {
   "cell_type": "code",
   "execution_count": null,
   "metadata": {},
   "outputs": [],
   "source": [
    "topic_terms_distribution.head()"
   ]
  },
  {
   "cell_type": "markdown",
   "metadata": {},
   "source": [
    "## Industy Analysis"
   ]
  },
  {
   "cell_type": "code",
   "execution_count": null,
   "metadata": {},
   "outputs": [],
   "source": [
    "data_path = get_pickle_directory() / 'TRACE2014_jinming.pkl'\n",
    "data = pd.read_pickle(data_path)"
   ]
  },
  {
   "cell_type": "code",
   "execution_count": null,
   "metadata": {},
   "outputs": [],
   "source": [
    "data.columns"
   ]
  },
  {
   "cell_type": "code",
   "execution_count": null,
   "metadata": {},
   "outputs": [],
   "source": [
    "print(\"We have {} rows of data\".format(data.shape[0]))"
   ]
  },
  {
   "cell_type": "code",
   "execution_count": null,
   "metadata": {},
   "outputs": [],
   "source": [
    "def fix_NAICS_Code(NAICS_Code):\n",
    "    \"Fix the problem that FISD omits 0 if NAICS_Code ends with 0\"\n",
    "    if len(str(NAICS_Code))==5:\n",
    "        NAICS_Code = NAICS_Code+'0'\n",
    "    return NAICS_Code\n",
    "fix_NAICS_Code_vectorize = np.vectorize(fix_NAICS_Code)\n",
    "data['NAICS_CODE'] = fix_NAICS_Code_vectorize(data['NAICS_CODE'].values)"
   ]
  },
  {
   "cell_type": "code",
   "execution_count": null,
   "metadata": {},
   "outputs": [],
   "source": [
    "data = data[['BOND_SYM_ID', 'INDUSTRY_GROUP', 'INDUSTRY_CODE', 'PARENT_ID', 'NAICS_CODE','SIC_CODE']].copy()"
   ]
  },
  {
   "cell_type": "code",
   "execution_count": null,
   "metadata": {},
   "outputs": [],
   "source": [
    "data['INDUSTRY_CODE'].value_counts().plot.pie()"
   ]
  },
  {
   "cell_type": "code",
   "execution_count": null,
   "metadata": {},
   "outputs": [],
   "source": [
    "# Get the NAICS_code lookup table\n",
    "NAICS_code_path = get_dataset_directory() / 'NAICS_Code_Lookup.csv'\n",
    "NAICS_code = pd.read_csv(NAICS_code_path,dtype={'Code':str,'Description':str})"
   ]
  },
  {
   "cell_type": "code",
   "execution_count": null,
   "metadata": {},
   "outputs": [],
   "source": [
    "# Group by BOND_SYM_ID and NAICS_CODE of \n",
    "NAICS_CODE_count = data['NAICS_CODE'].value_counts()\n",
    "# Series to DataFrame\n",
    "NAICS_CODE_count = NAICS_CODE_count.to_frame(name='count')"
   ]
  },
  {
   "cell_type": "code",
   "execution_count": null,
   "metadata": {},
   "outputs": [],
   "source": [
    "NAICS_code_total = NAICS_code.merge(NAICS_CODE_count,left_on='Code',right_index=True).sort_values(by=\"count\",ascending=False)\n",
    "NAICS_code_total['percentage'] = NAICS_code_total['count']/data.shape[0]"
   ]
  },
  {
   "cell_type": "code",
   "execution_count": null,
   "metadata": {},
   "outputs": [],
   "source": [
    "NAICS_code_total.head()"
   ]
  },
  {
   "cell_type": "code",
   "execution_count": null,
   "metadata": {},
   "outputs": [],
   "source": [
    "(NAICS_code.merge(NAICS_CODE_count,left_on='Code',right_index=True).sort_values(by=\"count\",ascending=False)['count']/data.shape[0]).sum()"
   ]
  },
  {
   "cell_type": "code",
   "execution_count": null,
   "metadata": {},
   "outputs": [],
   "source": [
    "data.groupby(by=['NAICS_CODE'])['BOND_SYM_ID'].nunique().sort_values(ascending=False).head()"
   ]
  },
  {
   "cell_type": "code",
   "execution_count": null,
   "metadata": {},
   "outputs": [],
   "source": [
    "data.groupby(by=['BOND_SYM_ID'])"
   ]
  },
  {
   "cell_type": "code",
   "execution_count": null,
   "metadata": {},
   "outputs": [],
   "source": [
    "Bond_X_Industry = data.drop_duplicates(['BOND_SYM_ID'])"
   ]
  },
  {
   "cell_type": "code",
   "execution_count": null,
   "metadata": {},
   "outputs": [],
   "source": [
    "Bond_X_Industry.sort_values(by=['BOND_SYM_ID']).head()"
   ]
  },
  {
   "cell_type": "markdown",
   "metadata": {},
   "source": [
    "## Convergence Test"
   ]
  },
  {
   "cell_type": "code",
   "execution_count": null,
   "metadata": {},
   "outputs": [],
   "source": [
    "import re\n",
    "import matplotlib.pyplot as plt\n",
    "def convergence_likelyhood(model_name,num_topics):\n",
    "    p = re.compile(\"(-*\\d+\\.\\d+) per-word .* (\\d+\\.\\d+) perplexity\")\n",
    "    matches = [p.findall(l) for l in open('../LDAModel/{}_{}topics.log.txt'.format(model_name,num_topics))]\n",
    "    matches = [m for m in matches if len(m) > 0]\n",
    "    tuples = [t[0] for t in matches]\n",
    "    perplexity = [float(t[1]) for t in tuples]\n",
    "    liklihood = [float(t[0]) for t in tuples]\n",
    "    iter = list(range(0,len(tuples)*10,10))\n",
    "    plt.plot(iter,liklihood,c=\"black\")\n",
    "    plt.ylabel(\"log liklihood\")\n",
    "    plt.xlabel(\"iteration\")\n",
    "    plt.title(\"Topic Model Convergence\")\n",
    "    plt.grid()\n",
    "    plt.savefig(\"{}_{}topics.pdf\".format(model_name,num_topics))\n",
    "    plt.close()"
   ]
  },
  {
   "cell_type": "code",
   "execution_count": null,
   "metadata": {},
   "outputs": [],
   "source": [
    "#convergence_likelyhood(\"matrix_1\",250)"
   ]
  }
 ],
 "metadata": {
  "kernelspec": {
   "display_name": "Python 3",
   "language": "python",
   "name": "python3"
  },
  "language_info": {
   "codemirror_mode": {
    "name": "ipython",
    "version": 3
   },
   "file_extension": ".py",
   "mimetype": "text/x-python",
   "name": "python",
   "nbconvert_exporter": "python",
   "pygments_lexer": "ipython3",
   "version": "3.7.1"
  }
 },
 "nbformat": 4,
 "nbformat_minor": 2
}
