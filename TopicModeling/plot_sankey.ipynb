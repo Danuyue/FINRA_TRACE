{
 "cells": [
  {
   "cell_type": "code",
   "execution_count": 2,
   "metadata": {},
   "outputs": [],
   "source": [
    "import pandas as pd\n",
    "import numpy as np\n",
    "\n",
    "from manage_path import *\n",
    "from lda_analysis import *"
   ]
  },
  {
   "cell_type": "markdown",
   "metadata": {},
   "source": [
    "# Dc_v4"
   ]
  },
  {
   "cell_type": "code",
   "execution_count": 3,
   "metadata": {},
   "outputs": [],
   "source": [
    "result_directory = get_result_directory()\n",
    "Dc_v4 = pd.read_csv(result_directory/'Dc_v4_75topics.csv',index_col=0)"
   ]
  },
  {
   "cell_type": "code",
   "execution_count": 4,
   "metadata": {},
   "outputs": [],
   "source": [
    "get_document_item_vectorize = np.vectorize(get_document_item)\n",
    "Dc_v4['dealer'] = pd.Series(list(zip(get_document_item_vectorize(Dc_v4.index,0),get_document_item_vectorize(Dc_v4.index,2)))).values\n",
    "Dc_v4.index = pd.to_datetime(get_document_item_vectorize(Dc_v4.index,1))"
   ]
  },
  {
   "cell_type": "markdown",
   "metadata": {},
   "source": [
    "### Plot Sankey"
   ]
  },
  {
   "cell_type": "code",
   "execution_count": 5,
   "metadata": {},
   "outputs": [],
   "source": [
    "treshold_20 = create_sankey_matrix(Dc_v4,0.20)\n",
    "plot_sankey(treshold_20,title='Dc_v4_75topics_THRESHOLD=0.2')"
   ]
  },
  {
   "cell_type": "code",
   "execution_count": 6,
   "metadata": {},
   "outputs": [],
   "source": [
    "treshold_10 = create_sankey_matrix(Dc_v4,0.10)\n",
    "plot_sankey(treshold_10,title='Dc_v4_75topics_THRESHOLD=0.1')"
   ]
  },
  {
   "cell_type": "code",
   "execution_count": 7,
   "metadata": {},
   "outputs": [],
   "source": [
    "treshold_05 = create_sankey_matrix(Dc_v4,0.05)\n",
    "plot_sankey(treshold_05,title='Dc_v4_75topics_THRESHOLD=0.05')"
   ]
  },
  {
   "cell_type": "code",
   "execution_count": null,
   "metadata": {},
   "outputs": [],
   "source": [
    "#treshold_05.groupby(['topicID'])['dealer'].nunique().sort_values()"
   ]
  },
  {
   "cell_type": "code",
   "execution_count": null,
   "metadata": {},
   "outputs": [],
   "source": [
    "topic_selection = [6,13,16,42,44,46,49,65,71]"
   ]
  },
  {
   "cell_type": "code",
   "execution_count": null,
   "metadata": {},
   "outputs": [],
   "source": [
    "treshold_10_sub = create_sankey_matrix(Dc_v4,0.10,topic_selection=topic_selection)\n",
    "plot_sankey(treshold_10_sub,title='Dc_v4_75topics_THRESHOLD=0.1_subgraph',width=750,height=1500)"
   ]
  },
  {
   "cell_type": "code",
   "execution_count": null,
   "metadata": {},
   "outputs": [],
   "source": [
    "treshold_20_sub = create_sankey_matrix(Dc_v4,0.20,topic_selection=topic_selection)\n",
    "plot_sankey(treshold_20_sub,title='Dc_v4_75topics_THRESHOLD=0.2_subgraph',width=750,height=1500)"
   ]
  },
  {
   "cell_type": "markdown",
   "metadata": {},
   "source": [
    "### Analysis"
   ]
  },
  {
   "cell_type": "code",
   "execution_count": 16,
   "metadata": {},
   "outputs": [],
   "source": [
    "sankey_array = [create_sankey_matrix(Dc_v4,x) for x in np.linspace(0,0.2,5)]"
   ]
  },
  {
   "cell_type": "code",
   "execution_count": 18,
   "metadata": {},
   "outputs": [
    {
     "data": {
      "text/plain": [
       "array([0.  , 0.05, 0.1 , 0.15, 0.2 ])"
      ]
     },
     "execution_count": 18,
     "metadata": {},
     "output_type": "execute_result"
    }
   ],
   "source": [
    "np.linspace(0,0.2,5)"
   ]
  },
  {
   "cell_type": "code",
   "execution_count": 19,
   "metadata": {},
   "outputs": [
    {
     "name": "stdout",
     "output_type": "stream",
     "text": [
      "(76642, 8)\n",
      "(3274, 8)\n",
      "(1545, 8)\n",
      "(950, 8)\n",
      "(645, 8)\n"
     ]
    }
   ],
   "source": [
    "for sankey in sankey_array:\n",
    "    print(sankey.shape)"
   ]
  },
  {
   "cell_type": "code",
   "execution_count": 20,
   "metadata": {},
   "outputs": [
    {
     "name": "stdout",
     "output_type": "stream",
     "text": [
      "75\n",
      "73\n",
      "64\n",
      "59\n",
      "53\n"
     ]
    }
   ],
   "source": [
    "for sankey in sankey_array:\n",
    "    print(sankey['topicID'].nunique())"
   ]
  },
  {
   "cell_type": "code",
   "execution_count": 21,
   "metadata": {},
   "outputs": [
    {
     "name": "stdout",
     "output_type": "stream",
     "text": [
      "253\n",
      "1\n",
      "1\n",
      "1\n",
      "1\n"
     ]
    }
   ],
   "source": [
    "for sankey in sankey_array:\n",
    "    print(sankey.groupby(['topicID'])['dealer'].nunique().min())"
   ]
  },
  {
   "cell_type": "code",
   "execution_count": 22,
   "metadata": {},
   "outputs": [
    {
     "name": "stdout",
     "output_type": "stream",
     "text": [
      "532\n",
      "79\n",
      "42\n",
      "33\n",
      "26\n"
     ]
    }
   ],
   "source": [
    "for sankey in sankey_array:\n",
    "    print(sankey.groupby(['topicID'])['dealer'].nunique().max())"
   ]
  },
  {
   "cell_type": "code",
   "execution_count": 23,
   "metadata": {},
   "outputs": [
    {
     "name": "stdout",
     "output_type": "stream",
     "text": [
      "401.08\n",
      "21.84931506849315\n",
      "11.625\n",
      "7.932203389830509\n",
      "5.9245283018867925\n"
     ]
    }
   ],
   "source": [
    "for sankey in sankey_array:\n",
    "    print(sankey.groupby(['topicID'])['dealer'].nunique().mean())"
   ]
  },
  {
   "cell_type": "code",
   "execution_count": 24,
   "metadata": {},
   "outputs": [
    {
     "name": "stdout",
     "output_type": "stream",
     "text": [
      "BfD    21798\n",
      "StD    19826\n",
      "StC    19137\n",
      "BfC    15881\n",
      "Name: B/S, dtype: int64\n",
      "BfD    998\n",
      "StD    890\n",
      "StC    827\n",
      "BfC    559\n",
      "Name: B/S, dtype: int64\n",
      "BfD    469\n",
      "StD    405\n",
      "StC    390\n",
      "BfC    281\n",
      "Name: B/S, dtype: int64\n",
      "BfD    267\n",
      "StC    249\n",
      "StD    241\n",
      "BfC    193\n",
      "Name: B/S, dtype: int64\n",
      "BfD    176\n",
      "StC    168\n",
      "StD    158\n",
      "BfC    143\n",
      "Name: B/S, dtype: int64\n"
     ]
    }
   ],
   "source": [
    "for sankey in sankey_array:\n",
    "    print(sankey['B/S'].value_counts())"
   ]
  },
  {
   "cell_type": "markdown",
   "metadata": {},
   "source": [
    "### Sankey"
   ]
  },
  {
   "cell_type": "raw",
   "metadata": {},
   "source": [
    "# Reverse order of dealer_label_position and topic_encoding if B/S is B\n",
    "def reverse_BS(df):\n",
    "    if df['B/S'] == 'BfD' or df['B/S'] == 'BfC':\n",
    "        return [df['topic_position'],df['dealer_label_position']]\n",
    "    else:\n",
    "        return [df['dealer_label_position'],df['topic_position']]\n",
    "        \n",
    "Dc_v3_dealerXtopic_sum[['dealer_label_position','topic_position']] = Dc_v3_dealerXtopic_sum.apply(reverse_BS,axis=1,result_type='expand')"
   ]
  },
  {
   "cell_type": "code",
   "execution_count": null,
   "metadata": {},
   "outputs": [],
   "source": [
    "#Dc_v3_dealerXtopic_sum.to_csv(str(\"Dc_v3_50topics_THRESHOLD={}\").format(THRESHOLD))"
   ]
  },
  {
   "cell_type": "code",
   "execution_count": null,
   "metadata": {},
   "outputs": [],
   "source": [
    "Dc_v3_dealerXtopic_sum"
   ]
  },
  {
   "cell_type": "code",
   "execution_count": null,
   "metadata": {},
   "outputs": [],
   "source": [
    "Dc_v3_dealerXtopic_sum['topicID'].values"
   ]
  },
  {
   "cell_type": "code",
   "execution_count": null,
   "metadata": {},
   "outputs": [],
   "source": []
  }
 ],
 "metadata": {
  "kernelspec": {
   "display_name": "Python 3",
   "language": "python",
   "name": "python3"
  },
  "language_info": {
   "codemirror_mode": {
    "name": "ipython",
    "version": 3
   },
   "file_extension": ".py",
   "mimetype": "text/x-python",
   "name": "python",
   "nbconvert_exporter": "python",
   "pygments_lexer": "ipython3",
   "version": "3.7.3"
  }
 },
 "nbformat": 4,
 "nbformat_minor": 2
}
