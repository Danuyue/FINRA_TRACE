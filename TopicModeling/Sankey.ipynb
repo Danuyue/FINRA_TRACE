{
 "cells": [
  {
   "cell_type": "code",
   "execution_count": 1,
   "metadata": {},
   "outputs": [],
   "source": [
    "import pandas as pd\n",
    "import numpy as np\n",
    "\n",
    "from manage_path import *\n",
    "from topic_model_analysis import *"
   ]
  },
  {
   "cell_type": "markdown",
   "metadata": {},
   "source": [
    "# Dc_v4"
   ]
  },
  {
   "cell_type": "code",
   "execution_count": 2,
   "metadata": {},
   "outputs": [],
   "source": [
    "result_directory = get_result_directory()\n",
    "Dc_v4 = pd.read_csv(result_directory/'Dc_v4_75topics.csv',index_col=0)"
   ]
  },
  {
   "cell_type": "code",
   "execution_count": 3,
   "metadata": {},
   "outputs": [],
   "source": [
    "get_document_item_vectorize = np.vectorize(get_document_item)\n",
    "Dc_v4['dealer'] = pd.Series(list(zip(get_document_item_vectorize(Dc_v4.index,0),get_document_item_vectorize(Dc_v4.index,2)))).values\n",
    "Dc_v4.index = pd.to_datetime(get_document_item_vectorize(Dc_v4.index,1))"
   ]
  },
  {
   "cell_type": "markdown",
   "metadata": {},
   "source": [
    "### Get data"
   ]
  },
  {
   "cell_type": "code",
   "execution_count": 23,
   "metadata": {},
   "outputs": [],
   "source": [
    "treshold_20 = create_sankey_matrix(Dc_v4,0.20)\n",
    "plot_sankey(treshold_20,title='Dc_v4_50topics_THRESHOLD=0.2')"
   ]
  },
  {
   "cell_type": "code",
   "execution_count": 4,
   "metadata": {},
   "outputs": [],
   "source": [
    "treshold_10 = create_sankey_matrix(Dc_v4,0.10)\n",
    "plot_sankey(treshold_10,title='Dc_v4_50topics_THRESHOLD=0.1')"
   ]
  },
  {
   "cell_type": "code",
   "execution_count": 5,
   "metadata": {},
   "outputs": [],
   "source": [
    "treshold_05 = create_sankey_matrix(Dc_v4,0.05)\n",
    "plot_sankey(treshold_05,title='Dc_v4_50topics_THRESHOLD=0.05')"
   ]
  },
  {
   "cell_type": "code",
   "execution_count": 7,
   "metadata": {},
   "outputs": [
    {
     "data": {
      "text/plain": [
       "topicID\n",
       "45     1\n",
       "63     1\n",
       "61     1\n",
       "58     1\n",
       "56     1\n",
       "50     1\n",
       "48     1\n",
       "41     1\n",
       "38     1\n",
       "32     1\n",
       "28     1\n",
       "9      1\n",
       "12     2\n",
       "66     2\n",
       "57     2\n",
       "3      2\n",
       "19     2\n",
       "5      3\n",
       "53     3\n",
       "72     3\n",
       "36     3\n",
       "35     3\n",
       "7      3\n",
       "14     3\n",
       "75     3\n",
       "34     3\n",
       "21     4\n",
       "11     4\n",
       "25     4\n",
       "23     5\n",
       "      ..\n",
       "71     6\n",
       "17     7\n",
       "22     7\n",
       "4      7\n",
       "31     7\n",
       "8      8\n",
       "64     9\n",
       "13    10\n",
       "52    10\n",
       "62    10\n",
       "29    11\n",
       "55    12\n",
       "40    12\n",
       "39    13\n",
       "49    13\n",
       "1     14\n",
       "26    14\n",
       "37    18\n",
       "73    18\n",
       "42    19\n",
       "51    24\n",
       "68    25\n",
       "67    27\n",
       "74    28\n",
       "46    31\n",
       "16    38\n",
       "6     39\n",
       "65    41\n",
       "70    44\n",
       "44    46\n",
       "Name: dealer, Length: 66, dtype: int64"
      ]
     },
     "execution_count": 7,
     "metadata": {},
     "output_type": "execute_result"
    }
   ],
   "source": [
    "treshold_05.groupby(['topicID'])['dealer'].nunique().sort_values()"
   ]
  },
  {
   "cell_type": "code",
   "execution_count": 27,
   "metadata": {},
   "outputs": [],
   "source": [
    "topic_selection = [49,13,46,6,42,71,44,65]\n",
    "treshold_20_sub = create_sankey_matrix(Dc_v4,0.20,topic_selection=topic_selection)\n",
    "plot_sankey(treshold_20_sub,title='Dc_v4_50topics_THRESHOLD=0.2_subgraph')"
   ]
  },
  {
   "cell_type": "code",
   "execution_count": null,
   "metadata": {},
   "outputs": [],
   "source": [
    "#plot_sankey(test,title='testing')"
   ]
  },
  {
   "cell_type": "markdown",
   "metadata": {},
   "source": [
    "### Analysis"
   ]
  },
  {
   "cell_type": "code",
   "execution_count": null,
   "metadata": {},
   "outputs": [],
   "source": [
    "Dc_v4"
   ]
  },
  {
   "cell_type": "code",
   "execution_count": 4,
   "metadata": {},
   "outputs": [],
   "source": [
    "sankey_array = [create_sankey_matrix(Dc_v4,x) for x in np.linspace(0,0.2,5)]"
   ]
  },
  {
   "cell_type": "code",
   "execution_count": 19,
   "metadata": {},
   "outputs": [
    {
     "name": "stdout",
     "output_type": "stream",
     "text": [
      "(56695, 8)\n",
      "(1344, 8)\n",
      "(591, 8)\n",
      "(378, 8)\n",
      "(254, 8)\n"
     ]
    }
   ],
   "source": [
    "for sankey in sankey_array:\n",
    "    print(sankey.shape)"
   ]
  },
  {
   "cell_type": "code",
   "execution_count": 20,
   "metadata": {},
   "outputs": [
    {
     "name": "stdout",
     "output_type": "stream",
     "text": [
      "75\n",
      "66\n",
      "53\n",
      "47\n",
      "39\n"
     ]
    }
   ],
   "source": [
    "for sankey in sankey_array:\n",
    "    print(sankey['topicID'].nunique())"
   ]
  },
  {
   "cell_type": "code",
   "execution_count": 15,
   "metadata": {},
   "outputs": [
    {
     "name": "stdout",
     "output_type": "stream",
     "text": [
      "130\n",
      "1\n",
      "1\n",
      "1\n",
      "1\n"
     ]
    }
   ],
   "source": [
    "for sankey in sankey_array:\n",
    "    print(sankey.groupby(['topicID'])['dealer'].nunique().min())"
   ]
  },
  {
   "cell_type": "code",
   "execution_count": 16,
   "metadata": {},
   "outputs": [
    {
     "name": "stdout",
     "output_type": "stream",
     "text": [
      "422\n",
      "46\n",
      "27\n",
      "20\n",
      "13\n"
     ]
    }
   ],
   "source": [
    "for sankey in sankey_array:\n",
    "    print(sankey.groupby(['topicID'])['dealer'].nunique().max())"
   ]
  },
  {
   "cell_type": "code",
   "execution_count": 17,
   "metadata": {},
   "outputs": [
    {
     "name": "stdout",
     "output_type": "stream",
     "text": [
      "316.76\n",
      "10.090909090909092\n",
      "5.6415094339622645\n",
      "4.0212765957446805\n",
      "3.3076923076923075\n"
     ]
    }
   ],
   "source": [
    "for sankey in sankey_array:\n",
    "    print(sankey.groupby(['topicID'])['dealer'].nunique().mean())"
   ]
  },
  {
   "cell_type": "code",
   "execution_count": 21,
   "metadata": {},
   "outputs": [
    {
     "name": "stdout",
     "output_type": "stream",
     "text": [
      "BfD    16406\n",
      "StD    14714\n",
      "StC    13981\n",
      "BfC    11594\n",
      "Name: B/S, dtype: int64\n",
      "BfD    398\n",
      "StD    356\n",
      "StC    330\n",
      "BfC    260\n",
      "Name: B/S, dtype: int64\n",
      "BfD    164\n",
      "StD    154\n",
      "StC    145\n",
      "BfC    128\n",
      "Name: B/S, dtype: int64\n",
      "BfD    101\n",
      "StD     99\n",
      "StC     93\n",
      "BfC     85\n",
      "Name: B/S, dtype: int64\n",
      "StD    68\n",
      "BfD    63\n",
      "StC    62\n",
      "BfC    61\n",
      "Name: B/S, dtype: int64\n"
     ]
    }
   ],
   "source": [
    "for sankey in sankey_array:\n",
    "    print(sankey['B/S'].value_counts())"
   ]
  },
  {
   "cell_type": "markdown",
   "metadata": {},
   "source": [
    "### Sankey"
   ]
  },
  {
   "cell_type": "raw",
   "metadata": {},
   "source": [
    "# Reverse order of dealer_label_position and topic_encoding if B/S is B\n",
    "def reverse_BS(df):\n",
    "    if df['B/S'] == 'BfD' or df['B/S'] == 'BfC':\n",
    "        return [df['topic_position'],df['dealer_label_position']]\n",
    "    else:\n",
    "        return [df['dealer_label_position'],df['topic_position']]\n",
    "        \n",
    "Dc_v3_dealerXtopic_sum[['dealer_label_position','topic_position']] = Dc_v3_dealerXtopic_sum.apply(reverse_BS,axis=1,result_type='expand')"
   ]
  },
  {
   "cell_type": "code",
   "execution_count": null,
   "metadata": {},
   "outputs": [],
   "source": [
    "#Dc_v3_dealerXtopic_sum.to_csv(str(\"Dc_v3_50topics_THRESHOLD={}\").format(THRESHOLD))"
   ]
  },
  {
   "cell_type": "code",
   "execution_count": null,
   "metadata": {},
   "outputs": [],
   "source": [
    "Dc_v3_dealerXtopic_sum"
   ]
  },
  {
   "cell_type": "code",
   "execution_count": null,
   "metadata": {},
   "outputs": [],
   "source": [
    "Dc_v3_dealerXtopic_sum['topicID'].values"
   ]
  },
  {
   "cell_type": "code",
   "execution_count": null,
   "metadata": {},
   "outputs": [],
   "source": []
  }
 ],
 "metadata": {
  "kernelspec": {
   "display_name": "Python 3",
   "language": "python",
   "name": "python3"
  },
  "language_info": {
   "codemirror_mode": {
    "name": "ipython",
    "version": 3
   },
   "file_extension": ".py",
   "mimetype": "text/x-python",
   "name": "python",
   "nbconvert_exporter": "python",
   "pygments_lexer": "ipython3",
   "version": "3.7.1"
  }
 },
 "nbformat": 4,
 "nbformat_minor": 2
}
