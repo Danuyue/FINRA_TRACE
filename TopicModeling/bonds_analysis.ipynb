{
 "cells": [
  {
   "cell_type": "code",
   "execution_count": 1,
   "metadata": {},
   "outputs": [],
   "source": [
    "from compute_topic import *\n",
    "from manage_path import *\n",
    "from topic_model_analysis import *\n",
    "\n",
    "import pandas as pd"
   ]
  },
  {
   "cell_type": "code",
   "execution_count": 2,
   "metadata": {},
   "outputs": [],
   "source": [
    "data_path = get_pickle_directory() / 'TRACE2014_jinming.pkl'\n",
    "data = pd.read_pickle(data_path)"
   ]
  },
  {
   "cell_type": "code",
   "execution_count": 6,
   "metadata": {},
   "outputs": [
    {
     "name": "stdout",
     "output_type": "stream",
     "text": [
      "Loading LDAModel ....\n",
      "LDAModel loaded!!!\n"
     ]
    }
   ],
   "source": [
    "Dc_v4 = load_model('Dc_v4',50)"
   ]
  },
  {
   "cell_type": "code",
   "execution_count": 9,
   "metadata": {},
   "outputs": [],
   "source": [
    "data.drop_duplicates(subset=['BOND_SYM_ID'],inplace=True)"
   ]
  },
  {
   "cell_type": "code",
   "execution_count": 10,
   "metadata": {},
   "outputs": [
    {
     "data": {
      "text/plain": [
       "Index(['TRD_RPT_DTTM', 'TRD_EXCTN_DTTM', 'TRC_ST', 'BOND_SYM_ID', 'CUSIP_ID',\n",
       "       'SCRTY_TYPE_CD', 'ENTRD_VOL_QT', 'RPTD_PR', 'RPT_SIDE_CD',\n",
       "       'Report_Dealer_Index', 'Contra_Party_Index', 'document_date',\n",
       "       'ISSUER_ID', 'COMPLETE_CUSIP', 'AGENT_ID', 'CUSIP_NAME',\n",
       "       'INDUSTRY_GROUP', 'INDUSTRY_CODE', 'PARENT_ID', 'NAICS_CODE',\n",
       "       'SIC_CODE'],\n",
       "      dtype='object')"
      ]
     },
     "execution_count": 10,
     "metadata": {},
     "output_type": "execute_result"
    }
   ],
   "source": [
    "data.columns"
   ]
  },
  {
   "cell_type": "code",
   "execution_count": 13,
   "metadata": {},
   "outputs": [],
   "source": [
    "data = data[[\n",
    "    'BOND_SYM_ID', 'CUSIP_ID','ISSUER_ID', 'COMPLETE_CUSIP', 'AGENT_ID', 'CUSIP_NAME',\n",
    "    'INDUSTRY_GROUP', 'INDUSTRY_CODE', 'PARENT_ID', 'NAICS_CODE',\n",
    "    'SIC_CODE']].copy()"
   ]
  },
  {
   "cell_type": "code",
   "execution_count": 15,
   "metadata": {},
   "outputs": [],
   "source": [
    "data.to_csv('bonds_info.csv')"
   ]
  },
  {
   "cell_type": "code",
   "execution_count": 8,
   "metadata": {
    "slideshow": {
     "slide_type": "-"
    }
   },
   "outputs": [
    {
     "data": {
      "text/plain": [
       "array([[1.49630045e-07, 8.44386837e-08, 9.09348487e-08, ...,\n",
       "        3.11006248e-03, 8.44386926e-08, 8.44386812e-08],\n",
       "       [3.67444783e-07, 3.67428298e-07, 3.67434128e-07, ...,\n",
       "        3.38676723e-05, 3.67428017e-07, 3.67427963e-07],\n",
       "       [5.87674544e-07, 5.87670577e-07, 6.19030223e-07, ...,\n",
       "        5.87671458e-07, 5.87670513e-07, 9.35418546e-05],\n",
       "       ...,\n",
       "       [4.08965546e-07, 4.08951742e-07, 4.08957965e-07, ...,\n",
       "        4.24124856e-07, 4.08951352e-07, 4.08951352e-07],\n",
       "       [8.78721187e-08, 5.56796611e-05, 1.32270300e-04, ...,\n",
       "        8.78670382e-08, 5.28273318e-05, 8.78623263e-08],\n",
       "       [1.15831795e-07, 1.11899593e-07, 1.23272161e-07, ...,\n",
       "        6.49945537e-07, 1.11828808e-07, 1.11828797e-07]])"
      ]
     },
     "execution_count": 8,
     "metadata": {},
     "output_type": "execute_result"
    }
   ],
   "source": [
    "Dc_v4.get_topics()"
   ]
  },
  {
   "cell_type": "code",
   "execution_count": null,
   "metadata": {},
   "outputs": [],
   "source": []
  }
 ],
 "metadata": {
  "kernelspec": {
   "display_name": "Python 3",
   "language": "python",
   "name": "python3"
  },
  "language_info": {
   "codemirror_mode": {
    "name": "ipython",
    "version": 3
   },
   "file_extension": ".py",
   "mimetype": "text/x-python",
   "name": "python",
   "nbconvert_exporter": "python",
   "pygments_lexer": "ipython3",
   "version": "3.7.1"
  }
 },
 "nbformat": 4,
 "nbformat_minor": 2
}
