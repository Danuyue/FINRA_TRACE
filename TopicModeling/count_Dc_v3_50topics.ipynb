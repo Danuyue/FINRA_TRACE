{
 "cells": [
  {
   "cell_type": "code",
   "execution_count": 1,
   "metadata": {},
   "outputs": [],
   "source": [
    "import pandas as pd\n",
    "import numpy as np\n",
    "\n",
    "from manage_path import *\n",
    "from topic_model_analysis import *"
   ]
  },
  {
   "cell_type": "markdown",
   "metadata": {},
   "source": [
    "# Dc_v3"
   ]
  },
  {
   "cell_type": "code",
   "execution_count": 2,
   "metadata": {},
   "outputs": [],
   "source": [
    "result_directory = get_result_directory()\n",
    "get_document_item_vectorize = np.vectorize(get_document_item)"
   ]
  },
  {
   "cell_type": "code",
   "execution_count": 3,
   "metadata": {},
   "outputs": [],
   "source": [
    "Dc_v3 = pd.read_csv(result_directory/'Dc_v3_50topics.csv',index_col=0)"
   ]
  },
  {
   "cell_type": "code",
   "execution_count": 4,
   "metadata": {},
   "outputs": [],
   "source": [
    "Dc_v3['dealer'] = pd.Series(list(zip(get_document_item_vectorize(Dc_v3.index,0),get_document_item_vectorize(Dc_v3.index,2)))).values\n",
    "Dc_v3.index = pd.to_datetime(get_document_item_vectorize(Dc_v3.index,1))"
   ]
  },
  {
   "cell_type": "markdown",
   "metadata": {},
   "source": [
    "### Snakey"
   ]
  },
  {
   "cell_type": "code",
   "execution_count": 5,
   "metadata": {},
   "outputs": [],
   "source": [
    "THRESHOLD = 0.75\n",
    "Dc_v3_dealerXtopic_sum = Dc_v3.groupby(by='dealer').mean()\n",
    "Dc_v3_dealerXtopic_sum.index = Dc_v3_dealerXtopic_sum.index.format()\n",
    "Dc_v3_dealerXtopic_sum = pd.DataFrame(Dc_v3_dealerXtopic_sum.stack().reset_index().rename({'level_0':'dealer','level_1':'topicID',0:'values'},axis=1))\n",
    "#Dc_v3_dealerXtopic_sum['topicID'] = Dc_v3_dealerXtopic_sum['topicID'].astype(np.int)\n",
    "Dc_v3_dealerXtopic_sum = Dc_v3_dealerXtopic_sum[Dc_v3_dealerXtopic_sum['values']>=THRESHOLD].copy()\n",
    "Dc_v3_dealerXtopic_sum['B/S'] = Dc_v3_dealerXtopic_sum.apply(lambda x: str(x['dealer'])[-2] ,axis=1)\n",
    "Dc_v3_dealerXtopic_sum['dealer'] = Dc_v3_dealerXtopic_sum.apply(lambda x: str(x['dealer']).split(',')[0][1:] ,axis=1)\n",
    "\"\"\"\n",
    "# \n",
    "Dc_v3_dealerXtopic_sum = Dc_v3_dealerXtopic_sum[(Dc_v3_dealerXtopic_sum['topicID']=='0') | (Dc_v3_dealerXtopic_sum['topicID']=='30')|\n",
    "                                                (Dc_v3_dealerXtopic_sum['topicID']=='15') | (Dc_v3_dealerXtopic_sum['topicID']=='46')|\n",
    "                                               (Dc_v3_dealerXtopic_sum['topicID']=='48') | (Dc_v3_dealerXtopic_sum['topicID']=='35')|\n",
    "                                               (Dc_v3_dealerXtopic_sum['topicID']=='41') | (Dc_v3_dealerXtopic_sum['topicID']=='43')].copy()\n",
    "\"\"\"\n",
    "\"\"\"\n",
    "# Topics on top\n",
    "Dc_v3_dealerXtopic_sum = Dc_v3_dealerXtopic_sum[(Dc_v3_dealerXtopic_sum['topicID']=='36') | (Dc_v3_dealerXtopic_sum['topicID']=='21')|\n",
    "                                                (Dc_v3_dealerXtopic_sum['topicID']=='13') | (Dc_v3_dealerXtopic_sum['topicID']=='28')|\n",
    "                                               (Dc_v3_dealerXtopic_sum['topicID']=='12') | (Dc_v3_dealerXtopic_sum['topicID']=='39')|\n",
    "                                               (Dc_v3_dealerXtopic_sum['topicID']=='1') | (Dc_v3_dealerXtopic_sum['topicID']=='18')].copy()\n",
    "\"\"\"\n",
    "\"\"\"\n",
    "# Topics in middle (wide dealers)\n",
    "Dc_v3_dealerXtopic_sum = Dc_v3_dealerXtopic_sum[(Dc_v3_dealerXtopic_sum['topicID']=='14') | (Dc_v3_dealerXtopic_sum['topicID']=='15')|\n",
    "                                                (Dc_v3_dealerXtopic_sum['topicID']=='47') | (Dc_v3_dealerXtopic_sum['topicID']=='26')|\n",
    "                                               (Dc_v3_dealerXtopic_sum['topicID']=='8') | (Dc_v3_dealerXtopic_sum['topicID']=='38')|\n",
    "                                               (Dc_v3_dealerXtopic_sum['topicID']=='34') | (Dc_v3_dealerXtopic_sum['topicID']=='46')|\n",
    "                                               (Dc_v3_dealerXtopic_sum['topicID']=='49') | (Dc_v3_dealerXtopic_sum['topicID']=='22')].copy()\n",
    "\"\"\"\n",
    "\"\"\"\n",
    "# Buy topics\n",
    "Dc_v3_dealerXtopic_sum = Dc_v3_dealerXtopic_sum[(Dc_v3_dealerXtopic_sum['topicID']=='1') | (Dc_v3_dealerXtopic_sum['topicID']=='16')|\n",
    "                                                (Dc_v3_dealerXtopic_sum['topicID']=='33') | (Dc_v3_dealerXtopic_sum['topicID']=='17')|\n",
    "                                               (Dc_v3_dealerXtopic_sum['topicID']=='7') | (Dc_v3_dealerXtopic_sum['topicID']=='22')|\n",
    "                                               (Dc_v3_dealerXtopic_sum['topicID']=='27') | (Dc_v3_dealerXtopic_sum['topicID']=='2')|\n",
    "                                               (Dc_v3_dealerXtopic_sum['topicID']=='9')].copy()\n",
    "\"\"\"\n",
    "\"\"\"\n",
    "# Sell topics\n",
    "Dc_v3_dealerXtopic_sum = Dc_v3_dealerXtopic_sum[(Dc_v3_dealerXtopic_sum['topicID']=='0') | (Dc_v3_dealerXtopic_sum['topicID']=='45')|\n",
    "                                                (Dc_v3_dealerXtopic_sum['topicID']=='15') | (Dc_v3_dealerXtopic_sum['topicID']=='46')|\n",
    "                                               (Dc_v3_dealerXtopic_sum['topicID']=='35') | (Dc_v3_dealerXtopic_sum['topicID']=='41')].copy()\n",
    "\"\"\"\n",
    "Dc_v3_dealerXtopic_sum = Dc_v3_dealerXtopic_sum.sort_values(by=['topicID','dealer'])"
   ]
  },
  {
   "cell_type": "code",
   "execution_count": 6,
   "metadata": {},
   "outputs": [
    {
     "data": {
      "text/html": [
       "<div>\n",
       "<style scoped>\n",
       "    .dataframe tbody tr th:only-of-type {\n",
       "        vertical-align: middle;\n",
       "    }\n",
       "\n",
       "    .dataframe tbody tr th {\n",
       "        vertical-align: top;\n",
       "    }\n",
       "\n",
       "    .dataframe thead th {\n",
       "        text-align: right;\n",
       "    }\n",
       "</style>\n",
       "<table border=\"1\" class=\"dataframe\">\n",
       "  <thead>\n",
       "    <tr style=\"text-align: right;\">\n",
       "      <th></th>\n",
       "      <th>dealer</th>\n",
       "      <th>topicID</th>\n",
       "      <th>values</th>\n",
       "      <th>B/S</th>\n",
       "    </tr>\n",
       "  </thead>\n",
       "  <tbody>\n",
       "    <tr>\n",
       "      <th>278</th>\n",
       "      <td>1042</td>\n",
       "      <td>0</td>\n",
       "      <td>0.750312</td>\n",
       "      <td>B</td>\n",
       "    </tr>\n",
       "    <tr>\n",
       "      <th>1735</th>\n",
       "      <td>1155</td>\n",
       "      <td>0</td>\n",
       "      <td>0.755000</td>\n",
       "      <td>S</td>\n",
       "    </tr>\n",
       "    <tr>\n",
       "      <th>2570</th>\n",
       "      <td>1216</td>\n",
       "      <td>0</td>\n",
       "      <td>0.755000</td>\n",
       "      <td>B</td>\n",
       "    </tr>\n",
       "    <tr>\n",
       "      <th>6235</th>\n",
       "      <td>15</td>\n",
       "      <td>0</td>\n",
       "      <td>0.755000</td>\n",
       "      <td>B</td>\n",
       "    </tr>\n",
       "    <tr>\n",
       "      <th>9504</th>\n",
       "      <td>176</td>\n",
       "      <td>0</td>\n",
       "      <td>0.755000</td>\n",
       "      <td>B</td>\n",
       "    </tr>\n",
       "  </tbody>\n",
       "</table>\n",
       "</div>"
      ],
      "text/plain": [
       "     dealer topicID    values B/S\n",
       "278    1042       0  0.750312   B\n",
       "1735   1155       0  0.755000   S\n",
       "2570   1216       0  0.755000   B\n",
       "6235     15       0  0.755000   B\n",
       "9504    176       0  0.755000   B"
      ]
     },
     "execution_count": 6,
     "metadata": {},
     "output_type": "execute_result"
    }
   ],
   "source": [
    "Dc_v3_dealerXtopic_sum.head()"
   ]
  },
  {
   "cell_type": "code",
   "execution_count": 7,
   "metadata": {},
   "outputs": [],
   "source": [
    "from sklearn import preprocessing\n",
    "dealer_le = preprocessing.LabelEncoder()\n",
    "dealer_le.fit(Dc_v3_dealerXtopic_sum['dealer'])\n",
    "dealer_transform = dealer_le.transform(Dc_v3_dealerXtopic_sum['dealer'])\n",
    "dealer_inverse_transform = dealer_le.inverse_transform(dealer_transform)\n",
    "\n",
    "topic_le = preprocessing.LabelEncoder()\n",
    "topic_le.fit(Dc_v3_dealerXtopic_sum['topicID'])\n",
    "topic_transform = topic_le.transform(Dc_v3_dealerXtopic_sum['topicID'])\n",
    "topic_inverse_transform = topic_le.inverse_transform(topic_transform)"
   ]
  },
  {
   "cell_type": "code",
   "execution_count": 8,
   "metadata": {},
   "outputs": [
    {
     "data": {
      "text/plain": [
       "50"
      ]
     },
     "execution_count": 8,
     "metadata": {},
     "output_type": "execute_result"
    }
   ],
   "source": [
    "Dc_v3_dealerXtopic_sum['topicID'].nunique()"
   ]
  },
  {
   "cell_type": "raw",
   "metadata": {},
   "source": [
    "Dc_v3_dealerXtopic_sum['dealer_encoding'] = dealer_transform\n",
    "Dc_v3_dealerXtopic_sum['dealer_label_position'] = Dc_v3_dealerXtopic_sum['dealer_encoding'] +len(topicID_list) +1\n",
    "Dc_v3_dealerXtopic_sum['topic_encoding'] = topic_transform"
   ]
  },
  {
   "cell_type": "code",
   "execution_count": 9,
   "metadata": {},
   "outputs": [],
   "source": [
    "# Adjust dealer_label_position\n",
    "Dc_v3_dealerXtopic_sum['dealer_encoding'] = dealer_transform\n",
    "topicID_size = Dc_v3_dealerXtopic_sum['topicID'].nunique()\n",
    "Dc_v3_dealerXtopic_sum['dealer_label_position'] = Dc_v3_dealerXtopic_sum.apply(lambda x: x['dealer_encoding'] + topicID_size, axis=1)\n",
    "Dc_v3_dealerXtopic_sum['topic_encoding'] = topic_transform\n",
    "Dc_v3_dealerXtopic_sum['topic_position'] = topic_transform\n",
    "label = Dc_v3_dealerXtopic_sum['topicID'].values.tolist().append(Dc_v3_dealerXtopic_sum['dealer'].values.tolist())"
   ]
  },
  {
   "cell_type": "code",
   "execution_count": 10,
   "metadata": {},
   "outputs": [],
   "source": [
    "# Create labels\n",
    "topic_label = list(Dc_v3_dealerXtopic_sum['topicID'].unique())\n",
    "dealer_label = list(Dc_v3_dealerXtopic_sum.sort_values(by=['dealer_encoding'])['dealer'].unique())\n",
    "label = []\n",
    "label.extend(topic_label)\n",
    "label.extend(dealer_label)"
   ]
  },
  {
   "cell_type": "code",
   "execution_count": 11,
   "metadata": {},
   "outputs": [],
   "source": [
    "# Create Label's Colors\n",
    "label_color = len(topic_label)*['darkred',]\n",
    "label_color.extend(len(dealer_label)*['black',])"
   ]
  },
  {
   "cell_type": "code",
   "execution_count": 12,
   "metadata": {},
   "outputs": [],
   "source": [
    "# Create Link Colors based on B/S \n",
    "b_count = Dc_v3_dealerXtopic_sum.groupby(['B/S']).count()['dealer'][0]\n",
    "s_count = Dc_v3_dealerXtopic_sum.groupby(['B/S']).count()['dealer'][1]\n",
    "link_color = b_count*['deepskyblue',]\n",
    "link_color.extend(s_count*['orange',])\n",
    "# Sort by B/S to match link color arrays \n",
    "Dc_v3_dealerXtopic_sum.sort_values(by=['B/S'],inplace=True)"
   ]
  },
  {
   "cell_type": "raw",
   "metadata": {},
   "source": [
    "# Reverse order of dealer_label_position and topic_encoding if B/S is B\n",
    "def reverse_BS(df):\n",
    "    if df['B/S'] == 'B':\n",
    "        return [df['topic_position'],df['dealer_label_position']]\n",
    "    else:\n",
    "        return [df['dealer_label_position'],df['topic_position']]\n",
    "        \n",
    "Dc_v3_dealerXtopic_sum[['dealer_label_position','topic_position']] = Dc_v3_dealerXtopic_sum.apply(reverse_BS,axis=1,result_type='expand')"
   ]
  },
  {
   "cell_type": "code",
   "execution_count": 16,
   "metadata": {},
   "outputs": [
    {
     "data": {
      "text/html": [
       "<div>\n",
       "<style scoped>\n",
       "    .dataframe tbody tr th:only-of-type {\n",
       "        vertical-align: middle;\n",
       "    }\n",
       "\n",
       "    .dataframe tbody tr th {\n",
       "        vertical-align: top;\n",
       "    }\n",
       "\n",
       "    .dataframe thead th {\n",
       "        text-align: right;\n",
       "    }\n",
       "</style>\n",
       "<table border=\"1\" class=\"dataframe\">\n",
       "  <thead>\n",
       "    <tr style=\"text-align: right;\">\n",
       "      <th></th>\n",
       "      <th>dealer</th>\n",
       "      <th>topicID</th>\n",
       "      <th>values</th>\n",
       "      <th>B/S</th>\n",
       "      <th>dealer_encoding</th>\n",
       "      <th>dealer_label_position</th>\n",
       "      <th>topic_encoding</th>\n",
       "      <th>topic_position</th>\n",
       "    </tr>\n",
       "  </thead>\n",
       "  <tbody>\n",
       "    <tr>\n",
       "      <th>278</th>\n",
       "      <td>1042</td>\n",
       "      <td>0</td>\n",
       "      <td>0.750312</td>\n",
       "      <td>B</td>\n",
       "      <td>2</td>\n",
       "      <td>52</td>\n",
       "      <td>0</td>\n",
       "      <td>0</td>\n",
       "    </tr>\n",
       "    <tr>\n",
       "      <th>4687</th>\n",
       "      <td>14</td>\n",
       "      <td>37</td>\n",
       "      <td>0.755000</td>\n",
       "      <td>B</td>\n",
       "      <td>40</td>\n",
       "      <td>90</td>\n",
       "      <td>31</td>\n",
       "      <td>31</td>\n",
       "    </tr>\n",
       "    <tr>\n",
       "      <th>1894</th>\n",
       "      <td>1166</td>\n",
       "      <td>37</td>\n",
       "      <td>0.755000</td>\n",
       "      <td>B</td>\n",
       "      <td>16</td>\n",
       "      <td>66</td>\n",
       "      <td>31</td>\n",
       "      <td>31</td>\n",
       "    </tr>\n",
       "    <tr>\n",
       "      <th>31643</th>\n",
       "      <td>3414</td>\n",
       "      <td>36</td>\n",
       "      <td>0.755000</td>\n",
       "      <td>B</td>\n",
       "      <td>207</td>\n",
       "      <td>257</td>\n",
       "      <td>30</td>\n",
       "      <td>30</td>\n",
       "    </tr>\n",
       "    <tr>\n",
       "      <th>64</th>\n",
       "      <td>1016</td>\n",
       "      <td>36</td>\n",
       "      <td>0.755000</td>\n",
       "      <td>B</td>\n",
       "      <td>0</td>\n",
       "      <td>50</td>\n",
       "      <td>30</td>\n",
       "      <td>30</td>\n",
       "    </tr>\n",
       "  </tbody>\n",
       "</table>\n",
       "</div>"
      ],
      "text/plain": [
       "      dealer topicID    values B/S  dealer_encoding  dealer_label_position  \\\n",
       "278     1042       0  0.750312   B                2                     52   \n",
       "4687      14      37  0.755000   B               40                     90   \n",
       "1894    1166      37  0.755000   B               16                     66   \n",
       "31643   3414      36  0.755000   B              207                    257   \n",
       "64      1016      36  0.755000   B                0                     50   \n",
       "\n",
       "       topic_encoding  topic_position  \n",
       "278                 0               0  \n",
       "4687               31              31  \n",
       "1894               31              31  \n",
       "31643              30              30  \n",
       "64                 30              30  "
      ]
     },
     "execution_count": 16,
     "metadata": {},
     "output_type": "execute_result"
    }
   ],
   "source": [
    "Dc_v3_dealerXtopic_sum.head()"
   ]
  },
  {
   "cell_type": "code",
   "execution_count": 21,
   "metadata": {},
   "outputs": [
    {
     "data": {
      "text/plain": [
       "topicID  B/S\n",
       "0        B      13\n",
       "         S      15\n",
       "1        B       2\n",
       "10       B       5\n",
       "11       B       3\n",
       "         S       4\n",
       "12       B       4\n",
       "         S       7\n",
       "13       B       1\n",
       "         S       2\n",
       "14       B       9\n",
       "         S       5\n",
       "15       B       5\n",
       "         S       6\n",
       "16       B       4\n",
       "         S       1\n",
       "17       B       7\n",
       "         S       2\n",
       "18       B       7\n",
       "         S       6\n",
       "19       B       5\n",
       "2        B      10\n",
       "20       B       6\n",
       "         S       2\n",
       "21       B       3\n",
       "         S       4\n",
       "22       B      10\n",
       "         S       3\n",
       "23       B       4\n",
       "         S       1\n",
       "                ..\n",
       "4        S       5\n",
       "40       B       9\n",
       "         S       1\n",
       "41       B       8\n",
       "         S       3\n",
       "42       B       5\n",
       "         S       1\n",
       "43       B       6\n",
       "         S       1\n",
       "44       B       7\n",
       "         S       4\n",
       "45       B       1\n",
       "         S       2\n",
       "46       B       3\n",
       "         S      13\n",
       "47       B      11\n",
       "         S       8\n",
       "48       B       3\n",
       "         S      12\n",
       "49       B       4\n",
       "         S       2\n",
       "5        B       3\n",
       "         S       4\n",
       "6        B       3\n",
       "7        B       3\n",
       "         S       2\n",
       "8        B       4\n",
       "         S       3\n",
       "9        B       4\n",
       "         S       1\n",
       "Name: dealer, Length: 90, dtype: int64"
      ]
     },
     "execution_count": 21,
     "metadata": {},
     "output_type": "execute_result"
    }
   ],
   "source": [
    "Dc_v3_dealerXtopic_sum.groupby(['topicID','B/S'])['dealer'].count()"
   ]
  },
  {
   "cell_type": "code",
   "execution_count": null,
   "metadata": {},
   "outputs": [],
   "source": [
    "#Dc_v3_dealerXtopic_sum.to_csv(str(\"Dc_v3_50topics_THRESHOLD={}\").format(THRESHOLD))"
   ]
  },
  {
   "cell_type": "code",
   "execution_count": null,
   "metadata": {},
   "outputs": [],
   "source": [
    "data = dict(\n",
    "    type='sankey',\n",
    "    orientation = \"v\",\n",
    "    valueformat = \".4f\",\n",
    "    node = dict(\n",
    "      pad = 100,\n",
    "      thickness = 30,\n",
    "      line = dict(\n",
    "        color = \"black\",\n",
    "        width = 0.5\n",
    "      ),\n",
    "      label = label,\n",
    "      color = label_color\n",
    "    ),\n",
    "    link = dict(\n",
    "      source = Dc_v3_dealerXtopic_sum['dealer_label_position'],\n",
    "      target = Dc_v3_dealerXtopic_sum['topic_position'],\n",
    "      value = Dc_v3_dealerXtopic_sum['values'],\n",
    "      #label = inverse_transform\n",
    "      color = link_color\n",
    "  ))\n",
    "\n",
    "title = str(\"Dc_v2_50topics_THRESHOLD={}\").format(THRESHOLD)\n",
    "layout =  dict(\n",
    "    title = title,\n",
    "    font = dict(\n",
    "      size = 20\n",
    "    ),\n",
    "    width=1500,\n",
    "    height=5000,\n",
    ")\n",
    "\n",
    "fig = dict(data=[data], layout=layout)\n",
    "#plotly.offline.iplot(fig, validate=False)\n",
    "pio.write_image(fig, \"{}.png\".format(title))\n",
    "plotly.offline.plot(fig, filename =  \"{}.html\".format(title), auto_open=False)"
   ]
  },
  {
   "cell_type": "code",
   "execution_count": null,
   "metadata": {},
   "outputs": [],
   "source": [
    "Dc_v3_dealerXtopic_sum['topicID'].values"
   ]
  },
  {
   "cell_type": "code",
   "execution_count": null,
   "metadata": {},
   "outputs": [],
   "source": []
  }
 ],
 "metadata": {
  "kernelspec": {
   "display_name": "Python 3",
   "language": "python",
   "name": "python3"
  },
  "language_info": {
   "codemirror_mode": {
    "name": "ipython",
    "version": 3
   },
   "file_extension": ".py",
   "mimetype": "text/x-python",
   "name": "python",
   "nbconvert_exporter": "python",
   "pygments_lexer": "ipython3",
   "version": "3.7.1"
  }
 },
 "nbformat": 4,
 "nbformat_minor": 2
}
