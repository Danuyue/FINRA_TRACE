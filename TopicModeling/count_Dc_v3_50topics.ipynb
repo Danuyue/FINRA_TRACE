{
 "cells": [
  {
   "cell_type": "code",
   "execution_count": 1,
   "metadata": {},
   "outputs": [],
   "source": [
    "import pandas as pd\n",
    "import numpy as np\n",
    "\n",
    "from manage_path import *\n",
    "from topic_model_analysis import *"
   ]
  },
  {
   "cell_type": "markdown",
   "metadata": {},
   "source": [
    "# Dc_v3"
   ]
  },
  {
   "cell_type": "code",
   "execution_count": 2,
   "metadata": {},
   "outputs": [],
   "source": [
    "result_directory = get_result_directory()\n",
    "get_document_item_vectorize = np.vectorize(get_document_item)"
   ]
  },
  {
   "cell_type": "code",
   "execution_count": 3,
   "metadata": {},
   "outputs": [],
   "source": [
    "Dc_v3 = pd.read_csv(result_directory/'Dc_v3_50topics.csv',index_col=0)"
   ]
  },
  {
   "cell_type": "code",
   "execution_count": null,
   "metadata": {},
   "outputs": [],
   "source": [
    "Dc_v3['dealer'] = pd.Series(list(zip(get_document_item_vectorize(Dc_v3.index,0),get_document_item_vectorize(Dc_v3.index,2)))).values\n",
    "Dc_v3.index = pd.to_datetime(get_document_item_vectorize(Dc_v3.index,1))"
   ]
  },
  {
   "cell_type": "markdown",
   "metadata": {},
   "source": [
    "### Snakey"
   ]
  },
  {
   "cell_type": "code",
   "execution_count": null,
   "metadata": {},
   "outputs": [],
   "source": [
    "THRESHOLD = 0.75\n",
    "Dc_v3_dealerXtopic_sum = Dc_v3.groupby(by='dealer').mean()\n",
    "Dc_v3_dealerXtopic_sum.index = Dc_v3_dealerXtopic_sum.index.format()\n",
    "Dc_v3_dealerXtopic_sum = pd.DataFrame(Dc_v3_dealerXtopic_sum.stack().reset_index().rename({'level_0':'dealer','level_1':'topicID',0:'values'},axis=1))\n",
    "#Dc_v3_dealerXtopic_sum['topicID'] = Dc_v3_dealerXtopic_sum['topicID'].astype(np.int)\n",
    "Dc_v3_dealerXtopic_sum = Dc_v3_dealerXtopic_sum[Dc_v3_dealerXtopic_sum['values']>=THRESHOLD].copy()\n",
    "Dc_v3_dealerXtopic_sum['B/S'] = Dc_v3_dealerXtopic_sum.apply(lambda x: str(x['dealer'])[-2] ,axis=1)\n",
    "Dc_v3_dealerXtopic_sum['dealer'] = Dc_v3_dealerXtopic_sum.apply(lambda x: str(x['dealer']).split(',')[0][1:] ,axis=1)\n",
    "\"\"\"\n",
    "# \n",
    "Dc_v3_dealerXtopic_sum = Dc_v3_dealerXtopic_sum[(Dc_v3_dealerXtopic_sum['topicID']=='0') | (Dc_v3_dealerXtopic_sum['topicID']=='30')|\n",
    "                                                (Dc_v3_dealerXtopic_sum['topicID']=='15') | (Dc_v3_dealerXtopic_sum['topicID']=='46')|\n",
    "                                               (Dc_v3_dealerXtopic_sum['topicID']=='48') | (Dc_v3_dealerXtopic_sum['topicID']=='35')|\n",
    "                                               (Dc_v3_dealerXtopic_sum['topicID']=='41') | (Dc_v3_dealerXtopic_sum['topicID']=='43')].copy()\n",
    "\"\"\"\n",
    "\"\"\"\n",
    "# Topics on top\n",
    "Dc_v3_dealerXtopic_sum = Dc_v3_dealerXtopic_sum[(Dc_v3_dealerXtopic_sum['topicID']=='36') | (Dc_v3_dealerXtopic_sum['topicID']=='21')|\n",
    "                                                (Dc_v3_dealerXtopic_sum['topicID']=='13') | (Dc_v3_dealerXtopic_sum['topicID']=='28')|\n",
    "                                               (Dc_v3_dealerXtopic_sum['topicID']=='12') | (Dc_v3_dealerXtopic_sum['topicID']=='39')|\n",
    "                                               (Dc_v3_dealerXtopic_sum['topicID']=='1') | (Dc_v3_dealerXtopic_sum['topicID']=='18')].copy()\n",
    "\"\"\"\n",
    "\"\"\"\n",
    "# Topics in middle (wide dealers)\n",
    "Dc_v3_dealerXtopic_sum = Dc_v3_dealerXtopic_sum[(Dc_v3_dealerXtopic_sum['topicID']=='14') | (Dc_v3_dealerXtopic_sum['topicID']=='15')|\n",
    "                                                (Dc_v3_dealerXtopic_sum['topicID']=='47') | (Dc_v3_dealerXtopic_sum['topicID']=='26')|\n",
    "                                               (Dc_v3_dealerXtopic_sum['topicID']=='8') | (Dc_v3_dealerXtopic_sum['topicID']=='38')|\n",
    "                                               (Dc_v3_dealerXtopic_sum['topicID']=='34') | (Dc_v3_dealerXtopic_sum['topicID']=='46')|\n",
    "                                               (Dc_v3_dealerXtopic_sum['topicID']=='49') | (Dc_v3_dealerXtopic_sum['topicID']=='22')].copy()\n",
    "\"\"\"\n",
    "\"\"\"\n",
    "# Buy topics\n",
    "Dc_v3_dealerXtopic_sum = Dc_v3_dealerXtopic_sum[(Dc_v3_dealerXtopic_sum['topicID']=='1') | (Dc_v3_dealerXtopic_sum['topicID']=='16')|\n",
    "                                                (Dc_v3_dealerXtopic_sum['topicID']=='33') | (Dc_v3_dealerXtopic_sum['topicID']=='17')|\n",
    "                                               (Dc_v3_dealerXtopic_sum['topicID']=='7') | (Dc_v3_dealerXtopic_sum['topicID']=='22')|\n",
    "                                               (Dc_v3_dealerXtopic_sum['topicID']=='27') | (Dc_v3_dealerXtopic_sum['topicID']=='2')|\n",
    "                                               (Dc_v3_dealerXtopic_sum['topicID']=='9')].copy()\n",
    "\"\"\"\n",
    "\"\"\"\n",
    "# Sell topics\n",
    "Dc_v3_dealerXtopic_sum = Dc_v3_dealerXtopic_sum[(Dc_v3_dealerXtopic_sum['topicID']=='0') | (Dc_v3_dealerXtopic_sum['topicID']=='45')|\n",
    "                                                (Dc_v3_dealerXtopic_sum['topicID']=='15') | (Dc_v3_dealerXtopic_sum['topicID']=='46')|\n",
    "                                               (Dc_v3_dealerXtopic_sum['topicID']=='35') | (Dc_v3_dealerXtopic_sum['topicID']=='41')].copy()\n",
    "\"\"\"\n",
    "Dc_v3_dealerXtopic_sum = Dc_v3_dealerXtopic_sum.sort_values(by=['topicID','dealer'])"
   ]
  },
  {
   "cell_type": "code",
   "execution_count": null,
   "metadata": {},
   "outputs": [],
   "source": [
    "Dc_v3_dealerXtopic_sum.head()"
   ]
  },
  {
   "cell_type": "code",
   "execution_count": null,
   "metadata": {},
   "outputs": [],
   "source": [
    "from sklearn import preprocessing\n",
    "dealer_le = preprocessing.LabelEncoder()\n",
    "dealer_le.fit(Dc_v3_dealerXtopic_sum['dealer'])\n",
    "dealer_transform = dealer_le.transform(Dc_v3_dealerXtopic_sum['dealer'])\n",
    "dealer_inverse_transform = dealer_le.inverse_transform(dealer_transform)\n",
    "\n",
    "topic_le = preprocessing.LabelEncoder()\n",
    "topic_le.fit(Dc_v3_dealerXtopic_sum['topicID'])\n",
    "topic_transform = topic_le.transform(Dc_v3_dealerXtopic_sum['topicID'])\n",
    "topic_inverse_transform = topic_le.inverse_transform(topic_transform)"
   ]
  },
  {
   "cell_type": "code",
   "execution_count": null,
   "metadata": {},
   "outputs": [],
   "source": [
    "Dc_v3_dealerXtopic_sum['topicID'].nunique()"
   ]
  },
  {
   "cell_type": "raw",
   "metadata": {},
   "source": [
    "Dc_v3_dealerXtopic_sum['dealer_encoding'] = dealer_transform\n",
    "Dc_v3_dealerXtopic_sum['dealer_label_position'] = Dc_v3_dealerXtopic_sum['dealer_encoding'] +len(topicID_list) +1\n",
    "Dc_v3_dealerXtopic_sum['topic_encoding'] = topic_transform"
   ]
  },
  {
   "cell_type": "code",
   "execution_count": null,
   "metadata": {},
   "outputs": [],
   "source": [
    "# Adjust dealer_label_position\n",
    "Dc_v3_dealerXtopic_sum['dealer_encoding'] = dealer_transform\n",
    "topicID_size = Dc_v3_dealerXtopic_sum['topicID'].nunique()\n",
    "Dc_v3_dealerXtopic_sum['dealer_label_position'] = Dc_v3_dealerXtopic_sum.apply(lambda x: x['dealer_encoding'] + topicID_size, axis=1)\n",
    "Dc_v3_dealerXtopic_sum['topic_encoding'] = topic_transform\n",
    "Dc_v3_dealerXtopic_sum['topic_position'] = topic_transform\n",
    "label = Dc_v3_dealerXtopic_sum['topicID'].values.tolist().append(Dc_v3_dealerXtopic_sum['dealer'].values.tolist())"
   ]
  },
  {
   "cell_type": "code",
   "execution_count": null,
   "metadata": {},
   "outputs": [],
   "source": [
    "# Create labels\n",
    "topic_label = list(Dc_v3_dealerXtopic_sum['topicID'].unique())\n",
    "dealer_label = list(Dc_v3_dealerXtopic_sum.sort_values(by=['dealer_encoding'])['dealer'].unique())\n",
    "label = []\n",
    "label.extend(topic_label)\n",
    "label.extend(dealer_label)"
   ]
  },
  {
   "cell_type": "code",
   "execution_count": null,
   "metadata": {},
   "outputs": [],
   "source": [
    "# Create Label's Colors\n",
    "label_color = len(topic_label)*['darkred',]\n",
    "label_color.extend(len(dealer_label)*['black',])"
   ]
  },
  {
   "cell_type": "code",
   "execution_count": null,
   "metadata": {},
   "outputs": [],
   "source": [
    "# Create Link Colors based on B/S \n",
    "b_count = Dc_v3_dealerXtopic_sum.groupby(['B/S']).count()['dealer'][0]\n",
    "s_count = Dc_v3_dealerXtopic_sum.groupby(['B/S']).count()['dealer'][1]\n",
    "link_color = b_count*['deepskyblue',]\n",
    "link_color.extend(s_count*['orange',])\n",
    "# Sort by B/S to match link color arrays \n",
    "Dc_v3_dealerXtopic_sum.sort_values(by=['B/S'],inplace=True)"
   ]
  },
  {
   "cell_type": "raw",
   "metadata": {},
   "source": [
    "# Reverse order of dealer_label_position and topic_encoding if B/S is B\n",
    "def reverse_BS(df):\n",
    "    if df['B/S'] == 'B':\n",
    "        return [df['topic_position'],df['dealer_label_position']]\n",
    "    else:\n",
    "        return [df['dealer_label_position'],df['topic_position']]\n",
    "        \n",
    "Dc_v3_dealerXtopic_sum[['dealer_label_position','topic_position']] = Dc_v3_dealerXtopic_sum.apply(reverse_BS,axis=1,result_type='expand')"
   ]
  },
  {
   "cell_type": "code",
   "execution_count": null,
   "metadata": {},
   "outputs": [],
   "source": [
    "Dc_v3_dealerXtopic_sum.head()"
   ]
  },
  {
   "cell_type": "code",
   "execution_count": null,
   "metadata": {},
   "outputs": [],
   "source": [
    "Dc_v3_dealerXtopic_sum.groupby(['topicID','B/S'])['dealer'].count()"
   ]
  },
  {
   "cell_type": "code",
   "execution_count": null,
   "metadata": {},
   "outputs": [],
   "source": [
    "#Dc_v3_dealerXtopic_sum.to_csv(str(\"Dc_v3_50topics_THRESHOLD={}\").format(THRESHOLD))"
   ]
  },
  {
   "cell_type": "code",
   "execution_count": null,
   "metadata": {},
   "outputs": [],
   "source": [
    "data = dict(\n",
    "    type='sankey',\n",
    "    orientation = \"v\",\n",
    "    valueformat = \".4f\",\n",
    "    node = dict(\n",
    "      pad = 100,\n",
    "      thickness = 30,\n",
    "      line = dict(\n",
    "        color = \"black\",\n",
    "        width = 0.5\n",
    "      ),\n",
    "      label = label,\n",
    "      color = label_color\n",
    "    ),\n",
    "    link = dict(\n",
    "      source = Dc_v3_dealerXtopic_sum['dealer_label_position'],\n",
    "      target = Dc_v3_dealerXtopic_sum['topic_position'],\n",
    "      value = Dc_v3_dealerXtopic_sum['values'],\n",
    "      #label = inverse_transform\n",
    "      color = link_color\n",
    "  ))\n",
    "\n",
    "title = str(\"Dc_v2_50topics_THRESHOLD={}\").format(THRESHOLD)\n",
    "layout =  dict(\n",
    "    title = title,\n",
    "    font = dict(\n",
    "      size = 20\n",
    "    ),\n",
    "    width=1500,\n",
    "    height=5000,\n",
    ")\n",
    "\n",
    "fig = dict(data=[data], layout=layout)\n",
    "#plotly.offline.iplot(fig, validate=False)\n",
    "pio.write_image(fig, \"{}.png\".format(title))\n",
    "plotly.offline.plot(fig, filename =  \"{}.html\".format(title), auto_open=False)"
   ]
  },
  {
   "cell_type": "code",
   "execution_count": null,
   "metadata": {},
   "outputs": [],
   "source": [
    "Dc_v3_dealerXtopic_sum['topicID'].values"
   ]
  },
  {
   "cell_type": "code",
   "execution_count": null,
   "metadata": {},
   "outputs": [],
   "source": []
  }
 ],
 "metadata": {
  "kernelspec": {
   "display_name": "Python 3",
   "language": "python",
   "name": "python3"
  },
  "language_info": {
   "codemirror_mode": {
    "name": "ipython",
    "version": 3
   },
   "file_extension": ".py",
   "mimetype": "text/x-python",
   "name": "python",
   "nbconvert_exporter": "python",
   "pygments_lexer": "ipython3",
   "version": "3.7.1"
  }
 },
 "nbformat": 4,
 "nbformat_minor": 2
}
