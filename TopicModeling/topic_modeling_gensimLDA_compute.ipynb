{
 "cells": [
  {
   "cell_type": "markdown",
   "metadata": {},
   "source": [
    "# Todo\n",
    "* Sensitivity 250 500 1000\n",
    "* For the 500, take top 10% heightest weight\n",
    "* Take that threshold for other topics\n"
   ]
  },
  {
   "cell_type": "code",
   "execution_count": 2,
   "metadata": {
    "scrolled": true
   },
   "outputs": [],
   "source": [
    "import pandas as pd\n",
    "import numpy as np\n",
    "import os\n",
    "from pathlib import Path\n",
    "\n",
    "#import logging\n",
    "#logging.basicConfig(format='%(asctime)s : %(levelname)s : %(message)s', level=logging.INFO)\n",
    "#import tempfile\n",
    "#TEMP_FOLDER = tempfile.gettempdir()\n",
    "#print('Folder \"{}\" will be used to save temporary dictionary and corpus.'.format(TEMP_FOLDER))\n",
    "\n",
    "#%matplotlib inline\n",
    "#import matplotlib\n",
    "#import matplotlib.pyplot as plt\n",
    "#from IPython.display import set_matplotlib_formats\n",
    "#set_matplotlib_formats('retina')\n",
    "\n",
    "from sklearn import preprocessing\n",
    "\n",
    "import warnings\n",
    "warnings.filterwarnings(action='ignore', category=UserWarning, module='gensim')\n",
    "import gensim\n",
    "from gensim.test.utils import datapath\n",
    "\n",
    "from manage_path import *\n",
    "from compute_topic import *"
   ]
  },
  {
   "cell_type": "markdown",
   "metadata": {},
   "source": [
    "### Read the pandas dataframe we got from data preparation"
   ]
  },
  {
   "cell_type": "code",
   "execution_count": 4,
   "metadata": {},
   "outputs": [
    {
     "name": "stdout",
     "output_type": "stream",
     "text": [
      "loading data TRACE2014_jinming.pkl...\n",
      "Getting data fromC:\\Users\\raymo\\UMD\\Research\\FINRA_TRACE\\Data\\Pickle\\TRACE2014_jinming.pkl...\n",
      "Data getting success!\n",
      "creating documents ......\n",
      "documents created!!\n",
      "computing Dc_v4 ......\n",
      "computing Dc_v4 done!\n"
     ]
    },
    {
     "ename": "TypeError",
     "evalue": "compute_corpus() missing 1 required positional argument: 'corpus_save_name'",
     "output_type": "error",
     "traceback": [
      "\u001b[1;31m---------------------------------------------------------------------------\u001b[0m",
      "\u001b[1;31mTypeError\u001b[0m                                 Traceback (most recent call last)",
      "\u001b[1;32m<ipython-input-4-077bd72960e7>\u001b[0m in \u001b[0;36m<module>\u001b[1;34m\u001b[0m\n\u001b[0;32m      1\u001b[0m \u001b[0mdata\u001b[0m \u001b[1;33m=\u001b[0m \u001b[0mload_data\u001b[0m\u001b[1;33m(\u001b[0m\u001b[1;34m'TRACE2014_jinming.pkl'\u001b[0m\u001b[1;33m)\u001b[0m\u001b[1;33m\u001b[0m\u001b[1;33m\u001b[0m\u001b[0m\n\u001b[0;32m      2\u001b[0m \u001b[0mDc_v4\u001b[0m \u001b[1;33m=\u001b[0m \u001b[0mcompute_Dc_v4\u001b[0m\u001b[1;33m(\u001b[0m\u001b[0mdata\u001b[0m\u001b[1;33m)\u001b[0m\u001b[1;33m\u001b[0m\u001b[1;33m\u001b[0m\u001b[0m\n\u001b[1;32m----> 3\u001b[1;33m \u001b[0mDc_v4_corpus\u001b[0m \u001b[1;33m=\u001b[0m \u001b[0mcompute_corpus\u001b[0m\u001b[1;33m(\u001b[0m\u001b[0mDc_v4\u001b[0m\u001b[1;33m)\u001b[0m\u001b[1;33m\u001b[0m\u001b[1;33m\u001b[0m\u001b[0m\n\u001b[0m\u001b[0;32m      4\u001b[0m \u001b[0msave_corpus\u001b[0m\u001b[1;33m(\u001b[0m\u001b[0mDc_v4\u001b[0m\u001b[1;33m,\u001b[0m\u001b[1;34m'Dc_v4'\u001b[0m\u001b[1;33m)\u001b[0m\u001b[1;33m\u001b[0m\u001b[1;33m\u001b[0m\u001b[0m\n\u001b[0;32m      5\u001b[0m \u001b[0mcompute_id2word\u001b[0m\u001b[1;33m(\u001b[0m\u001b[0mDc_v4\u001b[0m\u001b[1;33m,\u001b[0m\u001b[1;34m'Dc_v4'\u001b[0m\u001b[1;33m)\u001b[0m\u001b[1;33m\u001b[0m\u001b[1;33m\u001b[0m\u001b[0m\n",
      "\u001b[1;31mTypeError\u001b[0m: compute_corpus() missing 1 required positional argument: 'corpus_save_name'"
     ]
    }
   ],
   "source": [
    "data = load_data('TRACE2014_jinming.pkl')\n",
    "Dc_v4 = compute_Dc_v4(data)\n",
    "\n",
    "save_corpus(Dc_v4,'Dc_v4')\n",
    "compute_id2word(Dc_v4,'Dc_v4')"
   ]
  },
  {
   "cell_type": "code",
   "execution_count": 7,
   "metadata": {},
   "outputs": [],
   "source": [
    "Dc_v4_corpus = compute_corpus(Dc_v4,'Dc_v4')"
   ]
  },
  {
   "cell_type": "code",
   "execution_count": 14,
   "metadata": {},
   "outputs": [
    {
     "name": "stdout",
     "output_type": "stream",
     "text": [
      "loading corpus...\n",
      "corpus successfully loaded!!\n",
      "MmCorpus(325885 documents, 12077 features, 9232728 non-zero entries)\n"
     ]
    },
    {
     "data": {
      "text/plain": [
       "<gensim.corpora.mmcorpus.MmCorpus at 0x14447440e58>"
      ]
     },
     "execution_count": 14,
     "metadata": {},
     "output_type": "execute_result"
    }
   ],
   "source": [
    "load_corpus('Dc_v4')"
   ]
  },
  {
   "cell_type": "code",
   "execution_count": 15,
   "metadata": {},
   "outputs": [
    {
     "name": "stdout",
     "output_type": "stream",
     "text": [
      "loading corpus...\n",
      "corpus successfully loaded!!\n",
      "MmCorpus(157935 documents, 11131 features, 4055111 non-zero entries)\n"
     ]
    },
    {
     "data": {
      "text/plain": [
       "<gensim.corpora.mmcorpus.MmCorpus at 0x14447440bd8>"
      ]
     },
     "execution_count": 15,
     "metadata": {},
     "output_type": "execute_result"
    }
   ],
   "source": [
    "load_corpus('Dc_v3')"
   ]
  },
  {
   "cell_type": "code",
   "execution_count": 16,
   "metadata": {},
   "outputs": [
    {
     "name": "stdout",
     "output_type": "stream",
     "text": [
      "loading corpus...\n",
      "corpus successfully loaded!!\n",
      "MmCorpus(196451 documents, 12077 features, 8036258 non-zero entries)\n"
     ]
    },
    {
     "data": {
      "text/plain": [
       "<gensim.corpora.mmcorpus.MmCorpus at 0x1440652e278>"
      ]
     },
     "execution_count": 16,
     "metadata": {},
     "output_type": "execute_result"
    }
   ],
   "source": [
    "load_corpus('Dc_v2')"
   ]
  },
  {
   "cell_type": "code",
   "execution_count": null,
   "metadata": {},
   "outputs": [],
   "source": []
  }
 ],
 "metadata": {
  "kernelspec": {
   "display_name": "Python 3",
   "language": "python",
   "name": "python3"
  },
  "language_info": {
   "codemirror_mode": {
    "name": "ipython",
    "version": 3
   },
   "file_extension": ".py",
   "mimetype": "text/x-python",
   "name": "python",
   "nbconvert_exporter": "python",
   "pygments_lexer": "ipython3",
   "version": "3.7.1"
  }
 },
 "nbformat": 4,
 "nbformat_minor": 2
}
