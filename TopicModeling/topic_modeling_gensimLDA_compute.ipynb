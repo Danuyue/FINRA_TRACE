{
 "cells": [
  {
   "cell_type": "markdown",
   "metadata": {},
   "source": [
    "# Todo\n",
    "* Sensitivity 250 500 1000\n",
    "* For the 500, take top 10% heightest weight\n",
    "* Take that threshold for other topics\n"
   ]
  },
  {
   "cell_type": "code",
   "execution_count": 1,
   "metadata": {
    "scrolled": true
   },
   "outputs": [],
   "source": [
    "import pandas as pd\n",
    "import numpy as np\n",
    "import os\n",
    "from pathlib import Path\n",
    "\n",
    "#import logging\n",
    "#logging.basicConfig(format='%(asctime)s : %(levelname)s : %(message)s', level=logging.INFO)\n",
    "#import tempfile\n",
    "#TEMP_FOLDER = tempfile.gettempdir()\n",
    "#print('Folder \"{}\" will be used to save temporary dictionary and corpus.'.format(TEMP_FOLDER))\n",
    "\n",
    "#%matplotlib inline\n",
    "#import matplotlib\n",
    "#import matplotlib.pyplot as plt\n",
    "#from IPython.display import set_matplotlib_formats\n",
    "#set_matplotlib_formats('retina')\n",
    "\n",
    "from sklearn import preprocessing\n",
    "\n",
    "import warnings\n",
    "warnings.filterwarnings(action='ignore', category=UserWarning, module='gensim')\n",
    "import gensim\n",
    "from gensim.test.utils import datapath\n",
    "\n",
    "from manage_path import *\n",
    "from compute_topic import *"
   ]
  },
  {
   "cell_type": "markdown",
   "metadata": {},
   "source": [
    "### Read the pandas dataframe we got from data preparation"
   ]
  },
  {
   "cell_type": "code",
   "execution_count": 3,
   "metadata": {},
   "outputs": [
    {
     "name": "stdout",
     "output_type": "stream",
     "text": [
      "loading data TRACE2014_jinming.pkl...\n",
      "Getting data fromC:\\Users\\raymo\\UMD\\Research\\FINRA_TRACE\\Data\\Pickle\\TRACE2014_jinming.pkl...\n",
      "Data getting success!\n"
     ]
    }
   ],
   "source": [
    "data = load_data('TRACE2014_jinming.pkl')"
   ]
  },
  {
   "cell_type": "code",
   "execution_count": null,
   "metadata": {},
   "outputs": [],
   "source": [
    "Dc_v4 = compute_Dc_v4(data)\n",
    "\n",
    "compute_corpus(Dc_v4,'Dc_v4')\n",
    "#save_corpus(Dc_v4,'Dc_v4')\n",
    "compute_id2word(Dc_v4,'Dc_v4')"
   ]
  },
  {
   "cell_type": "code",
   "execution_count": null,
   "metadata": {},
   "outputs": [],
   "source": [
    "Dc_v4.shape"
   ]
  },
  {
   "cell_type": "code",
   "execution_count": null,
   "metadata": {},
   "outputs": [],
   "source": [
    "Dc_v4[Dc_v4.sum(axis=1) > 3].shape"
   ]
  },
  {
   "cell_type": "code",
   "execution_count": null,
   "metadata": {},
   "outputs": [],
   "source": [
    "Dc_v4_sum = Dc_v4.sum(axis=1)"
   ]
  },
  {
   "cell_type": "code",
   "execution_count": null,
   "metadata": {},
   "outputs": [],
   "source": [
    "Dc_v4_sum.describe()"
   ]
  },
  {
   "cell_type": "code",
   "execution_count": null,
   "metadata": {},
   "outputs": [],
   "source": [
    "Dc_v4_sum.sort_values(ascending=False).head(50)"
   ]
  },
  {
   "cell_type": "code",
   "execution_count": null,
   "metadata": {},
   "outputs": [],
   "source": [
    "Dc_v4_sum.sort_values(ascending=False).iloc[100000]"
   ]
  },
  {
   "cell_type": "code",
   "execution_count": null,
   "metadata": {},
   "outputs": [],
   "source": [
    "del Dc_v4_sum"
   ]
  },
  {
   "cell_type": "code",
   "execution_count": 2,
   "metadata": {},
   "outputs": [
    {
     "name": "stdout",
     "output_type": "stream",
     "text": [
      "loading corpus...\n",
      "corpus successfully loaded!!\n",
      "MmCorpus(153916 documents, 12077 features, 6576545 non-zero entries)\n"
     ]
    },
    {
     "data": {
      "text/plain": [
       "<gensim.corpora.mmcorpus.MmCorpus at 0x12f5d62ef48>"
      ]
     },
     "execution_count": 2,
     "metadata": {},
     "output_type": "execute_result"
    }
   ],
   "source": [
    "load_corpus('Dc_v4')"
   ]
  },
  {
   "cell_type": "code",
   "execution_count": null,
   "metadata": {},
   "outputs": [],
   "source": [
    "load_corpus('Dc_v3')"
   ]
  },
  {
   "cell_type": "code",
   "execution_count": null,
   "metadata": {},
   "outputs": [],
   "source": [
    "load_corpus('Dc_v2')"
   ]
  },
  {
   "cell_type": "code",
   "execution_count": null,
   "metadata": {},
   "outputs": [],
   "source": [
    "load_corpus('Dc_v1')"
   ]
  },
  {
   "cell_type": "markdown",
   "metadata": {},
   "source": [
    "## Capitalization"
   ]
  },
  {
   "cell_type": "code",
   "execution_count": 6,
   "metadata": {},
   "outputs": [
    {
     "data": {
      "text/html": [
       "<div>\n",
       "<style scoped>\n",
       "    .dataframe tbody tr th:only-of-type {\n",
       "        vertical-align: middle;\n",
       "    }\n",
       "\n",
       "    .dataframe tbody tr th {\n",
       "        vertical-align: top;\n",
       "    }\n",
       "\n",
       "    .dataframe thead th {\n",
       "        text-align: right;\n",
       "    }\n",
       "</style>\n",
       "<table border=\"1\" class=\"dataframe\">\n",
       "  <thead>\n",
       "    <tr style=\"text-align: right;\">\n",
       "      <th></th>\n",
       "      <th>TRD_RPT_DTTM</th>\n",
       "      <th>TRD_EXCTN_DTTM</th>\n",
       "      <th>TRC_ST</th>\n",
       "      <th>BOND_SYM_ID</th>\n",
       "      <th>CUSIP_ID</th>\n",
       "      <th>SCRTY_TYPE_CD</th>\n",
       "      <th>ENTRD_VOL_QT</th>\n",
       "      <th>RPTD_PR</th>\n",
       "      <th>RPT_SIDE_CD</th>\n",
       "      <th>Report_Dealer_Index</th>\n",
       "      <th>...</th>\n",
       "      <th>document_date</th>\n",
       "      <th>ISSUER_ID</th>\n",
       "      <th>COMPLETE_CUSIP</th>\n",
       "      <th>AGENT_ID</th>\n",
       "      <th>CUSIP_NAME</th>\n",
       "      <th>INDUSTRY_GROUP</th>\n",
       "      <th>INDUSTRY_CODE</th>\n",
       "      <th>PARENT_ID</th>\n",
       "      <th>NAICS_CODE</th>\n",
       "      <th>SIC_CODE</th>\n",
       "    </tr>\n",
       "  </thead>\n",
       "  <tbody>\n",
       "    <tr>\n",
       "      <th>0</th>\n",
       "      <td>2014-07-16 09:47:25</td>\n",
       "      <td>2014-07-16 09:47:13</td>\n",
       "      <td>T</td>\n",
       "      <td>TWIX3666829</td>\n",
       "      <td>982526AB1</td>\n",
       "      <td>CORP</td>\n",
       "      <td>25000.0</td>\n",
       "      <td>102.991997</td>\n",
       "      <td>B</td>\n",
       "      <td>0</td>\n",
       "      <td>...</td>\n",
       "      <td>2014-07-16</td>\n",
       "      <td>38591</td>\n",
       "      <td>982526AB1</td>\n",
       "      <td>52600</td>\n",
       "      <td>WRIGLEY WM JR CO</td>\n",
       "      <td>1</td>\n",
       "      <td>10</td>\n",
       "      <td>56732</td>\n",
       "      <td>31134</td>\n",
       "      <td>2067</td>\n",
       "    </tr>\n",
       "    <tr>\n",
       "      <th>1</th>\n",
       "      <td>2014-12-23 16:11:32</td>\n",
       "      <td>2014-12-23 16:11:17</td>\n",
       "      <td>T</td>\n",
       "      <td>WAMU3885939</td>\n",
       "      <td>92936PAB6</td>\n",
       "      <td>CORP</td>\n",
       "      <td>214.0</td>\n",
       "      <td>95.934578</td>\n",
       "      <td>S</td>\n",
       "      <td>83</td>\n",
       "      <td>...</td>\n",
       "      <td>2014-12-23</td>\n",
       "      <td>44811</td>\n",
       "      <td>92936PAB6</td>\n",
       "      <td>12434</td>\n",
       "      <td>WMI HLDGS CORP</td>\n",
       "      <td>2</td>\n",
       "      <td>20</td>\n",
       "      <td>12434</td>\n",
       "      <td>52212</td>\n",
       "      <td>6035</td>\n",
       "    </tr>\n",
       "    <tr>\n",
       "      <th>2</th>\n",
       "      <td>2014-12-05 14:43:44</td>\n",
       "      <td>2014-12-05 14:43:27</td>\n",
       "      <td>T</td>\n",
       "      <td>WAMU3885939</td>\n",
       "      <td>92936PAB6</td>\n",
       "      <td>CORP</td>\n",
       "      <td>100.0</td>\n",
       "      <td>92.500000</td>\n",
       "      <td>S</td>\n",
       "      <td>83</td>\n",
       "      <td>...</td>\n",
       "      <td>2014-12-05</td>\n",
       "      <td>44811</td>\n",
       "      <td>92936PAB6</td>\n",
       "      <td>12434</td>\n",
       "      <td>WMI HLDGS CORP</td>\n",
       "      <td>2</td>\n",
       "      <td>20</td>\n",
       "      <td>12434</td>\n",
       "      <td>52212</td>\n",
       "      <td>6035</td>\n",
       "    </tr>\n",
       "    <tr>\n",
       "      <th>3</th>\n",
       "      <td>2014-12-03 10:48:12</td>\n",
       "      <td>2014-12-03 10:48:11</td>\n",
       "      <td>T</td>\n",
       "      <td>WAMU3885939</td>\n",
       "      <td>92936PAB6</td>\n",
       "      <td>CORP</td>\n",
       "      <td>1.0</td>\n",
       "      <td>88.000000</td>\n",
       "      <td>B</td>\n",
       "      <td>0</td>\n",
       "      <td>...</td>\n",
       "      <td>2014-12-03</td>\n",
       "      <td>44811</td>\n",
       "      <td>92936PAB6</td>\n",
       "      <td>12434</td>\n",
       "      <td>WMI HLDGS CORP</td>\n",
       "      <td>2</td>\n",
       "      <td>20</td>\n",
       "      <td>12434</td>\n",
       "      <td>52212</td>\n",
       "      <td>6035</td>\n",
       "    </tr>\n",
       "    <tr>\n",
       "      <th>4</th>\n",
       "      <td>2014-12-23 16:11:16</td>\n",
       "      <td>2014-12-23 16:10:56</td>\n",
       "      <td>T</td>\n",
       "      <td>WAMU3885939</td>\n",
       "      <td>92936PAB6</td>\n",
       "      <td>CORP</td>\n",
       "      <td>2000.0</td>\n",
       "      <td>95.250000</td>\n",
       "      <td>S</td>\n",
       "      <td>83</td>\n",
       "      <td>...</td>\n",
       "      <td>2014-12-23</td>\n",
       "      <td>44811</td>\n",
       "      <td>92936PAB6</td>\n",
       "      <td>12434</td>\n",
       "      <td>WMI HLDGS CORP</td>\n",
       "      <td>2</td>\n",
       "      <td>20</td>\n",
       "      <td>12434</td>\n",
       "      <td>52212</td>\n",
       "      <td>6035</td>\n",
       "    </tr>\n",
       "  </tbody>\n",
       "</table>\n",
       "<p>5 rows × 21 columns</p>\n",
       "</div>"
      ],
      "text/plain": [
       "         TRD_RPT_DTTM      TRD_EXCTN_DTTM TRC_ST  BOND_SYM_ID   CUSIP_ID  \\\n",
       "0 2014-07-16 09:47:25 2014-07-16 09:47:13      T  TWIX3666829  982526AB1   \n",
       "1 2014-12-23 16:11:32 2014-12-23 16:11:17      T  WAMU3885939  92936PAB6   \n",
       "2 2014-12-05 14:43:44 2014-12-05 14:43:27      T  WAMU3885939  92936PAB6   \n",
       "3 2014-12-03 10:48:12 2014-12-03 10:48:11      T  WAMU3885939  92936PAB6   \n",
       "4 2014-12-23 16:11:16 2014-12-23 16:10:56      T  WAMU3885939  92936PAB6   \n",
       "\n",
       "  SCRTY_TYPE_CD  ENTRD_VOL_QT     RPTD_PR RPT_SIDE_CD Report_Dealer_Index  \\\n",
       "0          CORP       25000.0  102.991997           B                   0   \n",
       "1          CORP         214.0   95.934578           S                  83   \n",
       "2          CORP         100.0   92.500000           S                  83   \n",
       "3          CORP           1.0   88.000000           B                   0   \n",
       "4          CORP        2000.0   95.250000           S                  83   \n",
       "\n",
       "    ...    document_date ISSUER_ID COMPLETE_CUSIP AGENT_ID        CUSIP_NAME  \\\n",
       "0   ...       2014-07-16     38591      982526AB1    52600  WRIGLEY WM JR CO   \n",
       "1   ...       2014-12-23     44811      92936PAB6    12434    WMI HLDGS CORP   \n",
       "2   ...       2014-12-05     44811      92936PAB6    12434    WMI HLDGS CORP   \n",
       "3   ...       2014-12-03     44811      92936PAB6    12434    WMI HLDGS CORP   \n",
       "4   ...       2014-12-23     44811      92936PAB6    12434    WMI HLDGS CORP   \n",
       "\n",
       "  INDUSTRY_GROUP INDUSTRY_CODE PARENT_ID NAICS_CODE SIC_CODE  \n",
       "0              1            10     56732      31134     2067  \n",
       "1              2            20     12434      52212     6035  \n",
       "2              2            20     12434      52212     6035  \n",
       "3              2            20     12434      52212     6035  \n",
       "4              2            20     12434      52212     6035  \n",
       "\n",
       "[5 rows x 21 columns]"
      ]
     },
     "execution_count": 6,
     "metadata": {},
     "output_type": "execute_result"
    }
   ],
   "source": [
    "data.head()"
   ]
  },
  {
   "cell_type": "code",
   "execution_count": 7,
   "metadata": {},
   "outputs": [
    {
     "data": {
      "text/plain": [
       "Index(['TRD_RPT_DTTM', 'TRD_EXCTN_DTTM', 'TRC_ST', 'BOND_SYM_ID', 'CUSIP_ID',\n",
       "       'SCRTY_TYPE_CD', 'ENTRD_VOL_QT', 'RPTD_PR', 'RPT_SIDE_CD',\n",
       "       'Report_Dealer_Index', 'Contra_Party_Index', 'document_date',\n",
       "       'ISSUER_ID', 'COMPLETE_CUSIP', 'AGENT_ID', 'CUSIP_NAME',\n",
       "       'INDUSTRY_GROUP', 'INDUSTRY_CODE', 'PARENT_ID', 'NAICS_CODE',\n",
       "       'SIC_CODE'],\n",
       "      dtype='object')"
      ]
     },
     "execution_count": 7,
     "metadata": {},
     "output_type": "execute_result"
    }
   ],
   "source": [
    "data.columns"
   ]
  },
  {
   "cell_type": "code",
   "execution_count": 21,
   "metadata": {},
   "outputs": [
    {
     "data": {
      "text/plain": [
       "count    6.322794e+06\n",
       "mean     6.092951e+07\n",
       "std      2.474158e+08\n",
       "min      0.000000e+00\n",
       "25%      1.104222e+06\n",
       "50%      3.386007e+06\n",
       "75%      2.463350e+07\n",
       "max      1.154484e+11\n",
       "dtype: float64"
      ]
     },
     "execution_count": 21,
     "metadata": {},
     "output_type": "execute_result"
    }
   ],
   "source": [
    "data.eval('ENTRD_VOL_QT*RPTD_PR').describe()"
   ]
  },
  {
   "cell_type": "code",
   "execution_count": 14,
   "metadata": {},
   "outputs": [
    {
     "data": {
      "text/plain": [
       "0.01"
      ]
     },
     "execution_count": 14,
     "metadata": {},
     "output_type": "execute_result"
    }
   ],
   "source": [
    "data['ENTRD_VOL_QT'].min()"
   ]
  },
  {
   "cell_type": "code",
   "execution_count": 15,
   "metadata": {},
   "outputs": [
    {
     "data": {
      "text/plain": [
       "0.0"
      ]
     },
     "execution_count": 15,
     "metadata": {},
     "output_type": "execute_result"
    }
   ],
   "source": [
    "data['RPTD_PR'].min()"
   ]
  },
  {
   "cell_type": "code",
   "execution_count": 22,
   "metadata": {},
   "outputs": [
    {
     "data": {
      "text/html": [
       "<div>\n",
       "<style scoped>\n",
       "    .dataframe tbody tr th:only-of-type {\n",
       "        vertical-align: middle;\n",
       "    }\n",
       "\n",
       "    .dataframe tbody tr th {\n",
       "        vertical-align: top;\n",
       "    }\n",
       "\n",
       "    .dataframe thead th {\n",
       "        text-align: right;\n",
       "    }\n",
       "</style>\n",
       "<table border=\"1\" class=\"dataframe\">\n",
       "  <thead>\n",
       "    <tr style=\"text-align: right;\">\n",
       "      <th></th>\n",
       "      <th>TRD_RPT_DTTM</th>\n",
       "      <th>TRD_EXCTN_DTTM</th>\n",
       "      <th>TRC_ST</th>\n",
       "      <th>BOND_SYM_ID</th>\n",
       "      <th>CUSIP_ID</th>\n",
       "      <th>SCRTY_TYPE_CD</th>\n",
       "      <th>ENTRD_VOL_QT</th>\n",
       "      <th>RPTD_PR</th>\n",
       "      <th>RPT_SIDE_CD</th>\n",
       "      <th>Report_Dealer_Index</th>\n",
       "      <th>...</th>\n",
       "      <th>document_date</th>\n",
       "      <th>ISSUER_ID</th>\n",
       "      <th>COMPLETE_CUSIP</th>\n",
       "      <th>AGENT_ID</th>\n",
       "      <th>CUSIP_NAME</th>\n",
       "      <th>INDUSTRY_GROUP</th>\n",
       "      <th>INDUSTRY_CODE</th>\n",
       "      <th>PARENT_ID</th>\n",
       "      <th>NAICS_CODE</th>\n",
       "      <th>SIC_CODE</th>\n",
       "    </tr>\n",
       "  </thead>\n",
       "  <tbody>\n",
       "    <tr>\n",
       "      <th>1001650</th>\n",
       "      <td>2014-12-18 12:44:35</td>\n",
       "      <td>2014-12-18 12:44:34</td>\n",
       "      <td>T</td>\n",
       "      <td>DISH3706274</td>\n",
       "      <td>093679AC2</td>\n",
       "      <td>CORP</td>\n",
       "      <td>50000.0</td>\n",
       "      <td>0.0</td>\n",
       "      <td>B</td>\n",
       "      <td>0</td>\n",
       "      <td>...</td>\n",
       "      <td>2014-12-18</td>\n",
       "      <td>37989</td>\n",
       "      <td>093679AC2</td>\n",
       "      <td>51390</td>\n",
       "      <td>BLOCKBUSTER INC</td>\n",
       "      <td>1</td>\n",
       "      <td>15</td>\n",
       "      <td>51390</td>\n",
       "      <td>532282</td>\n",
       "      <td>7841</td>\n",
       "    </tr>\n",
       "  </tbody>\n",
       "</table>\n",
       "<p>1 rows × 21 columns</p>\n",
       "</div>"
      ],
      "text/plain": [
       "               TRD_RPT_DTTM      TRD_EXCTN_DTTM TRC_ST  BOND_SYM_ID  \\\n",
       "1001650 2014-12-18 12:44:35 2014-12-18 12:44:34      T  DISH3706274   \n",
       "\n",
       "          CUSIP_ID SCRTY_TYPE_CD  ENTRD_VOL_QT  RPTD_PR RPT_SIDE_CD  \\\n",
       "1001650  093679AC2          CORP       50000.0      0.0           B   \n",
       "\n",
       "        Report_Dealer_Index   ...    document_date ISSUER_ID COMPLETE_CUSIP  \\\n",
       "1001650                   0   ...       2014-12-18     37989      093679AC2   \n",
       "\n",
       "        AGENT_ID       CUSIP_NAME INDUSTRY_GROUP INDUSTRY_CODE PARENT_ID  \\\n",
       "1001650    51390  BLOCKBUSTER INC              1            15     51390   \n",
       "\n",
       "        NAICS_CODE SIC_CODE  \n",
       "1001650     532282     7841  \n",
       "\n",
       "[1 rows x 21 columns]"
      ]
     },
     "execution_count": 22,
     "metadata": {},
     "output_type": "execute_result"
    }
   ],
   "source": [
    "data[data['RPTD_PR']<=0]"
   ]
  },
  {
   "cell_type": "code",
   "execution_count": null,
   "metadata": {},
   "outputs": [],
   "source": [
    "data.eval('ENTRD_VOL_QT*RPTD_PR')"
   ]
  }
 ],
 "metadata": {
  "kernelspec": {
   "display_name": "Python 3",
   "language": "python",
   "name": "python3"
  },
  "language_info": {
   "codemirror_mode": {
    "name": "ipython",
    "version": 3
   },
   "file_extension": ".py",
   "mimetype": "text/x-python",
   "name": "python",
   "nbconvert_exporter": "python",
   "pygments_lexer": "ipython3",
   "version": "3.7.1"
  }
 },
 "nbformat": 4,
 "nbformat_minor": 2
}
