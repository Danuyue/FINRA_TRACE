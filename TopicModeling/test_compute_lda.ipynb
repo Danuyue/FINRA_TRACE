{
 "cells": [
  {
   "cell_type": "code",
   "execution_count": 1,
   "metadata": {},
   "outputs": [
    {
     "name": "stderr",
     "output_type": "stream",
     "text": [
      "/home/raymond/anaconda3/envs/topicModeling/lib/python3.7/site-packages/smart_open/ssh.py:34: UserWarning: paramiko missing, opening SSH/SCP/SFTP paths will be disabled.  `pip install paramiko` to suppress\n",
      "  warnings.warn('paramiko missing, opening SSH/SCP/SFTP paths will be disabled.  `pip install paramiko` to suppress')\n"
     ]
    }
   ],
   "source": [
    "# Import local files\n",
    "from manage_path import *\n",
    "from get_data import *\n",
    "from compute_lda import *"
   ]
  },
  {
   "cell_type": "code",
   "execution_count": 2,
   "metadata": {},
   "outputs": [
    {
     "name": "stdout",
     "output_type": "stream",
     "text": [
      "Getting data from/home/raymond/Research/FINRA_TRACE/Data/Pickle/FINRA_TRACE_2014.pkl.zip...\n",
      "Data getting success from /home/raymond/Research/FINRA_TRACE/Data/Pickle/FINRA_TRACE_2014.pkl.zip!\n"
     ]
    }
   ],
   "source": [
    "data = load_pickle(file_name=\"FINRA_TRACE_2014.pkl.zip\")"
   ]
  },
  {
   "cell_type": "code",
   "execution_count": 4,
   "metadata": {},
   "outputs": [
    {
     "data": {
      "text/plain": [
       "(6323262, 14)"
      ]
     },
     "execution_count": 4,
     "metadata": {},
     "output_type": "execute_result"
    }
   ],
   "source": [
    "data.shape"
   ]
  },
  {
   "cell_type": "code",
   "execution_count": 5,
   "metadata": {},
   "outputs": [],
   "source": [
    "data['price'] = (data['ENTRD_VOL_QT'] * data['RPTD_PR'])/100"
   ]
  },
  {
   "cell_type": "code",
   "execution_count": 6,
   "metadata": {},
   "outputs": [
    {
     "data": {
      "text/plain": [
       "count    6.323262e+06\n",
       "mean     6.073740e+05\n",
       "std      2.391643e+06\n",
       "min      0.000000e+00\n",
       "25%      1.103970e+04\n",
       "50%      3.379530e+04\n",
       "75%      2.457833e+05\n",
       "max      1.154484e+09\n",
       "Name: price, dtype: float64"
      ]
     },
     "execution_count": 6,
     "metadata": {},
     "output_type": "execute_result"
    }
   ],
   "source": [
    "data['price'].describe()"
   ]
  },
  {
   "cell_type": "code",
   "execution_count": null,
   "metadata": {},
   "outputs": [],
   "source": [
    "\"\"\"Compute Dc_v4 which is count of bonds on given dealer and day seperated buy and sell\"\"\"\n",
    "data['document_date'] = data['TRD_EXCTN_DTTM'].dt.date.apply(lambda x: str(x))\n",
    "create_buy_document_no_source_vectorize = np.vectorize(create_buy_document_no_source)\n",
    "create_sell_document_no_source_vectorize = np.vectorize(create_sell_document_no_source)\n",
    "client_to_delete_vectorize = np.vectorize(client_to_delete)\n",
    "print(\"creating documents ......\")\n",
    "# Add new column Dc_v4_S which is the string representation of report dealer buy on the specific day\n",
    "data['Dc_v4_S'] = create_sell_document_no_source_vectorize(data['Report_Dealer_Index'].values,data['Contra_Party_Index'].values,data['document_date'].values)\n",
    "# Add new column Dc_v4_B which is the string representation of report dealer sell on the specific day\n",
    "data['Dc_v4_B'] = create_buy_document_no_source_vectorize(data['Report_Dealer_Index'].values,data['Contra_Party_Index'].values,data['document_date'].values)\n",
    "print(\"documents created!!\")"
   ]
  },
  {
   "cell_type": "code",
   "execution_count": null,
   "metadata": {},
   "outputs": [],
   "source": [
    "type(data['Dc_v4_S'].iloc[7])"
   ]
  },
  {
   "cell_type": "code",
   "execution_count": null,
   "metadata": {},
   "outputs": [],
   "source": [
    "1 != 2"
   ]
  },
  {
   "cell_type": "code",
   "execution_count": null,
   "metadata": {},
   "outputs": [],
   "source": [
    "data_sub = data[['Dc_v4_S','Dc_v4_B','BOND_SYM_ID','price']].copy()\n",
    "data_gb_sell = data_sub[data_sub['Dc_v4_S']!='nan'].groupby(by=['Dc_v4_S','BOND_SYM_ID'])\n",
    "data_gb_buy = data_sub[data_sub['Dc_v4_B']!='nan'].groupby(by=['Dc_v4_B','BOND_SYM_ID'])"
   ]
  },
  {
   "cell_type": "code",
   "execution_count": null,
   "metadata": {},
   "outputs": [],
   "source": [
    "#sell_matrix = data_gb_sell['price'].sum().unstack(fill_value=0)"
   ]
  },
  {
   "cell_type": "code",
   "execution_count": null,
   "metadata": {},
   "outputs": [],
   "source": [
    "sell_df = data_gb_sell['price'].sum().to_frame()"
   ]
  },
  {
   "cell_type": "code",
   "execution_count": null,
   "metadata": {},
   "outputs": [],
   "source": [
    "sell_df.describe()"
   ]
  },
  {
   "cell_type": "code",
   "execution_count": null,
   "metadata": {},
   "outputs": [],
   "source": [
    "sell_df['']"
   ]
  },
  {
   "cell_type": "code",
   "execution_count": null,
   "metadata": {},
   "outputs": [],
   "source": [
    "bins=[0,10000,100000,1000000,10000000,sell_df[sell_df['price']>0]['price'].max()]\n",
    "labels = [i for i in range(len(bins)-1)]\n",
    "pd.cut(sell_df[sell_df['price']>0]['price'],bins=bins,labels=labels)"
   ]
  },
  {
   "cell_type": "code",
   "execution_count": null,
   "metadata": {},
   "outputs": [],
   "source": [
    "pd.DataFrame(preprocessing.minmax_scale(sell_df[sell_df['price']>0],feature_range=(0, 5))).describe()"
   ]
  },
  {
   "cell_type": "code",
   "execution_count": null,
   "metadata": {
    "scrolled": true
   },
   "outputs": [],
   "source": [
    "sell_df.groupby(level=0).count().iloc[12::].describe()"
   ]
  },
  {
   "cell_type": "code",
   "execution_count": null,
   "metadata": {},
   "outputs": [],
   "source": [
    "data_gb_sell['price'].sum().describe()"
   ]
  },
  {
   "cell_type": "raw",
   "metadata": {},
   "source": [
    "print(\"computing Dc_v4 ......\")\n",
    "Dc_v4 = data_gb_sell['price'].sum().unstack(fill_value=0)\n",
    "Dc_v4 = Dc_v4.append(data_gb_buy['price'].sum().unstack(fill_value=0))\n",
    "Dc_v4 = Dc_v4.sort_index(axis=1)\n",
    "print(\"computing Dc_v4 done!\")\n",
    "print(\"flitering out general client in Dc_v4\")\n",
    "Dc_v4['to_delete'] = client_to_delete_vectorize(Dc_v4.index)\n",
    "Dc_v4 = Dc_v4.loc[Dc_v4['to_delete']!='delete'].drop(['to_delete'],axis=1).copy()\n",
    "#Dc_v4 = Dc_v4[Dc_v4.sum(axis=1) > 3].copy()\n",
    "#Dc_v4.dropna(axis=1,how='all',inplace=True)\n",
    "print(\"all done!\")"
   ]
  },
  {
   "cell_type": "code",
   "execution_count": null,
   "metadata": {},
   "outputs": [],
   "source": [
    "from scipy.stats import mstats"
   ]
  },
  {
   "cell_type": "code",
   "execution_count": null,
   "metadata": {},
   "outputs": [],
   "source": [
    "data['price_winsor'] = pd.Series(mstats.winsorize(data['price'].values,limits=[0.10,0.10]))"
   ]
  },
  {
   "cell_type": "code",
   "execution_count": null,
   "metadata": {},
   "outputs": [],
   "source": [
    "pd.Series(preprocessing.minmax_scale(data['price_winsor'],feature_range=[0,5])).describe()"
   ]
  },
  {
   "cell_type": "code",
   "execution_count": null,
   "metadata": {},
   "outputs": [],
   "source": [
    "data['price_winsor']"
   ]
  },
  {
   "cell_type": "code",
   "execution_count": null,
   "metadata": {},
   "outputs": [],
   "source": []
  }
 ],
 "metadata": {
  "kernelspec": {
   "display_name": "Python 3",
   "language": "python",
   "name": "python3"
  },
  "language_info": {
   "codemirror_mode": {
    "name": "ipython",
    "version": 3
   },
   "file_extension": ".py",
   "mimetype": "text/x-python",
   "name": "python",
   "nbconvert_exporter": "python",
   "pygments_lexer": "ipython3",
   "version": "3.7.3"
  }
 },
 "nbformat": 4,
 "nbformat_minor": 2
}
