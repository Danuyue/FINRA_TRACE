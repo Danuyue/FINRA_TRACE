{
 "cells": [
  {
   "cell_type": "code",
   "execution_count": 1,
   "metadata": {},
   "outputs": [
    {
     "name": "stderr",
     "output_type": "stream",
     "text": [
      "/home/raymond/anaconda3/envs/topicModeling/lib/python3.7/site-packages/smart_open/ssh.py:34: UserWarning: paramiko missing, opening SSH/SCP/SFTP paths will be disabled.  `pip install paramiko` to suppress\n",
      "  warnings.warn('paramiko missing, opening SSH/SCP/SFTP paths will be disabled.  `pip install paramiko` to suppress')\n"
     ]
    }
   ],
   "source": [
    "# Import local files\n",
    "from manage_path import *\n",
    "from get_data import *\n",
    "from compute_lda import *"
   ]
  },
  {
   "cell_type": "code",
   "execution_count": 2,
   "metadata": {},
   "outputs": [
    {
     "name": "stdout",
     "output_type": "stream",
     "text": [
      "loading data FINRA_TRACE_2014.pkl...\n",
      "Getting data from/home/raymond/Research/FINRA_TRACE/Data/Pickle/FINRA_TRACE_2014.pkl...\n",
      "Data getting success!\n"
     ]
    }
   ],
   "source": [
    "data = load_data(file_name=\"FINRA_TRACE_2014.pkl\")"
   ]
  },
  {
   "cell_type": "code",
   "execution_count": 3,
   "metadata": {},
   "outputs": [
    {
     "data": {
      "text/html": [
       "<div>\n",
       "<style scoped>\n",
       "    .dataframe tbody tr th:only-of-type {\n",
       "        vertical-align: middle;\n",
       "    }\n",
       "\n",
       "    .dataframe tbody tr th {\n",
       "        vertical-align: top;\n",
       "    }\n",
       "\n",
       "    .dataframe thead th {\n",
       "        text-align: right;\n",
       "    }\n",
       "</style>\n",
       "<table border=\"1\" class=\"dataframe\">\n",
       "  <thead>\n",
       "    <tr style=\"text-align: right;\">\n",
       "      <th></th>\n",
       "      <th>BOND_SYM_ID</th>\n",
       "      <th>CUSIP_ID</th>\n",
       "      <th>SCRTY_TYPE_CD</th>\n",
       "      <th>ENTRD_VOL_QT</th>\n",
       "      <th>RPTD_PR</th>\n",
       "      <th>RPT_SIDE_CD</th>\n",
       "      <th>Year</th>\n",
       "      <th>TRD_EXCTN_DTTM</th>\n",
       "      <th>TRD_RPT_DTTM</th>\n",
       "      <th>Report_Dealer_Index</th>\n",
       "      <th>Contra_Party_Index</th>\n",
       "      <th>TRC_ST</th>\n",
       "      <th>RATING_MR</th>\n",
       "      <th>RATING_MR_Numeric</th>\n",
       "    </tr>\n",
       "  </thead>\n",
       "  <tbody>\n",
       "    <tr>\n",
       "      <th>0</th>\n",
       "      <td>RBS3706239</td>\n",
       "      <td>00077TAA2</td>\n",
       "      <td>CORP</td>\n",
       "      <td>10000.0</td>\n",
       "      <td>111.245</td>\n",
       "      <td>D</td>\n",
       "      <td>2014.0</td>\n",
       "      <td>2014-01-31 10:40:23</td>\n",
       "      <td>2014-01-31 10:40:37</td>\n",
       "      <td>2048</td>\n",
       "      <td>2917</td>\n",
       "      <td>T</td>\n",
       "      <td>Ba1</td>\n",
       "      <td>11.0</td>\n",
       "    </tr>\n",
       "    <tr>\n",
       "      <th>1</th>\n",
       "      <td>RBS3706239</td>\n",
       "      <td>00077TAA2</td>\n",
       "      <td>CORP</td>\n",
       "      <td>2000.0</td>\n",
       "      <td>113.389</td>\n",
       "      <td>C</td>\n",
       "      <td>2014.0</td>\n",
       "      <td>2014-02-21 11:19:41</td>\n",
       "      <td>2014-02-21 11:19:57</td>\n",
       "      <td>2614</td>\n",
       "      <td>99999</td>\n",
       "      <td>T</td>\n",
       "      <td>Ba1</td>\n",
       "      <td>11.0</td>\n",
       "    </tr>\n",
       "    <tr>\n",
       "      <th>2</th>\n",
       "      <td>RBS3706239</td>\n",
       "      <td>00077TAA2</td>\n",
       "      <td>CORP</td>\n",
       "      <td>5000.0</td>\n",
       "      <td>112.070</td>\n",
       "      <td>C</td>\n",
       "      <td>2014.0</td>\n",
       "      <td>2014-01-24 15:19:50</td>\n",
       "      <td>2014-01-24 15:20:18</td>\n",
       "      <td>3513</td>\n",
       "      <td>99999</td>\n",
       "      <td>T</td>\n",
       "      <td>Ba1</td>\n",
       "      <td>11.0</td>\n",
       "    </tr>\n",
       "    <tr>\n",
       "      <th>3</th>\n",
       "      <td>RBS3706239</td>\n",
       "      <td>00077TAA2</td>\n",
       "      <td>CORP</td>\n",
       "      <td>2000.0</td>\n",
       "      <td>112.640</td>\n",
       "      <td>D</td>\n",
       "      <td>2014.0</td>\n",
       "      <td>2014-02-21 11:19:41</td>\n",
       "      <td>2014-02-21 11:20:01</td>\n",
       "      <td>2048</td>\n",
       "      <td>2514</td>\n",
       "      <td>T</td>\n",
       "      <td>Ba1</td>\n",
       "      <td>11.0</td>\n",
       "    </tr>\n",
       "    <tr>\n",
       "      <th>4</th>\n",
       "      <td>RBS3706239</td>\n",
       "      <td>00077TAA2</td>\n",
       "      <td>CORP</td>\n",
       "      <td>10000.0</td>\n",
       "      <td>112.245</td>\n",
       "      <td>D</td>\n",
       "      <td>2014.0</td>\n",
       "      <td>2014-01-16 13:41:11</td>\n",
       "      <td>2014-01-16 13:41:27</td>\n",
       "      <td>2048</td>\n",
       "      <td>2940</td>\n",
       "      <td>T</td>\n",
       "      <td>Ba1</td>\n",
       "      <td>11.0</td>\n",
       "    </tr>\n",
       "  </tbody>\n",
       "</table>\n",
       "</div>"
      ],
      "text/plain": [
       "  BOND_SYM_ID   CUSIP_ID SCRTY_TYPE_CD  ENTRD_VOL_QT  RPTD_PR RPT_SIDE_CD  \\\n",
       "0  RBS3706239  00077TAA2          CORP       10000.0  111.245           D   \n",
       "1  RBS3706239  00077TAA2          CORP        2000.0  113.389           C   \n",
       "2  RBS3706239  00077TAA2          CORP        5000.0  112.070           C   \n",
       "3  RBS3706239  00077TAA2          CORP        2000.0  112.640           D   \n",
       "4  RBS3706239  00077TAA2          CORP       10000.0  112.245           D   \n",
       "\n",
       "     Year      TRD_EXCTN_DTTM        TRD_RPT_DTTM Report_Dealer_Index  \\\n",
       "0  2014.0 2014-01-31 10:40:23 2014-01-31 10:40:37                2048   \n",
       "1  2014.0 2014-02-21 11:19:41 2014-02-21 11:19:57                2614   \n",
       "2  2014.0 2014-01-24 15:19:50 2014-01-24 15:20:18                3513   \n",
       "3  2014.0 2014-02-21 11:19:41 2014-02-21 11:20:01                2048   \n",
       "4  2014.0 2014-01-16 13:41:11 2014-01-16 13:41:27                2048   \n",
       "\n",
       "  Contra_Party_Index TRC_ST RATING_MR  RATING_MR_Numeric  \n",
       "0               2917      T       Ba1               11.0  \n",
       "1              99999      T       Ba1               11.0  \n",
       "2              99999      T       Ba1               11.0  \n",
       "3               2514      T       Ba1               11.0  \n",
       "4               2940      T       Ba1               11.0  "
      ]
     },
     "execution_count": 3,
     "metadata": {},
     "output_type": "execute_result"
    }
   ],
   "source": [
    "data.head()"
   ]
  },
  {
   "cell_type": "code",
   "execution_count": 4,
   "metadata": {},
   "outputs": [],
   "source": [
    "data['price'] = (data['ENTRD_VOL_QT'] * data['RPTD_PR'])/100"
   ]
  },
  {
   "cell_type": "code",
   "execution_count": 5,
   "metadata": {},
   "outputs": [
    {
     "data": {
      "text/plain": [
       "count    6.323262e+06\n",
       "mean     6.073740e+05\n",
       "std      2.391643e+06\n",
       "min      0.000000e+00\n",
       "25%      1.103970e+04\n",
       "50%      3.379530e+04\n",
       "75%      2.457833e+05\n",
       "max      1.154484e+09\n",
       "Name: price, dtype: float64"
      ]
     },
     "execution_count": 5,
     "metadata": {},
     "output_type": "execute_result"
    }
   ],
   "source": [
    "data['price'].describe()"
   ]
  },
  {
   "cell_type": "code",
   "execution_count": 6,
   "metadata": {},
   "outputs": [
    {
     "name": "stdout",
     "output_type": "stream",
     "text": [
      "creating documents ......\n",
      "documents created!!\n"
     ]
    }
   ],
   "source": [
    "\"\"\"Compute Dc_v4 which is count of bonds on given dealer and day seperated buy and sell\"\"\"\n",
    "data['document_date'] = data['TRD_EXCTN_DTTM'].dt.date.apply(lambda x: str(x))\n",
    "create_buy_document_no_source_vectorize = np.vectorize(create_buy_document_no_source)\n",
    "create_sell_document_no_source_vectorize = np.vectorize(create_sell_document_no_source)\n",
    "client_to_delete_vectorize = np.vectorize(client_to_delete)\n",
    "print(\"creating documents ......\")\n",
    "# Add new column Dc_v4_S which is the string representation of report dealer buy on the specific day\n",
    "data['Dc_v4_S'] = create_sell_document_no_source_vectorize(data['Report_Dealer_Index'].values,data['Contra_Party_Index'].values,data['document_date'].values)\n",
    "# Add new column Dc_v4_B which is the string representation of report dealer sell on the specific day\n",
    "data['Dc_v4_B'] = create_buy_document_no_source_vectorize(data['Report_Dealer_Index'].values,data['Contra_Party_Index'].values,data['document_date'].values)\n",
    "print(\"documents created!!\")"
   ]
  },
  {
   "cell_type": "code",
   "execution_count": 13,
   "metadata": {},
   "outputs": [
    {
     "data": {
      "text/plain": [
       "str"
      ]
     },
     "execution_count": 13,
     "metadata": {},
     "output_type": "execute_result"
    }
   ],
   "source": [
    "type(data['Dc_v4_S'].iloc[7])"
   ]
  },
  {
   "cell_type": "code",
   "execution_count": 14,
   "metadata": {},
   "outputs": [
    {
     "data": {
      "text/plain": [
       "True"
      ]
     },
     "execution_count": 14,
     "metadata": {},
     "output_type": "execute_result"
    }
   ],
   "source": [
    "1 != 2"
   ]
  },
  {
   "cell_type": "code",
   "execution_count": 18,
   "metadata": {},
   "outputs": [],
   "source": [
    "data_sub = data[['Dc_v4_S','Dc_v4_B','BOND_SYM_ID','price']].copy()\n",
    "data_gb_sell = data_sub[data_sub['Dc_v4_S']!='nan'].groupby(by=['Dc_v4_S','BOND_SYM_ID'])\n",
    "data_gb_buy = data_sub[data_sub['Dc_v4_B']!='nan'].groupby(by=['Dc_v4_B','BOND_SYM_ID'])"
   ]
  },
  {
   "cell_type": "code",
   "execution_count": 19,
   "metadata": {},
   "outputs": [],
   "source": [
    "#sell_matrix = data_gb_sell['price'].sum().unstack(fill_value=0)"
   ]
  },
  {
   "cell_type": "code",
   "execution_count": 25,
   "metadata": {},
   "outputs": [],
   "source": [
    "sell_df = data_gb_sell['price'].sum().to_frame()"
   ]
  },
  {
   "cell_type": "code",
   "execution_count": 26,
   "metadata": {},
   "outputs": [
    {
     "data": {
      "text/plain": [
       "Dc_v4_S             BOND_SYM_ID\n",
       "10,2014-01-07,StC   ONEX3691468    3\n",
       "10,2014-01-09,StD   ONEX3691468    2\n",
       "10,2014-01-13,StC   WAC4080776     2\n",
       "10,2014-01-14,StC   TC.AC          2\n",
       "10,2014-01-14,StD   TC.AC          2\n",
       "10,2014-01-21,StD   CRBM3693244    2\n",
       "10,2014-01-22,StC   BUFF.GA        3\n",
       "                    CRBM3693244    3\n",
       "10,2014-01-30,StC   EVOR3968195    3\n",
       "10,2014-02-06,StC   TSG3851467     3\n",
       "10,2014-02-07,StC   ONEX3691468    3\n",
       "10,2014-02-07,StD   BAIN3685563    2\n",
       "10,2014-02-11,StC   ROIA.GF        3\n",
       "10,2014-02-18,StD   RCII.GH        3\n",
       "10,2014-02-19,StD   RCII.GH        2\n",
       "10,2014-02-27,StC   CCMO4094541    3\n",
       "10,2014-03-06,StC   PUCR3852347    2\n",
       "10,2014-03-06,StD   CDFA.GC        2\n",
       "10,2014-03-07,StC   ANR.GC         3\n",
       "                    AONS.GB        1\n",
       "10,2014-03-10,StD   CDFA.GC        2\n",
       "10,2014-03-11,StC   MPM3672628     2\n",
       "10,2014-03-12,StC   ATPG.GE        1\n",
       "10,2014-03-12,StD   CDFA.GC        2\n",
       "10,2014-04-01,StD   BAIN3685563    2\n",
       "10,2014-04-07,StC   PUCR3852347    2\n",
       "10,2014-04-09,StC   CCMO4094541    3\n",
       "10,2014-04-10,StC   WLT4062096     2\n",
       "10,2014-04-10,StD   BAIN3685563    2\n",
       "                    CDFA.GC        2\n",
       "                                  ..\n",
       "996,2014-04-16,StC  CI.AC          4\n",
       "996,2014-05-07,StC  PG4039287      3\n",
       "996,2014-05-07,StD  PG4039287      2\n",
       "996,2014-05-08,StD  PG4039287      2\n",
       "996,2014-05-09,StD  PG4039287      2\n",
       "996,2014-05-16,StD  PG4039287      3\n",
       "996,2014-05-28,StD  C4104288       3\n",
       "996,2014-06-12,StC  IR.HI          4\n",
       "996,2014-06-17,StC  FDX4087156     3\n",
       "996,2014-06-17,StD  CTB.GD         3\n",
       "996,2014-06-19,StD  CTB.GD         3\n",
       "996,2014-07-10,StD  SYK4121872     3\n",
       "996,2014-07-14,StC  GILD.GK        3\n",
       "996,2014-07-14,StD  VZ4132476      3\n",
       "996,2014-07-23,StD  CHYA.AF        3\n",
       "996,2014-07-24,StC  F4132119       2\n",
       "996,2014-07-28,StC  UPS3908472     3\n",
       "996,2014-08-13,StC  GILD.GK        3\n",
       "996,2014-09-12,StC  RTN.HB         3\n",
       "996,2014-09-17,StC  ABBV4038019    2\n",
       "996,2014-09-23,StC  GILD.GK        4\n",
       "996,2014-10-07,StD  SHLD.JE        3\n",
       "996,2014-10-16,StC  CTB.GD         3\n",
       "996,2014-10-24,StD  SPG4161079     3\n",
       "996,2014-10-27,StC  NSAN4052748    2\n",
       "996,2014-11-06,StC  D.JQ           4\n",
       "996,2014-11-13,StC  UNH.HL         3\n",
       "996,2014-11-24,StC  PFE.GM         2\n",
       "996,2014-12-09,StC  UTX.GR         4\n",
       "999,2014-10-27,StD  JPM.HNN        2\n",
       "Name: price, Length: 3458211, dtype: category\n",
       "Categories (5, int64): [0 < 1 < 2 < 3 < 4]"
      ]
     },
     "execution_count": 26,
     "metadata": {},
     "output_type": "execute_result"
    }
   ],
   "source": [
    "bins=[0,10000,100000,1000000,10000000,sell_df[sell_df['price']>0]['price'].max()]\n",
    "labels = [i for i in range(len(bins)-1)]\n",
    "pd.cut(sell_df[sell_df['price']>0]['price'],bins=bins,labels=labels)"
   ]
  },
  {
   "cell_type": "code",
   "execution_count": 27,
   "metadata": {},
   "outputs": [
    {
     "data": {
      "text/html": [
       "<div>\n",
       "<style scoped>\n",
       "    .dataframe tbody tr th:only-of-type {\n",
       "        vertical-align: middle;\n",
       "    }\n",
       "\n",
       "    .dataframe tbody tr th {\n",
       "        vertical-align: top;\n",
       "    }\n",
       "\n",
       "    .dataframe thead th {\n",
       "        text-align: right;\n",
       "    }\n",
       "</style>\n",
       "<table border=\"1\" class=\"dataframe\">\n",
       "  <thead>\n",
       "    <tr style=\"text-align: right;\">\n",
       "      <th></th>\n",
       "      <th>0</th>\n",
       "    </tr>\n",
       "  </thead>\n",
       "  <tbody>\n",
       "    <tr>\n",
       "      <th>count</th>\n",
       "      <td>3.458211e+06</td>\n",
       "    </tr>\n",
       "    <tr>\n",
       "      <th>mean</th>\n",
       "      <td>2.651762e-03</td>\n",
       "    </tr>\n",
       "    <tr>\n",
       "      <th>std</th>\n",
       "      <td>9.961698e-03</td>\n",
       "    </tr>\n",
       "    <tr>\n",
       "      <th>min</th>\n",
       "      <td>0.000000e+00</td>\n",
       "    </tr>\n",
       "    <tr>\n",
       "      <th>25%</th>\n",
       "      <td>6.066659e-05</td>\n",
       "    </tr>\n",
       "    <tr>\n",
       "      <th>50%</th>\n",
       "      <td>2.039351e-04</td>\n",
       "    </tr>\n",
       "    <tr>\n",
       "      <th>75%</th>\n",
       "      <td>1.211984e-03</td>\n",
       "    </tr>\n",
       "    <tr>\n",
       "      <th>max</th>\n",
       "      <td>5.000000e+00</td>\n",
       "    </tr>\n",
       "  </tbody>\n",
       "</table>\n",
       "</div>"
      ],
      "text/plain": [
       "                  0\n",
       "count  3.458211e+06\n",
       "mean   2.651762e-03\n",
       "std    9.961698e-03\n",
       "min    0.000000e+00\n",
       "25%    6.066659e-05\n",
       "50%    2.039351e-04\n",
       "75%    1.211984e-03\n",
       "max    5.000000e+00"
      ]
     },
     "execution_count": 27,
     "metadata": {},
     "output_type": "execute_result"
    }
   ],
   "source": [
    "pd.DataFrame(preprocessing.minmax_scale(sell_df[sell_df['price']>0],feature_range=(0, 5))).describe()"
   ]
  },
  {
   "cell_type": "code",
   "execution_count": null,
   "metadata": {
    "scrolled": true
   },
   "outputs": [],
   "source": [
    "sell_df.groupby(level=0).count().iloc[12::].describe()"
   ]
  },
  {
   "cell_type": "code",
   "execution_count": null,
   "metadata": {},
   "outputs": [],
   "source": [
    "data_gb_sell['price'].sum().describe()"
   ]
  },
  {
   "cell_type": "raw",
   "metadata": {},
   "source": [
    "print(\"computing Dc_v4 ......\")\n",
    "Dc_v4 = data_gb_sell['price'].sum().unstack(fill_value=0)\n",
    "Dc_v4 = Dc_v4.append(data_gb_buy['price'].sum().unstack(fill_value=0))\n",
    "Dc_v4 = Dc_v4.sort_index(axis=1)\n",
    "print(\"computing Dc_v4 done!\")\n",
    "print(\"flitering out general client in Dc_v4\")\n",
    "Dc_v4['to_delete'] = client_to_delete_vectorize(Dc_v4.index)\n",
    "Dc_v4 = Dc_v4.loc[Dc_v4['to_delete']!='delete'].drop(['to_delete'],axis=1).copy()\n",
    "#Dc_v4 = Dc_v4[Dc_v4.sum(axis=1) > 3].copy()\n",
    "#Dc_v4.dropna(axis=1,how='all',inplace=True)\n",
    "print(\"all done!\")"
   ]
  },
  {
   "cell_type": "code",
   "execution_count": null,
   "metadata": {},
   "outputs": [],
   "source": [
    "from scipy.stats import mstats"
   ]
  },
  {
   "cell_type": "code",
   "execution_count": null,
   "metadata": {},
   "outputs": [],
   "source": [
    "data['price_winsor'] = pd.Series(mstats.winsorize(data['price'].values,limits=[0.10,0.10]))"
   ]
  },
  {
   "cell_type": "code",
   "execution_count": null,
   "metadata": {},
   "outputs": [],
   "source": [
    "pd.Series(preprocessing.minmax_scale(data['price_winsor'],feature_range=[0,5])).describe()"
   ]
  },
  {
   "cell_type": "code",
   "execution_count": null,
   "metadata": {},
   "outputs": [],
   "source": [
    "data['price_winsor']"
   ]
  },
  {
   "cell_type": "code",
   "execution_count": null,
   "metadata": {},
   "outputs": [],
   "source": []
  }
 ],
 "metadata": {
  "kernelspec": {
   "display_name": "Python 3",
   "language": "python",
   "name": "python3"
  },
  "language_info": {
   "codemirror_mode": {
    "name": "ipython",
    "version": 3
   },
   "file_extension": ".py",
   "mimetype": "text/x-python",
   "name": "python",
   "nbconvert_exporter": "python",
   "pygments_lexer": "ipython3",
   "version": "3.7.3"
  }
 },
 "nbformat": 4,
 "nbformat_minor": 2
}
