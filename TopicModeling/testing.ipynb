{
 "cells": [
  {
   "cell_type": "code",
   "execution_count": 3,
   "metadata": {},
   "outputs": [
    {
     "name": "stdin",
     "output_type": "stream",
     "text": [
      "Please enter corpus_name:  matrix_1\n",
      "Please enter num_topics:  10\n",
      "Please enter number of workers:  3\n"
     ]
    },
    {
     "name": "stdout",
     "output_type": "stream",
     "text": [
      "loading corpus...\n",
      "corpus successfully loaded!!\n",
      "MmCorpus(98304 documents, 12078 features, 4072730 non-zero entries)\n",
      "loading id2word ...\n"
     ]
    },
    {
     "ename": "FileNotFoundError",
     "evalue": "[Errno 2] No such file or directory: 'id2word_name'",
     "output_type": "error",
     "traceback": [
      "\u001b[1;31m---------------------------------------------------------------------------\u001b[0m",
      "\u001b[1;31mFileNotFoundError\u001b[0m                         Traceback (most recent call last)",
      "\u001b[1;32m<ipython-input-3-17c42f5abeaf>\u001b[0m in \u001b[0;36m<module>\u001b[1;34m\u001b[0m\n\u001b[0;32m    116\u001b[0m \u001b[1;33m\u001b[0m\u001b[0m\n\u001b[0;32m    117\u001b[0m \u001b[1;32mif\u001b[0m \u001b[0m__name__\u001b[0m\u001b[1;33m==\u001b[0m \u001b[1;34m\"__main__\"\u001b[0m\u001b[1;33m:\u001b[0m\u001b[1;33m\u001b[0m\u001b[1;33m\u001b[0m\u001b[0m\n\u001b[1;32m--> 118\u001b[1;33m     \u001b[0mmain\u001b[0m\u001b[1;33m(\u001b[0m\u001b[1;33m)\u001b[0m\u001b[1;33m\u001b[0m\u001b[1;33m\u001b[0m\u001b[0m\n\u001b[0m",
      "\u001b[1;32m<ipython-input-3-17c42f5abeaf>\u001b[0m in \u001b[0;36mmain\u001b[1;34m()\u001b[0m\n\u001b[0;32m    108\u001b[0m     \u001b[1;32mif\u001b[0m\u001b[1;33m(\u001b[0m\u001b[0mcorpus_name\u001b[0m \u001b[1;33m==\u001b[0m \u001b[1;34m'matrix_1'\u001b[0m \u001b[1;32mor\u001b[0m \u001b[0mcorpus_name\u001b[0m \u001b[1;33m==\u001b[0m \u001b[1;34m'matrix1'\u001b[0m\u001b[1;33m)\u001b[0m\u001b[1;33m:\u001b[0m\u001b[1;33m\u001b[0m\u001b[1;33m\u001b[0m\u001b[0m\n\u001b[0;32m    109\u001b[0m         \u001b[0mcorpus\u001b[0m \u001b[1;33m=\u001b[0m \u001b[0mload_corpus\u001b[0m\u001b[1;33m(\u001b[0m\u001b[1;34m\"matrix_1\"\u001b[0m\u001b[1;33m)\u001b[0m\u001b[1;33m\u001b[0m\u001b[1;33m\u001b[0m\u001b[0m\n\u001b[1;32m--> 110\u001b[1;33m         \u001b[0mid2word\u001b[0m \u001b[1;33m=\u001b[0m \u001b[0mload_id2word\u001b[0m\u001b[1;33m(\u001b[0m\u001b[1;34m\"matrix_1\"\u001b[0m\u001b[1;33m)\u001b[0m\u001b[1;33m\u001b[0m\u001b[1;33m\u001b[0m\u001b[0m\n\u001b[0m\u001b[0;32m    111\u001b[0m     \u001b[1;32melse\u001b[0m\u001b[1;33m:\u001b[0m\u001b[1;33m\u001b[0m\u001b[1;33m\u001b[0m\u001b[0m\n\u001b[0;32m    112\u001b[0m         \u001b[0mcorpus\u001b[0m \u001b[1;33m=\u001b[0m \u001b[0mload_corpus\u001b[0m\u001b[1;33m(\u001b[0m\u001b[1;34m\"matrix_1\"\u001b[0m\u001b[1;33m)\u001b[0m\u001b[1;33m\u001b[0m\u001b[1;33m\u001b[0m\u001b[0m\n",
      "\u001b[1;32m<ipython-input-3-17c42f5abeaf>\u001b[0m in \u001b[0;36mload_id2word\u001b[1;34m(id2word_name)\u001b[0m\n\u001b[0;32m     79\u001b[0m     \u001b[0mid2word_save_path\u001b[0m \u001b[1;33m=\u001b[0m \u001b[0mid2word_save_path\u001b[0m \u001b[1;33m/\u001b[0m \u001b[1;34m\"{}.npy\"\u001b[0m\u001b[1;33m.\u001b[0m\u001b[0mformat\u001b[0m\u001b[1;33m(\u001b[0m\u001b[0mid2word_name\u001b[0m\u001b[1;33m)\u001b[0m\u001b[1;33m\u001b[0m\u001b[1;33m\u001b[0m\u001b[0m\n\u001b[0;32m     80\u001b[0m     \u001b[1;31m# load the id2word using numpy\u001b[0m\u001b[1;33m\u001b[0m\u001b[1;33m\u001b[0m\u001b[1;33m\u001b[0m\u001b[0m\n\u001b[1;32m---> 81\u001b[1;33m     \u001b[0mid2word\u001b[0m \u001b[1;33m=\u001b[0m \u001b[0mnp\u001b[0m\u001b[1;33m.\u001b[0m\u001b[0mload\u001b[0m\u001b[1;33m(\u001b[0m\u001b[1;34m'id2word_name'\u001b[0m\u001b[1;33m)\u001b[0m\u001b[1;33m.\u001b[0m\u001b[0mitem\u001b[0m\u001b[1;33m(\u001b[0m\u001b[1;33m)\u001b[0m\u001b[1;33m\u001b[0m\u001b[1;33m\u001b[0m\u001b[0m\n\u001b[0m\u001b[0;32m     82\u001b[0m     \u001b[0mprint\u001b[0m\u001b[1;33m(\u001b[0m\u001b[1;34m\"id2word loaded!!\"\u001b[0m\u001b[1;33m)\u001b[0m\u001b[1;33m\u001b[0m\u001b[1;33m\u001b[0m\u001b[0m\n\u001b[0;32m     83\u001b[0m     \u001b[1;32mreturn\u001b[0m \u001b[0mid2word\u001b[0m\u001b[1;33m\u001b[0m\u001b[1;33m\u001b[0m\u001b[0m\n",
      "\u001b[1;32m~\\Anaconda3\\lib\\site-packages\\numpy\\lib\\npyio.py\u001b[0m in \u001b[0;36mload\u001b[1;34m(file, mmap_mode, allow_pickle, fix_imports, encoding)\u001b[0m\n\u001b[0;32m    382\u001b[0m     \u001b[0mown_fid\u001b[0m \u001b[1;33m=\u001b[0m \u001b[1;32mFalse\u001b[0m\u001b[1;33m\u001b[0m\u001b[1;33m\u001b[0m\u001b[0m\n\u001b[0;32m    383\u001b[0m     \u001b[1;32mif\u001b[0m \u001b[0misinstance\u001b[0m\u001b[1;33m(\u001b[0m\u001b[0mfile\u001b[0m\u001b[1;33m,\u001b[0m \u001b[0mbasestring\u001b[0m\u001b[1;33m)\u001b[0m\u001b[1;33m:\u001b[0m\u001b[1;33m\u001b[0m\u001b[1;33m\u001b[0m\u001b[0m\n\u001b[1;32m--> 384\u001b[1;33m         \u001b[0mfid\u001b[0m \u001b[1;33m=\u001b[0m \u001b[0mopen\u001b[0m\u001b[1;33m(\u001b[0m\u001b[0mfile\u001b[0m\u001b[1;33m,\u001b[0m \u001b[1;34m\"rb\"\u001b[0m\u001b[1;33m)\u001b[0m\u001b[1;33m\u001b[0m\u001b[1;33m\u001b[0m\u001b[0m\n\u001b[0m\u001b[0;32m    385\u001b[0m         \u001b[0mown_fid\u001b[0m \u001b[1;33m=\u001b[0m \u001b[1;32mTrue\u001b[0m\u001b[1;33m\u001b[0m\u001b[1;33m\u001b[0m\u001b[0m\n\u001b[0;32m    386\u001b[0m     \u001b[1;32melif\u001b[0m \u001b[0mis_pathlib_path\u001b[0m\u001b[1;33m(\u001b[0m\u001b[0mfile\u001b[0m\u001b[1;33m)\u001b[0m\u001b[1;33m:\u001b[0m\u001b[1;33m\u001b[0m\u001b[1;33m\u001b[0m\u001b[0m\n",
      "\u001b[1;31mFileNotFoundError\u001b[0m: [Errno 2] No such file or directory: 'id2word_name'"
     ]
    }
   ],
   "source": [
    "# Import Library\n",
    "import pandas as pd\n",
    "import numpy as np\n",
    "import os\n",
    "from pathlib import Path\n",
    "from sklearn import preprocessing\n",
    "import warnings\n",
    "warnings.filterwarnings(action='ignore', category=UserWarning, module='gensim')\n",
    "import gensim\n",
    "from gensim.test.utils import datapath\n",
    "# Import local files\n",
    "import get_data\n",
    "from manage_path import get_current_directory,create_directory\n",
    "\n",
    "def data_groupby():\n",
    "    data = get_data.get_data()\n",
    "    data_gb = data.groupby(by=['document','BOND_SYM_ID'])\n",
    "    return data_gb\n",
    "\n",
    "def compute_matrix1():\n",
    "    data_gb = data_groupby()\n",
    "    print(\"computing matrix_1 ......\")\n",
    "    matrix_1 = data_gb['BOND_SYM_ID'].size().unstack(fill_value=0)\n",
    "    matrix_1 = matrix_1.sort_index(axis=1)\n",
    "    print(\"computing matrix_1 done!\")\n",
    "    return matrix_1\n",
    "\n",
    "def compute_corpus(matrix):\n",
    "    corpus = gensim.matutils.Dense2Corpus(matrix.values,documents_columns=False)\n",
    "    return corpus\n",
    "\n",
    "def save_corpus(corpus,file_name):\n",
    "    current_path = os.getcwd()\n",
    "    current_path = Path(current_path)\n",
    "    corpus_save_path = current_path.parent / \"./Data/Corpus/\"\n",
    "    try:\n",
    "        os.mkdir(corpus_save_path)\n",
    "    except OSError:  \n",
    "        print (\"Creation of the directory %s failed\" % corpus_save_path)\n",
    "    else:  \n",
    "        print (\"Successfully created the directory %s \" % corpus_save_path)\n",
    "    file_name = corpus_save_path / \"{}.mm\".format(file_name)\n",
    "    gensim.corpora.MmCorpus.serialize(str(file_name), corpus)\n",
    "    \n",
    "def load_corpus(file_name):\n",
    "    print(\"loading corpus...\")\n",
    "    current_path = os.getcwd()\n",
    "    current_path = Path(current_path)\n",
    "    corpus_load_path = current_path.parent / \"./Data/Corpus/\"\n",
    "    file_name = corpus_load_path / \"{}.mm\".format(file_name)\n",
    "    file_name = str(file_name)\n",
    "    corpus = gensim.corpora.MmCorpus(file_name)\n",
    "    print(\"corpus successfully loaded!!\")\n",
    "    print(corpus)\n",
    "    return corpus\n",
    "\n",
    "def compute_id2word(matrix,matrix_name,save=True):\n",
    "    le = preprocessing.LabelEncoder()\n",
    "    le.fit(matrix.columns)\n",
    "    transform = le.transform(matrix.columns)\n",
    "    inverse_transform = le.inverse_transform(transform)\n",
    "    id2word = dict(zip(transform, inverse_transform))\n",
    "    print(\"saving id2word ...\")\n",
    "    if(save):\n",
    "        current_path = get_current_directory()\n",
    "        id2word_save_path = current_path.parent / \"./Data/id2word/\"\n",
    "        create_directory(id2word_save_path)\n",
    "        file_name = id2word_save_path / \"{}.npy\".format(file_name)\n",
    "        # save the id2word using numpy\n",
    "        np.save(file_name, id2word)\n",
    "        print(\"id2word saved!!\")\n",
    "    else:\n",
    "        return id2word\n",
    "\n",
    "def load_id2word(id2word_name):\n",
    "    print(\"loading id2word ...\")\n",
    "    current_path = get_current_directory()\n",
    "    id2word_save_path = current_path.parent / \"./Data/id2word/\"\n",
    "    id2word_save_path = id2word_save_path / \"{}.npy\".format(id2word_name)\n",
    "    # load the id2word using numpy\n",
    "    id2word = np.load('id2word_name').item()\n",
    "    print(\"id2word loaded!!\")\n",
    "    return id2word\n",
    "\n",
    "def compute_topic(corpus_name,corpus,num_topics,id2word,workers=3,chunksize=10000,passes=20,iterations=50):\n",
    "    print(\"LdaMulticore Start!!\")\n",
    "    lda = gensim.models.ldamulticore.LdaMulticore(corpus=corpus,id2word=id2word,workers=workers, num_topics=num_topics, chunksize=chunksize, passes=passes,iterations=iterations)\n",
    "    print(\"LdaMulticore Done!!\")\n",
    "    \n",
    "    model_name = \"{}_{}topics\".format(corpus_name,num_topics)\n",
    "    print(\"Saving Model as \"+model_name)\n",
    "    \n",
    "    current_path = get_current_directory()\n",
    "    save_path = current_path.parent / (\"./LDAModel/{}/\".format(model_name))\n",
    "    # create directory\n",
    "    create_directory(save_path)\n",
    "    \n",
    "    save_path = save_path / model_name\n",
    "    save_path = datapath(str(save_path))\n",
    "\n",
    "    lda.save(save_path)\n",
    "    print(\"Model successfully save at\" + save_path)\n",
    "\n",
    "def main():\n",
    "    corpus_name = str(input(\"Please enter corpus_name: \"))\n",
    "    num_topics = int(input(\"Please enter num_topics: \"))\n",
    "    workers = int(input(\"Please enter number of workers: \"))\n",
    "    if(corpus_name == 'matrix_1' or corpus_name == 'matrix1'):\n",
    "        corpus = load_corpus(\"matrix_1\")\n",
    "        id2word = load_id2word(\"matrix_1\")\n",
    "    else:\n",
    "        corpus = load_corpus(\"matrix_1\")\n",
    "        id2word = load_id2word(\"matrix_1\")\n",
    "    \n",
    "    compute_topic(corpus_name,corpus,num_topics,id2word,workers=workers)\n",
    "    \n",
    "if __name__== \"__main__\":\n",
    "    main()"
   ]
  },
  {
   "cell_type": "code",
   "execution_count": null,
   "metadata": {},
   "outputs": [],
   "source": [
    "#matrix1 = compute_matrix1()\n",
    "#compute_id2word(matrix=matrix1,matrix_name=\"matrix_1\")"
   ]
  },
  {
   "cell_type": "code",
   "execution_count": null,
   "metadata": {},
   "outputs": [],
   "source": [
    "compute_id2word(matrix=matrix1,id2word_name=\"matrix_1\")"
   ]
  },
  {
   "cell_type": "code",
   "execution_count": null,
   "metadata": {},
   "outputs": [],
   "source": [
    "id2word = load_id2word(\"matrix_1\")"
   ]
  },
  {
   "cell_type": "code",
   "execution_count": 2,
   "metadata": {},
   "outputs": [
    {
     "name": "stdout",
     "output_type": "stream",
     "text": [
      "loading corpus...\n",
      "corpus successfully loaded!!\n",
      "MmCorpus(98304 documents, 12078 features, 4072730 non-zero entries)\n"
     ]
    }
   ],
   "source": [
    "corpus = load_corpus(\"matrix_1\")"
   ]
  },
  {
   "cell_type": "code",
   "execution_count": null,
   "metadata": {},
   "outputs": [],
   "source": []
  }
 ],
 "metadata": {
  "kernelspec": {
   "display_name": "Python 3",
   "language": "python",
   "name": "python3"
  },
  "language_info": {
   "codemirror_mode": {
    "name": "ipython",
    "version": 3
   },
   "file_extension": ".py",
   "mimetype": "text/x-python",
   "name": "python",
   "nbconvert_exporter": "python",
   "pygments_lexer": "ipython3",
   "version": "3.6.7"
  }
 },
 "nbformat": 4,
 "nbformat_minor": 2
}
