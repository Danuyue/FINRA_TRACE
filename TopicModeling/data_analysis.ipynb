{
 "cells": [
  {
   "cell_type": "code",
   "execution_count": 1,
   "metadata": {},
   "outputs": [
    {
     "name": "stderr",
     "output_type": "stream",
     "text": [
      "/home/raymond/anaconda3/envs/topicModeling/lib/python3.7/site-packages/smart_open/ssh.py:34: UserWarning: paramiko missing, opening SSH/SCP/SFTP paths will be disabled.  `pip install paramiko` to suppress\n",
      "  warnings.warn('paramiko missing, opening SSH/SCP/SFTP paths will be disabled.  `pip install paramiko` to suppress')\n"
     ]
    }
   ],
   "source": [
    "from compute_lda import *\n",
    "from manage_path import *\n",
    "#from topic_model_analysis import *\n",
    "\n",
    "import pandas as pd"
   ]
  },
  {
   "cell_type": "code",
   "execution_count": 2,
   "metadata": {},
   "outputs": [
    {
     "name": "stdout",
     "output_type": "stream",
     "text": [
      "Getting data from/home/raymond/Research/FINRA_TRACE/Data/Pickle/FINRA_TRACE_2014.pkl.zip...\n",
      "Data getting success from /home/raymond/Research/FINRA_TRACE/Data/Pickle/FINRA_TRACE_2014.pkl.zip!\n"
     ]
    }
   ],
   "source": [
    "data = load_pickle(\"FINRA_TRACE_2014.pkl.zip\")"
   ]
  },
  {
   "cell_type": "markdown",
   "metadata": {},
   "source": [
    "### Basic Stats on data"
   ]
  },
  {
   "cell_type": "code",
   "execution_count": 3,
   "metadata": {},
   "outputs": [
    {
     "data": {
      "text/html": [
       "<div>\n",
       "<style scoped>\n",
       "    .dataframe tbody tr th:only-of-type {\n",
       "        vertical-align: middle;\n",
       "    }\n",
       "\n",
       "    .dataframe tbody tr th {\n",
       "        vertical-align: top;\n",
       "    }\n",
       "\n",
       "    .dataframe thead th {\n",
       "        text-align: right;\n",
       "    }\n",
       "</style>\n",
       "<table border=\"1\" class=\"dataframe\">\n",
       "  <thead>\n",
       "    <tr style=\"text-align: right;\">\n",
       "      <th></th>\n",
       "      <th>BOND_SYM_ID</th>\n",
       "      <th>CUSIP_ID</th>\n",
       "      <th>SCRTY_TYPE_CD</th>\n",
       "      <th>ENTRD_VOL_QT</th>\n",
       "      <th>RPTD_PR</th>\n",
       "      <th>RPT_SIDE_CD</th>\n",
       "      <th>Year</th>\n",
       "      <th>TRD_EXCTN_DTTM</th>\n",
       "      <th>TRD_RPT_DTTM</th>\n",
       "      <th>Report_Dealer_Index</th>\n",
       "      <th>Contra_Party_Index</th>\n",
       "      <th>TRC_ST</th>\n",
       "      <th>RATING_MR</th>\n",
       "      <th>RATING_MR_Numeric</th>\n",
       "    </tr>\n",
       "  </thead>\n",
       "  <tbody>\n",
       "    <tr>\n",
       "      <th>0</th>\n",
       "      <td>RBS3706239</td>\n",
       "      <td>00077TAA2</td>\n",
       "      <td>CORP</td>\n",
       "      <td>10000.0</td>\n",
       "      <td>111.245</td>\n",
       "      <td>D</td>\n",
       "      <td>2014.0</td>\n",
       "      <td>2014-01-31 10:40:23</td>\n",
       "      <td>2014-01-31 10:40:37</td>\n",
       "      <td>2048</td>\n",
       "      <td>2917</td>\n",
       "      <td>T</td>\n",
       "      <td>Ba1</td>\n",
       "      <td>11.0</td>\n",
       "    </tr>\n",
       "    <tr>\n",
       "      <th>1</th>\n",
       "      <td>RBS3706239</td>\n",
       "      <td>00077TAA2</td>\n",
       "      <td>CORP</td>\n",
       "      <td>2000.0</td>\n",
       "      <td>113.389</td>\n",
       "      <td>C</td>\n",
       "      <td>2014.0</td>\n",
       "      <td>2014-02-21 11:19:41</td>\n",
       "      <td>2014-02-21 11:19:57</td>\n",
       "      <td>2614</td>\n",
       "      <td>99999</td>\n",
       "      <td>T</td>\n",
       "      <td>Ba1</td>\n",
       "      <td>11.0</td>\n",
       "    </tr>\n",
       "    <tr>\n",
       "      <th>2</th>\n",
       "      <td>RBS3706239</td>\n",
       "      <td>00077TAA2</td>\n",
       "      <td>CORP</td>\n",
       "      <td>5000.0</td>\n",
       "      <td>112.070</td>\n",
       "      <td>C</td>\n",
       "      <td>2014.0</td>\n",
       "      <td>2014-01-24 15:19:50</td>\n",
       "      <td>2014-01-24 15:20:18</td>\n",
       "      <td>3513</td>\n",
       "      <td>99999</td>\n",
       "      <td>T</td>\n",
       "      <td>Ba1</td>\n",
       "      <td>11.0</td>\n",
       "    </tr>\n",
       "  </tbody>\n",
       "</table>\n",
       "</div>"
      ],
      "text/plain": [
       "  BOND_SYM_ID   CUSIP_ID SCRTY_TYPE_CD  ENTRD_VOL_QT  RPTD_PR RPT_SIDE_CD  \\\n",
       "0  RBS3706239  00077TAA2          CORP       10000.0  111.245           D   \n",
       "1  RBS3706239  00077TAA2          CORP        2000.0  113.389           C   \n",
       "2  RBS3706239  00077TAA2          CORP        5000.0  112.070           C   \n",
       "\n",
       "     Year      TRD_EXCTN_DTTM        TRD_RPT_DTTM Report_Dealer_Index  \\\n",
       "0  2014.0 2014-01-31 10:40:23 2014-01-31 10:40:37                2048   \n",
       "1  2014.0 2014-02-21 11:19:41 2014-02-21 11:19:57                2614   \n",
       "2  2014.0 2014-01-24 15:19:50 2014-01-24 15:20:18                3513   \n",
       "\n",
       "  Contra_Party_Index TRC_ST RATING_MR  RATING_MR_Numeric  \n",
       "0               2917      T       Ba1               11.0  \n",
       "1              99999      T       Ba1               11.0  \n",
       "2              99999      T       Ba1               11.0  "
      ]
     },
     "execution_count": 3,
     "metadata": {},
     "output_type": "execute_result"
    }
   ],
   "source": [
    "data.head(3)"
   ]
  },
  {
   "cell_type": "code",
   "execution_count": 4,
   "metadata": {},
   "outputs": [
    {
     "data": {
      "text/plain": [
       "Index(['BOND_SYM_ID', 'CUSIP_ID', 'SCRTY_TYPE_CD', 'ENTRD_VOL_QT', 'RPTD_PR',\n",
       "       'RPT_SIDE_CD', 'Year', 'TRD_EXCTN_DTTM', 'TRD_RPT_DTTM',\n",
       "       'Report_Dealer_Index', 'Contra_Party_Index', 'TRC_ST', 'RATING_MR',\n",
       "       'RATING_MR_Numeric'],\n",
       "      dtype='object')"
      ]
     },
     "execution_count": 4,
     "metadata": {},
     "output_type": "execute_result"
    }
   ],
   "source": [
    "data.columns"
   ]
  },
  {
   "cell_type": "code",
   "execution_count": 5,
   "metadata": {},
   "outputs": [
    {
     "data": {
      "text/plain": [
       "(6323262, 14)"
      ]
     },
     "execution_count": 5,
     "metadata": {},
     "output_type": "execute_result"
    }
   ],
   "source": [
    "data.shape"
   ]
  },
  {
   "cell_type": "code",
   "execution_count": 6,
   "metadata": {},
   "outputs": [
    {
     "data": {
      "text/plain": [
       "1284"
      ]
     },
     "execution_count": 6,
     "metadata": {},
     "output_type": "execute_result"
    }
   ],
   "source": [
    "data['Report_Dealer_Index'].append(data['Contra_Party_Index']).nunique()"
   ]
  },
  {
   "cell_type": "markdown",
   "metadata": {},
   "source": [
    "### Dealer trading amount"
   ]
  },
  {
   "cell_type": "code",
   "execution_count": 7,
   "metadata": {},
   "outputs": [],
   "source": [
    "data['trading_vol'] = (data['ENTRD_VOL_QT'] * data['RPTD_PR'])/100"
   ]
  },
  {
   "cell_type": "code",
   "execution_count": 8,
   "metadata": {},
   "outputs": [
    {
     "data": {
      "text/html": [
       "<div>\n",
       "<style scoped>\n",
       "    .dataframe tbody tr th:only-of-type {\n",
       "        vertical-align: middle;\n",
       "    }\n",
       "\n",
       "    .dataframe tbody tr th {\n",
       "        vertical-align: top;\n",
       "    }\n",
       "\n",
       "    .dataframe thead th {\n",
       "        text-align: right;\n",
       "    }\n",
       "</style>\n",
       "<table border=\"1\" class=\"dataframe\">\n",
       "  <thead>\n",
       "    <tr style=\"text-align: right;\">\n",
       "      <th></th>\n",
       "      <th>BOND_SYM_ID</th>\n",
       "      <th>CUSIP_ID</th>\n",
       "      <th>SCRTY_TYPE_CD</th>\n",
       "      <th>ENTRD_VOL_QT</th>\n",
       "      <th>RPTD_PR</th>\n",
       "      <th>RPT_SIDE_CD</th>\n",
       "      <th>Year</th>\n",
       "      <th>TRD_EXCTN_DTTM</th>\n",
       "      <th>TRD_RPT_DTTM</th>\n",
       "      <th>Report_Dealer_Index</th>\n",
       "      <th>Contra_Party_Index</th>\n",
       "      <th>TRC_ST</th>\n",
       "      <th>RATING_MR</th>\n",
       "      <th>RATING_MR_Numeric</th>\n",
       "      <th>trading_vol</th>\n",
       "    </tr>\n",
       "  </thead>\n",
       "  <tbody>\n",
       "    <tr>\n",
       "      <th>0</th>\n",
       "      <td>RBS3706239</td>\n",
       "      <td>00077TAA2</td>\n",
       "      <td>CORP</td>\n",
       "      <td>10000.0</td>\n",
       "      <td>111.245</td>\n",
       "      <td>D</td>\n",
       "      <td>2014.0</td>\n",
       "      <td>2014-01-31 10:40:23</td>\n",
       "      <td>2014-01-31 10:40:37</td>\n",
       "      <td>2048</td>\n",
       "      <td>2917</td>\n",
       "      <td>T</td>\n",
       "      <td>Ba1</td>\n",
       "      <td>11.0</td>\n",
       "      <td>11124.50</td>\n",
       "    </tr>\n",
       "    <tr>\n",
       "      <th>1</th>\n",
       "      <td>RBS3706239</td>\n",
       "      <td>00077TAA2</td>\n",
       "      <td>CORP</td>\n",
       "      <td>2000.0</td>\n",
       "      <td>113.389</td>\n",
       "      <td>C</td>\n",
       "      <td>2014.0</td>\n",
       "      <td>2014-02-21 11:19:41</td>\n",
       "      <td>2014-02-21 11:19:57</td>\n",
       "      <td>2614</td>\n",
       "      <td>99999</td>\n",
       "      <td>T</td>\n",
       "      <td>Ba1</td>\n",
       "      <td>11.0</td>\n",
       "      <td>2267.78</td>\n",
       "    </tr>\n",
       "    <tr>\n",
       "      <th>2</th>\n",
       "      <td>RBS3706239</td>\n",
       "      <td>00077TAA2</td>\n",
       "      <td>CORP</td>\n",
       "      <td>5000.0</td>\n",
       "      <td>112.070</td>\n",
       "      <td>C</td>\n",
       "      <td>2014.0</td>\n",
       "      <td>2014-01-24 15:19:50</td>\n",
       "      <td>2014-01-24 15:20:18</td>\n",
       "      <td>3513</td>\n",
       "      <td>99999</td>\n",
       "      <td>T</td>\n",
       "      <td>Ba1</td>\n",
       "      <td>11.0</td>\n",
       "      <td>5603.50</td>\n",
       "    </tr>\n",
       "  </tbody>\n",
       "</table>\n",
       "</div>"
      ],
      "text/plain": [
       "  BOND_SYM_ID   CUSIP_ID SCRTY_TYPE_CD  ENTRD_VOL_QT  RPTD_PR RPT_SIDE_CD  \\\n",
       "0  RBS3706239  00077TAA2          CORP       10000.0  111.245           D   \n",
       "1  RBS3706239  00077TAA2          CORP        2000.0  113.389           C   \n",
       "2  RBS3706239  00077TAA2          CORP        5000.0  112.070           C   \n",
       "\n",
       "     Year      TRD_EXCTN_DTTM        TRD_RPT_DTTM Report_Dealer_Index  \\\n",
       "0  2014.0 2014-01-31 10:40:23 2014-01-31 10:40:37                2048   \n",
       "1  2014.0 2014-02-21 11:19:41 2014-02-21 11:19:57                2614   \n",
       "2  2014.0 2014-01-24 15:19:50 2014-01-24 15:20:18                3513   \n",
       "\n",
       "  Contra_Party_Index TRC_ST RATING_MR  RATING_MR_Numeric  trading_vol  \n",
       "0               2917      T       Ba1               11.0     11124.50  \n",
       "1              99999      T       Ba1               11.0      2267.78  \n",
       "2              99999      T       Ba1               11.0      5603.50  "
      ]
     },
     "execution_count": 8,
     "metadata": {},
     "output_type": "execute_result"
    }
   ],
   "source": [
    "data.head(3)"
   ]
  },
  {
   "cell_type": "code",
   "execution_count": 10,
   "metadata": {},
   "outputs": [
    {
     "data": {
      "text/plain": [
       "2391643.432846679"
      ]
     },
     "execution_count": 10,
     "metadata": {},
     "output_type": "execute_result"
    }
   ],
   "source": [
    "data['trading_vol'].std()"
   ]
  },
  {
   "cell_type": "code",
   "execution_count": 15,
   "metadata": {},
   "outputs": [
    {
     "data": {
      "text/plain": [
       "BOND_SYM_ID\n",
       "A.GC            4.814876e+05\n",
       "A.GE            1.127540e+06\n",
       "A.GF            7.449751e+05\n",
       "A3900782        1.886983e+06\n",
       "A4020252        2.516635e+06\n",
       "A4172095        2.505784e+06\n",
       "A4172097        1.243321e+06\n",
       "AA.AA           6.687923e+05\n",
       "AA.GI           9.248634e+05\n",
       "AA.GL           5.335236e+05\n",
       "AA.HO           4.585446e+05\n",
       "AA.HP           6.192550e+05\n",
       "AA.HQ           6.772056e+05\n",
       "AA.HT           8.472493e+05\n",
       "AA.HU           6.892075e+05\n",
       "AA.HW           8.571716e+05\n",
       "AA.HY           9.106338e+05\n",
       "AA4165125       1.661021e+06\n",
       "AACG3686185     1.476153e+06\n",
       "AADH3685598     2.591035e+06\n",
       "AADH3685599     3.012964e+06\n",
       "AADH3691747     6.373675e+06\n",
       "AAGH.AA         1.427854e+06\n",
       "AAGH.AC         1.800160e+06\n",
       "AAGH.AF         2.447028e+06\n",
       "AAGH3879319     3.713794e+06\n",
       "AAGH3956564     3.178743e+06\n",
       "AAGH3956577     3.564682e+06\n",
       "AAGH4094506     2.043017e+06\n",
       "AAGH4094508     1.901595e+06\n",
       "                    ...     \n",
       "ZACK3957529     1.067534e+06\n",
       "ZAYO3891216     2.406920e+06\n",
       "ZAYO3891530     5.087230e+06\n",
       "ZBRA4170822     2.280940e+06\n",
       "ZFSV3706190     3.000580e+04\n",
       "ZFSVF3675971    7.439489e+05\n",
       "ZFSVF3706190    1.785445e+01\n",
       "ZFSVF3706215    1.191310e+05\n",
       "ZINC3879384     1.245438e+06\n",
       "ZINC4014641     7.071068e+03\n",
       "ZION.GL         1.111518e+05\n",
       "ZION.GN         2.106981e+05\n",
       "ZION.GO         3.691868e+05\n",
       "ZION.GY         1.280640e+04\n",
       "ZION.GZ         2.342884e+04\n",
       "ZION.HA         7.135725e+04\n",
       "ZION.HE         9.355710e+05\n",
       "ZION3834813     4.987042e+05\n",
       "ZION3866833     3.993288e+05\n",
       "ZION4017339     6.925691e+05\n",
       "ZION4066869     4.102955e+05\n",
       "ZLIOF3944284    3.535534e+01\n",
       "ZMH.AA          9.764164e+05\n",
       "ZMH.AB          4.194998e+06\n",
       "ZMH.AC          4.415930e+06\n",
       "ZMH.AD          2.139792e+06\n",
       "ZQK4029107      1.925659e+06\n",
       "ZQK4062844      1.252260e+06\n",
       "ZUAN.GA         3.486907e+06\n",
       "ZUAN.GB         1.912544e+06\n",
       "Name: trading_vol, Length: 12013, dtype: float64"
      ]
     },
     "execution_count": 15,
     "metadata": {},
     "output_type": "execute_result"
    }
   ],
   "source": [
    "data.groupby('BOND_SYM_ID')['trading_vol'].std()"
   ]
  },
  {
   "cell_type": "code",
   "execution_count": 14,
   "metadata": {},
   "outputs": [
    {
     "data": {
      "text/plain": [
       "count    1.181200e+04\n",
       "mean     2.038712e+06\n",
       "std      2.770377e+06\n",
       "min      0.000000e+00\n",
       "25%      8.525576e+05\n",
       "50%      1.653307e+06\n",
       "75%      2.597120e+06\n",
       "max      1.522343e+08\n",
       "Name: trading_vol, dtype: float64"
      ]
     },
     "execution_count": 14,
     "metadata": {},
     "output_type": "execute_result"
    }
   ],
   "source": [
    "data.groupby('BOND_SYM_ID')['trading_vol'].std().describe()"
   ]
  },
  {
   "cell_type": "code",
   "execution_count": null,
   "metadata": {},
   "outputs": [],
   "source": [
    "data.groupby('Report_Dealer_Index')['trading_vol'].sum().sort_values(ascending=False).head(100).to_frame().to_html('trading_cap.html')"
   ]
  },
  {
   "cell_type": "code",
   "execution_count": null,
   "metadata": {},
   "outputs": [],
   "source": [
    "data.groupby('Report_Dealer_Index')['trading_vol'].sum().sort_values(ascending=False).head(100).count()"
   ]
  },
  {
   "cell_type": "code",
   "execution_count": null,
   "metadata": {},
   "outputs": [],
   "source": [
    "data.groupby('Report_Dealer_Index')['trading_vol'].sum().sort_values(ascending=False).tail(50)"
   ]
  },
  {
   "cell_type": "code",
   "execution_count": null,
   "metadata": {},
   "outputs": [],
   "source": [
    "data.groupby('Contra_Party_Index')['trading_vol'].sum().sort_values(ascending=False).head(20)"
   ]
  },
  {
   "cell_type": "code",
   "execution_count": null,
   "metadata": {},
   "outputs": [],
   "source": [
    "data[['Report_Dealer_Index','trading_vol']].append(data[['Contra_Party_Index','trading_vol']])"
   ]
  },
  {
   "cell_type": "code",
   "execution_count": null,
   "metadata": {},
   "outputs": [],
   "source": []
  }
 ],
 "metadata": {
  "kernelspec": {
   "display_name": "Python 3",
   "language": "python",
   "name": "python3"
  },
  "language_info": {
   "codemirror_mode": {
    "name": "ipython",
    "version": 3
   },
   "file_extension": ".py",
   "mimetype": "text/x-python",
   "name": "python",
   "nbconvert_exporter": "python",
   "pygments_lexer": "ipython3",
   "version": "3.7.3"
  }
 },
 "nbformat": 4,
 "nbformat_minor": 2
}
