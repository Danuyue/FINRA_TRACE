{
 "cells": [
  {
   "cell_type": "code",
   "execution_count": 1,
   "metadata": {},
   "outputs": [],
   "source": [
    "import pandas as pd\n",
    "import numpy as np"
   ]
  },
  {
   "cell_type": "code",
   "execution_count": 2,
   "metadata": {},
   "outputs": [],
   "source": [
    "data = pd.read_pickle('FINRA_TRACE_2015.pkl')"
   ]
  },
  {
   "cell_type": "code",
   "execution_count": 7,
   "metadata": {},
   "outputs": [
    {
     "data": {
      "text/html": [
       "<div>\n",
       "<style scoped>\n",
       "    .dataframe tbody tr th:only-of-type {\n",
       "        vertical-align: middle;\n",
       "    }\n",
       "\n",
       "    .dataframe tbody tr th {\n",
       "        vertical-align: top;\n",
       "    }\n",
       "\n",
       "    .dataframe thead th {\n",
       "        text-align: right;\n",
       "    }\n",
       "</style>\n",
       "<table border=\"1\" class=\"dataframe\">\n",
       "  <thead>\n",
       "    <tr style=\"text-align: right;\">\n",
       "      <th></th>\n",
       "      <th>N</th>\n",
       "      <th>TRC_ST</th>\n",
       "      <th>BOND_SYM_ID</th>\n",
       "      <th>CUSIP_ID</th>\n",
       "      <th>SCRTY_TYPE_CD</th>\n",
       "      <th>WIS_CD</th>\n",
       "      <th>CMSN_TRD_FL</th>\n",
       "      <th>ENTRD_VOL_QT</th>\n",
       "      <th>RPTD_PR</th>\n",
       "      <th>YLD_SIGN_CD</th>\n",
       "      <th>...</th>\n",
       "      <th>Maturity_d_Diff</th>\n",
       "      <th>Offer_d30</th>\n",
       "      <th>Offer_d60</th>\n",
       "      <th>Offer_d90</th>\n",
       "      <th>Mature_d90</th>\n",
       "      <th>YYYYQQ</th>\n",
       "      <th>RATING_MR</th>\n",
       "      <th>RATING_MR_Numeric</th>\n",
       "      <th>AMOUNT_OUTSTANDING</th>\n",
       "      <th>Vol_grt_out</th>\n",
       "    </tr>\n",
       "  </thead>\n",
       "  <tbody>\n",
       "    <tr>\n",
       "      <th>6735443</th>\n",
       "      <td>74674195.0</td>\n",
       "      <td>T</td>\n",
       "      <td>PNC4269512</td>\n",
       "      <td>69353RES3</td>\n",
       "      <td>CORP</td>\n",
       "      <td>N</td>\n",
       "      <td>NaN</td>\n",
       "      <td>50000.0</td>\n",
       "      <td>101.820</td>\n",
       "      <td>NaN</td>\n",
       "      <td>...</td>\n",
       "      <td>1754.0</td>\n",
       "      <td>1.0</td>\n",
       "      <td>1.0</td>\n",
       "      <td>NaN</td>\n",
       "      <td>NaN</td>\n",
       "      <td>2015-12-31</td>\n",
       "      <td>NR</td>\n",
       "      <td>NaN</td>\n",
       "      <td>750000.0</td>\n",
       "      <td>0.0</td>\n",
       "    </tr>\n",
       "    <tr>\n",
       "      <th>6735444</th>\n",
       "      <td>74674227.0</td>\n",
       "      <td>T</td>\n",
       "      <td>PNC4269512</td>\n",
       "      <td>69353RES3</td>\n",
       "      <td>CORP</td>\n",
       "      <td>N</td>\n",
       "      <td>NaN</td>\n",
       "      <td>1000000.0</td>\n",
       "      <td>101.808</td>\n",
       "      <td>NaN</td>\n",
       "      <td>...</td>\n",
       "      <td>1735.0</td>\n",
       "      <td>1.0</td>\n",
       "      <td>1.0</td>\n",
       "      <td>1.0</td>\n",
       "      <td>NaN</td>\n",
       "      <td>2015-12-31</td>\n",
       "      <td>NR</td>\n",
       "      <td>NaN</td>\n",
       "      <td>750000.0</td>\n",
       "      <td>0.0</td>\n",
       "    </tr>\n",
       "    <tr>\n",
       "      <th>6735445</th>\n",
       "      <td>74674163.0</td>\n",
       "      <td>T</td>\n",
       "      <td>PNC4269512</td>\n",
       "      <td>69353RES3</td>\n",
       "      <td>CORP</td>\n",
       "      <td>N</td>\n",
       "      <td>NaN</td>\n",
       "      <td>28000.0</td>\n",
       "      <td>100.977</td>\n",
       "      <td>NaN</td>\n",
       "      <td>...</td>\n",
       "      <td>1763.0</td>\n",
       "      <td>1.0</td>\n",
       "      <td>1.0</td>\n",
       "      <td>NaN</td>\n",
       "      <td>NaN</td>\n",
       "      <td>2015-09-30</td>\n",
       "      <td>NR</td>\n",
       "      <td>NaN</td>\n",
       "      <td>750000.0</td>\n",
       "      <td>0.0</td>\n",
       "    </tr>\n",
       "    <tr>\n",
       "      <th>6735446</th>\n",
       "      <td>74674099.0</td>\n",
       "      <td>T</td>\n",
       "      <td>PNC4269512</td>\n",
       "      <td>69353RES3</td>\n",
       "      <td>CORP</td>\n",
       "      <td>N</td>\n",
       "      <td>NaN</td>\n",
       "      <td>500000.0</td>\n",
       "      <td>100.544</td>\n",
       "      <td>NaN</td>\n",
       "      <td>...</td>\n",
       "      <td>1785.0</td>\n",
       "      <td>1.0</td>\n",
       "      <td>NaN</td>\n",
       "      <td>NaN</td>\n",
       "      <td>NaN</td>\n",
       "      <td>2015-09-30</td>\n",
       "      <td>NR</td>\n",
       "      <td>NaN</td>\n",
       "      <td>750000.0</td>\n",
       "      <td>0.0</td>\n",
       "    </tr>\n",
       "    <tr>\n",
       "      <th>6735447</th>\n",
       "      <td>74674103.0</td>\n",
       "      <td>T</td>\n",
       "      <td>PNC4269512</td>\n",
       "      <td>69353RES3</td>\n",
       "      <td>CORP</td>\n",
       "      <td>N</td>\n",
       "      <td>NaN</td>\n",
       "      <td>10000.0</td>\n",
       "      <td>100.834</td>\n",
       "      <td>NaN</td>\n",
       "      <td>...</td>\n",
       "      <td>1784.0</td>\n",
       "      <td>1.0</td>\n",
       "      <td>NaN</td>\n",
       "      <td>NaN</td>\n",
       "      <td>NaN</td>\n",
       "      <td>2015-09-30</td>\n",
       "      <td>NR</td>\n",
       "      <td>NaN</td>\n",
       "      <td>750000.0</td>\n",
       "      <td>0.0</td>\n",
       "    </tr>\n",
       "  </tbody>\n",
       "</table>\n",
       "<p>5 rows × 59 columns</p>\n",
       "</div>"
      ],
      "text/plain": [
       "                  N TRC_ST BOND_SYM_ID   CUSIP_ID SCRTY_TYPE_CD WIS_CD  \\\n",
       "6735443  74674195.0      T  PNC4269512  69353RES3          CORP      N   \n",
       "6735444  74674227.0      T  PNC4269512  69353RES3          CORP      N   \n",
       "6735445  74674163.0      T  PNC4269512  69353RES3          CORP      N   \n",
       "6735446  74674099.0      T  PNC4269512  69353RES3          CORP      N   \n",
       "6735447  74674103.0      T  PNC4269512  69353RES3          CORP      N   \n",
       "\n",
       "        CMSN_TRD_FL  ENTRD_VOL_QT  RPTD_PR YLD_SIGN_CD  ...  Maturity_d_Diff  \\\n",
       "6735443         NaN       50000.0  101.820         NaN  ...           1754.0   \n",
       "6735444         NaN     1000000.0  101.808         NaN  ...           1735.0   \n",
       "6735445         NaN       28000.0  100.977         NaN  ...           1763.0   \n",
       "6735446         NaN      500000.0  100.544         NaN  ...           1785.0   \n",
       "6735447         NaN       10000.0  100.834         NaN  ...           1784.0   \n",
       "\n",
       "        Offer_d30  Offer_d60  Offer_d90  Mature_d90     YYYYQQ  RATING_MR  \\\n",
       "6735443       1.0        1.0        NaN         NaN 2015-12-31         NR   \n",
       "6735444       1.0        1.0        1.0         NaN 2015-12-31         NR   \n",
       "6735445       1.0        1.0        NaN         NaN 2015-09-30         NR   \n",
       "6735446       1.0        NaN        NaN         NaN 2015-09-30         NR   \n",
       "6735447       1.0        NaN        NaN         NaN 2015-09-30         NR   \n",
       "\n",
       "        RATING_MR_Numeric AMOUNT_OUTSTANDING Vol_grt_out  \n",
       "6735443               NaN           750000.0         0.0  \n",
       "6735444               NaN           750000.0         0.0  \n",
       "6735445               NaN           750000.0         0.0  \n",
       "6735446               NaN           750000.0         0.0  \n",
       "6735447               NaN           750000.0         0.0  \n",
       "\n",
       "[5 rows x 59 columns]"
      ]
     },
     "execution_count": 7,
     "metadata": {},
     "output_type": "execute_result"
    }
   ],
   "source": [
    "data.tail()"
   ]
  },
  {
   "cell_type": "code",
   "execution_count": 4,
   "metadata": {},
   "outputs": [
    {
     "data": {
      "text/plain": [
       "(6735448, 59)"
      ]
     },
     "execution_count": 4,
     "metadata": {},
     "output_type": "execute_result"
    }
   ],
   "source": [
    "data.shape"
   ]
  },
  {
   "cell_type": "code",
   "execution_count": 5,
   "metadata": {},
   "outputs": [
    {
     "data": {
      "text/plain": [
       "6735448"
      ]
     },
     "execution_count": 5,
     "metadata": {},
     "output_type": "execute_result"
    }
   ],
   "source": [
    "data['CUSIP_ID'].count()"
   ]
  },
  {
   "cell_type": "code",
   "execution_count": 6,
   "metadata": {},
   "outputs": [
    {
     "data": {
      "text/plain": [
       "6735446"
      ]
     },
     "execution_count": 6,
     "metadata": {},
     "output_type": "execute_result"
    }
   ],
   "source": [
    "data['BOND_SYM_ID'].count()"
   ]
  },
  {
   "cell_type": "code",
   "execution_count": null,
   "metadata": {},
   "outputs": [],
   "source": []
  }
 ],
 "metadata": {
  "kernelspec": {
   "display_name": "Python 3",
   "language": "python",
   "name": "python3"
  },
  "language_info": {
   "codemirror_mode": {
    "name": "ipython",
    "version": 3
   },
   "file_extension": ".py",
   "mimetype": "text/x-python",
   "name": "python",
   "nbconvert_exporter": "python",
   "pygments_lexer": "ipython3",
   "version": "3.7.3"
  }
 },
 "nbformat": 4,
 "nbformat_minor": 2
}
