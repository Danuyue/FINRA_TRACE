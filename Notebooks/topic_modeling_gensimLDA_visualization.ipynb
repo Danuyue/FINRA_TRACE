{
 "cells": [
  {
   "cell_type": "markdown",
   "metadata": {},
   "source": [
    "# Todo\n",
    "* Sensitivity 250 500 1000\n",
    "* For the 500, take top 10% heightest weight\n",
    "* Take that threshold for other topics\n",
    "\n",
    "https://miningthedetails.com/blog/python/lda/GensimLDA/\n",
    "https://markroxor.github.io/gensim/static/notebooks/lda_training_tips.html"
   ]
  },
  {
   "cell_type": "code",
   "execution_count": null,
   "metadata": {},
   "outputs": [],
   "source": [
    "import pyLDAvis.gensim\n",
    "pyLDAvis.enable_notebook()\n",
    "from compute_topic import load_id2word,load_corpus\n",
    "\n",
    "import gensim\n",
    "\n",
    "import warnings\n",
    "warnings.filterwarnings(\"ignore\", category=DeprecationWarning) "
   ]
  },
  {
   "cell_type": "code",
   "execution_count": null,
   "metadata": {},
   "outputs": [],
   "source": [
    "import os\n",
    "from pathlib import Path\n",
    "\n",
    "# The model with model_name we want to load\n",
    "def load_model(model_name,topics):\n",
    "    current_path = os.getcwd()\n",
    "    current_path = Path(current_path)\n",
    "    topic_name =\"_{}topics\".format(topics)\n",
    "    file_name = model_name + topic_name\n",
    "    load_path = current_path.parents[0] / \"./LDAModel/{}/{}\".format(file_name,file_name)\n",
    "    load_path = str(load_path)\n",
    "    lda = gensim.models.ldamulticore.LdaMulticore.load(load_path)\n",
    "    return lda"
   ]
  },
  {
   "cell_type": "code",
   "execution_count": null,
   "metadata": {},
   "outputs": [],
   "source": [
    "model_name = \"matrix_1\"\n",
    "topics = \"500\"\n",
    "corpus = load_corpus(model_name)\n",
    "id2word = load_id2word(model_name)\n",
    "model = load_model(model_name,topics)"
   ]
  },
  {
   "cell_type": "code",
   "execution_count": null,
   "metadata": {},
   "outputs": [],
   "source": [
    "from gensim.corpora import Dictionary\n",
    "dictionary = Dictionary.from_corpus(corpus,id2word=id2word)"
   ]
  },
  {
   "cell_type": "code",
   "execution_count": null,
   "metadata": {},
   "outputs": [],
   "source": [
    "pyLDAvis.gensim.prepare(model, corpus, dictionary)"
   ]
  },
  {
   "cell_type": "code",
   "execution_count": null,
   "metadata": {},
   "outputs": [],
   "source": []
  }
 ],
 "metadata": {
  "kernelspec": {
   "display_name": "Python 3",
   "language": "python",
   "name": "python3"
  },
  "language_info": {
   "codemirror_mode": {
    "name": "ipython",
    "version": 3
   },
   "file_extension": ".py",
   "mimetype": "text/x-python",
   "name": "python",
   "nbconvert_exporter": "python",
   "pygments_lexer": "ipython3",
   "version": "3.7.1"
  }
 },
 "nbformat": 4,
 "nbformat_minor": 2
}
