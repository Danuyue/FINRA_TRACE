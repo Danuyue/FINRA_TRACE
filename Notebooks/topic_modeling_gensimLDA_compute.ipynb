{
 "cells": [
  {
   "cell_type": "markdown",
   "metadata": {},
   "source": [
    "# Todo\n",
    "* Sensitivity 250 500 1000\n",
    "* For the 500, take top 10% heightest weight\n",
    "* Take that threshold for other topics\n"
   ]
  },
  {
   "cell_type": "code",
   "execution_count": 1,
   "metadata": {
    "scrolled": true
   },
   "outputs": [],
   "source": [
    "import pandas as pd\n",
    "import numpy as np\n",
    "import os\n",
    "from pathlib import Path\n",
    "\n",
    "#import logging\n",
    "#logging.basicConfig(format='%(asctime)s : %(levelname)s : %(message)s', level=logging.INFO)\n",
    "#import tempfile\n",
    "#TEMP_FOLDER = tempfile.gettempdir()\n",
    "#print('Folder \"{}\" will be used to save temporary dictionary and corpus.'.format(TEMP_FOLDER))\n",
    "\n",
    "#%matplotlib inline\n",
    "#import matplotlib\n",
    "#import matplotlib.pyplot as plt\n",
    "#from IPython.display import set_matplotlib_formats\n",
    "#set_matplotlib_formats('retina')\n",
    "\n",
    "from sklearn import preprocessing\n",
    "\n",
    "import warnings\n",
    "warnings.filterwarnings(action='ignore', category=UserWarning, module='gensim')\n",
    "import gensim\n",
    "from gensim.test.utils import datapath"
   ]
  },
  {
   "cell_type": "markdown",
   "metadata": {},
   "source": [
    "### Read the pandas dataframe we got from data preparation"
   ]
  },
  {
   "cell_type": "code",
   "execution_count": 2,
   "metadata": {
    "scrolled": false
   },
   "outputs": [],
   "source": [
    "root_folder = Path('../Data/Pickle/')\n",
    "file_name = 'TRACE2014_jinming'\n",
    "file_path = root_folder / file_name\n",
    "\n",
    "data = pd.read_pickle(file_path)"
   ]
  },
  {
   "cell_type": "markdown",
   "metadata": {},
   "source": [
    "#### Group data by ['document','BOND_SYM_ID_transformed'] so that represent a document and token inside it"
   ]
  },
  {
   "cell_type": "code",
   "execution_count": 3,
   "metadata": {},
   "outputs": [],
   "source": [
    "data_gb = data.groupby(by=['document','BOND_SYM_ID'])"
   ]
  },
  {
   "cell_type": "code",
   "execution_count": 4,
   "metadata": {
    "scrolled": true
   },
   "outputs": [
    {
     "name": "stdout",
     "output_type": "stream",
     "text": [
      "We have 98304 documents and 12078 tokens\n"
     ]
    }
   ],
   "source": [
    "matrix_1 = data_gb['BOND_SYM_ID'].size().unstack(fill_value=0)\n",
    "matrix_1 = matrix_1.sort_index(axis=1)\n",
    "\n",
    "matrix_1_shape = matrix_1.shape\n",
    "print('We have {} documents and {} tokens'.format(matrix_1_shape[0],matrix_1_shape[1]))"
   ]
  },
  {
   "cell_type": "markdown",
   "metadata": {},
   "source": [
    "### Matrix 1 => Count of  BOND_SYM_ID in a document"
   ]
  },
  {
   "cell_type": "raw",
   "metadata": {},
   "source": [
    "%%timeit \n",
    "# use unstack create sparse matrix\n",
    "matrix_1 = data_gb['BOND_SYM_ID'].size().unstack(fill_value=0)\n",
    "# Make sure column labels are sorted\n",
    "matrix_1 = matrix_1.sort_index(axis=1)\n",
    "\n",
    "matrix_1_shape = matrix_1.shape\n",
    "print('We have {} documents and {} tokens'.format(matrix_1_shape[0],matrix_1_shape[1]))"
   ]
  },
  {
   "cell_type": "markdown",
   "metadata": {},
   "source": [
    "#### Use SKlearn Label Encoder to transform tokens into integer"
   ]
  },
  {
   "cell_type": "code",
   "execution_count": 5,
   "metadata": {},
   "outputs": [
    {
     "name": "stderr",
     "output_type": "stream",
     "text": [
      "C:\\Users\\cchen07\\AppData\\Local\\Continuum\\anaconda3\\lib\\site-packages\\sklearn\\preprocessing\\label.py:151: DeprecationWarning: The truth value of an empty array is ambiguous. Returning False, but in future this will result in an error. Use `array.size > 0` to check that an array is not empty.\n",
      "  if diff:\n"
     ]
    }
   ],
   "source": [
    "le = preprocessing.LabelEncoder()\n",
    "le.fit(matrix_1.columns)\n",
    "transform = le.transform(matrix_1.columns)\n",
    "inverse_transform = le.inverse_transform(transform)"
   ]
  },
  {
   "cell_type": "markdown",
   "metadata": {},
   "source": [
    "#### Create id2word to map label encoding to its words then create corpus with gensim Dense2Corpus which takes numpy"
   ]
  },
  {
   "cell_type": "code",
   "execution_count": 10,
   "metadata": {},
   "outputs": [
    {
     "name": "stderr",
     "output_type": "stream",
     "text": [
      "C:\\Users\\cchen07\\AppData\\Local\\Continuum\\anaconda3\\lib\\site-packages\\gensim\\models\\ldamodel.py:775: RuntimeWarning: divide by zero encountered in log\n",
      "  diff = np.log(self.expElogbeta)\n"
     ]
    },
    {
     "name": "stdout",
     "output_type": "stream",
     "text": [
      "LdaMulticore Done!!\n",
      "Saving Model as matrix1_1500topic\n",
      "Successfully created the directory C:\\Users\\cchen07\\Desktop\\FINRA_TRACE-master\\Data\\LDAModel\\matrix1_1500topic \n",
      "Model successfully save atC:\\Users\\cchen07\\Desktop\\FINRA_TRACE-master\\Data\\LDAModel\\matrix1_1500topic\\matrix1_1500topic\n"
     ]
    }
   ],
   "source": [
    "# create id transformation and inverse_transformation dictionary as id2word for gensim \n",
    "id2word = dict(zip(transform, inverse_transform))\n",
    "# load matrix as numpy arrays to gensim corpus\n",
    "matrix1_corpus = gensim.matutils.Dense2Corpus(matrix_1.values,documents_columns=False)\n",
    "# Run LdaMulticore in Gensim\n",
    "num_topics = 1500\n",
    "chunksize = 10000\n",
    "passes = 20\n",
    "iterations = 50\n",
    "lda = gensim.models.ldamulticore.LdaMulticore(corpus= matrix1_corpus,id2word=id2word,workers=3, num_topics=num_topics, chunksize=chunksize, passes=passes,iterations=iterations)\n",
    "\n",
    "print(\"LdaMulticore Done!!\")\n",
    "\n",
    "# The model name we want to save\n",
    "model_name = \"matrix1_{}topic\".format(num_topics)\n",
    "print(\"Saving Model as \"+model_name)\n",
    "# Get current dir\n",
    "current_path = os.getcwd()\n",
    "current_path = Path(current_path)\n",
    "# Add model_name to \n",
    "save_path = current_path.parent / (\"./Data/LDAModel/{}/\".format(model_name))\n",
    "# Create directory if not existed\n",
    "try:\n",
    "    os.mkdir(save_path)\n",
    "except OSError:  \n",
    "    print (\"Creation of the directory %s failed\" % save_path)\n",
    "else:  \n",
    "    print (\"Successfully created the directory %s \" % save_path)\n",
    "# Concatonate save_path with model_name and load it as Gensim datapath\n",
    "save_path = save_path / model_name\n",
    "save_path = datapath(str(save_path))\n",
    "# save the model\n",
    "lda.save(save_path)\n",
    "print(\"Model successfully save at\" + save_path)"
   ]
  },
  {
   "cell_type": "code",
   "execution_count": null,
   "metadata": {},
   "outputs": [],
   "source": []
  }
 ],
 "metadata": {
  "kernelspec": {
   "display_name": "Python 3",
   "language": "python",
   "name": "python3"
  },
  "language_info": {
   "codemirror_mode": {
    "name": "ipython",
    "version": 3
   },
   "file_extension": ".py",
   "mimetype": "text/x-python",
   "name": "python",
   "nbconvert_exporter": "python",
   "pygments_lexer": "ipython3",
   "version": "3.6.7"
  }
 },
 "nbformat": 4,
 "nbformat_minor": 2
}
