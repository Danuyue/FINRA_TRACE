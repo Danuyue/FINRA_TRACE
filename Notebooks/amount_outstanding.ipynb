{
 "cells": [
  {
   "cell_type": "code",
   "execution_count": 1,
   "metadata": {},
   "outputs": [],
   "source": [
    "import pandas as pd\n",
    "import numpy as np"
   ]
  },
  {
   "cell_type": "code",
   "execution_count": 2,
   "metadata": {},
   "outputs": [],
   "source": [
    "data = pd.read_pickle(\"../Data/Pickle/FINRA_TRACE_2014.pkl.zip\",compression='zip')"
   ]
  },
  {
   "cell_type": "code",
   "execution_count": 3,
   "metadata": {},
   "outputs": [
    {
     "data": {
      "text/plain": [
       "Index(['BOND_SYM_ID', 'CUSIP_ID', 'SCRTY_TYPE_CD', 'ENTRD_VOL_QT', 'RPTD_PR',\n",
       "       'RPT_SIDE_CD', 'Year', 'document_date', 'TRD_EXCTN_DTTM',\n",
       "       'TRD_RPT_DTTM', 'Report_Dealer_Index', 'Contra_Party_Index', 'TRC_ST',\n",
       "       'RATING_MR', 'RATING_MR_Numeric', 'OFFERING_DATE', 'ISSUE_ID',\n",
       "       'MATURITY', 'OFFERING_AMT', 'AMOUNT_OUTSTANDING', 'Vol_grt_out'],\n",
       "      dtype='object')"
      ]
     },
     "execution_count": 3,
     "metadata": {},
     "output_type": "execute_result"
    }
   ],
   "source": [
    "data.columns"
   ]
  },
  {
   "cell_type": "code",
   "execution_count": 4,
   "metadata": {},
   "outputs": [],
   "source": [
    "#data.tail().to_csv('sample.csv')"
   ]
  },
  {
   "cell_type": "code",
   "execution_count": 5,
   "metadata": {},
   "outputs": [
    {
     "data": {
      "text/html": [
       "<div>\n",
       "<style scoped>\n",
       "    .dataframe tbody tr th:only-of-type {\n",
       "        vertical-align: middle;\n",
       "    }\n",
       "\n",
       "    .dataframe tbody tr th {\n",
       "        vertical-align: top;\n",
       "    }\n",
       "\n",
       "    .dataframe thead th {\n",
       "        text-align: right;\n",
       "    }\n",
       "</style>\n",
       "<table border=\"1\" class=\"dataframe\">\n",
       "  <thead>\n",
       "    <tr style=\"text-align: right;\">\n",
       "      <th></th>\n",
       "      <th>BOND_SYM_ID</th>\n",
       "      <th>CUSIP_ID</th>\n",
       "      <th>SCRTY_TYPE_CD</th>\n",
       "      <th>ENTRD_VOL_QT</th>\n",
       "      <th>RPTD_PR</th>\n",
       "      <th>RPT_SIDE_CD</th>\n",
       "      <th>Year</th>\n",
       "      <th>document_date</th>\n",
       "      <th>TRD_EXCTN_DTTM</th>\n",
       "      <th>TRD_RPT_DTTM</th>\n",
       "      <th>...</th>\n",
       "      <th>Contra_Party_Index</th>\n",
       "      <th>TRC_ST</th>\n",
       "      <th>RATING_MR</th>\n",
       "      <th>RATING_MR_Numeric</th>\n",
       "      <th>OFFERING_DATE</th>\n",
       "      <th>ISSUE_ID</th>\n",
       "      <th>MATURITY</th>\n",
       "      <th>OFFERING_AMT</th>\n",
       "      <th>AMOUNT_OUTSTANDING</th>\n",
       "      <th>Vol_grt_out</th>\n",
       "    </tr>\n",
       "  </thead>\n",
       "  <tbody>\n",
       "    <tr>\n",
       "      <th>0</th>\n",
       "      <td>RBS3706239</td>\n",
       "      <td>00077TAA2</td>\n",
       "      <td>CORP</td>\n",
       "      <td>10000.0</td>\n",
       "      <td>111.245</td>\n",
       "      <td>D</td>\n",
       "      <td>2014.0</td>\n",
       "      <td>2014-01-31</td>\n",
       "      <td>2014-01-31 10:40:23</td>\n",
       "      <td>2014-01-31 10:40:37</td>\n",
       "      <td>...</td>\n",
       "      <td>2917</td>\n",
       "      <td>T</td>\n",
       "      <td>Ba1</td>\n",
       "      <td>11.0</td>\n",
       "      <td>1993-05-20</td>\n",
       "      <td>5.0</td>\n",
       "      <td>2023-05-15</td>\n",
       "      <td>250000.0</td>\n",
       "      <td>148386.0</td>\n",
       "      <td>0.0</td>\n",
       "    </tr>\n",
       "    <tr>\n",
       "      <th>1</th>\n",
       "      <td>RBS3706239</td>\n",
       "      <td>00077TAA2</td>\n",
       "      <td>CORP</td>\n",
       "      <td>2000.0</td>\n",
       "      <td>113.389</td>\n",
       "      <td>C</td>\n",
       "      <td>2014.0</td>\n",
       "      <td>2014-02-21</td>\n",
       "      <td>2014-02-21 11:19:41</td>\n",
       "      <td>2014-02-21 11:19:57</td>\n",
       "      <td>...</td>\n",
       "      <td>99999</td>\n",
       "      <td>T</td>\n",
       "      <td>Ba1</td>\n",
       "      <td>11.0</td>\n",
       "      <td>1993-05-20</td>\n",
       "      <td>5.0</td>\n",
       "      <td>2023-05-15</td>\n",
       "      <td>250000.0</td>\n",
       "      <td>148386.0</td>\n",
       "      <td>0.0</td>\n",
       "    </tr>\n",
       "    <tr>\n",
       "      <th>2</th>\n",
       "      <td>RBS3706239</td>\n",
       "      <td>00077TAA2</td>\n",
       "      <td>CORP</td>\n",
       "      <td>5000.0</td>\n",
       "      <td>112.070</td>\n",
       "      <td>C</td>\n",
       "      <td>2014.0</td>\n",
       "      <td>2014-01-24</td>\n",
       "      <td>2014-01-24 15:19:50</td>\n",
       "      <td>2014-01-24 15:20:18</td>\n",
       "      <td>...</td>\n",
       "      <td>99999</td>\n",
       "      <td>T</td>\n",
       "      <td>Ba1</td>\n",
       "      <td>11.0</td>\n",
       "      <td>1993-05-20</td>\n",
       "      <td>5.0</td>\n",
       "      <td>2023-05-15</td>\n",
       "      <td>250000.0</td>\n",
       "      <td>148386.0</td>\n",
       "      <td>0.0</td>\n",
       "    </tr>\n",
       "    <tr>\n",
       "      <th>3</th>\n",
       "      <td>RBS3706239</td>\n",
       "      <td>00077TAA2</td>\n",
       "      <td>CORP</td>\n",
       "      <td>2000.0</td>\n",
       "      <td>112.640</td>\n",
       "      <td>D</td>\n",
       "      <td>2014.0</td>\n",
       "      <td>2014-02-21</td>\n",
       "      <td>2014-02-21 11:19:41</td>\n",
       "      <td>2014-02-21 11:20:01</td>\n",
       "      <td>...</td>\n",
       "      <td>2514</td>\n",
       "      <td>T</td>\n",
       "      <td>Ba1</td>\n",
       "      <td>11.0</td>\n",
       "      <td>1993-05-20</td>\n",
       "      <td>5.0</td>\n",
       "      <td>2023-05-15</td>\n",
       "      <td>250000.0</td>\n",
       "      <td>148386.0</td>\n",
       "      <td>0.0</td>\n",
       "    </tr>\n",
       "    <tr>\n",
       "      <th>4</th>\n",
       "      <td>RBS3706239</td>\n",
       "      <td>00077TAA2</td>\n",
       "      <td>CORP</td>\n",
       "      <td>10000.0</td>\n",
       "      <td>112.245</td>\n",
       "      <td>D</td>\n",
       "      <td>2014.0</td>\n",
       "      <td>2014-01-16</td>\n",
       "      <td>2014-01-16 13:41:11</td>\n",
       "      <td>2014-01-16 13:41:27</td>\n",
       "      <td>...</td>\n",
       "      <td>2940</td>\n",
       "      <td>T</td>\n",
       "      <td>Ba1</td>\n",
       "      <td>11.0</td>\n",
       "      <td>1993-05-20</td>\n",
       "      <td>5.0</td>\n",
       "      <td>2023-05-15</td>\n",
       "      <td>250000.0</td>\n",
       "      <td>148386.0</td>\n",
       "      <td>0.0</td>\n",
       "    </tr>\n",
       "  </tbody>\n",
       "</table>\n",
       "<p>5 rows × 21 columns</p>\n",
       "</div>"
      ],
      "text/plain": [
       "  BOND_SYM_ID   CUSIP_ID SCRTY_TYPE_CD  ENTRD_VOL_QT  RPTD_PR RPT_SIDE_CD  \\\n",
       "0  RBS3706239  00077TAA2          CORP       10000.0  111.245           D   \n",
       "1  RBS3706239  00077TAA2          CORP        2000.0  113.389           C   \n",
       "2  RBS3706239  00077TAA2          CORP        5000.0  112.070           C   \n",
       "3  RBS3706239  00077TAA2          CORP        2000.0  112.640           D   \n",
       "4  RBS3706239  00077TAA2          CORP       10000.0  112.245           D   \n",
       "\n",
       "     Year document_date      TRD_EXCTN_DTTM        TRD_RPT_DTTM  ...  \\\n",
       "0  2014.0    2014-01-31 2014-01-31 10:40:23 2014-01-31 10:40:37  ...   \n",
       "1  2014.0    2014-02-21 2014-02-21 11:19:41 2014-02-21 11:19:57  ...   \n",
       "2  2014.0    2014-01-24 2014-01-24 15:19:50 2014-01-24 15:20:18  ...   \n",
       "3  2014.0    2014-02-21 2014-02-21 11:19:41 2014-02-21 11:20:01  ...   \n",
       "4  2014.0    2014-01-16 2014-01-16 13:41:11 2014-01-16 13:41:27  ...   \n",
       "\n",
       "  Contra_Party_Index TRC_ST RATING_MR RATING_MR_Numeric  OFFERING_DATE  \\\n",
       "0               2917      T       Ba1              11.0     1993-05-20   \n",
       "1              99999      T       Ba1              11.0     1993-05-20   \n",
       "2              99999      T       Ba1              11.0     1993-05-20   \n",
       "3               2514      T       Ba1              11.0     1993-05-20   \n",
       "4               2940      T       Ba1              11.0     1993-05-20   \n",
       "\n",
       "  ISSUE_ID   MATURITY OFFERING_AMT  AMOUNT_OUTSTANDING  Vol_grt_out  \n",
       "0      5.0 2023-05-15     250000.0            148386.0          0.0  \n",
       "1      5.0 2023-05-15     250000.0            148386.0          0.0  \n",
       "2      5.0 2023-05-15     250000.0            148386.0          0.0  \n",
       "3      5.0 2023-05-15     250000.0            148386.0          0.0  \n",
       "4      5.0 2023-05-15     250000.0            148386.0          0.0  \n",
       "\n",
       "[5 rows x 21 columns]"
      ]
     },
     "execution_count": 5,
     "metadata": {},
     "output_type": "execute_result"
    }
   ],
   "source": [
    "data.head()"
   ]
  },
  {
   "cell_type": "code",
   "execution_count": 6,
   "metadata": {},
   "outputs": [],
   "source": [
    "data['trade_outof_AMOUNT_OUTSTANDING'] = ((data['ENTRD_VOL_QT']) / (data['AMOUNT_OUTSTANDING'] * 1000))"
   ]
  },
  {
   "cell_type": "code",
   "execution_count": 7,
   "metadata": {},
   "outputs": [
    {
     "data": {
      "text/plain": [
       "count    6.323262e+06\n",
       "mean     9.216285e-04\n",
       "std      7.127916e-03\n",
       "min      2.203717e-10\n",
       "25%      1.649549e-05\n",
       "50%      5.384841e-05\n",
       "75%      3.142857e-04\n",
       "max      1.000000e+00\n",
       "Name: trade_outof_AMOUNT_OUTSTANDING, dtype: float64"
      ]
     },
     "execution_count": 7,
     "metadata": {},
     "output_type": "execute_result"
    }
   ],
   "source": [
    "data['trade_outof_AMOUNT_OUTSTANDING'].describe()"
   ]
  },
  {
   "cell_type": "code",
   "execution_count": 11,
   "metadata": {},
   "outputs": [],
   "source": [
    "data['weight'] = (data['ENTRD_VOL_QT'] * data['RPTD_PR'] / 100) * data['trade_outof_AMOUNT_OUTSTANDING']"
   ]
  },
  {
   "cell_type": "code",
   "execution_count": 19,
   "metadata": {},
   "outputs": [
    {
     "data": {
      "text/plain": [
       "count    6.323262e+06\n",
       "mean     9.216285e+01\n",
       "std      7.127916e+02\n",
       "min      2.203717e-05\n",
       "25%      1.649549e+00\n",
       "50%      5.384841e+00\n",
       "75%      3.142857e+01\n",
       "max      1.000000e+05\n",
       "Name: trade_outof_AMOUNT_OUTSTANDING, dtype: float64"
      ]
     },
     "execution_count": 19,
     "metadata": {},
     "output_type": "execute_result"
    }
   ],
   "source": [
    "(data['trade_outof_AMOUNT_OUTSTANDING'] * 100000).describe()"
   ]
  },
  {
   "cell_type": "code",
   "execution_count": 16,
   "metadata": {},
   "outputs": [
    {
     "data": {
      "text/plain": [
       "2287143"
      ]
     },
     "execution_count": 16,
     "metadata": {},
     "output_type": "execute_result"
    }
   ],
   "source": [
    "(data['weight'] > 10).sum()"
   ]
  },
  {
   "cell_type": "code",
   "execution_count": null,
   "metadata": {},
   "outputs": [],
   "source": []
  }
 ],
 "metadata": {
  "kernelspec": {
   "display_name": "Python 3",
   "language": "python",
   "name": "python3"
  },
  "language_info": {
   "codemirror_mode": {
    "name": "ipython",
    "version": 3
   },
   "file_extension": ".py",
   "mimetype": "text/x-python",
   "name": "python",
   "nbconvert_exporter": "python",
   "pygments_lexer": "ipython3",
   "version": "3.7.3"
  }
 },
 "nbformat": 4,
 "nbformat_minor": 2
}
