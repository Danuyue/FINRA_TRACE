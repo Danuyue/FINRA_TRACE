{
 "cells": [
  {
   "cell_type": "markdown",
   "metadata": {},
   "source": [
    "# Topic Modeling Data Preparation\n",
    "\n",
    "reference:\n",
    "* [Beginners Guide to Topic Modeling in Python](https://www.analyticsvidhya.com/blog/2016/08/beginners-guide-to-topic-modeling-in-python/)"
   ]
  },
  {
   "cell_type": "code",
   "execution_count": 1,
   "metadata": {
    "collapsed": true
   },
   "outputs": [],
   "source": [
    "import pandas as pd\n",
    "import numpy as np\n",
    "\n",
    "%matplotlib inline\n",
    "import matplotlib\n",
    "import matplotlib.pyplot as plt\n",
    "from IPython.display import set_matplotlib_formats\n",
    "set_matplotlib_formats('retina')\n",
    "\n",
    "from pathlib import Path"
   ]
  },
  {
   "cell_type": "code",
   "execution_count": 2,
   "metadata": {},
   "outputs": [],
   "source": [
    "root_folder = Path('../Data/')\n",
    "file_name = 'TRACE2014_jinming_5000.csv.xlsx'\n",
    "file_path = root_folder / file_name\n",
    "\n",
    "field_of_interest = ['BOND_SYM_ID','CUSIP_ID','SCRTY_TYPE_CD','ENTRD_VOL_QT','RPTD_PR','RPT_SIDE_CD','TRD_EXCTN_DT','TRD_RPT_DT','RPT_SIDE_CD','Report_Dealer_Index','Contra_Party_Index']\n",
    "\n",
    "#dtype={'TRC_ST': str, 'BOND_SYM_ID': str, 'CUSIP_ID': str, 'SCRTY_TYPE_CD': str, 'WIS_CD': str, 'CMSN_TRD_FL': str, \\\n",
    "#           'ENTRD_VOL_QT': str, 'RPTD_PR': str, 'YLD_SIGN_CD': str, 'YLD_PT': float, 'ASOF_CD': str, 'TRD_EXCTN_DT': pd.Timestamp}\n",
    "\n",
    "data = pd.read_excel(file_path,usecols=field_of_interest)"
   ]
  },
  {
   "cell_type": "code",
   "execution_count": 3,
   "metadata": {
    "scrolled": true
   },
   "outputs": [
    {
     "data": {
      "text/html": [
       "<div>\n",
       "<style>\n",
       "    .dataframe thead tr:only-child th {\n",
       "        text-align: right;\n",
       "    }\n",
       "\n",
       "    .dataframe thead th {\n",
       "        text-align: left;\n",
       "    }\n",
       "\n",
       "    .dataframe tbody tr th {\n",
       "        vertical-align: top;\n",
       "    }\n",
       "</style>\n",
       "<table border=\"1\" class=\"dataframe\">\n",
       "  <thead>\n",
       "    <tr style=\"text-align: right;\">\n",
       "      <th></th>\n",
       "      <th>BOND_SYM_ID</th>\n",
       "      <th>CUSIP_ID</th>\n",
       "      <th>SCRTY_TYPE_CD</th>\n",
       "      <th>ENTRD_VOL_QT</th>\n",
       "      <th>RPTD_PR</th>\n",
       "      <th>TRD_EXCTN_DT</th>\n",
       "      <th>TRD_RPT_DT</th>\n",
       "      <th>RPT_SIDE_CD</th>\n",
       "      <th>Report_Dealer_Index</th>\n",
       "      <th>Contra_Party_Index</th>\n",
       "    </tr>\n",
       "  </thead>\n",
       "  <tbody>\n",
       "    <tr>\n",
       "      <th>0</th>\n",
       "      <td>TWIX3666829</td>\n",
       "      <td>982526AB1</td>\n",
       "      <td>CORP</td>\n",
       "      <td>25000</td>\n",
       "      <td>102.992000</td>\n",
       "      <td>20140716</td>\n",
       "      <td>20140716</td>\n",
       "      <td>B</td>\n",
       "      <td>0</td>\n",
       "      <td>83</td>\n",
       "    </tr>\n",
       "    <tr>\n",
       "      <th>1</th>\n",
       "      <td>WAMU3885939</td>\n",
       "      <td>92936PAB6</td>\n",
       "      <td>CORP</td>\n",
       "      <td>214</td>\n",
       "      <td>95.934579</td>\n",
       "      <td>20141223</td>\n",
       "      <td>20141223</td>\n",
       "      <td>S</td>\n",
       "      <td>83</td>\n",
       "      <td>99999</td>\n",
       "    </tr>\n",
       "    <tr>\n",
       "      <th>2</th>\n",
       "      <td>WAMU3885939</td>\n",
       "      <td>92936PAB6</td>\n",
       "      <td>CORP</td>\n",
       "      <td>100</td>\n",
       "      <td>92.500000</td>\n",
       "      <td>20141205</td>\n",
       "      <td>20141205</td>\n",
       "      <td>S</td>\n",
       "      <td>83</td>\n",
       "      <td>99999</td>\n",
       "    </tr>\n",
       "  </tbody>\n",
       "</table>\n",
       "</div>"
      ],
      "text/plain": [
       "   BOND_SYM_ID   CUSIP_ID SCRTY_TYPE_CD  ENTRD_VOL_QT     RPTD_PR  \\\n",
       "0  TWIX3666829  982526AB1          CORP         25000  102.992000   \n",
       "1  WAMU3885939  92936PAB6          CORP           214   95.934579   \n",
       "2  WAMU3885939  92936PAB6          CORP           100   92.500000   \n",
       "\n",
       "   TRD_EXCTN_DT  TRD_RPT_DT RPT_SIDE_CD  Report_Dealer_Index  \\\n",
       "0      20140716    20140716           B                    0   \n",
       "1      20141223    20141223           S                   83   \n",
       "2      20141205    20141205           S                   83   \n",
       "\n",
       "   Contra_Party_Index  \n",
       "0                  83  \n",
       "1               99999  \n",
       "2               99999  "
      ]
     },
     "execution_count": 3,
     "metadata": {},
     "output_type": "execute_result"
    }
   ],
   "source": [
    "data.head(3)"
   ]
  },
  {
   "cell_type": "code",
   "execution_count": 4,
   "metadata": {},
   "outputs": [],
   "source": [
    "#document = data[['Report_Dealer_Index','TRD_EXCTN_DT']]\n",
    "document = data.groupby(by=['Report_Dealer_Index','TRD_EXCTN_DT'])"
   ]
  },
  {
   "cell_type": "code",
   "execution_count": 5,
   "metadata": {},
   "outputs": [],
   "source": [
    "token = data.groupby(by=['BOND_SYM_ID','CUSIP_ID'])"
   ]
  },
  {
   "cell_type": "code",
   "execution_count": 6,
   "metadata": {
    "collapsed": true
   },
   "outputs": [],
   "source": [
    "data_gb = data.groupby(by=['Report_Dealer_Index','TRD_EXCTN_DT','BOND_SYM_ID'])"
   ]
  },
  {
   "cell_type": "code",
   "execution_count": 7,
   "metadata": {
    "scrolled": true
   },
   "outputs": [
    {
     "data": {
      "text/plain": [
       "Report_Dealer_Index  TRD_EXCTN_DT  BOND_SYM_ID\n",
       "0                    20140102      AA.HO          1\n",
       "                                   BCS.KBJ        1\n",
       "                                   MT3824014      1\n",
       "                                   PBR3674838     1\n",
       "                                   PBR4006643     1\n",
       "dtype: int64"
      ]
     },
     "execution_count": 7,
     "metadata": {},
     "output_type": "execute_result"
    }
   ],
   "source": [
    "matrix_1 = data_gb.size()\n",
    "matrix_1.head()"
   ]
  },
  {
   "cell_type": "code",
   "execution_count": 8,
   "metadata": {},
   "outputs": [
    {
     "data": {
      "text/plain": [
       "Report_Dealer_Index  TRD_EXCTN_DT  BOND_SYM_ID\n",
       "0                    20140102      AA.HO            7000\n",
       "                                   BCS.KBJ        150000\n",
       "                                   MT3824014       10000\n",
       "                                   PBR3674838      20000\n",
       "                                   PBR4006643      30000\n",
       "Name: ENTRD_VOL_QT, dtype: int64"
      ]
     },
     "execution_count": 8,
     "metadata": {},
     "output_type": "execute_result"
    }
   ],
   "source": [
    "matrix_2 = data_gb['ENTRD_VOL_QT'].sum()\n",
    "matrix_2.head()"
   ]
  },
  {
   "cell_type": "code",
   "execution_count": 9,
   "metadata": {},
   "outputs": [
    {
     "data": {
      "text/html": [
       "<div>\n",
       "<style>\n",
       "    .dataframe thead tr:only-child th {\n",
       "        text-align: right;\n",
       "    }\n",
       "\n",
       "    .dataframe thead th {\n",
       "        text-align: left;\n",
       "    }\n",
       "\n",
       "    .dataframe tbody tr th {\n",
       "        vertical-align: top;\n",
       "    }\n",
       "</style>\n",
       "<table border=\"1\" class=\"dataframe\">\n",
       "  <thead>\n",
       "    <tr style=\"text-align: right;\">\n",
       "      <th></th>\n",
       "      <th></th>\n",
       "      <th></th>\n",
       "      <th>ENTRD_VOL_QT</th>\n",
       "      <th>RPTD_PR</th>\n",
       "    </tr>\n",
       "    <tr>\n",
       "      <th>Report_Dealer_Index</th>\n",
       "      <th>TRD_EXCTN_DT</th>\n",
       "      <th>BOND_SYM_ID</th>\n",
       "      <th></th>\n",
       "      <th></th>\n",
       "    </tr>\n",
       "  </thead>\n",
       "  <tbody>\n",
       "    <tr>\n",
       "      <th rowspan=\"5\" valign=\"top\">0</th>\n",
       "      <th rowspan=\"5\" valign=\"top\">20140102</th>\n",
       "      <th>AA.HO</th>\n",
       "      <td>7000.0</td>\n",
       "      <td>92.5330</td>\n",
       "    </tr>\n",
       "    <tr>\n",
       "      <th>BCS.KBJ</th>\n",
       "      <td>150000.0</td>\n",
       "      <td>106.4400</td>\n",
       "    </tr>\n",
       "    <tr>\n",
       "      <th>MT3824014</th>\n",
       "      <td>10000.0</td>\n",
       "      <td>106.7500</td>\n",
       "    </tr>\n",
       "    <tr>\n",
       "      <th>PBR3674838</th>\n",
       "      <td>20000.0</td>\n",
       "      <td>112.8769</td>\n",
       "    </tr>\n",
       "    <tr>\n",
       "      <th>PBR4006643</th>\n",
       "      <td>30000.0</td>\n",
       "      <td>89.1600</td>\n",
       "    </tr>\n",
       "  </tbody>\n",
       "</table>\n",
       "</div>"
      ],
      "text/plain": [
       "                                              ENTRD_VOL_QT   RPTD_PR\n",
       "Report_Dealer_Index TRD_EXCTN_DT BOND_SYM_ID                        \n",
       "0                   20140102     AA.HO              7000.0   92.5330\n",
       "                                 BCS.KBJ          150000.0  106.4400\n",
       "                                 MT3824014         10000.0  106.7500\n",
       "                                 PBR3674838        20000.0  112.8769\n",
       "                                 PBR4006643        30000.0   89.1600"
      ]
     },
     "execution_count": 9,
     "metadata": {},
     "output_type": "execute_result"
    }
   ],
   "source": [
    "matrix_3 = data_gb[['ENTRD_VOL_QT','RPTD_PR']]\n",
    "matrix_3.prod().head()"
   ]
  },
  {
   "cell_type": "markdown",
   "metadata": {},
   "source": [
    "### Validation"
   ]
  },
  {
   "cell_type": "code",
   "execution_count": 10,
   "metadata": {},
   "outputs": [
    {
     "name": "stdout",
     "output_type": "stream",
     "text": [
      "We have 5000 rows 10 columns\n"
     ]
    }
   ],
   "source": [
    "shape = data.shape\n",
    "print('We have {} rows {} columns'.format(shape[0],shape[1]))"
   ]
  },
  {
   "cell_type": "code",
   "execution_count": 11,
   "metadata": {},
   "outputs": [
    {
     "name": "stdout",
     "output_type": "stream",
     "text": [
      "414 rows that are entirely the same in the data set\n"
     ]
    }
   ],
   "source": [
    "print('{} rows that are entirely the same in the data set'.format(data.duplicated().sum()))"
   ]
  },
  {
   "cell_type": "code",
   "execution_count": 12,
   "metadata": {
    "scrolled": true
   },
   "outputs": [
    {
     "name": "stdout",
     "output_type": "stream",
     "text": [
      "Number of duplcations based on grouping keys:\n",
      "['BOND_SYM_ID'] : 4087\n",
      "['CUSIP_ID'] : 4095\n",
      "['BOND_SYM_ID', 'CUSIP_ID'] : 4087\n",
      "['Report_Dealer_Index', 'TRD_EXCTN_DT'] : 4154\n",
      "['Report_Dealer_Index', 'TRD_EXCTN_DT', 'BOND_SYM_ID'] : 1104\n"
     ]
    }
   ],
   "source": [
    "print('Number of duplcations based on grouping keys:')\n",
    "test_duplication = [['BOND_SYM_ID'],['CUSIP_ID'],['BOND_SYM_ID','CUSIP_ID'],['Report_Dealer_Index','TRD_EXCTN_DT'],\n",
    "                   ['Report_Dealer_Index','TRD_EXCTN_DT','BOND_SYM_ID']]\n",
    "for test in test_duplication:\n",
    "    print('{} : {}'.format(test, data.duplicated(subset=test).sum()))"
   ]
  },
  {
   "cell_type": "code",
   "execution_count": 13,
   "metadata": {},
   "outputs": [
    {
     "data": {
      "text/html": [
       "<div>\n",
       "<style>\n",
       "    .dataframe thead tr:only-child th {\n",
       "        text-align: right;\n",
       "    }\n",
       "\n",
       "    .dataframe thead th {\n",
       "        text-align: left;\n",
       "    }\n",
       "\n",
       "    .dataframe tbody tr th {\n",
       "        vertical-align: top;\n",
       "    }\n",
       "</style>\n",
       "<table border=\"1\" class=\"dataframe\">\n",
       "  <thead>\n",
       "    <tr style=\"text-align: right;\">\n",
       "      <th></th>\n",
       "      <th>BOND_SYM_ID</th>\n",
       "      <th>CUSIP_ID</th>\n",
       "      <th>SCRTY_TYPE_CD</th>\n",
       "      <th>ENTRD_VOL_QT</th>\n",
       "      <th>RPTD_PR</th>\n",
       "      <th>TRD_EXCTN_DT</th>\n",
       "      <th>TRD_RPT_DT</th>\n",
       "      <th>RPT_SIDE_CD</th>\n",
       "      <th>Report_Dealer_Index</th>\n",
       "      <th>Contra_Party_Index</th>\n",
       "    </tr>\n",
       "  </thead>\n",
       "  <tbody>\n",
       "    <tr>\n",
       "      <th>3659</th>\n",
       "      <td>TWC3675093</td>\n",
       "      <td>88732JAS7</td>\n",
       "      <td>CORP</td>\n",
       "      <td>25000</td>\n",
       "      <td>125.450</td>\n",
       "      <td>20140219</td>\n",
       "      <td>20140219</td>\n",
       "      <td>B</td>\n",
       "      <td>0</td>\n",
       "      <td>110</td>\n",
       "    </tr>\n",
       "    <tr>\n",
       "      <th>4999</th>\n",
       "      <td>TWC3675093</td>\n",
       "      <td>88732JAS7</td>\n",
       "      <td>CORP</td>\n",
       "      <td>50000</td>\n",
       "      <td>126.169</td>\n",
       "      <td>20140625</td>\n",
       "      <td>20140625</td>\n",
       "      <td>B</td>\n",
       "      <td>0</td>\n",
       "      <td>47</td>\n",
       "    </tr>\n",
       "  </tbody>\n",
       "</table>\n",
       "</div>"
      ],
      "text/plain": [
       "     BOND_SYM_ID   CUSIP_ID SCRTY_TYPE_CD  ENTRD_VOL_QT  RPTD_PR  \\\n",
       "3659  TWC3675093  88732JAS7          CORP         25000  125.450   \n",
       "4999  TWC3675093  88732JAS7          CORP         50000  126.169   \n",
       "\n",
       "      TRD_EXCTN_DT  TRD_RPT_DT RPT_SIDE_CD  Report_Dealer_Index  \\\n",
       "3659      20140219    20140219           B                    0   \n",
       "4999      20140625    20140625           B                    0   \n",
       "\n",
       "      Contra_Party_Index  \n",
       "3659                 110  \n",
       "4999                  47  "
      ]
     },
     "execution_count": 13,
     "metadata": {},
     "output_type": "execute_result"
    }
   ],
   "source": [
    "data.loc[data['BOND_SYM_ID']=='TWC3675093']"
   ]
  },
  {
   "cell_type": "code",
   "execution_count": null,
   "metadata": {
    "collapsed": true
   },
   "outputs": [],
   "source": []
  }
 ],
 "metadata": {
  "kernelspec": {
   "display_name": "Python 3",
   "language": "python",
   "name": "python3"
  },
  "language_info": {
   "codemirror_mode": {
    "name": "ipython",
    "version": 3
   },
   "file_extension": ".py",
   "mimetype": "text/x-python",
   "name": "python",
   "nbconvert_exporter": "python",
   "pygments_lexer": "ipython3",
   "version": "3.6.1"
  }
 },
 "nbformat": 4,
 "nbformat_minor": 2
}
