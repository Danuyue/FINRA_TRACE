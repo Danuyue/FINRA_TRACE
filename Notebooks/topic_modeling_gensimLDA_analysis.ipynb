{
 "cells": [
  {
   "cell_type": "markdown",
   "metadata": {},
   "source": [
    "# Todo\n",
    "* Sensitivity 250 500 1000\n",
    "* For the 500, take top 10% heightest weight\n",
    "* Take that threshold for other topics\n",
    "\n",
    "https://miningthedetails.com/blog/python/lda/GensimLDA/\n",
    "https://markroxor.github.io/gensim/static/notebooks/lda_training_tips.html"
   ]
  },
  {
   "cell_type": "code",
   "execution_count": 1,
   "metadata": {
    "scrolled": true
   },
   "outputs": [],
   "source": [
    "import pandas as pd\n",
    "import numpy as np\n",
    "import os\n",
    "from pathlib import Path\n",
    "\n",
    "#import logging\n",
    "#logging.basicConfig(format='%(asctime)s : %(levelname)s : %(message)s', level=logging.INFO)\n",
    "#import tempfile\n",
    "#TEMP_FOLDER = tempfile.gettempdir()\n",
    "#print('Folder \"{}\" will be used to save temporary dictionary and corpus.'.format(TEMP_FOLDER))\n",
    "\n",
    "#%matplotlib inline\n",
    "#import matplotlib\n",
    "#import matplotlib.pyplot as plt\n",
    "#from IPython.display import set_matplotlib_formats\n",
    "#set_matplotlib_formats('retina')\n",
    "\n",
    "from sklearn import preprocessing\n",
    "\n",
    "import warnings\n",
    "warnings.filterwarnings(action='ignore', category=UserWarning, module='gensim')\n",
    "import gensim\n",
    "from gensim.test.utils import datapath"
   ]
  },
  {
   "cell_type": "code",
   "execution_count": 2,
   "metadata": {},
   "outputs": [],
   "source": [
    "# The model with model_name we want to load\n",
    "def load_model(model_name):\n",
    "    current_path = os.getcwd()\n",
    "    current_path = Path(current_path)\n",
    "    load_path = current_path.parent / \"./Data/LDAModel/{}/{}\".format(model_name,model_name)\n",
    "    load_path = str(load_path)\n",
    "    lda = gensim.models.ldamulticore.LdaMulticore.load(load_path)\n",
    "    return lda"
   ]
  },
  {
   "cell_type": "code",
   "execution_count": 3,
   "metadata": {},
   "outputs": [],
   "source": [
    "model_name = \"matrix1_100topic\"\n",
    "matrix1_100topic = load_model(model_name)"
   ]
  },
  {
   "cell_type": "code",
   "execution_count": 4,
   "metadata": {},
   "outputs": [],
   "source": [
    "model_name = \"matrix1_250topic\"\n",
    "matrix1_250topic = load_model(model_name)"
   ]
  },
  {
   "cell_type": "code",
   "execution_count": 5,
   "metadata": {},
   "outputs": [],
   "source": [
    "model_name = \"matrix1_500topic\"\n",
    "matrix1_500topic = load_model(model_name)"
   ]
  },
  {
   "cell_type": "code",
   "execution_count": 6,
   "metadata": {},
   "outputs": [],
   "source": [
    "model_name = \"matrix1_750topic\"\n",
    "matrix1_750topic = load_model(model_name)"
   ]
  },
  {
   "cell_type": "code",
   "execution_count": 7,
   "metadata": {},
   "outputs": [],
   "source": [
    "model_name = \"matrix1_1000topic\"\n",
    "matrix1_1000topic = load_model(model_name)"
   ]
  },
  {
   "cell_type": "code",
   "execution_count": 8,
   "metadata": {},
   "outputs": [],
   "source": [
    "model_name = \"matrix1_1500topic\"\n",
    "matrix1_1500topic = load_model(model_name)"
   ]
  },
  {
   "cell_type": "code",
   "execution_count": 22,
   "metadata": {},
   "outputs": [
    {
     "data": {
      "text/plain": [
       "[(603,\n",
       "  '0.080*\"HL4080028\" + 0.036*\"MCP3983624\" + 0.031*\"RCII.GH\" + 0.011*\"NSM4013441\" + 0.011*\"IO4117248\" + 0.011*\"WHR4099800\" + 0.011*\"NES3879264\" + 0.009*\"IGT.GI\" + 0.009*\"WLT4062096\" + 0.009*\"BTU3905482\"'),\n",
       " (568,\n",
       "  '0.003*\"PBR4006643\" + 0.003*\"AAPL4001809\" + 0.003*\"VZ4050437\" + 0.003*\"PBR3688575\" + 0.003*\"TWC3674494\" + 0.003*\"CDFA.GC\" + 0.002*\"JPM3999853\" + 0.002*\"CCCX3917899\" + 0.002*\"GE.HEE\" + 0.002*\"AEE.HV\"'),\n",
       " (22,\n",
       "  '0.021*\"NIEF4047034\" + 0.004*\"RIG.GX\" + 0.003*\"PVA.GD\" + 0.003*\"HL4080028\" + 0.003*\"PBR3688575\" + 0.003*\"AAPL4001809\" + 0.003*\"CLF.AC\" + 0.003*\"OKE.AA\" + 0.002*\"SWY.GN\" + 0.002*\"KO4066189\"'),\n",
       " (96,\n",
       "  '0.019*\"PPL.IC\" + 0.014*\"RRD3674729\" + 0.010*\"CLF.AB\" + 0.005*\"PPL.IR\" + 0.005*\"RAI3922486\" + 0.005*\"GEF3677223\" + 0.004*\"DISH.GZ\" + 0.003*\"PFE3690876\" + 0.003*\"CCCX3917899\" + 0.003*\"VALE3701084\"'),\n",
       " (134,\n",
       "  '0.063*\"HCP.JK\" + 0.041*\"JRCC.GG\" + 0.013*\"KRI.GD\" + 0.009*\"TEG4071296\" + 0.008*\"ALU3697111\" + 0.007*\"ETHN.GB\" + 0.007*\"RPIZ.AA\" + 0.007*\"ARCC4071336\" + 0.006*\"BBBY4144685\" + 0.006*\"RBS3705326\"'),\n",
       " (406,\n",
       "  '0.067*\"DRI.GK\" + 0.013*\"CLF.AC\" + 0.007*\"CLF.AD\" + 0.006*\"DTEGF4096883\" + 0.006*\"CLF.AA\" + 0.004*\"SWY.GN\" + 0.004*\"PBR4006643\" + 0.004*\"PPL.IR\" + 0.004*\"PBR3688575\" + 0.003*\"LUK3683511\"'),\n",
       " (244,\n",
       "  '0.012*\"JNY.GJ\" + 0.005*\"RCII4067942\" + 0.004*\"AVP3979750\" + 0.003*\"COP.GV\" + 0.003*\"SYMC3865873\" + 0.003*\"AAPL4001809\" + 0.003*\"SWY.GN\" + 0.003*\"PPL.IR\" + 0.003*\"PBR4006643\" + 0.002*\"AA.HO\"'),\n",
       " (622,\n",
       "  '0.008*\"VZ.JL\" + 0.007*\"BUD4091629\" + 0.006*\"C4062481\" + 0.005*\"BP.JH\" + 0.005*\"AAPL4001809\" + 0.005*\"BRK3853634\" + 0.005*\"CMCS.GZ\" + 0.005*\"JPM.SCH\" + 0.005*\"CSCO.GE\" + 0.005*\"HD.GM\"'),\n",
       " (239,\n",
       "  '0.061*\"AMZN3936284\" + 0.037*\"AGO4136090\" + 0.008*\"MCK4104773\" + 0.007*\"SWY.GN\" + 0.007*\"RIG.HE\" + 0.005*\"RIG.GX\" + 0.005*\"LINE3690892\" + 0.005*\"SD.AH\" + 0.004*\"PPL.IR\" + 0.004*\"WTI.AC\"'),\n",
       " (678,\n",
       "  '0.025*\"FTR3669891\" + 0.021*\"CLF.AB\" + 0.011*\"RCII.GH\" + 0.005*\"PPL.IR\" + 0.005*\"TGT4136096\" + 0.005*\"SWY.HG\" + 0.005*\"SYMC.GH\" + 0.004*\"SFY3845878\" + 0.004*\"CLF.AD\" + 0.004*\"X.GF\"'),\n",
       " (716,\n",
       "  '0.005*\"RDEN.GD\" + 0.004*\"PBR3688575\" + 0.004*\"RIG.HE\" + 0.004*\"RIG.GX\" + 0.004*\"SWY.HG\" + 0.004*\"SFTBF3928946\" + 0.003*\"CLF.AC\" + 0.003*\"AVP3979750\" + 0.003*\"AU4033717\" + 0.003*\"BTU.GI\"'),\n",
       " (84,\n",
       "  '0.035*\"WCRX.AC\" + 0.030*\"CTL3705103\" + 0.007*\"CNW3706165\" + 0.005*\"PBR3688575\" + 0.004*\"HBC.AGZ\" + 0.004*\"WU.GF\" + 0.004*\"RIG.GX\" + 0.003*\"CLF.AC\" + 0.003*\"AU3882696\" + 0.003*\"PPL.IR\"'),\n",
       " (746,\n",
       "  '0.100*\"AOI4075603\" + 0.036*\"AES3903624\" + 0.006*\"CCCX3917899\" + 0.005*\"CLF.AD\" + 0.005*\"PPL.IR\" + 0.004*\"WLT4062096\" + 0.004*\"IEP4082421\" + 0.004*\"FMC4070413\" + 0.003*\"BRSG3693247\" + 0.003*\"AGN.KV\"'),\n",
       " (167,\n",
       "  '0.052*\"NEM.GL\" + 0.011*\"UU.GC\" + 0.007*\"EAC4123496\" + 0.006*\"GNW.JO\" + 0.005*\"FST.GO\" + 0.005*\"SWY.GN\" + 0.004*\"SCHW.AD\" + 0.003*\"ANR.GC\" + 0.003*\"AMD.AA\" + 0.003*\"WFC4097730\"'),\n",
       " (650,\n",
       "  '0.038*\"PRA4072207\" + 0.006*\"SFTBF3928946\" + 0.005*\"PFE.GO\" + 0.003*\"PBR4006643\" + 0.003*\"AAPL4001809\" + 0.003*\"PTP.GD\" + 0.003*\"MRH3912041\" + 0.003*\"PLD.GQ\" + 0.003*\"CTL3705105\" + 0.003*\"SVM.GC\"'),\n",
       " (77,\n",
       "  '0.027*\"IBM4002815\" + 0.013*\"NOV3673231\" + 0.011*\"TOT4088034\" + 0.005*\"F.GSX\" + 0.004*\"NKE3998567\" + 0.004*\"WFC.JX\" + 0.003*\"GCII.GJ\" + 0.003*\"HAS.GI\" + 0.003*\"ADM.GI\" + 0.002*\"TWIX3666829\"'),\n",
       " (225,\n",
       "  '0.022*\"ENH.GA\" + 0.012*\"IBM4002815\" + 0.011*\"OMI.GA\" + 0.008*\"NRGY4125830\" + 0.005*\"CLF.AC\" + 0.004*\"VZ4050437\" + 0.004*\"BLKG.AB\" + 0.004*\"ANKO.GC\" + 0.004*\"T3818484\" + 0.003*\"AAL4009127\"'),\n",
       " (688,\n",
       "  '0.022*\"BMA.GB\" + 0.016*\"PBR4006642\" + 0.013*\"CLF.AC\" + 0.011*\"PPL.IR\" + 0.009*\"JBL.GG\" + 0.009*\"KWK.GC\" + 0.006*\"SWY.GN\" + 0.005*\"CLF.AD\" + 0.004*\"PBR4006643\" + 0.004*\"CAT.AF\"'),\n",
       " (526,\n",
       "  '0.005*\"PBR4006643\" + 0.005*\"BGC.GJ\" + 0.003*\"PBR3688575\" + 0.003*\"AAPL4001809\" + 0.003*\"NEM3827984\" + 0.003*\"CLF.AD\" + 0.003*\"PPL.IR\" + 0.003*\"SFTBF3928946\" + 0.002*\"SWY.GN\" + 0.002*\"AU4033717\"'),\n",
       " (338,\n",
       "  '0.012*\"ANR.GC\" + 0.008*\"AGN3979696\" + 0.006*\"CLF.AB\" + 0.006*\"ETFC3691819\" + 0.005*\"SWY.GN\" + 0.004*\"NEM3827984\" + 0.004*\"RIG.HE\" + 0.003*\"PHH4038003\" + 0.003*\"CA4040462\" + 0.003*\"RIG.GX\"')]"
      ]
     },
     "execution_count": 22,
     "metadata": {},
     "output_type": "execute_result"
    }
   ],
   "source": [
    "matrix1_750topic.print_topics()"
   ]
  },
  {
   "cell_type": "code",
   "execution_count": 28,
   "metadata": {},
   "outputs": [
    {
     "data": {
      "text/plain": [
       "[('HL4080028', 0.07980591),\n",
       " ('MCP3983624', 0.036443215),\n",
       " ('RCII.GH', 0.031155517),\n",
       " ('NSM4013441', 0.011121476),\n",
       " ('IO4117248', 0.011079177),\n",
       " ('WHR4099800', 0.011063738),\n",
       " ('NES3879264', 0.010838084),\n",
       " ('IGT.GI', 0.00911228),\n",
       " ('WLT4062096', 0.008906558),\n",
       " ('BTU3905482', 0.008750132)]"
      ]
     },
     "execution_count": 28,
     "metadata": {},
     "output_type": "execute_result"
    }
   ],
   "source": [
    "matrix1_750topic.show_topic(603)"
   ]
  },
  {
   "cell_type": "code",
   "execution_count": 37,
   "metadata": {},
   "outputs": [
    {
     "data": {
      "text/plain": [
       "[(7999, 0.01583518),\n",
       " (9732, 0.012683756),\n",
       " (3552, 0.004808716),\n",
       " (10244, 0.0043968004),\n",
       " (3576, 0.0039317133),\n",
       " (229, 0.0038239034),\n",
       " (11488, 0.003514054),\n",
       " (9725, 0.0032417963),\n",
       " (10359, 0.0025387409),\n",
       " (261, 0.002467031)]"
      ]
     },
     "execution_count": 37,
     "metadata": {},
     "output_type": "execute_result"
    }
   ],
   "source": [
    "matrix1_750topic.get_topic_terms(50)"
   ]
  },
  {
   "cell_type": "code",
   "execution_count": 41,
   "metadata": {},
   "outputs": [
    {
     "data": {
      "text/plain": [
       "[]"
      ]
     },
     "execution_count": 41,
     "metadata": {},
     "output_type": "execute_result"
    }
   ],
   "source": [
    "matrix1_750topic.get_term_topics(3552)"
   ]
  },
  {
   "cell_type": "code",
   "execution_count": null,
   "metadata": {},
   "outputs": [],
   "source": []
  }
 ],
 "metadata": {
  "kernelspec": {
   "display_name": "Python 3",
   "language": "python",
   "name": "python3"
  },
  "language_info": {
   "codemirror_mode": {
    "name": "ipython",
    "version": 3
   },
   "file_extension": ".py",
   "mimetype": "text/x-python",
   "name": "python",
   "nbconvert_exporter": "python",
   "pygments_lexer": "ipython3",
   "version": "3.6.7"
  }
 },
 "nbformat": 4,
 "nbformat_minor": 2
}
